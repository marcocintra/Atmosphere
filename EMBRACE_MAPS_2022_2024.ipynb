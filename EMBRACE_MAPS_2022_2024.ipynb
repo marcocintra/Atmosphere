{
  "cells": [
    {
      "cell_type": "markdown",
      "metadata": {
        "id": "view-in-github",
        "colab_type": "text"
      },
      "source": [
        "<a href=\"https://colab.research.google.com/github/marcocintra/Atmosphere/blob/master/EMBRACE_MAPS_2022_2024.ipynb\" target=\"_parent\"><img src=\"https://colab.research.google.com/assets/colab-badge.svg\" alt=\"Open In Colab\"/></a>"
      ]
    },
    {
      "cell_type": "markdown",
      "metadata": {
        "id": "tPYhxriRsr13"
      },
      "source": [
        "# ZIP FILES ADJUSTS"
      ]
    },
    {
      "cell_type": "code",
      "execution_count": null,
      "metadata": {
        "id": "39thpWGD-7dk"
      },
      "outputs": [],
      "source": [
        "%pwd"
      ]
    },
    {
      "cell_type": "code",
      "execution_count": null,
      "metadata": {
        "id": "mKS0qJhFZ48M"
      },
      "outputs": [],
      "source": [
        "#2022-AND-2024\n",
        "!curl 'https://my.microsoftpersonalcontent.com/personal/a149071e7d7aaa61/_layouts/15/download.aspx?UniqueId=02e30d48-6503-49d3-960e-7ccc4860cafc&Translate=false&tempauth=v1e.eyJzaXRlaWQiOiI3NzM0Y2NkNy1mMWE2LTQ0ZmItOWZmYy03MjIyYzI4NGE0ODEiLCJhcHBpZCI6IjAwMDAwMDAwLTAwMDAtMDAwMC0wMDAwLTAwMDA0ODE3MTBhNCIsImF1ZCI6IjAwMDAwMDAzLTAwMDAtMGZmMS1jZTAwLTAwMDAwMDAwMDAwMC9teS5taWNyb3NvZnRwZXJzb25hbGNvbnRlbnQuY29tQDkxODgwNDBkLTZjNjctNGM1Yi1iMTEyLTM2YTMwNGI2NmRhZCIsImV4cCI6IjE3NDQ4NDkxMzIifQ.TXiPbWweC5OPFugZlZO4B_EFdAL4Xj7K7RqNcxL01Jpuz08Q0PxUIy4DUdgOi9VTfJl9wCfu3_l8bpnRXqhWwwIqRoLqmdPE6oVGsDBzyUL72i1It0UTTdLvCSjVHh8sHHeEhNpmnqTOtgq3lXZ1PvQbp9PJ4TFzf0PpDQ6i2jNnobrcKfhgZ6L9SDQJP3LDU5RUhtY0ZsWtKFa3QsqFsMLh6HHR2KC9LCr39ZUqQUAa5aYmyWyv0UxZWURJ0-IM39AUhOa4MIbq_91Jyk5lS4lfWUWB4QcbuYKvM2m0_CusNx9E6Navt097KkO0uCucjQZMATXmMCOfeUaxxknzaCEhZ0dfXRDCDkEoTdk51y6dEfBsL8xd3JE2bnaBdRIMIQXx0ySmFg6yh01kMe7KNvlcfOE2CLfuGyjd1xSZcos.5GT5V34jja2Jk2vmGhIPnA-BwZbyvvmpkNhZIQdvWZA&ApiVersion=2.0&AVOverride=1' \\\n",
        "  -H 'accept: text/html,application/xhtml+xml,application/xml;q=0.9,image/avif,image/webp,image/apng,*/*;q=0.8,application/signed-exchange;v=b3;q=0.7' \\\n",
        "  -H 'accept-language: pt-BR,pt;q=0.9,en-US;q=0.8,en;q=0.7' \\\n",
        "  -H 'priority: u=0, i' \\\n",
        "  -H 'referer: https://onedrive.live.com/' \\\n",
        "  -H 'sec-ch-ua: \"Google Chrome\";v=\"135\", \"Not-A.Brand\";v=\"8\", \"Chromium\";v=\"135\"' \\\n",
        "  -H 'sec-ch-ua-mobile: ?0' \\\n",
        "  -H 'sec-ch-ua-platform: \"Linux\"' \\\n",
        "  -H 'sec-fetch-dest: iframe' \\\n",
        "  -H 'sec-fetch-mode: navigate' \\\n",
        "  -H 'sec-fetch-site: cross-site' \\\n",
        "  -H 'sec-fetch-storage-access: none' \\\n",
        "  -H 'sec-fetch-user: ?1' \\\n",
        "  -H 'upgrade-insecure-requests: 1' \\\n",
        "  -H 'user-agent: Mozilla/5.0 (X11; Linux x86_64) AppleWebKit/537.36 (KHTML, like Gecko) Chrome/135.0.0.0 Safari/537.36' > 'EMBRACE-INTERSECTION-2022-AND-2024.zip'"
      ]
    },
    {
      "cell_type": "code",
      "execution_count": null,
      "metadata": {
        "id": "ho9tLyt0agPO"
      },
      "outputs": [],
      "source": [
        "%pwd"
      ]
    },
    {
      "cell_type": "code",
      "execution_count": null,
      "metadata": {
        "id": "0hKf5wgbahVv"
      },
      "outputs": [],
      "source": [
        "!ls"
      ]
    },
    {
      "cell_type": "code",
      "execution_count": null,
      "metadata": {
        "id": "OtCHJHUkyxU9"
      },
      "outputs": [],
      "source": [
        "!unzip 'EMBRACE-INTERSECTION-2022-AND-2024.zip'"
      ]
    },
    {
      "cell_type": "markdown",
      "metadata": {
        "id": "I41PddkZC1XF"
      },
      "source": [
        "# DATA FILES ADJUSTS"
      ]
    },
    {
      "cell_type": "code",
      "execution_count": null,
      "metadata": {
        "id": "GWh-Linflxcp"
      },
      "outputs": [],
      "source": [
        "%cd 'EMBRACE-INTERSECTION-2022-AND-2024'"
      ]
    },
    {
      "cell_type": "code",
      "execution_count": null,
      "metadata": {
        "id": "e7i6IKdzA7W1"
      },
      "outputs": [],
      "source": [
        "%pwd"
      ]
    },
    {
      "cell_type": "code",
      "execution_count": null,
      "metadata": {
        "id": "hzoEnqSUm3yb"
      },
      "outputs": [],
      "source": [
        "!ls"
      ]
    },
    {
      "cell_type": "markdown",
      "source": [
        "## 2022"
      ],
      "metadata": {
        "id": "Erq0ecG4ijNr"
      }
    },
    {
      "cell_type": "code",
      "execution_count": null,
      "metadata": {
        "id": "18px0ugnQfsW"
      },
      "outputs": [],
      "source": [
        "import os\n",
        "import numpy as np\n",
        "\n",
        "diretorio_atual = './'\n",
        "\n",
        "arquivos_22i = []\n",
        "\n",
        "for root, dirs, files in os.walk(diretorio_atual):\n",
        "    for file in files:\n",
        "        if file.endswith(\".22I\") and file.startswith(\"INPE\"):\n",
        "            arquivos_22i.append(os.path.join(root, file))\n",
        "\n",
        "arquivos_22i = sorted(arquivos_22i)\n",
        "\n",
        "print(arquivos_22i)\n",
        "\n",
        "print(\"Arquivos .22i encontrados (ordenados):\")\n",
        "for arquivo in arquivos_22i:\n",
        "    print(arquivo)\n",
        "\n",
        "for caminho_arquivo_i in arquivos_22i:\n",
        "\n",
        "    lista_dados = []\n",
        "\n",
        "    with open(caminho_arquivo_i, 'r') as arquivo:\n",
        "        for linha in arquivo:\n",
        "            # Verifique se a linha contém \"LAT/LON1/LON2/DLON/H\"\n",
        "            if \"LAT/LON1/LON2/DLON/H\" in linha:\n",
        "                # Leia as duas linhas seguintes contendo valores numéricos\n",
        "                valores_linha1 = list(map(float, arquivo.readline().split()))\n",
        "                valores_linha2 = list(map(float, arquivo.readline().split()))\n",
        "\n",
        "                # Combine as duas linhas em uma única lista\n",
        "                valores_combinados = valores_linha1 + valores_linha2\n",
        "\n",
        "                # Adicione os valores combinados à lista de dados\n",
        "                lista_dados.append(valores_combinados)\n",
        "\n",
        "        array_dados = np.array(lista_dados)\n",
        "\n",
        "        nome_arquivo_sem_extensao = os.path.splitext(os.path.basename(caminho_arquivo_i))[0]\n",
        "\n",
        "        caminho_saida_npy = os.path.join(os.path.dirname(caminho_arquivo_i), f\"{nome_arquivo_sem_extensao}_22.npy\")\n",
        "\n",
        "        elementos_por_linha = 41\n",
        "\n",
        "        total_linhas = array_dados.shape[0] // elementos_por_linha\n",
        "\n",
        "        new_shape = (total_linhas, elementos_por_linha, array_dados.shape[1])\n",
        "        array_dados = array_dados[:total_linhas * elementos_por_linha, :].reshape(new_shape)\n",
        "        print(np.shape(array_dados))\n",
        "        # array_dados = array_dados[:, 10:36, 4:]\n",
        "        array_dados = array_dados[:, :, :]\n",
        "        print(np.shape(array_dados))\n",
        "        np.save(caminho_saida_npy, array_dados)\n",
        "\n",
        "        print(f\"Array salvo em: {caminho_saida_npy}\")"
      ]
    },
    {
      "cell_type": "code",
      "execution_count": null,
      "metadata": {
        "id": "ysqbCkIYLazD"
      },
      "outputs": [],
      "source": [
        "diretorio_principal = './'\n",
        "\n",
        "arquivos_npy = [arquivo for arquivo in os.listdir(diretorio_principal) if arquivo.endswith('_22.npy')]\n",
        "arquivos_npy = sorted(arquivos_npy)\n",
        "print(arquivos_npy)\n",
        "\n",
        "if not arquivos_npy:\n",
        "    print(\"Nenhum arquivo .npy encontrado no diretório atual.\")\n",
        "else:\n",
        "    array_4d = np.empty((len(arquivos_npy), 144, 41, 25))\n",
        "\n",
        "    for i, arquivo in enumerate(arquivos_npy):\n",
        "        caminho_arquivo = os.path.join(diretorio_principal, arquivo)\n",
        "        array_npy = np.load(caminho_arquivo)\n",
        "        array_4d[i, :, :, :] = array_npy\n",
        "\n",
        "    array_4d = array_4d/10\n",
        "\n",
        "    print(\"\\n\\n\")\n",
        "    has_9999 = np.any(array_4d == 999.9)\n",
        "    print(has_9999)\n",
        "    count_9999 = np.sum(array_4d == 999.9)\n",
        "    print(count_9999)\n",
        "    print(\"\\n\\n\")\n",
        "\n",
        "    array_4d = np.where(array_4d == 999.9, np.nan, array_4d)\n",
        "    has_nan = np.any(np.isnan(array_4d))\n",
        "    print(has_nan)\n",
        "    count_nan = np.sum(np.isnan(array_4d))\n",
        "    print(count_nan)\n",
        "    print(\"\\n\\n\")\n",
        "\n",
        "    has_9999 = np.any(array_4d == 999.9)\n",
        "    print(has_9999)\n",
        "    count_9999 = np.sum(array_4d == 999.9)\n",
        "    print(count_9999)\n",
        "    print(\"\\n\\n\")\n",
        "\n",
        "    np.save(os.path.join(diretorio_principal, 'EMBRACE-2022.npy'), array_4d)\n",
        "\n",
        "    print(f\"Processados {len(arquivos_npy)} arquivos .npy\")\n",
        "    print(f\"Forma do array resultante: {array_4d.shape}\")"
      ]
    },
    {
      "cell_type": "markdown",
      "source": [
        "## 2024"
      ],
      "metadata": {
        "id": "QES3T-Cpip7D"
      }
    },
    {
      "cell_type": "code",
      "execution_count": null,
      "metadata": {
        "id": "sjvqBf8pH-e9"
      },
      "outputs": [],
      "source": [
        "import os\n",
        "import numpy as np\n",
        "\n",
        "diretorio_atual = './'\n",
        "\n",
        "arquivos_24i = []\n",
        "\n",
        "for root, dirs, files in os.walk(diretorio_atual):\n",
        "    for file in files:\n",
        "        if file.endswith(\".24I\") and file.startswith(\"INPE\"):\n",
        "            arquivos_24i.append(os.path.join(root, file))\n",
        "\n",
        "arquivos_24i = sorted(arquivos_24i)\n",
        "print(arquivos_24i)\n",
        "\n",
        "print(\"Arquivos .24i encontrados (ordenados):\")\n",
        "for arquivo in arquivos_24i:\n",
        "    print(arquivo)\n",
        "\n",
        "for caminho_arquivo_i in arquivos_24i:\n",
        "\n",
        "    lista_dados = []\n",
        "\n",
        "    with open(caminho_arquivo_i, 'r') as arquivo:\n",
        "        for linha in arquivo:\n",
        "            # Verifique se a linha contém \"LAT/LON1/LON2/DLON/H\"\n",
        "            if \"LAT/LON1/LON2/DLON/H\" in linha:\n",
        "                # Leia as duas linhas seguintes contendo valores numéricos\n",
        "                valores_linha1 = list(map(float, arquivo.readline().split()))\n",
        "                valores_linha2 = list(map(float, arquivo.readline().split()))\n",
        "\n",
        "                # Combine as duas linhas em uma única lista\n",
        "                valores_combinados = valores_linha1 + valores_linha2\n",
        "\n",
        "                # Adicione os valores combinados à lista de dados\n",
        "                lista_dados.append(valores_combinados)\n",
        "\n",
        "        array_dados = np.array(lista_dados)\n",
        "\n",
        "        nome_arquivo_sem_extensao = os.path.splitext(os.path.basename(caminho_arquivo_i))[0]\n",
        "\n",
        "        caminho_saida_npy = os.path.join(os.path.dirname(caminho_arquivo_i), f\"{nome_arquivo_sem_extensao}_24.npy\")\n",
        "\n",
        "        elementos_por_linha = 41\n",
        "\n",
        "        total_linhas = array_dados.shape[0] // elementos_por_linha\n",
        "\n",
        "        new_shape = (total_linhas, elementos_por_linha, array_dados.shape[1])\n",
        "        array_dados = array_dados[:total_linhas * elementos_por_linha, :].reshape(new_shape)\n",
        "        print(np.shape(array_dados))\n",
        "        # array_dados = array_dados[:, 10:36, 4:]\n",
        "        array_dados = array_dados[:, :, :]\n",
        "        print(np.shape(array_dados))\n",
        "        np.save(caminho_saida_npy, array_dados)\n",
        "\n",
        "        print(f\"Array salvo em: {caminho_saida_npy}\")"
      ]
    },
    {
      "cell_type": "code",
      "execution_count": null,
      "metadata": {
        "id": "ct3UaUB4Le6j"
      },
      "outputs": [],
      "source": [
        "diretorio_principal = './'\n",
        "\n",
        "arquivos_npy = [arquivo for arquivo in os.listdir(diretorio_principal) if arquivo.endswith('_24.npy')]\n",
        "arquivos_npy = sorted(arquivos_npy)\n",
        "print(arquivos_npy)\n",
        "\n",
        "if not arquivos_npy:\n",
        "    print(\"Nenhum arquivo .npy encontrado no diretório atual.\")\n",
        "else:\n",
        "    array_4d = np.empty((len(arquivos_npy), 144, 41, 25))\n",
        "\n",
        "    for i, arquivo in enumerate(arquivos_npy):\n",
        "        caminho_arquivo = os.path.join(diretorio_principal, arquivo)\n",
        "        print(caminho_arquivo)\n",
        "        array_npy = np.load(caminho_arquivo)\n",
        "        print(i)\n",
        "        array_4d[i, :, :, :] = array_npy\n",
        "\n",
        "    array_4d = array_4d/10\n",
        "\n",
        "    print(\"\\n\\n\")\n",
        "    has_9999 = np.any(array_4d == 999.9)\n",
        "    print(has_9999)\n",
        "    count_9999 = np.sum(array_4d == 999.9)\n",
        "    print(count_9999)\n",
        "    print(\"\\n\\n\")\n",
        "\n",
        "    array_4d = np.where(array_4d == 999.9, np.nan, array_4d)\n",
        "    has_nan = np.any(np.isnan(array_4d))\n",
        "    print(has_nan)\n",
        "    count_nan = np.sum(np.isnan(array_4d))\n",
        "    print(count_nan)\n",
        "    print(\"\\n\\n\")\n",
        "\n",
        "    has_9999 = np.any(array_4d == 999.9)\n",
        "    print(has_9999)\n",
        "    count_9999 = np.sum(array_4d == 999.9)\n",
        "    print(count_9999)\n",
        "    print(\"\\n\\n\")\n",
        "\n",
        "    np.save(os.path.join(diretorio_principal, 'EMBRACE-2024.npy'), array_4d)\n",
        "\n",
        "    print(f\"Processados {len(arquivos_npy)} arquivos .npy\")\n",
        "    print(f\"Forma do array resultante: {array_4d.shape}\")"
      ]
    },
    {
      "cell_type": "markdown",
      "metadata": {
        "id": "qR0dqOizU5Jz"
      },
      "source": [
        "# 5D ARRAY - MERGE 2022-2024 DATA"
      ]
    },
    {
      "cell_type": "code",
      "execution_count": null,
      "metadata": {
        "id": "KXRGuIJ35w5U"
      },
      "outputs": [],
      "source": [
        "%cd './'"
      ]
    },
    {
      "cell_type": "code",
      "execution_count": null,
      "metadata": {
        "id": "X02gUiKK5w5U"
      },
      "outputs": [],
      "source": [
        "embrace_2022 = np.load('EMBRACE-2022.npy').astype(np.float64)\n",
        "print(np.shape(embrace_2022))\n",
        "print(type(embrace_2022))\n",
        "print(type(embrace_2022[0]))\n",
        "print(type(embrace_2022[0][0]))\n",
        "print(type(embrace_2022[0][0][0]))\n",
        "print(type(embrace_2022[0][0][0][0]))"
      ]
    },
    {
      "cell_type": "code",
      "execution_count": null,
      "metadata": {
        "id": "BQGbH6hrEilm"
      },
      "outputs": [],
      "source": [
        "embrace_2022"
      ]
    },
    {
      "cell_type": "code",
      "execution_count": null,
      "metadata": {
        "id": "hsjJg_0SMHJf"
      },
      "outputs": [],
      "source": [
        "embrace_2024 = np.load('EMBRACE-2024.npy').astype(np.float64)\n",
        "print(np.shape(embrace_2024))\n",
        "print(type(embrace_2024))\n",
        "print(type(embrace_2024[0]))\n",
        "print(type(embrace_2024[0][0]))\n",
        "print(type(embrace_2024[0][0][0]))\n",
        "print(type(embrace_2024[0][0][0][0]))"
      ]
    },
    {
      "cell_type": "code",
      "execution_count": null,
      "metadata": {
        "id": "o8FPFsEFowWU"
      },
      "outputs": [],
      "source": [
        "embrace_2022_2024 = np.concatenate([embrace_2022, embrace_2024], axis=0)\n",
        "print(embrace_2022_2024.shape)"
      ]
    },
    {
      "cell_type": "code",
      "execution_count": null,
      "metadata": {
        "id": "qElFTYDOOIdz"
      },
      "outputs": [],
      "source": [
        "print(type(embrace_2022_2024))\n",
        "print(type(embrace_2022_2024[0]))\n",
        "print(type(embrace_2022_2024[0][0]))\n",
        "print(type(embrace_2022_2024[0][0][0]))\n",
        "print(type(embrace_2022_2024[0][0][0][0]))"
      ]
    },
    {
      "cell_type": "code",
      "execution_count": null,
      "metadata": {
        "id": "ChF4XV8_wOLI"
      },
      "outputs": [],
      "source": [
        "for i in range(len(embrace_2022_2024)):\n",
        "    print(np.shape(embrace_2022_2024[i]))"
      ]
    },
    {
      "cell_type": "code",
      "execution_count": null,
      "metadata": {
        "id": "VSX1tZOiPdEt"
      },
      "outputs": [],
      "source": [
        "np.shape(embrace_2022_2024)"
      ]
    },
    {
      "cell_type": "code",
      "execution_count": null,
      "metadata": {
        "id": "sDzgt9s4Ptby"
      },
      "outputs": [],
      "source": [
        "has_9999 = np.any(embrace_2022_2024 == 999.9)\n",
        "print(has_9999)\n",
        "\n",
        "count_9999 = np.sum(embrace_2022_2024 == 999.9)\n",
        "print(count_9999)"
      ]
    },
    {
      "cell_type": "code",
      "execution_count": null,
      "metadata": {
        "id": "HDur6qb5E5ep"
      },
      "outputs": [],
      "source": [
        "embrace_2022_2024 = np.where(embrace_2022_2024 == 999.9, np.nan, embrace_2022_2024)\n",
        "\n",
        "has_nan = np.any(np.isnan(embrace_2022_2024))\n",
        "print(has_nan)\n",
        "\n",
        "count_nan = np.sum(np.isnan(embrace_2022_2024))\n",
        "print(count_nan)"
      ]
    },
    {
      "cell_type": "code",
      "execution_count": null,
      "metadata": {
        "id": "-pFOB2xxncxk"
      },
      "outputs": [],
      "source": [
        "has_9999 = np.any(embrace_2022_2024 == 999.9)\n",
        "print(has_9999)\n",
        "\n",
        "count_9999 = np.sum(embrace_2022_2024 == 999.9)\n",
        "print(count_9999)"
      ]
    },
    {
      "cell_type": "code",
      "execution_count": null,
      "metadata": {
        "id": "_GAnxKgPxjnj"
      },
      "outputs": [],
      "source": [
        "np.save('embrace_2022_2024.npy', embrace_2022_2024)"
      ]
    },
    {
      "cell_type": "code",
      "execution_count": null,
      "metadata": {
        "id": "_IRl9-T5yDeI"
      },
      "outputs": [],
      "source": [
        "%ls"
      ]
    },
    {
      "cell_type": "code",
      "execution_count": null,
      "metadata": {
        "id": "R1NnmTREH9ZU"
      },
      "outputs": [],
      "source": [
        "embrace_2022_2024.shape"
      ]
    },
    {
      "cell_type": "code",
      "execution_count": null,
      "metadata": {
        "id": "h-wcGNRrIMJe"
      },
      "outputs": [],
      "source": [
        "np.set_printoptions(threshold=np.inf)"
      ]
    },
    {
      "cell_type": "code",
      "execution_count": null,
      "metadata": {
        "id": "IG7mgNtiIACM"
      },
      "outputs": [],
      "source": [
        "print(embrace_2022_2024[0][0])"
      ]
    },
    {
      "cell_type": "code",
      "execution_count": null,
      "metadata": {
        "id": "EqXUki5TI3gL"
      },
      "outputs": [],
      "source": [
        "print(embrace_2022_2024[0][-1])"
      ]
    },
    {
      "cell_type": "markdown",
      "metadata": {
        "id": "Yi4SpFp_TAEN"
      },
      "source": [
        "# DATES ADJUST"
      ]
    },
    {
      "cell_type": "code",
      "execution_count": null,
      "metadata": {
        "id": "Lacx7MQ1YTaN"
      },
      "outputs": [],
      "source": [
        "import numpy as np\n",
        "from datetime import datetime, timedelta\n",
        "\n",
        "def doy_to_date(year, doy):\n",
        "    \"\"\"Convert year and day of year to datetime.\"\"\"\n",
        "    return datetime(year, 1, 1) + timedelta(days=doy - 1)\n",
        "\n",
        "# Lists of DOYs by year and month\n",
        "doys = {\n",
        "    2022: {\n",
        "        3: [60, 61, 62, 63, 64, 65, 66, 67, 69, 70,\n",
        "            71, 73, 74, 75, 76, 77, 78, 79, 80, 81,\n",
        "            82, 83, 84, 85, 86, 90],\n",
        "        6: [152, 153, 154, 156, 157, 158, 159, 160,\n",
        "            161, 162, 163, 164, 165, 166, 167, 168,\n",
        "            169, 170, 171, 172, 173, 174, 176, 178,\n",
        "            181],\n",
        "        9: [245, 246, 247, 248, 249, 250, 251, 252,\n",
        "            253, 254, 255, 256, 258, 260, 261, 262,\n",
        "            264, 265, 266, 267, 268, 269, 270, 271,\n",
        "            272, 273]\n",
        "    },\n",
        "\n",
        "    2024: {\n",
        "        3: [61, 62, 63, 64, 65, 66, 67, 68, 69, 70,\n",
        "            71, 72, 73, 74, 75, 76, 77, 78, 79, 80,\n",
        "            81, 86, 87, 88, 89, 91],\n",
        "        6: [153, 154, 155, 156, 157, 158, 159, 160, 161, 162,\n",
        "            163, 164, 165, 166, 167, 168, 169, 170, 171, 173,\n",
        "            174, 175, 176, 177, 180, 181],\n",
        "        9: [247, 248, 249, 250, 251, 252, 253, 254, 255, 256,\n",
        "            257, 258, 261, 262, 263, 264, 265, 266, 267, 268,\n",
        "            269, 270, 271, 272, 274],\n",
        "        12: [336, 337, 338, 339, 340, 341, 342, 343, 344, 345,\n",
        "             346, 347, 349, 350, 351, 352, 353, 354, 355,\n",
        "             356, 357, 358, 359, 360, 361, 362, 363, 364, 365]\n",
        "    }\n",
        "}\n",
        "\n",
        "# Create datetime list with 10-minute resolution\n",
        "datetime_list = []\n",
        "\n",
        "for year in doys.keys():\n",
        "    for month in doys[year].keys():\n",
        "        for doy in doys[year][month]:\n",
        "            base_date = doy_to_date(year, doy)\n",
        "            for minute in range(0, 24 * 60, 10):  # Step by 10 minutes\n",
        "                dt = base_date + timedelta(minutes=minute)\n",
        "                datetime_list.append(dt)\n",
        "\n",
        "# Convert list to numpy array of datetime64 objects\n",
        "embrace_datetime_2022_2024 = np.array(datetime_list, dtype='datetime64[s]')\n",
        "\n",
        "# Print some statistics\n",
        "print(f\"Total number of datetime points: {len(embrace_datetime_2022_2024)}\")\n",
        "print(f\"First datetime: {embrace_datetime_2022_2024[0]}\")\n",
        "print(f\"Last datetime: {embrace_datetime_2022_2024[-1]}\")\n",
        "\n",
        "# Example of how to save the array (commented out)\n",
        "np.save('embrace_datetime_2022_2024.npy', embrace_datetime_2022_2024)\n",
        "\n",
        "# Display sample of the array (first 10 and last 10 entries)\n",
        "print(\"\\nSample of first 10 datetime entries:\")\n",
        "for dt in embrace_datetime_2022_2024[:10]:\n",
        "    print(dt)\n",
        "\n",
        "print(\"\\nSample of last 10 datetime entries:\")\n",
        "for dt in embrace_datetime_2022_2024[-10:]:\n",
        "    print(dt)"
      ]
    },
    {
      "cell_type": "code",
      "execution_count": null,
      "metadata": {
        "id": "TtaWVk_8QMBs"
      },
      "outputs": [],
      "source": [
        "embrace_dates = np.load('embrace_datetime_2022_2024.npy')"
      ]
    },
    {
      "cell_type": "code",
      "execution_count": null,
      "metadata": {
        "id": "2xCYLZ9aQk8w"
      },
      "outputs": [],
      "source": [
        "embrace_dates.shape"
      ]
    },
    {
      "cell_type": "code",
      "execution_count": null,
      "metadata": {
        "id": "trcddEnElgvt"
      },
      "outputs": [],
      "source": [
        "embrace_dates"
      ]
    },
    {
      "cell_type": "code",
      "execution_count": null,
      "metadata": {
        "id": "aVApy8x7ajp2"
      },
      "outputs": [],
      "source": [
        "embrace_2022_2024.shape"
      ]
    },
    {
      "cell_type": "code",
      "execution_count": null,
      "metadata": {
        "id": "5peLp8F8k8b5"
      },
      "outputs": [],
      "source": [
        "print(len(embrace_2022_2024.tolist()))\n",
        "print(len(embrace_2022_2024[0].tolist()))\n",
        "print(len(embrace_2022_2024[0][0].tolist()))\n",
        "print(len(embrace_2022_2024[0][0][0].tolist()))"
      ]
    },
    {
      "cell_type": "code",
      "execution_count": null,
      "metadata": {
        "id": "aEXXmnBJm6AW"
      },
      "outputs": [],
      "source": [
        "embrace_2022.shape"
      ]
    },
    {
      "cell_type": "code",
      "execution_count": null,
      "metadata": {
        "id": "5SK2smyn6Cwa"
      },
      "outputs": [],
      "source": [
        "embrace_2024.shape"
      ]
    },
    {
      "cell_type": "code",
      "execution_count": null,
      "metadata": {
        "id": "1h_Nzxi6nL5Q"
      },
      "outputs": [],
      "source": [
        "embrace_dates_2022 = np.array([d for d in embrace_dates if d.astype(object).year == 2022])"
      ]
    },
    {
      "cell_type": "code",
      "execution_count": null,
      "metadata": {
        "id": "T3fqfcECnZcp"
      },
      "outputs": [],
      "source": [
        "len(embrace_dates_2022)"
      ]
    },
    {
      "cell_type": "code",
      "execution_count": null,
      "metadata": {
        "id": "GjMyF_yt66hz"
      },
      "outputs": [],
      "source": [
        "embrace_dates_2024 = np.array([d for d in embrace_dates if d.astype(object).year == 2024])"
      ]
    },
    {
      "cell_type": "code",
      "execution_count": null,
      "metadata": {
        "id": "sq_xN3RV68JS"
      },
      "outputs": [],
      "source": [
        "len(embrace_dates_2024)"
      ]
    },
    {
      "cell_type": "code",
      "execution_count": null,
      "metadata": {
        "id": "6A50R38CmQ0Z"
      },
      "outputs": [],
      "source": [
        "embrace_dates[0:12]"
      ]
    },
    {
      "cell_type": "code",
      "execution_count": null,
      "metadata": {
        "id": "FE6iX6cvmXSK"
      },
      "outputs": [],
      "source": [
        "len(embrace_dates[0:12])"
      ]
    },
    {
      "cell_type": "code",
      "execution_count": null,
      "metadata": {
        "id": "lykciIvkmVgS"
      },
      "outputs": [],
      "source": [
        "len(embrace_2022_2024[0:12])"
      ]
    },
    {
      "cell_type": "code",
      "execution_count": null,
      "metadata": {
        "id": "Dl7mXCGg8kBy"
      },
      "outputs": [],
      "source": [
        "embrace_2022_2024_shaped = np.reshape(embrace_2022_2024, (-1, 41, 25))"
      ]
    },
    {
      "cell_type": "code",
      "execution_count": null,
      "metadata": {
        "id": "KBe8uYCx9pmZ"
      },
      "outputs": [],
      "source": [
        "np.shape(embrace_2022_2024_shaped)"
      ]
    },
    {
      "cell_type": "code",
      "execution_count": null,
      "metadata": {
        "id": "V9YvYRMr8wa9"
      },
      "outputs": [],
      "source": [
        "np.shape(embrace_2022_2024_shaped.tolist())"
      ]
    },
    {
      "cell_type": "code",
      "execution_count": null,
      "metadata": {
        "id": "MeZkjqA6Igze"
      },
      "outputs": [],
      "source": [
        "embrace_dates.shape"
      ]
    },
    {
      "cell_type": "markdown",
      "metadata": {
        "id": "s1UdyXhgoQ-u"
      },
      "source": [
        "## CREATE DATAFRAME"
      ]
    },
    {
      "cell_type": "code",
      "execution_count": null,
      "metadata": {
        "id": "7Y1nE6eeYNcS"
      },
      "outputs": [],
      "source": [
        "import pandas as pd\n",
        "\n",
        "# Criando um dicionário com os dados\n",
        "data = {\n",
        "    'DATETIME': embrace_dates,\n",
        "    'TECMAP': embrace_2022_2024_shaped.tolist()\n",
        "}\n",
        "\n",
        "# Criando o DataFrame\n",
        "df_mapas_embrace_2022_2024 = pd.DataFrame(data)\n",
        "\n",
        "# Mostrando o DataFrame criado\n",
        "print(df_mapas_embrace_2022_2024)"
      ]
    },
    {
      "cell_type": "code",
      "execution_count": null,
      "metadata": {
        "id": "bh0q1Zl191Sf"
      },
      "outputs": [],
      "source": [
        "np.array(df_mapas_embrace_2022_2024.iloc[0]['TECMAP'])"
      ]
    },
    {
      "cell_type": "code",
      "execution_count": null,
      "metadata": {
        "id": "r6bZ82Cc_yL1"
      },
      "outputs": [],
      "source": [
        "np.array(df_mapas_embrace_2022_2024.iloc[0]['TECMAP']).shape"
      ]
    },
    {
      "cell_type": "code",
      "execution_count": null,
      "metadata": {
        "id": "8nAbs7cgYNcT"
      },
      "outputs": [],
      "source": [
        "type(df_mapas_embrace_2022_2024.index)"
      ]
    },
    {
      "cell_type": "code",
      "execution_count": null,
      "metadata": {
        "id": "VRl6pbBRYNcT"
      },
      "outputs": [],
      "source": [
        "df_mapas_embrace_2022_2024.set_index('DATETIME', inplace=True)"
      ]
    },
    {
      "cell_type": "code",
      "execution_count": null,
      "metadata": {
        "id": "OSmVmA1-YNcT"
      },
      "outputs": [],
      "source": [
        "type(df_mapas_embrace_2022_2024.index)"
      ]
    },
    {
      "cell_type": "code",
      "execution_count": null,
      "metadata": {
        "id": "Nzy6X8H0YNcT"
      },
      "outputs": [],
      "source": [
        "df_mapas_embrace_2022_2024"
      ]
    },
    {
      "cell_type": "code",
      "execution_count": null,
      "metadata": {
        "id": "pb6j4mVKgGut"
      },
      "outputs": [],
      "source": [
        "df_mapas_embrace_2022_2024 = df_mapas_embrace_2022_2024[(df_mapas_embrace_2022_2024.index.minute == 0) & (df_mapas_embrace_2022_2024.index.hour % 2 == 0)]"
      ]
    },
    {
      "cell_type": "code",
      "execution_count": null,
      "metadata": {
        "id": "GKgXfI0aqEKr"
      },
      "outputs": [],
      "source": [
        "df_mapas_embrace_2022_2024"
      ]
    },
    {
      "cell_type": "code",
      "execution_count": null,
      "metadata": {
        "id": "T-0eCWxpANVg"
      },
      "outputs": [],
      "source": [
        "df_mapas_embrace_2022_2024.to_pickle(\"./df_mapas_embrace_2022_2024.pkl\")"
      ]
    },
    {
      "cell_type": "code",
      "execution_count": null,
      "metadata": {
        "id": "SZsYdwUluFfk"
      },
      "outputs": [],
      "source": [
        "np.shape(np.array(df_mapas_embrace_2022_2024.iloc[:]['TECMAP']))"
      ]
    },
    {
      "cell_type": "code",
      "execution_count": null,
      "metadata": {
        "id": "Cm4FFnqOuFfl"
      },
      "outputs": [],
      "source": [
        "mapas_embrace_2022_2024 = np.array(df_mapas_embrace_2022_2024.iloc[:]['TECMAP'])"
      ]
    },
    {
      "cell_type": "code",
      "execution_count": null,
      "metadata": {
        "id": "GwBzGDa-uFfl"
      },
      "outputs": [],
      "source": [
        "np.shape(mapas_embrace_2022_2024)"
      ]
    },
    {
      "cell_type": "code",
      "execution_count": null,
      "metadata": {
        "id": "bUVZQhVxuFfl"
      },
      "outputs": [],
      "source": [
        "np_mapas_embrace_2022_2024 = []\n",
        "for i in range(len(mapas_embrace_2022_2024)):\n",
        "    np_mapas_embrace_2022_2024.append(mapas_embrace_2022_2024[i])\n",
        "np_mapas_embrace_2022_2024 = np.array(np_mapas_embrace_2022_2024)"
      ]
    },
    {
      "cell_type": "code",
      "execution_count": null,
      "metadata": {
        "id": "A6eA-6D9uFfm"
      },
      "outputs": [],
      "source": [
        "np.shape(np_mapas_embrace_2022_2024)"
      ]
    },
    {
      "cell_type": "code",
      "execution_count": null,
      "metadata": {
        "id": "t6_M03R4uFfm"
      },
      "outputs": [],
      "source": [
        "type(np_mapas_embrace_2022_2024)"
      ]
    },
    {
      "cell_type": "code",
      "execution_count": null,
      "metadata": {
        "id": "88LmJuSWuFfm"
      },
      "outputs": [],
      "source": [
        "np.save('mapas_embrace_2022_2024.npy', np_mapas_embrace_2022_2024)"
      ]
    },
    {
      "cell_type": "markdown",
      "source": [
        "# DF1 ADJUSTS"
      ],
      "metadata": {
        "id": "PS5nPfBkKpJq"
      }
    },
    {
      "cell_type": "markdown",
      "source": [
        "## CONTINUOUS"
      ],
      "metadata": {
        "id": "WLtmcPMBLBrS"
      }
    },
    {
      "cell_type": "code",
      "execution_count": null,
      "metadata": {
        "id": "-JbqSOwWH5ET"
      },
      "outputs": [],
      "source": [
        "# Criando o DataFrame\n",
        "df_mapas_embrace_2022_2024 = pd.DataFrame(data)\n",
        "\n",
        "# Certificando-se de que a coluna DATETIME esteja no formato datetime\n",
        "df_mapas_embrace_2022_2024['DATETIME'] = pd.to_datetime(df_mapas_embrace_2022_2024['DATETIME'])\n",
        "\n",
        "# Definindo a coluna DATETIME como índice\n",
        "df_mapas_embrace_2022_2024.set_index('DATETIME', inplace=True)\n",
        "\n",
        "# Filtrando os dados para os horários especificados\n",
        "\n",
        "# 1) 08:00\n",
        "df_mapas_embrace_2022_2024_0800 = df_mapas_embrace_2022_2024.between_time('08:00', '08:00')\n",
        "\n",
        "# 2.1) 16:00\n",
        "df_mapas_embrace_2022_2024_1600 = df_mapas_embrace_2022_2024.between_time('16:00', '16:00')\n",
        "\n",
        "# 2.2) 18:00\n",
        "df_mapas_embrace_2022_2024_1800 = df_mapas_embrace_2022_2024.between_time('18:00', '18:00')\n",
        "\n",
        "# 3) 20:00, 22:00, 00:00, 02:00 e 04:00\n",
        "df_mapas_embrace_2022_2024_2000_2200_0000_0200_0400 = pd.concat([\n",
        "    df_mapas_embrace_2022_2024.between_time('20:00', '20:00'),\n",
        "    df_mapas_embrace_2022_2024.between_time('22:00', '22:00'),\n",
        "    df_mapas_embrace_2022_2024.between_time('00:00', '00:00'),\n",
        "    df_mapas_embrace_2022_2024.between_time('02:00', '02:00'),\n",
        "    df_mapas_embrace_2022_2024.between_time('04:00', '04:00')\n",
        "])\n",
        "\n",
        "df_mapas_embrace_2022_2024_2000_2200_0000_0200_0400.sort_index(inplace=True)\n",
        "\n",
        "# Mostrando os DataFrames filtrados\n",
        "print(\"Dados das 08:00:\")\n",
        "print(df_mapas_embrace_2022_2024_0800)\n",
        "\n",
        "print(\"\\nDados das 16:00:\")\n",
        "print(df_mapas_embrace_2022_2024_1600)\n",
        "\n",
        "print(\"\\nDados das 18:00:\")\n",
        "print(df_mapas_embrace_2022_2024_1800)\n",
        "\n",
        "print(\"\\nDados das 20:00, 22:00, 00:00, 02:00 e 04:00:\")\n",
        "print(df_mapas_embrace_2022_2024_2000_2200_0000_0200_0400)"
      ]
    },
    {
      "cell_type": "markdown",
      "source": [
        "## 08:00 UTC"
      ],
      "metadata": {
        "id": "csNJ0XfpLy5L"
      }
    },
    {
      "cell_type": "code",
      "execution_count": null,
      "metadata": {
        "id": "zcUMhfReJWLN"
      },
      "outputs": [],
      "source": [
        "df_mapas_embrace_2022_2024_0800.to_pickle(\"./df_mapas_embrace_2022_2024_0800.pkl\")"
      ]
    },
    {
      "cell_type": "code",
      "execution_count": null,
      "metadata": {
        "id": "PPkYbWolLaNO"
      },
      "outputs": [],
      "source": [
        "np.shape(np.array(df_mapas_embrace_2022_2024_0800.iloc[:]['TECMAP']))"
      ]
    },
    {
      "cell_type": "code",
      "execution_count": null,
      "metadata": {
        "id": "xWz9pbjPMEUi"
      },
      "outputs": [],
      "source": [
        "mapas_embrace_2022_2024_0800 = np.array(df_mapas_embrace_2022_2024_0800.iloc[:]['TECMAP'])"
      ]
    },
    {
      "cell_type": "code",
      "execution_count": null,
      "metadata": {
        "id": "xYmLGFKkMKgq"
      },
      "outputs": [],
      "source": [
        "np.shape(mapas_embrace_2022_2024_0800)"
      ]
    },
    {
      "cell_type": "code",
      "execution_count": null,
      "metadata": {
        "id": "gIFefpAcMQHD"
      },
      "outputs": [],
      "source": [
        "np_mapas_embrace_2022_2024_0800 = []\n",
        "for i in range(len(mapas_embrace_2022_2024_0800)):\n",
        "    np_mapas_embrace_2022_2024_0800.append(mapas_embrace_2022_2024_0800[i])\n",
        "np_mapas_embrace_2022_2024_0800 = np.array(np_mapas_embrace_2022_2024_0800)"
      ]
    },
    {
      "cell_type": "code",
      "execution_count": null,
      "metadata": {
        "id": "YHRlhZavMh0O"
      },
      "outputs": [],
      "source": [
        "np.shape(np_mapas_embrace_2022_2024_0800)"
      ]
    },
    {
      "cell_type": "code",
      "execution_count": null,
      "metadata": {
        "id": "fMpxyls9wmOY"
      },
      "outputs": [],
      "source": [
        "type(np_mapas_embrace_2022_2024_0800)"
      ]
    },
    {
      "cell_type": "code",
      "execution_count": null,
      "metadata": {
        "id": "E-Vl9uhOzXy8"
      },
      "outputs": [],
      "source": [
        "np.save('mapas_embrace_2022_2024_0800.npy', np_mapas_embrace_2022_2024_0800)"
      ]
    },
    {
      "cell_type": "markdown",
      "source": [
        "## 16:00 UTC"
      ],
      "metadata": {
        "id": "GNrTPbvzL7e5"
      }
    },
    {
      "cell_type": "code",
      "execution_count": null,
      "metadata": {
        "id": "vuJs5B16Jxqg"
      },
      "outputs": [],
      "source": [
        "df_mapas_embrace_2022_2024_1600.to_pickle(\"./df_mapas_embrace_2022_2024_1600.pkl\")"
      ]
    },
    {
      "cell_type": "code",
      "execution_count": null,
      "metadata": {
        "id": "2AjcgSX1ueEH"
      },
      "outputs": [],
      "source": [
        "mapas_embrace_2022_2024_1600 = np.array(df_mapas_embrace_2022_2024_1600.iloc[:]['TECMAP'])"
      ]
    },
    {
      "cell_type": "code",
      "execution_count": null,
      "metadata": {
        "id": "ALA6WJMVuhx2"
      },
      "outputs": [],
      "source": [
        "np.shape(mapas_embrace_2022_2024_1600)"
      ]
    },
    {
      "cell_type": "code",
      "execution_count": null,
      "metadata": {
        "id": "Jqj-6z_RtnO5"
      },
      "outputs": [],
      "source": [
        "np_mapas_embrace_2022_2024_1600 = []\n",
        "for i in range(len(mapas_embrace_2022_2024_1600)):\n",
        "    np_mapas_embrace_2022_2024_1600.append(mapas_embrace_2022_2024_1600[i])\n",
        "np_mapas_embrace_2022_2024_1600 = np.array(np_mapas_embrace_2022_2024_1600)"
      ]
    },
    {
      "cell_type": "code",
      "execution_count": null,
      "metadata": {
        "id": "N97gzrUTuk9P"
      },
      "outputs": [],
      "source": [
        "np.shape(np_mapas_embrace_2022_2024_1600)"
      ]
    },
    {
      "cell_type": "code",
      "execution_count": null,
      "metadata": {
        "id": "8_yCZxUwv7AL"
      },
      "outputs": [],
      "source": [
        "type(np_mapas_embrace_2022_2024_1600)"
      ]
    },
    {
      "cell_type": "code",
      "execution_count": null,
      "metadata": {
        "id": "Kx3dVexBzjO9"
      },
      "outputs": [],
      "source": [
        "np.save('mapas_embrace_2022_2024_1600.npy', np_mapas_embrace_2022_2024_1600)"
      ]
    },
    {
      "cell_type": "markdown",
      "source": [
        "## 20:00 TO 04:00 UTC"
      ],
      "metadata": {
        "id": "UBcQp4kwL-ay"
      }
    },
    {
      "cell_type": "code",
      "execution_count": null,
      "metadata": {
        "id": "GyD5FfqlJ0Ph"
      },
      "outputs": [],
      "source": [
        "df_mapas_embrace_2022_2024_2000_2200_0000_0200_0400.to_pickle(\"./df_mapas_embrace_2022_2024_2000_2200_0000_0200_0400.pkl\")"
      ]
    },
    {
      "cell_type": "code",
      "execution_count": null,
      "metadata": {
        "id": "_rWDVwnYyymd"
      },
      "outputs": [],
      "source": [
        "mapas_embrace_2022_2024_2000_2200_0000_0200_0400 = np.array(df_mapas_embrace_2022_2024_2000_2200_0000_0200_0400.iloc[:]['TECMAP'])"
      ]
    },
    {
      "cell_type": "code",
      "execution_count": null,
      "metadata": {
        "id": "P7h6hhIyyyme"
      },
      "outputs": [],
      "source": [
        "np.shape(mapas_embrace_2022_2024_2000_2200_0000_0200_0400)"
      ]
    },
    {
      "cell_type": "code",
      "execution_count": null,
      "metadata": {
        "id": "MAnKeGQlyyme"
      },
      "outputs": [],
      "source": [
        "np.shape(mapas_embrace_2022_2024_2000_2200_0000_0200_0400[0])"
      ]
    },
    {
      "cell_type": "code",
      "execution_count": null,
      "metadata": {
        "id": "d5hFVcJZyyme"
      },
      "outputs": [],
      "source": [
        "np_mapas_embrace_2022_2024_2000_2200_0000_0200_0400 = []\n",
        "for i in range(len(mapas_embrace_2022_2024_2000_2200_0000_0200_0400)):\n",
        "    np_mapas_embrace_2022_2024_2000_2200_0000_0200_0400.append(mapas_embrace_2022_2024_2000_2200_0000_0200_0400[i])\n",
        "np_mapas_embrace_2022_2024_2000_2200_0000_0200_0400 = np.array(np_mapas_embrace_2022_2024_2000_2200_0000_0200_0400)"
      ]
    },
    {
      "cell_type": "code",
      "execution_count": null,
      "metadata": {
        "id": "7rsk6szRyymf"
      },
      "outputs": [],
      "source": [
        "np.shape(np_mapas_embrace_2022_2024_2000_2200_0000_0200_0400)"
      ]
    },
    {
      "cell_type": "code",
      "execution_count": null,
      "metadata": {
        "id": "9iFsnjRlyymf"
      },
      "outputs": [],
      "source": [
        "type(np_mapas_embrace_2022_2024_2000_2200_0000_0200_0400)"
      ]
    },
    {
      "cell_type": "code",
      "execution_count": null,
      "metadata": {
        "id": "rDFCOcYs0dt9"
      },
      "outputs": [],
      "source": [
        "np.save('mapas_embrace_2022_2024_2000_2200_0000_0200_0400.npy', np_mapas_embrace_2022_2024_2000_2200_0000_0200_0400)"
      ]
    },
    {
      "cell_type": "markdown",
      "source": [
        "# CASE STUDY - 30-MINUTE TEMPORAL RESOLUTION - INTERSECTION BETWEEN NAGOYA, MAGGIA AND EMBRACE"
      ],
      "metadata": {
        "id": "DnO3lo9_C2go"
      }
    },
    {
      "cell_type": "markdown",
      "metadata": {
        "id": "woPiK5IuC2go"
      },
      "source": [
        "# ZIP FILES ADJUSTS"
      ]
    },
    {
      "cell_type": "code",
      "execution_count": null,
      "metadata": {
        "id": "JYJoZ3vqC2gp"
      },
      "outputs": [],
      "source": [
        "%pwd"
      ]
    },
    {
      "cell_type": "code",
      "source": [
        "%cd /content"
      ],
      "metadata": {
        "id": "Y8ITKnWlCSu-"
      },
      "execution_count": null,
      "outputs": []
    },
    {
      "cell_type": "code",
      "execution_count": null,
      "metadata": {
        "id": "FPXt2SajC2gp"
      },
      "outputs": [],
      "source": [
        "!curl 'https://my.microsoftpersonalcontent.com/personal/a149071e7d7aaa61/_layouts/15/download.aspx?UniqueId=8cc8c805-c00e-44d1-9ec8-b263464d1df4&Translate=false&tempauth=v1e.eyJzaXRlaWQiOiI3NzM0Y2NkNy1mMWE2LTQ0ZmItOWZmYy03MjIyYzI4NGE0ODEiLCJhcHBpZCI6IjAwMDAwMDAwLTAwMDAtMDAwMC0wMDAwLTAwMDA0ODE3MTBhNCIsImF1ZCI6IjAwMDAwMDAzLTAwMDAtMGZmMS1jZTAwLTAwMDAwMDAwMDAwMC9teS5taWNyb3NvZnRwZXJzb25hbGNvbnRlbnQuY29tQDkxODgwNDBkLTZjNjctNGM1Yi1iMTEyLTM2YTMwNGI2NmRhZCIsImV4cCI6IjE3NDQ4NTEzNDcifQ.UDF-HgZQORpxs8RfaQ8Rzl5QTFB01_1bbOXbOmFbwur2k-Y6NrCikj02MEUsvO_B0D3DZwTGRMVqwmYgJg2YRcSktRWQQRPrEwThEMexqCFXtiCCXgHADjaSH3fopj_nfeOKoa1wW4jBRW9AJd79VDl-GQ9d8jlloqh3I9Y5pPzMJRLDi66dArBh57SGDoWspebP0cwqKpQ_PDAJufr-NalozH9NoM3vLehv5wvdMlNhwZbLLUqOp34ZMJmWOTFHWqiP3zPRnZATWF1zKSZU2_rEgykWazN2vKz4zrbvg39lhJG5AWdQp19Wf0j7i2ll9jsRNfn-uZMJkt1Be-eMR7FLLZQYodF5MqjzTVw2-7Aul1U3KEkXOW2j0ToJM-8XanLtCbBkpGIcF2JVpNgGCB_zIdy7P6w8_JAnGN8c4j4.q7LigtqmkrlYegu4I_7TQp3TXi8Zxs6_Y0g7LGmpSkI&ApiVersion=2.0&AVOverride=1' \\\n",
        "  -H 'accept: text/html,application/xhtml+xml,application/xml;q=0.9,image/avif,image/webp,image/apng,*/*;q=0.8,application/signed-exchange;v=b3;q=0.7' \\\n",
        "  -H 'accept-language: pt-BR,pt;q=0.9,en-US;q=0.8,en;q=0.7' \\\n",
        "  -H 'priority: u=0, i' \\\n",
        "  -H 'referer: https://onedrive.live.com/' \\\n",
        "  -H 'sec-ch-ua: \"Google Chrome\";v=\"135\", \"Not-A.Brand\";v=\"8\", \"Chromium\";v=\"135\"' \\\n",
        "  -H 'sec-ch-ua-mobile: ?0' \\\n",
        "  -H 'sec-ch-ua-platform: \"Linux\"' \\\n",
        "  -H 'sec-fetch-dest: iframe' \\\n",
        "  -H 'sec-fetch-mode: navigate' \\\n",
        "  -H 'sec-fetch-site: cross-site' \\\n",
        "  -H 'sec-fetch-storage-access: none' \\\n",
        "  -H 'sec-fetch-user: ?1' \\\n",
        "  -H 'upgrade-insecure-requests: 1' \\\n",
        "  -H 'user-agent: Mozilla/5.0 (X11; Linux x86_64) AppleWebKit/537.36 (KHTML, like Gecko) Chrome/135.0.0.0 Safari/537.36' > 'EMBRACE-2024.npy'"
      ]
    },
    {
      "cell_type": "code",
      "execution_count": null,
      "metadata": {
        "id": "xEhf6fjbC2gp"
      },
      "outputs": [],
      "source": [
        "%pwd"
      ]
    },
    {
      "cell_type": "code",
      "execution_count": null,
      "metadata": {
        "scrolled": true,
        "id": "op9g4RmJC2gq"
      },
      "outputs": [],
      "source": [
        "!ls"
      ]
    },
    {
      "cell_type": "markdown",
      "source": [
        "# DATA FILES ADJUSTS"
      ],
      "metadata": {
        "id": "Xq1gutUgIlow"
      }
    },
    {
      "cell_type": "markdown",
      "metadata": {
        "id": "lwsJsMKaC2gq"
      },
      "source": [
        "## 2024"
      ]
    },
    {
      "cell_type": "code",
      "execution_count": null,
      "metadata": {
        "id": "SBuqi990C2gr"
      },
      "outputs": [],
      "source": [
        "!pip install netCDF4"
      ]
    },
    {
      "cell_type": "code",
      "execution_count": null,
      "metadata": {
        "id": "JWXSRGk4C2gr"
      },
      "outputs": [],
      "source": [
        "!pip install xarray"
      ]
    },
    {
      "cell_type": "code",
      "execution_count": null,
      "metadata": {
        "id": "6XP2MQFDC2gs"
      },
      "outputs": [],
      "source": [
        "!ls"
      ]
    },
    {
      "cell_type": "code",
      "execution_count": null,
      "metadata": {
        "id": "PmKQ-EeRC2gy"
      },
      "outputs": [],
      "source": [
        "embrace_2024 = np.load('EMBRACE-2024.npy')\n",
        "print(np.shape(embrace_2024))\n",
        "print(type(embrace_2024))\n",
        "print(type(embrace_2024[0]))\n",
        "print(type(embrace_2024[0][0]))\n",
        "print(type(embrace_2024[0][0][0]))"
      ]
    },
    {
      "cell_type": "code",
      "execution_count": null,
      "metadata": {
        "id": "xtEc8F65C2gy"
      },
      "outputs": [],
      "source": [
        "for i in range(len(embrace_2024)):\n",
        "    print(np.shape(embrace_2024[i]))"
      ]
    },
    {
      "cell_type": "code",
      "execution_count": null,
      "metadata": {
        "id": "dF9x1fzqC2gz"
      },
      "outputs": [],
      "source": [
        "np.shape(embrace_2024)"
      ]
    },
    {
      "cell_type": "code",
      "execution_count": null,
      "metadata": {
        "id": "JurXGQBWC2gz"
      },
      "outputs": [],
      "source": [
        "has_nan = np.any(np.isnan(embrace_2024))\n",
        "print(has_nan)\n",
        "\n",
        "count_nan = np.sum(np.isnan(embrace_2024))\n",
        "print(count_nan)"
      ]
    },
    {
      "cell_type": "code",
      "execution_count": null,
      "metadata": {
        "id": "_ZPP0Cu9C2gz"
      },
      "outputs": [],
      "source": [
        "embrace_2024.shape"
      ]
    },
    {
      "cell_type": "code",
      "execution_count": null,
      "metadata": {
        "id": "yQRL5TBVC2g0"
      },
      "outputs": [],
      "source": [
        "np.set_printoptions(threshold=np.inf)"
      ]
    },
    {
      "cell_type": "code",
      "execution_count": null,
      "metadata": {
        "id": "iy0eTz9QC2g0"
      },
      "outputs": [],
      "source": [
        "print(embrace_2024[0][0])"
      ]
    },
    {
      "cell_type": "code",
      "execution_count": null,
      "metadata": {
        "id": "c6AvdI29C2g0"
      },
      "outputs": [],
      "source": [
        "print(embrace_2024[0][-1])"
      ]
    },
    {
      "cell_type": "code",
      "execution_count": null,
      "metadata": {
        "id": "XE7e9ufuC2g1"
      },
      "outputs": [],
      "source": [
        "embrace_2024_shaped = np.reshape(embrace_2024, (-1, 41, 25))"
      ]
    },
    {
      "cell_type": "code",
      "execution_count": null,
      "metadata": {
        "id": "bWpSWYvtC2g1"
      },
      "outputs": [],
      "source": [
        "np.shape(embrace_2024_shaped)"
      ]
    },
    {
      "cell_type": "code",
      "execution_count": null,
      "metadata": {
        "id": "0E_Q1xs8C2g1"
      },
      "outputs": [],
      "source": [
        "np.shape(embrace_2024_shaped.tolist())"
      ]
    },
    {
      "cell_type": "markdown",
      "metadata": {
        "id": "oRk6Lbv3C2g1"
      },
      "source": [
        "# DATES ADJUSTS"
      ]
    },
    {
      "cell_type": "code",
      "execution_count": null,
      "metadata": {
        "id": "WHXPLxmlI6pR"
      },
      "outputs": [],
      "source": [
        "import numpy as np\n",
        "from datetime import datetime, timedelta\n",
        "\n",
        "def doy_to_date(year, doy):\n",
        "    \"\"\"Convert year and day of year to datetime.\"\"\"\n",
        "    return datetime(year, 1, 1) + timedelta(days=doy - 1)\n",
        "\n",
        "# Lists of DOYs by year and month\n",
        "doys = {\n",
        "\n",
        "    2024: {\n",
        "        3: [61, 62, 63, 64, 65, 66, 67, 68, 69, 70,\n",
        "            71, 72, 73, 74, 75, 76, 77, 78, 79, 80,\n",
        "            81, 86, 87, 88, 89, 91],\n",
        "        6: [153, 154, 155, 156, 157, 158, 159, 160, 161, 162,\n",
        "            163, 164, 165, 166, 167, 168, 169, 170, 171, 173,\n",
        "            174, 175, 176, 177, 180, 181],\n",
        "        9: [247, 248, 249, 250, 251, 252, 253, 254, 255, 256,\n",
        "            257, 258, 261, 262, 263, 264, 265, 266, 267, 268,\n",
        "            269, 270, 271, 272, 274],\n",
        "        12: [336, 337, 338, 339, 340, 341, 342, 343, 344, 345,\n",
        "             346, 347, 349, 350, 351, 352, 353, 354, 355,\n",
        "             356, 357, 358, 359, 360, 361, 362, 363, 364, 365]\n",
        "    }\n",
        "}\n",
        "\n",
        "# Create datetime list with 10-minute resolution\n",
        "datetime_list = []\n",
        "\n",
        "for year in doys.keys():\n",
        "    for month in doys[year].keys():\n",
        "        for doy in doys[year][month]:\n",
        "            base_date = doy_to_date(year, doy)\n",
        "            for minute in range(0, 24 * 60, 10):  # Step by 10 minutes\n",
        "                dt = base_date + timedelta(minutes=minute)\n",
        "                datetime_list.append(dt)\n",
        "\n",
        "# Convert list to numpy array of datetime64 objects\n",
        "embrace_datetime_2024 = np.array(datetime_list, dtype='datetime64[s]')\n",
        "\n",
        "# Print some statistics\n",
        "print(f\"Total number of datetime points: {len(embrace_datetime_2024)}\")\n",
        "print(f\"First datetime: {embrace_datetime_2024[0]}\")\n",
        "print(f\"Last datetime: {embrace_datetime_2024[-1]}\")\n",
        "\n",
        "# Example of how to save the array (commented out)\n",
        "np.save('embrace_datetime_2024.npy', embrace_datetime_2024)\n",
        "\n",
        "# Display sample of the array (first 10 and last 10 entries)\n",
        "print(\"\\nSample of first 10 datetime entries:\")\n",
        "for dt in embrace_datetime_2024[:10]:\n",
        "    print(dt)\n",
        "\n",
        "print(\"\\nSample of last 10 datetime entries:\")\n",
        "for dt in embrace_datetime_2024[-10:]:\n",
        "    print(dt)"
      ]
    },
    {
      "cell_type": "markdown",
      "source": [
        "## CREATE DATAFRAME"
      ],
      "metadata": {
        "id": "ZrsYakU23uUU"
      }
    },
    {
      "cell_type": "code",
      "execution_count": null,
      "metadata": {
        "id": "PdZLQflo37Le"
      },
      "outputs": [],
      "source": [
        "embrace_dates = np.load('embrace_datetime_2024.npy')"
      ]
    },
    {
      "cell_type": "code",
      "source": [
        "embrace_dates"
      ],
      "metadata": {
        "id": "0UMsM2Hv3-lE"
      },
      "execution_count": null,
      "outputs": []
    },
    {
      "cell_type": "code",
      "source": [
        "len(embrace_dates)"
      ],
      "metadata": {
        "id": "oO6M5PBT4Amj"
      },
      "execution_count": null,
      "outputs": []
    },
    {
      "cell_type": "code",
      "execution_count": null,
      "metadata": {
        "id": "6wW7dlu23uUU"
      },
      "outputs": [],
      "source": [
        "import pandas as pd\n",
        "\n",
        "# Criando um dicionário com os dados\n",
        "data = {\n",
        "    'DATETIME': embrace_dates,\n",
        "    'TECMAP': embrace_2024_shaped.tolist()\n",
        "}\n",
        "\n",
        "# Criando o DataFrame\n",
        "df_mapas_embrace_2024 = pd.DataFrame(data)\n",
        "\n",
        "# Mostrando o DataFrame criado\n",
        "df_mapas_embrace_2024"
      ]
    },
    {
      "cell_type": "code",
      "source": [
        "df_mapas_embrace_2024['DATETIME'] = pd.to_datetime(df_mapas_embrace_2024['DATETIME'])\n",
        "\n",
        "df_mapas_embrace_2024.set_index('DATETIME', inplace=True)\n",
        "\n",
        "df_mapas_embrace_2024 = df_mapas_embrace_2024[(df_mapas_embrace_2024.index.minute == 0) | (df_mapas_embrace_2024.index.minute == 30)]\n",
        "\n",
        "# Filtrar os registros para o segundo dataframe\n",
        "df3 = df_mapas_embrace_2024[\n",
        "    ((df_mapas_embrace_2024.index.year == 2024) & (df_mapas_embrace_2024.index.month.isin([3, 6, 9, 12])))\n",
        "]\n",
        "\n",
        "# Exibir os novos dataframes\n",
        "print(\"DataFrame 3:\")\n",
        "print(df3)"
      ],
      "metadata": {
        "id": "lDFFB_sk3uUV"
      },
      "execution_count": null,
      "outputs": []
    },
    {
      "cell_type": "markdown",
      "metadata": {
        "id": "ZfPnBXZpC2g7"
      },
      "source": [
        "# DF3 ADJUSTS"
      ]
    },
    {
      "cell_type": "markdown",
      "metadata": {
        "id": "ImiiWb1bC2g7"
      },
      "source": [
        "## 20:00 TO 04:00 UTC - 30-MINUTE TEMPORAL RESOLUTION"
      ]
    },
    {
      "cell_type": "code",
      "execution_count": null,
      "metadata": {
        "id": "NlN-IPbtC2g7"
      },
      "outputs": [],
      "source": [
        "np.array(df3.iloc[0]['TECMAP'])"
      ]
    },
    {
      "cell_type": "code",
      "execution_count": null,
      "metadata": {
        "id": "6RldXk1VC2g8"
      },
      "outputs": [],
      "source": [
        "np.array(df3.iloc[0]['TECMAP']).shape"
      ]
    },
    {
      "cell_type": "code",
      "execution_count": null,
      "metadata": {
        "id": "kKBw_aL-C2g8"
      },
      "outputs": [],
      "source": [
        "# Filtrando os dados para os horários especificados\n",
        "\n",
        "df3_2000_0400 = pd.concat([\n",
        "    df3.between_time('20:00', '20:00'),\n",
        "    df3.between_time('20:30', '20:30'),\n",
        "    df3.between_time('21:00', '21:00'),\n",
        "    df3.between_time('21:30', '21:30'),\n",
        "    df3.between_time('22:00', '22:00'),\n",
        "    df3.between_time('22:30', '22:30'),\n",
        "    df3.between_time('23:00', '23:00'),\n",
        "    df3.between_time('23:30', '23:30'),\n",
        "    df3.between_time('00:00', '00:00'),\n",
        "    df3.between_time('00:30', '00:30'),\n",
        "    df3.between_time('01:00', '01:00'),\n",
        "    df3.between_time('01:30', '01:30'),\n",
        "    df3.between_time('02:00', '02:00'),\n",
        "    df3.between_time('02:30', '02:30'),\n",
        "    df3.between_time('03:00', '03:00'),\n",
        "    df3.between_time('03:30', '03:30'),\n",
        "    df3.between_time('04:00', '04:00')\n",
        "])\n",
        "\n",
        "# Ordenando pelo índice DATETIME para garantir continuidade cronológica inplace\n",
        "df3_2000_0400.sort_index(inplace=True)\n",
        "\n",
        "print(\"\\nDados das 20:00, 22:00, 00:00, 02:00 e 04:00:\")\n",
        "print(df3_2000_0400)"
      ]
    },
    {
      "cell_type": "code",
      "execution_count": null,
      "metadata": {
        "id": "aH18wLylC2g8"
      },
      "outputs": [],
      "source": [
        "df3.to_pickle(\"./df3_mapas_embrace_2024_30m.pkl\")"
      ]
    },
    {
      "cell_type": "code",
      "execution_count": null,
      "metadata": {
        "id": "mRrjv1c6C2g9"
      },
      "outputs": [],
      "source": [
        "np.shape(np.array(df3.iloc[:]['TECMAP']))"
      ]
    },
    {
      "cell_type": "code",
      "execution_count": null,
      "metadata": {
        "id": "5sJ4t0EJC2g9"
      },
      "outputs": [],
      "source": [
        "mapas3 = np.array(df3.iloc[:]['TECMAP'])"
      ]
    },
    {
      "cell_type": "code",
      "execution_count": null,
      "metadata": {
        "id": "3gCnXdo9C2g9"
      },
      "outputs": [],
      "source": [
        "np.shape(df3)"
      ]
    },
    {
      "cell_type": "code",
      "execution_count": null,
      "metadata": {
        "id": "u219Kf1TC2g9"
      },
      "outputs": [],
      "source": [
        "np_mapas3 = []\n",
        "for i in range(len(mapas3)):\n",
        "    np_mapas3.append(mapas3[i])\n",
        "np_mapas3 = np.array(np_mapas3)"
      ]
    },
    {
      "cell_type": "code",
      "execution_count": null,
      "metadata": {
        "id": "w4mG0PzmC2g-"
      },
      "outputs": [],
      "source": [
        "np.shape(np_mapas3)"
      ]
    },
    {
      "cell_type": "code",
      "execution_count": null,
      "metadata": {
        "id": "0owuU6POC2g-"
      },
      "outputs": [],
      "source": [
        "type(np_mapas3)"
      ]
    },
    {
      "cell_type": "code",
      "execution_count": null,
      "metadata": {
        "id": "SbybhE0IC2g-"
      },
      "outputs": [],
      "source": [
        "np.save('mapas3_embrace_2024_30m.npy', np_mapas3)"
      ]
    },
    {
      "cell_type": "code",
      "execution_count": null,
      "metadata": {
        "id": "a_MYOl2AC2g-"
      },
      "outputs": [],
      "source": [
        "df3_2000_0400.to_pickle(\"./df3_mapas_embrace_2024_2000_0400_30m.pkl\")"
      ]
    },
    {
      "cell_type": "code",
      "execution_count": null,
      "metadata": {
        "id": "gw19rnbWC2g-"
      },
      "outputs": [],
      "source": [
        "mapas3_2000_0400 = np.array(df3_2000_0400.iloc[:]['TECMAP'])"
      ]
    },
    {
      "cell_type": "code",
      "execution_count": null,
      "metadata": {
        "id": "0cGMRJg1C2g_"
      },
      "outputs": [],
      "source": [
        "np.shape(mapas3_2000_0400)"
      ]
    },
    {
      "cell_type": "code",
      "execution_count": null,
      "metadata": {
        "id": "3BEUEBx-C2g_"
      },
      "outputs": [],
      "source": [
        "np_mapas3_2000_0400 = []\n",
        "for i in range(len(mapas3_2000_0400)):\n",
        "    np_mapas3_2000_0400.append(mapas3_2000_0400[i])\n",
        "np_mapas3_2000_0400 = np.array(np_mapas3_2000_0400)"
      ]
    },
    {
      "cell_type": "code",
      "execution_count": null,
      "metadata": {
        "id": "K0LnS_n9C2g_"
      },
      "outputs": [],
      "source": [
        "np.shape(np_mapas3_2000_0400)"
      ]
    },
    {
      "cell_type": "code",
      "execution_count": null,
      "metadata": {
        "id": "O35Uf9T9C2g_"
      },
      "outputs": [],
      "source": [
        "type(np_mapas3_2000_0400)"
      ]
    },
    {
      "cell_type": "code",
      "execution_count": null,
      "metadata": {
        "id": "bilNzyjIC2g_"
      },
      "outputs": [],
      "source": [
        "np.save('mapas3_embrace_2024_2000_0400_30m.npy', np_mapas3_2000_0400)"
      ]
    },
    {
      "cell_type": "markdown",
      "source": [
        "# DOWNLOAD OUTPUTS"
      ],
      "metadata": {
        "id": "734uGUkBwj-t"
      }
    },
    {
      "cell_type": "code",
      "source": [
        "from google.colab import files"
      ],
      "metadata": {
        "id": "JYocTLM33d30"
      },
      "execution_count": null,
      "outputs": []
    },
    {
      "cell_type": "code",
      "source": [
        "%pwd"
      ],
      "metadata": {
        "id": "B6yypDtD3i67"
      },
      "execution_count": null,
      "outputs": []
    },
    {
      "cell_type": "code",
      "source": [
        "files.download('/content/EMBRACE-INTERSECTION-2022-AND-2024/embrace_2022_2024.npy')"
      ],
      "metadata": {
        "id": "BVo__bu03d1E"
      },
      "execution_count": null,
      "outputs": []
    },
    {
      "cell_type": "code",
      "source": [
        "files.download('./EMBRACE-2022.npy')"
      ],
      "metadata": {
        "id": "pFp4MR6t85Fn"
      },
      "execution_count": null,
      "outputs": []
    },
    {
      "cell_type": "code",
      "source": [
        "files.download('./EMBRACE-2024.npy')"
      ],
      "metadata": {
        "id": "1Fx5FlB1r6Vv"
      },
      "execution_count": null,
      "outputs": []
    },
    {
      "cell_type": "code",
      "source": [
        "files.download('./df_mapas_embrace_2022_2024.pkl')"
      ],
      "metadata": {
        "id": "hBDE9JNXsLdZ"
      },
      "execution_count": null,
      "outputs": []
    },
    {
      "cell_type": "code",
      "source": [
        "files.download('./df_mapas_embrace_2022_2024_0800.pkl')"
      ],
      "metadata": {
        "id": "aTUaxS13sQ8T"
      },
      "execution_count": null,
      "outputs": []
    },
    {
      "cell_type": "code",
      "source": [
        "files.download('./df_mapas_embrace_2022_2024_1600.pkl')"
      ],
      "metadata": {
        "id": "cCLiiLY3sUFZ"
      },
      "execution_count": null,
      "outputs": []
    },
    {
      "cell_type": "code",
      "source": [
        "files.download('./df_mapas_embrace_2022_2024_1800.pkl')"
      ],
      "metadata": {
        "id": "hU-kDNSfsXjx"
      },
      "execution_count": null,
      "outputs": []
    },
    {
      "cell_type": "code",
      "source": [
        "files.download('./df_mapas_embrace_2022_2024_2000_2200_0000_0200_0400.pkl')"
      ],
      "metadata": {
        "id": "t0EQD_CYsaoC"
      },
      "execution_count": null,
      "outputs": []
    },
    {
      "cell_type": "code",
      "source": [
        "files.download('./embrace_datetime_2022_2024.npy')"
      ],
      "metadata": {
        "id": "cNdvloG7sdyi"
      },
      "execution_count": null,
      "outputs": []
    },
    {
      "cell_type": "code",
      "source": [
        "files.download('./mapas_embrace_2022_2024.npy')"
      ],
      "metadata": {
        "id": "FYE01HNwsjK1"
      },
      "execution_count": null,
      "outputs": []
    },
    {
      "cell_type": "code",
      "source": [
        "files.download('./mapas_embrace_2022_2024_0800.npy')"
      ],
      "metadata": {
        "id": "kI8H5qW4ssO1"
      },
      "execution_count": null,
      "outputs": []
    },
    {
      "cell_type": "code",
      "source": [
        "files.download('./mapas_embrace_2022_2024_1600.npy')"
      ],
      "metadata": {
        "id": "1AWhsLvcsyyO"
      },
      "execution_count": null,
      "outputs": []
    },
    {
      "cell_type": "code",
      "source": [
        "files.download('./mapas_embrace_2022_2024_1800.npy')"
      ],
      "metadata": {
        "id": "BPSm1898s4KO"
      },
      "execution_count": null,
      "outputs": []
    },
    {
      "cell_type": "code",
      "source": [
        "files.download('./mapas_embrace_2022_2024_2000_2200_0000_0200_0400.npy')"
      ],
      "metadata": {
        "id": "wENAOS7ks6yf"
      },
      "execution_count": null,
      "outputs": []
    },
    {
      "cell_type": "code",
      "source": [
        "from google.colab import drive\n",
        "drive.mount('/content/drive')"
      ],
      "metadata": {
        "id": "dS4MVyuh6Lnc"
      },
      "execution_count": null,
      "outputs": []
    },
    {
      "cell_type": "code",
      "source": [
        "!ls -lh df3*"
      ],
      "metadata": {
        "id": "rLU20E8_WDpv"
      },
      "execution_count": null,
      "outputs": []
    },
    {
      "cell_type": "code",
      "source": [
        "%cp df3_mapas_embrace_2024_30m.pkl /content/drive/MyDrive/df3_mapas_embrace_2024_30m.pkl"
      ],
      "metadata": {
        "id": "g3B4NsJf69gB"
      },
      "execution_count": null,
      "outputs": []
    },
    {
      "cell_type": "code",
      "source": [
        "%cp df3_mapas_embrace_2024_2000_0400_30m.pkl /content/drive/MyDrive/df3_mapas_embrace_2024_2000_0400_30m.pkl"
      ],
      "metadata": {
        "id": "vFhSNsas610U"
      },
      "execution_count": null,
      "outputs": []
    },
    {
      "cell_type": "code",
      "source": [
        "!ls -lh mapas3*"
      ],
      "metadata": {
        "id": "AvzHJwhwWJbT"
      },
      "execution_count": null,
      "outputs": []
    },
    {
      "cell_type": "code",
      "source": [
        "%cp mapas3_embrace_2024_30m.npy /content/drive/MyDrive/mapas3_embrace_2024_30m.npy"
      ],
      "metadata": {
        "id": "N16IXwKB7HrU"
      },
      "execution_count": null,
      "outputs": []
    },
    {
      "cell_type": "code",
      "source": [
        "%cp mapas3_embrace_2024_2000_0400_30m.npy /content/drive/MyDrive/mapas3_embrace_2024_2000_0400_30m.npy"
      ],
      "metadata": {
        "id": "K1Mog6ft7Xp6"
      },
      "execution_count": null,
      "outputs": []
    }
  ],
  "metadata": {
    "colab": {
      "provenance": [],
      "toc_visible": true,
      "include_colab_link": true
    },
    "kernelspec": {
      "display_name": "Python 3",
      "name": "python3"
    },
    "language_info": {
      "codemirror_mode": {
        "name": "ipython",
        "version": 3
      },
      "file_extension": ".py",
      "mimetype": "text/x-python",
      "name": "python",
      "nbconvert_exporter": "python",
      "pygments_lexer": "ipython3",
      "version": "3.8.10"
    }
  },
  "nbformat": 4,
  "nbformat_minor": 0
}