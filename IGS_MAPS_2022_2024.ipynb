{
  "cells": [
    {
      "cell_type": "markdown",
      "metadata": {
        "id": "view-in-github",
        "colab_type": "text"
      },
      "source": [
        "<a href=\"https://colab.research.google.com/github/marcocintra/Atmosphere/blob/master/IGS_MAPS_2022_2024.ipynb\" target=\"_parent\"><img src=\"https://colab.research.google.com/assets/colab-badge.svg\" alt=\"Open In Colab\"/></a>"
      ]
    },
    {
      "cell_type": "markdown",
      "source": [
        "# 2-HOUR TEMPORAL RESOLUTION"
      ],
      "metadata": {
        "id": "q3OVC8SMe2ad"
      }
    },
    {
      "cell_type": "markdown",
      "metadata": {
        "id": "tPYhxriRsr13"
      },
      "source": [
        "# ZIP FILES ADJUSTS"
      ]
    },
    {
      "cell_type": "code",
      "execution_count": null,
      "metadata": {
        "id": "jx-m8pIUmjf7"
      },
      "outputs": [],
      "source": [
        "# %cd '/content/drive/MyDrive/PÓS-GRADUAÇÃO/DOUTORADO/INPE/TESE/ARTIGO JATM/PROCESSAMENTO DE DADOS - MAR 2022 A DEZ 2024/IGS'"
      ]
    },
    {
      "cell_type": "code",
      "execution_count": null,
      "metadata": {
        "id": "39thpWGD-7dk"
      },
      "outputs": [],
      "source": [
        "%pwd"
      ]
    },
    {
      "cell_type": "code",
      "execution_count": null,
      "metadata": {
        "id": "mKS0qJhFZ48M"
      },
      "outputs": [],
      "source": [
        "#2022-2024\n",
        "!curl 'https://my.microsoftpersonalcontent.com/personal/a149071e7d7aaa61/_layouts/15/download.aspx?UniqueId=9ad00d8c-3ac1-43f8-bcc2-c3fba0c0e718&Translate=false&tempauth=v1e.eyJzaXRlaWQiOiI3NzM0Y2NkNy1mMWE2LTQ0ZmItOWZmYy03MjIyYzI4NGE0ODEiLCJhcHBpZCI6IjAwMDAwMDAwLTAwMDAtMDAwMC0wMDAwLTAwMDA0ODE3MTBhNCIsImF1ZCI6IjAwMDAwMDAzLTAwMDAtMGZmMS1jZTAwLTAwMDAwMDAwMDAwMC9teS5taWNyb3NvZnRwZXJzb25hbGNvbnRlbnQuY29tQDkxODgwNDBkLTZjNjctNGM1Yi1iMTEyLTM2YTMwNGI2NmRhZCIsImV4cCI6IjE3NDM5MDg5NjYifQ.O4jHI4rcHWDE4vmb9Hisy31vzmN3Hovdx2QrDm1dKiRft9gRw01iJTf9I-HH8q-PLp4z1bZ6c2sHhU0VdiEOo2w89U-2OZ1Hws_cGwlAr5iTTaIAq8G7JAbYxYonI1K7B2s-6JQfMYDEhSA2B3zQcd0n-ODAvi2RZTcqgliWRcFu9LnLH1y_juv2gF5m1O6lwpPfP_RB62AUgz_02uk1p44zVA3ySwul_KmifPr_7mpZLmxQKUdyk5X736NKZX-CKUUxmz5S9yKOWkKEUTPTBLOU9uyo71Y7ObjWacAI1vMldsES11UJ3-Tb5F68yVNLmUw5x_Uud2NeRPgpHxj1G2_d_86N9_j4h6_S3i7Q4rTgiIKqvD2r943rxsJAhpeu1q7VEoFzwGISLtlTiECgJdE9Djtn3lc0AsAjfBAifYY.PTXnDkKmL3kttdcXgvy9qt01pkid9qSILNwJwZ11Buo&ApiVersion=2.0&AVOverride=1' \\\n",
        "  -H 'accept: text/html,application/xhtml+xml,application/xml;q=0.9,image/avif,image/webp,image/apng,*/*;q=0.8,application/signed-exchange;v=b3;q=0.7' \\\n",
        "  -H 'accept-language: pt-BR,pt;q=0.9,en-US;q=0.8,en;q=0.7' \\\n",
        "  -H 'priority: u=0, i' \\\n",
        "  -H 'referer: https://onedrive.live.com/' \\\n",
        "  -H 'sec-ch-ua: \"Google Chrome\";v=\"135\", \"Not-A.Brand\";v=\"8\", \"Chromium\";v=\"135\"' \\\n",
        "  -H 'sec-ch-ua-mobile: ?0' \\\n",
        "  -H 'sec-ch-ua-platform: \"Linux\"' \\\n",
        "  -H 'sec-fetch-dest: iframe' \\\n",
        "  -H 'sec-fetch-mode: navigate' \\\n",
        "  -H 'sec-fetch-site: cross-site' \\\n",
        "  -H 'sec-fetch-storage-access: none' \\\n",
        "  -H 'sec-fetch-user: ?1' \\\n",
        "  -H 'upgrade-insecure-requests: 1' \\\n",
        "  -H 'user-agent: Mozilla/5.0 (X11; Linux x86_64) AppleWebKit/537.36 (KHTML, like Gecko) Chrome/135.0.0.0 Safari/537.36' > 'IGS-INTERSECTION-2022-2024.zip'"
      ]
    },
    {
      "cell_type": "code",
      "execution_count": null,
      "metadata": {
        "id": "ho9tLyt0agPO"
      },
      "outputs": [],
      "source": [
        "%pwd"
      ]
    },
    {
      "cell_type": "code",
      "execution_count": null,
      "metadata": {
        "id": "0hKf5wgbahVv"
      },
      "outputs": [],
      "source": [
        "!ls"
      ]
    },
    {
      "cell_type": "code",
      "execution_count": null,
      "metadata": {
        "id": "OtCHJHUkyxU9"
      },
      "outputs": [],
      "source": [
        "!unzip 'IGS-INTERSECTION-2022-2024.zip'"
      ]
    },
    {
      "cell_type": "markdown",
      "metadata": {
        "id": "I41PddkZC1XF"
      },
      "source": [
        "# DATA FILES ADJUSTS"
      ]
    },
    {
      "cell_type": "code",
      "execution_count": null,
      "metadata": {
        "id": "GWh-Linflxcp"
      },
      "outputs": [],
      "source": [
        "%cd 'IGS-INTERSECTION-2022-2024'"
      ]
    },
    {
      "cell_type": "code",
      "source": [
        "%pwd"
      ],
      "metadata": {
        "id": "e7i6IKdzA7W1"
      },
      "execution_count": null,
      "outputs": []
    },
    {
      "cell_type": "code",
      "execution_count": null,
      "metadata": {
        "id": "fwuiikocQfsV"
      },
      "outputs": [],
      "source": [
        "%rm *.npy"
      ]
    },
    {
      "cell_type": "code",
      "execution_count": null,
      "metadata": {
        "id": "GTgTQq4amw3p"
      },
      "outputs": [],
      "source": [
        "%pwd"
      ]
    },
    {
      "cell_type": "code",
      "execution_count": null,
      "metadata": {
        "id": "hzoEnqSUm3yb"
      },
      "outputs": [],
      "source": [
        "!ls"
      ]
    },
    {
      "cell_type": "code",
      "execution_count": null,
      "metadata": {
        "id": "G2A_57rZJQl1"
      },
      "outputs": [],
      "source": [
        "!rm *.npy"
      ]
    },
    {
      "cell_type": "markdown",
      "source": [
        "## 2022"
      ],
      "metadata": {
        "id": "4HoLCSkqhIp_"
      }
    },
    {
      "cell_type": "code",
      "execution_count": null,
      "metadata": {
        "id": "18px0ugnQfsW"
      },
      "outputs": [],
      "source": [
        "import os\n",
        "import numpy as np\n",
        "\n",
        "diretorio_atual = './'\n",
        "\n",
        "arquivos_22i = []\n",
        "\n",
        "for root, dirs, files in os.walk(diretorio_atual):\n",
        "    for file in files:\n",
        "        if file.endswith(\".22i\") and file.startswith(\"igsg\"):\n",
        "            arquivos_22i.append(os.path.join(root, file))\n",
        "\n",
        "arquivos_22i = sorted(arquivos_22i)\n",
        "print(arquivos_22i)\n",
        "\n",
        "print(\"Arquivos .22i encontrados (ordenados):\")\n",
        "for arquivo in arquivos_22i:\n",
        "    print(arquivo)\n",
        "\n",
        "for caminho_arquivo_i in arquivos_22i:\n",
        "\n",
        "    lista_dados = []\n",
        "\n",
        "    with open(caminho_arquivo_i, 'r') as arquivo:\n",
        "        for linha in arquivo:\n",
        "            if \"START OF RMS MAP\" in linha:\n",
        "                print(\"Fim do arquivo TEC encontrado. Interrompendo o processamento.\")\n",
        "                break\n",
        "            if \"LAT/LON1/LON2/DLON/H\" in linha:\n",
        "\n",
        "                valores_linha1 = list(map(float, arquivo.readline().split()))\n",
        "                valores_linha2 = list(map(float, arquivo.readline().split()))\n",
        "                valores_linha3 = list(map(float, arquivo.readline().split()))\n",
        "                valores_linha4 = list(map(float, arquivo.readline().split()))\n",
        "                valores_linha5 = list(map(float, arquivo.readline().split()))\n",
        "\n",
        "                valores_combinados = valores_linha1 + valores_linha2 + valores_linha3 + valores_linha4 + valores_linha5\n",
        "\n",
        "                lista_dados.append(valores_combinados)\n",
        "\n",
        "        array_dados = np.array(lista_dados)\n",
        "\n",
        "        nome_arquivo_sem_extensao = os.path.splitext(os.path.basename(caminho_arquivo_i))[0]\n",
        "\n",
        "        caminho_saida_npy = os.path.join(os.path.dirname(caminho_arquivo_i), f\"{nome_arquivo_sem_extensao}_22.npy\")\n",
        "\n",
        "        elementos_por_linha = 71\n",
        "\n",
        "        total_linhas = array_dados.shape[0] // elementos_por_linha\n",
        "\n",
        "        new_shape = (total_linhas, elementos_por_linha, array_dados.shape[1])\n",
        "        array_dados = array_dados[:total_linhas * elementos_por_linha, :].reshape(new_shape)\n",
        "        print(np.shape(array_dados))\n",
        "        # array_dados = array_dados[:12, 31:51, 20:31]\n",
        "        array_dados = array_dados[:12, 19:67+1, 14:36+1]\n",
        "        print(np.shape(array_dados))\n",
        "        np.save(caminho_saida_npy, array_dados)\n",
        "\n",
        "        print(f\"Array salvo em: {caminho_saida_npy}\")"
      ]
    },
    {
      "cell_type": "code",
      "execution_count": null,
      "metadata": {
        "id": "ysqbCkIYLazD"
      },
      "outputs": [],
      "source": [
        "diretorio_principal = './'\n",
        "\n",
        "arquivos_npy = [arquivo for arquivo in os.listdir(diretorio_principal) if arquivo.endswith('_22.npy')]\n",
        "arquivos_npy = sorted(arquivos_npy)\n",
        "print(arquivos_npy)\n",
        "\n",
        "if not arquivos_npy:\n",
        "    print(\"Nenhum arquivo .npy encontrado no diretório atual.\")\n",
        "else:\n",
        "    # array_4d = np.empty((len(arquivos_npy), 12, 20, 11))\n",
        "    array_4d = np.empty((len(arquivos_npy), 12, 49, 23))\n",
        "\n",
        "    for i, arquivo in enumerate(arquivos_npy):\n",
        "        caminho_arquivo = os.path.join(diretorio_principal, arquivo)\n",
        "        array_npy = np.load(caminho_arquivo)\n",
        "        array_4d[i, :, :, :] = array_npy\n",
        "\n",
        "    array_4d = array_4d/10\n",
        "    np.save(os.path.join(diretorio_principal, 'IGS-2022.npy'), array_4d)\n",
        "\n",
        "    print(f\"Processados {len(arquivos_npy)} arquivos .npy\")\n",
        "    print(f\"Forma do array resultante: {array_4d.shape}\")"
      ]
    },
    {
      "cell_type": "markdown",
      "source": [
        "## 2023"
      ],
      "metadata": {
        "id": "VIV4jlmehRvB"
      }
    },
    {
      "cell_type": "code",
      "execution_count": null,
      "metadata": {
        "id": "DZBw3NBXHQ4p"
      },
      "outputs": [],
      "source": [
        "import os\n",
        "import numpy as np\n",
        "\n",
        "diretorio_atual = './'\n",
        "\n",
        "arquivos_23i = []\n",
        "\n",
        "for root, dirs, files in os.walk(diretorio_atual):\n",
        "    for file in files:\n",
        "        if file.endswith(\".23i\") and file.startswith(\"igsg\"):\n",
        "            arquivos_23i.append(os.path.join(root, file))\n",
        "\n",
        "arquivos_23i = sorted(arquivos_23i)\n",
        "print(arquivos_23i)\n",
        "\n",
        "print(\"Arquivos .23i encontrados (ordenados):\")\n",
        "for arquivo in arquivos_23i:\n",
        "    print(arquivo)\n",
        "\n",
        "for caminho_arquivo_i in arquivos_23i:\n",
        "\n",
        "    lista_dados = []\n",
        "\n",
        "    with open(caminho_arquivo_i, 'r') as arquivo:\n",
        "        for linha in arquivo:\n",
        "            if \"START OF RMS MAP\" in linha:\n",
        "                print(\"Fim do arquivo TEC encontrado. Interrompendo o processamento.\")\n",
        "                break\n",
        "            if \"LAT/LON1/LON2/DLON/H\" in linha:\n",
        "\n",
        "                valores_linha1 = list(map(float, arquivo.readline().split()))\n",
        "                valores_linha2 = list(map(float, arquivo.readline().split()))\n",
        "                valores_linha3 = list(map(float, arquivo.readline().split()))\n",
        "                valores_linha4 = list(map(float, arquivo.readline().split()))\n",
        "                valores_linha5 = list(map(float, arquivo.readline().split()))\n",
        "\n",
        "                valores_combinados = valores_linha1 + valores_linha2 + valores_linha3 + valores_linha4 + valores_linha5\n",
        "\n",
        "                lista_dados.append(valores_combinados)\n",
        "\n",
        "        array_dados = np.array(lista_dados)\n",
        "\n",
        "        nome_arquivo_sem_extensao = os.path.splitext(os.path.basename(caminho_arquivo_i))[0]\n",
        "\n",
        "        caminho_saida_npy = os.path.join(os.path.dirname(caminho_arquivo_i), f\"{nome_arquivo_sem_extensao}_23.npy\")\n",
        "\n",
        "        elementos_por_linha = 71\n",
        "\n",
        "        total_linhas = array_dados.shape[0] // elementos_por_linha\n",
        "\n",
        "        new_shape = (total_linhas, elementos_por_linha, array_dados.shape[1])\n",
        "        array_dados = array_dados[:total_linhas * elementos_por_linha, :].reshape(new_shape)\n",
        "        print(np.shape(array_dados))\n",
        "        # array_dados = array_dados[:12, 31:51, 20:31]\n",
        "        array_dados = array_dados[:12, 19:67+1, 14:36+1]\n",
        "        print(np.shape(array_dados))\n",
        "        np.save(caminho_saida_npy, array_dados)\n",
        "\n",
        "        print(f\"Array salvo em: {caminho_saida_npy}\")"
      ]
    },
    {
      "cell_type": "code",
      "execution_count": null,
      "metadata": {
        "id": "rKxKw05nLc3T"
      },
      "outputs": [],
      "source": [
        "diretorio_principal = './'\n",
        "\n",
        "arquivos_npy = [arquivo for arquivo in os.listdir(diretorio_principal) if arquivo.endswith('_23.npy')]\n",
        "arquivos_npy = sorted(arquivos_npy)\n",
        "print(arquivos_npy)\n",
        "\n",
        "if not arquivos_npy:\n",
        "    print(\"Nenhum arquivo .npy encontrado no diretório atual.\")\n",
        "else:\n",
        "    # array_4d = np.empty((len(arquivos_npy), 12, 20, 11))\n",
        "    array_4d = np.empty((len(arquivos_npy), 12, 49, 23))\n",
        "\n",
        "    for i, arquivo in enumerate(arquivos_npy):\n",
        "        caminho_arquivo = os.path.join(diretorio_principal, arquivo)\n",
        "        array_npy = np.load(caminho_arquivo)\n",
        "        array_4d[i, :, :, :] = array_npy\n",
        "\n",
        "    array_4d = array_4d/10\n",
        "    np.save(os.path.join(diretorio_principal, 'IGS-2023.npy'), array_4d)\n",
        "\n",
        "    print(f\"Processados {len(arquivos_npy)} arquivos .npy\")\n",
        "    print(f\"Forma do array resultante: {array_4d.shape}\")"
      ]
    },
    {
      "cell_type": "markdown",
      "source": [
        "## 2024"
      ],
      "metadata": {
        "id": "IETPLiT5hWiq"
      }
    },
    {
      "cell_type": "code",
      "execution_count": null,
      "metadata": {
        "id": "sjvqBf8pH-e9"
      },
      "outputs": [],
      "source": [
        "import os\n",
        "import numpy as np\n",
        "\n",
        "diretorio_atual = './'\n",
        "\n",
        "arquivos_24i = []\n",
        "\n",
        "for root, dirs, files in os.walk(diretorio_atual):\n",
        "    for file in files:\n",
        "        if file.endswith(\".24i\") and file.startswith(\"igsg\"):\n",
        "            arquivos_24i.append(os.path.join(root, file))\n",
        "\n",
        "arquivos_24i = sorted(arquivos_24i)\n",
        "print(arquivos_24i)\n",
        "\n",
        "print(\"Arquivos .24i encontrados (ordenados):\")\n",
        "for arquivo in arquivos_24i:\n",
        "    print(arquivo)\n",
        "\n",
        "for caminho_arquivo_i in arquivos_24i:\n",
        "\n",
        "    lista_dados = []\n",
        "\n",
        "    with open(caminho_arquivo_i, 'r') as arquivo:\n",
        "        for linha in arquivo:\n",
        "            if \"START OF RMS MAP\" in linha:\n",
        "                print(\"Fim do arquivo TEC encontrado. Interrompendo o processamento.\")\n",
        "                break\n",
        "            if \"LAT/LON1/LON2/DLON/H\" in linha:\n",
        "\n",
        "                valores_linha1 = list(map(float, arquivo.readline().split()))\n",
        "                valores_linha2 = list(map(float, arquivo.readline().split()))\n",
        "                valores_linha3 = list(map(float, arquivo.readline().split()))\n",
        "                valores_linha4 = list(map(float, arquivo.readline().split()))\n",
        "                valores_linha5 = list(map(float, arquivo.readline().split()))\n",
        "\n",
        "                valores_combinados = valores_linha1 + valores_linha2 + valores_linha3 + valores_linha4 + valores_linha5\n",
        "\n",
        "                lista_dados.append(valores_combinados)\n",
        "\n",
        "        array_dados = np.array(lista_dados)\n",
        "\n",
        "        nome_arquivo_sem_extensao = os.path.splitext(os.path.basename(caminho_arquivo_i))[0]\n",
        "\n",
        "        caminho_saida_npy = os.path.join(os.path.dirname(caminho_arquivo_i), f\"{nome_arquivo_sem_extensao}_24.npy\")\n",
        "\n",
        "        elementos_por_linha = 71\n",
        "\n",
        "        total_linhas = array_dados.shape[0] // elementos_por_linha\n",
        "\n",
        "        new_shape = (total_linhas, elementos_por_linha, array_dados.shape[1])\n",
        "        array_dados = array_dados[:total_linhas * elementos_por_linha, :].reshape(new_shape)\n",
        "        print(np.shape(array_dados))\n",
        "        # array_dados = array_dados[:12, 31:51, 20:31]\n",
        "        array_dados = array_dados[:12, 19:67+1, 14:36+1]\n",
        "        print(np.shape(array_dados))\n",
        "        np.save(caminho_saida_npy, array_dados)\n",
        "\n",
        "        print(f\"Array salvo em: {caminho_saida_npy}\")"
      ]
    },
    {
      "cell_type": "code",
      "execution_count": null,
      "metadata": {
        "id": "ct3UaUB4Le6j"
      },
      "outputs": [],
      "source": [
        "diretorio_principal = './'\n",
        "\n",
        "arquivos_npy = [arquivo for arquivo in os.listdir(diretorio_principal) if arquivo.endswith('_24.npy')]\n",
        "arquivos_npy = sorted(arquivos_npy)\n",
        "print(arquivos_npy)\n",
        "\n",
        "if not arquivos_npy:\n",
        "    print(\"Nenhum arquivo .npy encontrado no diretório atual.\")\n",
        "else:\n",
        "    # array_4d = np.empty((len(arquivos_npy), 12, 20, 11))\n",
        "    array_4d = np.empty((len(arquivos_npy), 12, 49, 23))\n",
        "\n",
        "    for i, arquivo in enumerate(arquivos_npy):\n",
        "        caminho_arquivo = os.path.join(diretorio_principal, arquivo)\n",
        "        array_npy = np.load(caminho_arquivo)\n",
        "        array_4d[i, :, :, :] = array_npy\n",
        "\n",
        "    array_4d = array_4d/10\n",
        "    np.save(os.path.join(diretorio_principal, 'IGS-2024.npy'), array_4d)\n",
        "\n",
        "    print(f\"Processados {len(arquivos_npy)} arquivos .npy\")\n",
        "    print(f\"Forma do array resultante: {array_4d.shape}\")"
      ]
    },
    {
      "cell_type": "markdown",
      "metadata": {
        "id": "qR0dqOizU5Jz"
      },
      "source": [
        "# 5D ARRAY - MERGE 2022-2024 DATA"
      ]
    },
    {
      "cell_type": "code",
      "execution_count": null,
      "metadata": {
        "id": "KXRGuIJ35w5U"
      },
      "outputs": [],
      "source": [
        "%cd './'"
      ]
    },
    {
      "cell_type": "code",
      "execution_count": null,
      "metadata": {
        "id": "X02gUiKK5w5U"
      },
      "outputs": [],
      "source": [
        "igs_2022 = np.load('IGS-2022.npy').astype(np.float64)\n",
        "print(np.shape(igs_2022))\n",
        "print(type(igs_2022))\n",
        "print(type(igs_2022[0]))\n",
        "print(type(igs_2022[0][0]))\n",
        "print(type(igs_2022[0][0][0]))\n",
        "print(type(igs_2022[0][0][0][0]))"
      ]
    },
    {
      "cell_type": "code",
      "execution_count": null,
      "metadata": {
        "id": "R6pj1H0_MFoi"
      },
      "outputs": [],
      "source": [
        "igs_2023 = np.load('IGS-2023.npy').astype(np.float64)\n",
        "print(np.shape(igs_2023))\n",
        "print(type(igs_2023))\n",
        "print(type(igs_2023[0]))\n",
        "print(type(igs_2023[0][0]))\n",
        "print(type(igs_2023[0][0][0]))\n",
        "print(type(igs_2023[0][0][0][0]))"
      ]
    },
    {
      "cell_type": "code",
      "execution_count": null,
      "metadata": {
        "id": "hsjJg_0SMHJf"
      },
      "outputs": [],
      "source": [
        "igs_2024 = np.load('IGS-2024.npy').astype(np.float64)\n",
        "print(np.shape(igs_2024))\n",
        "print(type(igs_2024))\n",
        "print(type(igs_2024[0]))\n",
        "print(type(igs_2024[0][0]))\n",
        "print(type(igs_2024[0][0][0]))\n",
        "print(type(igs_2024[0][0][0][0]))"
      ]
    },
    {
      "cell_type": "code",
      "execution_count": null,
      "metadata": {
        "id": "o8FPFsEFowWU"
      },
      "outputs": [],
      "source": [
        "igs_2022_2024 = np.concatenate([igs_2022, igs_2023, igs_2024], axis=0)\n",
        "print(igs_2022_2024.shape)  # Should output: (305, 12, 20, 11)"
      ]
    },
    {
      "cell_type": "code",
      "execution_count": null,
      "metadata": {
        "id": "qElFTYDOOIdz"
      },
      "outputs": [],
      "source": [
        "print(type(igs_2022_2024))\n",
        "print(type(igs_2022_2024[0]))\n",
        "print(type(igs_2022_2024[0][0]))\n",
        "print(type(igs_2022_2024[0][0][0]))\n",
        "print(type(igs_2022_2024[0][0][0][0]))"
      ]
    },
    {
      "cell_type": "code",
      "execution_count": null,
      "metadata": {
        "id": "ChF4XV8_wOLI"
      },
      "outputs": [],
      "source": [
        "for i in range(len(igs_2022_2024)):\n",
        "    print(np.shape(igs_2022_2024[i]))"
      ]
    },
    {
      "cell_type": "code",
      "execution_count": null,
      "metadata": {
        "id": "VSX1tZOiPdEt"
      },
      "outputs": [],
      "source": [
        "np.shape(igs_2022_2024)"
      ]
    },
    {
      "cell_type": "code",
      "source": [
        "igs_2022_2024"
      ],
      "metadata": {
        "id": "87kAdntGUafi"
      },
      "execution_count": null,
      "outputs": []
    },
    {
      "cell_type": "code",
      "execution_count": null,
      "metadata": {
        "id": "sDzgt9s4Ptby"
      },
      "outputs": [],
      "source": [
        "has_9999 = np.any(igs_2022_2024 == 999.9)\n",
        "print(has_9999)\n",
        "\n",
        "count_9999 = np.sum(igs_2022_2024 == 999.9)\n",
        "print(count_9999)"
      ]
    },
    {
      "cell_type": "code",
      "execution_count": null,
      "metadata": {
        "id": "_GAnxKgPxjnj"
      },
      "outputs": [],
      "source": [
        "np.save('igs_2022_2024.npy', igs_2022_2024)"
      ]
    },
    {
      "cell_type": "code",
      "execution_count": null,
      "metadata": {
        "id": "_IRl9-T5yDeI"
      },
      "outputs": [],
      "source": [
        "%ls"
      ]
    },
    {
      "cell_type": "code",
      "execution_count": null,
      "metadata": {
        "id": "L5avABHOP-f4"
      },
      "outputs": [],
      "source": []
    },
    {
      "cell_type": "markdown",
      "metadata": {
        "id": "Yi4SpFp_TAEN"
      },
      "source": [
        "# DATES ADJUST"
      ]
    },
    {
      "cell_type": "code",
      "execution_count": null,
      "metadata": {
        "id": "Lacx7MQ1YTaN"
      },
      "outputs": [],
      "source": [
        "import numpy as np\n",
        "from datetime import datetime, timedelta\n",
        "\n",
        "def doy_to_date(year, doy):\n",
        "    \"\"\"Convert year and day of year to datetime.\"\"\"\n",
        "    return datetime(year, 1, 1) + timedelta(days=doy - 1)\n",
        "\n",
        "# Lists of DOYs by year and month\n",
        "doys = {\n",
        "    2022: {\n",
        "        3: [60, 61, 62, 63, 64, 65, 66, 67, 69, 70,\n",
        "            71, 73, 74, 75, 76, 77, 78, 79, 80, 81,\n",
        "            82, 83, 84, 85, 86, 90],\n",
        "        6: [152, 153, 154, 156, 157, 158, 159, 160,\n",
        "            161, 162, 163, 164, 165, 166, 167, 168,\n",
        "            169, 170, 171, 172, 173, 174, 176, 178,\n",
        "            181],\n",
        "        9: [245, 246, 247, 248, 249, 250, 251, 252,\n",
        "            253, 254, 255, 256, 258, 260, 261, 262,\n",
        "            264, 265, 266, 267, 268, 269, 270, 271,\n",
        "            272, 273],\n",
        "        12: [338, 339, 340, 348, 349, 350, 351, 352,\n",
        "             353, 354, 356, 357, 358, 359, 360, 362,\n",
        "             363, 364, 365]\n",
        "    },\n",
        "    2023: {\n",
        "        3: [61, 62, 63, 64, 65, 66, 67, 68, 69, 70,\n",
        "            71, 72, 74, 75, 76, 77, 78, 79, 80, 81,\n",
        "            82, 83, 84, 85, 86, 87, 88, 89, 90],\n",
        "        6: [157, 158, 159, 160, 161, 162, 163, 164, 165, 166,\n",
        "            167, 168, 169, 170, 171, 172, 173, 174, 175, 176,\n",
        "            177, 178, 179, 180, 181],\n",
        "        9: [244, 245, 246, 247, 249, 250, 262, 263, 264, 265,\n",
        "            266, 267, 268, 269, 270, 271, 272, 273],\n",
        "        12: [335, 337, 338, 339, 341, 342, 343, 344, 345,\n",
        "             346, 347, 348, 349, 350, 351, 352, 353, 355, 356,\n",
        "             357, 358, 359, 360, 361, 362, 363, 365]\n",
        "    },\n",
        "    2024: {\n",
        "        3: [61, 62, 63, 64, 65, 66, 67, 68, 69, 70,\n",
        "            71, 72, 73, 74, 75, 76, 77, 78, 79, 80,\n",
        "            81, 86, 87, 88, 89, 91],\n",
        "        6: [153, 154, 155, 156, 157, 158, 159, 160, 161, 162,\n",
        "            163, 164, 165, 166, 167, 168, 169, 170, 171, 173,\n",
        "            174, 175, 176, 177, 180, 181],\n",
        "        9: [247, 248, 249, 250, 251, 252, 253, 254, 255, 256,\n",
        "            257, 258, 261, 262, 263, 264, 265, 266, 267, 268,\n",
        "            269, 270, 271, 272, 274],\n",
        "        12: [336, 337, 338, 339, 340, 341, 342, 343, 344, 345,\n",
        "             346, 347, 349, 350, 351, 352, 353, 354, 355,\n",
        "             356, 357, 358, 359, 360, 361, 362, 363, 364, 365]\n",
        "    }\n",
        "}\n",
        "\n",
        "# Create datetime list with 2-hour resolution (00:00, 02:00, 04:00, ..., 22:00 UTC)\n",
        "datetime_list = []\n",
        "\n",
        "for year in doys.keys():\n",
        "    for month in doys[year].keys():\n",
        "        for doy in doys[year][month]:\n",
        "            base_date = doy_to_date(year, doy)\n",
        "            for hour in range(0, 24, 2):  # Step by 2 hours\n",
        "                dt = datetime(base_date.year, base_date.month, base_date.day, hour, 0, 0)\n",
        "                datetime_list.append(dt)\n",
        "\n",
        "# Convert list to numpy array of datetime64 objects\n",
        "igs_datetime_2022_2024 = np.array(datetime_list, dtype='datetime64[s]')\n",
        "\n",
        "# Print some statistics\n",
        "print(f\"Total number of datetime points: {len(igs_datetime_2022_2024)}\")\n",
        "print(f\"First datetime: {igs_datetime_2022_2024[0]}\")\n",
        "print(f\"Last datetime: {igs_datetime_2022_2024[-1]}\")\n",
        "\n",
        "# Example of how to save the array (commented out)\n",
        "np.save('igs_datetime_2022_2024.npy', igs_datetime_2022_2024)\n",
        "\n",
        "# Display sample of the array (first 10 and last 10 entries)\n",
        "print(\"\\nSample of first 10 datetime entries:\")\n",
        "for dt in igs_datetime_2022_2024[:10]:\n",
        "    print(dt)\n",
        "\n",
        "print(\"\\nSample of last 10 datetime entries:\")\n",
        "for dt in igs_datetime_2022_2024[-10:]:\n",
        "    print(dt)"
      ]
    },
    {
      "cell_type": "code",
      "execution_count": null,
      "metadata": {
        "id": "TtaWVk_8QMBs"
      },
      "outputs": [],
      "source": [
        "igs_dates = np.load('igs_datetime_2022_2024.npy')"
      ]
    },
    {
      "cell_type": "code",
      "execution_count": null,
      "metadata": {
        "id": "2xCYLZ9aQk8w"
      },
      "outputs": [],
      "source": [
        "igs_dates.shape"
      ]
    },
    {
      "cell_type": "code",
      "execution_count": null,
      "metadata": {
        "id": "trcddEnElgvt"
      },
      "outputs": [],
      "source": [
        "igs_dates"
      ]
    },
    {
      "cell_type": "code",
      "execution_count": null,
      "metadata": {
        "id": "aVApy8x7ajp2"
      },
      "outputs": [],
      "source": [
        "igs_2022_2024.shape"
      ]
    },
    {
      "cell_type": "code",
      "execution_count": null,
      "metadata": {
        "id": "5peLp8F8k8b5"
      },
      "outputs": [],
      "source": [
        "print(len(igs_2022_2024.tolist()))\n",
        "print(len(igs_2022_2024[0].tolist()))\n",
        "print(len(igs_2022_2024[0][0].tolist()))\n",
        "print(len(igs_2022_2024[0][0][0].tolist()))"
      ]
    },
    {
      "cell_type": "code",
      "execution_count": null,
      "metadata": {
        "id": "aEXXmnBJm6AW"
      },
      "outputs": [],
      "source": [
        "igs_2022.shape"
      ]
    },
    {
      "cell_type": "code",
      "execution_count": null,
      "metadata": {
        "id": "4--U0X3unoDj"
      },
      "outputs": [],
      "source": [
        "igs_2022.shape"
      ]
    },
    {
      "cell_type": "code",
      "execution_count": null,
      "metadata": {
        "id": "US3xQLNm52vN"
      },
      "outputs": [],
      "source": [
        "igs_2023.shape"
      ]
    },
    {
      "cell_type": "code",
      "execution_count": null,
      "metadata": {
        "id": "5SK2smyn6Cwa"
      },
      "outputs": [],
      "source": [
        "igs_2024.shape"
      ]
    },
    {
      "cell_type": "code",
      "execution_count": null,
      "metadata": {
        "id": "1h_Nzxi6nL5Q"
      },
      "outputs": [],
      "source": [
        "igs_dates_2022 = np.array([d for d in igs_dates if d.astype(object).year == 2022])"
      ]
    },
    {
      "cell_type": "code",
      "execution_count": null,
      "metadata": {
        "id": "T3fqfcECnZcp"
      },
      "outputs": [],
      "source": [
        "len(igs_dates_2022)"
      ]
    },
    {
      "cell_type": "code",
      "execution_count": null,
      "metadata": {
        "id": "rFPRN3O16KE7"
      },
      "outputs": [],
      "source": [
        "igs_dates_2023 = np.array([d for d in igs_dates if d.astype(object).year == 2023])"
      ]
    },
    {
      "cell_type": "code",
      "execution_count": null,
      "metadata": {
        "id": "w1YPmp1V608W"
      },
      "outputs": [],
      "source": [
        "len(igs_dates_2023)"
      ]
    },
    {
      "cell_type": "code",
      "execution_count": null,
      "metadata": {
        "id": "GjMyF_yt66hz"
      },
      "outputs": [],
      "source": [
        "igs_dates_2024 = np.array([d for d in igs_dates if d.astype(object).year == 2024])"
      ]
    },
    {
      "cell_type": "code",
      "execution_count": null,
      "metadata": {
        "id": "sq_xN3RV68JS"
      },
      "outputs": [],
      "source": [
        "len(igs_dates_2024)"
      ]
    },
    {
      "cell_type": "code",
      "execution_count": null,
      "metadata": {
        "id": "6A50R38CmQ0Z"
      },
      "outputs": [],
      "source": [
        "igs_dates[0:12]"
      ]
    },
    {
      "cell_type": "code",
      "execution_count": null,
      "metadata": {
        "id": "FE6iX6cvmXSK"
      },
      "outputs": [],
      "source": [
        "len(igs_dates[0:12])"
      ]
    },
    {
      "cell_type": "code",
      "execution_count": null,
      "metadata": {
        "id": "lykciIvkmVgS"
      },
      "outputs": [],
      "source": [
        "len(igs_2022_2024[0:12])"
      ]
    },
    {
      "cell_type": "code",
      "source": [
        "igs_2022_2024"
      ],
      "metadata": {
        "id": "mIuJTmJFASa-"
      },
      "execution_count": null,
      "outputs": []
    },
    {
      "cell_type": "code",
      "source": [
        "# igs_2022_2024_shaped = np.reshape(igs_2022_2024, (-1, 20, 11))\n",
        "igs_2022_2024_shaped = np.reshape(igs_2022_2024, (-1, 49, 23))"
      ],
      "metadata": {
        "id": "Dl7mXCGg8kBy"
      },
      "execution_count": null,
      "outputs": []
    },
    {
      "cell_type": "code",
      "source": [
        "np.shape(igs_2022_2024_shaped)"
      ],
      "metadata": {
        "id": "KBe8uYCx9pmZ"
      },
      "execution_count": null,
      "outputs": []
    },
    {
      "cell_type": "code",
      "source": [
        "np.shape(igs_2022_2024_shaped.tolist())"
      ],
      "metadata": {
        "id": "V9YvYRMr8wa9"
      },
      "execution_count": null,
      "outputs": []
    },
    {
      "cell_type": "markdown",
      "source": [
        "## CREATE DATAFRAME"
      ],
      "metadata": {
        "id": "j3SVOO_KlQBT"
      }
    },
    {
      "cell_type": "code",
      "source": [
        "igs_dates.shape"
      ],
      "metadata": {
        "id": "K5ydOKErnUGM"
      },
      "execution_count": null,
      "outputs": []
    },
    {
      "cell_type": "code",
      "source": [
        "igs_2022_2024_shaped.shape"
      ],
      "metadata": {
        "id": "u_Ty6yxQnWGq"
      },
      "execution_count": null,
      "outputs": []
    },
    {
      "cell_type": "code",
      "execution_count": null,
      "metadata": {
        "id": "7Y1nE6eeYNcS"
      },
      "outputs": [],
      "source": [
        "import pandas as pd\n",
        "\n",
        "# Criando um dicionário com os dados\n",
        "data = {\n",
        "    'DATETIME': igs_dates,\n",
        "    'TECMAP': igs_2022_2024_shaped.tolist()\n",
        "}\n",
        "\n",
        "# Criando o DataFrame\n",
        "df_mapas_igs_2022_2024 = pd.DataFrame(data)\n",
        "\n",
        "# Mostrando o DataFrame criado\n",
        "df_mapas_igs_2022_2024"
      ]
    },
    {
      "cell_type": "code",
      "source": [
        "# Supondo que df_mapas_igs_2022_2024 já esteja carregado\n",
        "# Certifique-se de que a coluna 'DATETIME' está no formato datetime\n",
        "df_mapas_igs_2022_2024['DATETIME'] = pd.to_datetime(df_mapas_igs_2022_2024['DATETIME'])\n",
        "\n",
        "# Filtrar os registros para o primeiro dataframe\n",
        "df1 = df_mapas_igs_2022_2024[\n",
        "    ((df_mapas_igs_2022_2024['DATETIME'].dt.year == 2022) & (df_mapas_igs_2022_2024['DATETIME'].dt.month.isin([3, 6, 9]))) |\n",
        "    ((df_mapas_igs_2022_2024['DATETIME'].dt.year == 2024) & (df_mapas_igs_2022_2024['DATETIME'].dt.month.isin([3, 6, 9, 12])))\n",
        "]\n",
        "\n",
        "# Filtrar os registros para o segundo dataframe\n",
        "df2 = df_mapas_igs_2022_2024[\n",
        "    ((df_mapas_igs_2022_2024['DATETIME'].dt.year == 2022) & (df_mapas_igs_2022_2024['DATETIME'].dt.month == 12)) |\n",
        "    ((df_mapas_igs_2022_2024['DATETIME'].dt.year == 2023) & (df_mapas_igs_2022_2024['DATETIME'].dt.month.isin([3, 6, 9, 12])))\n",
        "]\n",
        "\n",
        "# Exibir os novos dataframes\n",
        "print(\"DataFrame 1:\")\n",
        "print(df1)\n",
        "print(\"\\nDataFrame 2:\")\n",
        "print(df2)"
      ],
      "metadata": {
        "id": "19q8QsnxVWf0"
      },
      "execution_count": null,
      "outputs": []
    },
    {
      "cell_type": "code",
      "source": [
        "np.array(df_mapas_igs_2022_2024.iloc[0]['TECMAP'])"
      ],
      "metadata": {
        "id": "bh0q1Zl191Sf"
      },
      "execution_count": null,
      "outputs": []
    },
    {
      "cell_type": "code",
      "source": [
        "np.array(df_mapas_igs_2022_2024.iloc[0]['TECMAP']).shape"
      ],
      "metadata": {
        "id": "r6bZ82Cc_yL1"
      },
      "execution_count": null,
      "outputs": []
    },
    {
      "cell_type": "code",
      "source": [
        "df_mapas_igs_2022_2024.to_pickle(\"./df_mapas_igs_2022_2024.pkl\")"
      ],
      "metadata": {
        "id": "T-0eCWxpANVg"
      },
      "execution_count": null,
      "outputs": []
    },
    {
      "cell_type": "code",
      "source": [
        "# Criando o DataFrame\n",
        "df_mapas_igs_2022_2024 = pd.DataFrame(data)\n",
        "\n",
        "# Certificando-se de que a coluna DATETIME esteja no formato datetime\n",
        "df_mapas_igs_2022_2024['DATETIME'] = pd.to_datetime(df_mapas_igs_2022_2024['DATETIME'])\n",
        "\n",
        "# Definindo a coluna DATETIME como índice\n",
        "df_mapas_igs_2022_2024.set_index('DATETIME', inplace=True)\n",
        "\n",
        "# Filtrando os dados para os horários especificados\n",
        "\n",
        "# 1) 08:00\n",
        "df_mapas_igs_2022_2024_0800 = df_mapas_igs_2022_2024.between_time('08:00', '08:00')\n",
        "\n",
        "# 2.1) 16:00\n",
        "df_mapas_igs_2022_2024_1600 = df_mapas_igs_2022_2024.between_time('16:00', '16:00')\n",
        "\n",
        "# 2.2) 18:00\n",
        "df_mapas_igs_2022_2024_1800 = df_mapas_igs_2022_2024.between_time('18:00', '18:00')\n",
        "\n",
        "# 3) 20:00, 22:00, 00:00, 02:00 e 04:00\n",
        "df_mapas_igs_2022_2024_2000_2200_0000_0200_0400 = pd.concat([\n",
        "    df_mapas_igs_2022_2024.between_time('20:00', '20:00'),\n",
        "    df_mapas_igs_2022_2024.between_time('22:00', '22:00'),\n",
        "    df_mapas_igs_2022_2024.between_time('00:00', '00:00'),\n",
        "    df_mapas_igs_2022_2024.between_time('02:00', '02:00'),\n",
        "    df_mapas_igs_2022_2024.between_time('04:00', '04:00')\n",
        "])\n",
        "\n",
        "# Mostrando os DataFrames filtrados\n",
        "print(\"Dados das 08:00:\")\n",
        "print(df_mapas_igs_2022_2024_0800)\n",
        "\n",
        "print(\"\\nDados das 16:00:\")\n",
        "print(df_mapas_igs_2022_2024_1600)\n",
        "\n",
        "print(\"\\nDados das 16:00:\")\n",
        "print(df_mapas_igs_2022_2024_1800)\n",
        "\n",
        "print(\"\\nDados das 20:00, 22:00, 00:00, 02:00 e 04:00:\")\n",
        "print(df_mapas_igs_2022_2024_2000_2200_0000_0200_0400)"
      ],
      "metadata": {
        "id": "-JbqSOwWH5ET"
      },
      "execution_count": null,
      "outputs": []
    },
    {
      "cell_type": "code",
      "source": [
        "df_mapas_igs_2022_2024_0800.to_pickle(\"./df_mapas_igs_2022_2024_0800.pkl\")"
      ],
      "metadata": {
        "id": "zcUMhfReJWLN"
      },
      "execution_count": null,
      "outputs": []
    },
    {
      "cell_type": "code",
      "source": [
        "np.shape(np.array(df_mapas_igs_2022_2024_0800.iloc[:]['TECMAP']))"
      ],
      "metadata": {
        "id": "PPkYbWolLaNO"
      },
      "execution_count": null,
      "outputs": []
    },
    {
      "cell_type": "code",
      "source": [
        "mapas_igs_2022_2024_0800 = np.array(df_mapas_igs_2022_2024_0800.iloc[:]['TECMAP'])"
      ],
      "metadata": {
        "id": "xWz9pbjPMEUi"
      },
      "execution_count": null,
      "outputs": []
    },
    {
      "cell_type": "code",
      "source": [
        "np.shape(mapas_igs_2022_2024_0800)"
      ],
      "metadata": {
        "id": "xYmLGFKkMKgq"
      },
      "execution_count": null,
      "outputs": []
    },
    {
      "cell_type": "code",
      "source": [
        "np_mapas_igs_2022_2024_0800 = []\n",
        "for i in range(len(mapas_igs_2022_2024_0800)):\n",
        "    np_mapas_igs_2022_2024_0800.append(mapas_igs_2022_2024_0800[i])\n",
        "np_mapas_igs_2022_2024_0800 = np.array(np_mapas_igs_2022_2024_0800)"
      ],
      "metadata": {
        "id": "gIFefpAcMQHD"
      },
      "execution_count": null,
      "outputs": []
    },
    {
      "cell_type": "code",
      "source": [
        "np.shape(np_mapas_igs_2022_2024_0800)"
      ],
      "metadata": {
        "id": "YHRlhZavMh0O"
      },
      "execution_count": null,
      "outputs": []
    },
    {
      "cell_type": "code",
      "source": [
        "type(np_mapas_igs_2022_2024_0800)"
      ],
      "metadata": {
        "id": "fMpxyls9wmOY"
      },
      "execution_count": null,
      "outputs": []
    },
    {
      "cell_type": "code",
      "source": [
        "np.save('mapas_igs_2022_2024_0800.npy', np_mapas_igs_2022_2024_0800)"
      ],
      "metadata": {
        "id": "E-Vl9uhOzXy8"
      },
      "execution_count": null,
      "outputs": []
    },
    {
      "cell_type": "code",
      "source": [
        "df_mapas_igs_2022_2024_1600.to_pickle(\"./df_mapas_igs_2022_2024_1600.pkl\")"
      ],
      "metadata": {
        "id": "vuJs5B16Jxqg"
      },
      "execution_count": null,
      "outputs": []
    },
    {
      "cell_type": "code",
      "source": [
        "mapas_igs_2022_2024_1600 = np.array(df_mapas_igs_2022_2024_1600.iloc[:]['TECMAP'])"
      ],
      "metadata": {
        "id": "2AjcgSX1ueEH"
      },
      "execution_count": null,
      "outputs": []
    },
    {
      "cell_type": "code",
      "source": [
        "np.shape(mapas_igs_2022_2024_1600)"
      ],
      "metadata": {
        "id": "ALA6WJMVuhx2"
      },
      "execution_count": null,
      "outputs": []
    },
    {
      "cell_type": "code",
      "source": [
        "np_mapas_igs_2022_2024_1600 = []\n",
        "for i in range(len(mapas_igs_2022_2024_1600)):\n",
        "    np_mapas_igs_2022_2024_1600.append(mapas_igs_2022_2024_1600[i])\n",
        "np_mapas_igs_2022_2024_1600 = np.array(np_mapas_igs_2022_2024_1600)"
      ],
      "metadata": {
        "id": "Jqj-6z_RtnO5"
      },
      "execution_count": null,
      "outputs": []
    },
    {
      "cell_type": "code",
      "source": [
        "np.shape(np_mapas_igs_2022_2024_1600)"
      ],
      "metadata": {
        "id": "N97gzrUTuk9P"
      },
      "execution_count": null,
      "outputs": []
    },
    {
      "cell_type": "code",
      "source": [
        "type(np_mapas_igs_2022_2024_1600)"
      ],
      "metadata": {
        "id": "8_yCZxUwv7AL"
      },
      "execution_count": null,
      "outputs": []
    },
    {
      "cell_type": "code",
      "source": [
        "np.save('mapas_igs_2022_2024_1600.npy', np_mapas_igs_2022_2024_1600)"
      ],
      "metadata": {
        "id": "Kx3dVexBzjO9"
      },
      "execution_count": null,
      "outputs": []
    },
    {
      "cell_type": "code",
      "source": [
        "df_mapas_igs_2022_2024_1800.to_pickle(\"./df_mapas_igs_2022_2024_1800.pkl\")"
      ],
      "metadata": {
        "id": "9cqb1xlSKYJM"
      },
      "execution_count": null,
      "outputs": []
    },
    {
      "cell_type": "code",
      "source": [
        "mapas_igs_2022_2024_1800 = np.array(df_mapas_igs_2022_2024_1800.iloc[:]['TECMAP'])"
      ],
      "metadata": {
        "id": "qPmw1i_4xDHN"
      },
      "execution_count": null,
      "outputs": []
    },
    {
      "cell_type": "code",
      "source": [
        "np.shape(mapas_igs_2022_2024_1800)"
      ],
      "metadata": {
        "id": "befNhVwUxDHO"
      },
      "execution_count": null,
      "outputs": []
    },
    {
      "cell_type": "code",
      "source": [
        "np.shape(mapas_igs_2022_2024_1800[0])"
      ],
      "metadata": {
        "id": "AKEmkw8QyF1b"
      },
      "execution_count": null,
      "outputs": []
    },
    {
      "cell_type": "code",
      "source": [
        "np_mapas_igs_2022_2024_1800 = []\n",
        "for i in range(len(mapas_igs_2022_2024_1800)):\n",
        "    np_mapas_igs_2022_2024_1800.append(mapas_igs_2022_2024_1800[i])\n",
        "np_mapas_igs_2022_2024_1800 = np.array(np_mapas_igs_2022_2024_1800)"
      ],
      "metadata": {
        "id": "gKE10YXvxDHO"
      },
      "execution_count": null,
      "outputs": []
    },
    {
      "cell_type": "code",
      "source": [
        "np.shape(np_mapas_igs_2022_2024_1800)"
      ],
      "metadata": {
        "id": "jJ6unDgnxDHP"
      },
      "execution_count": null,
      "outputs": []
    },
    {
      "cell_type": "code",
      "source": [
        "type(np_mapas_igs_2022_2024_1800)"
      ],
      "metadata": {
        "id": "6P_AtyrExDHP"
      },
      "execution_count": null,
      "outputs": []
    },
    {
      "cell_type": "code",
      "source": [
        "np.save('mapas_igs_2022_2024_1800.npy', np_mapas_igs_2022_2024_1800)"
      ],
      "metadata": {
        "id": "q4D44XT5zpde"
      },
      "execution_count": null,
      "outputs": []
    },
    {
      "cell_type": "code",
      "source": [
        "df_mapas_igs_2022_2024_2000_2200_0000_0200_0400.to_pickle(\"./df_mapas_igs_2022_2024_2000_2200_0000_0200_0400.pkl\")"
      ],
      "metadata": {
        "id": "GyD5FfqlJ0Ph"
      },
      "execution_count": null,
      "outputs": []
    },
    {
      "cell_type": "code",
      "source": [
        "mapas_igs_2022_2024_2000_2200_0000_0200_0400 = np.array(df_mapas_igs_2022_2024_2000_2200_0000_0200_0400.iloc[:]['TECMAP'])"
      ],
      "metadata": {
        "id": "_rWDVwnYyymd"
      },
      "execution_count": null,
      "outputs": []
    },
    {
      "cell_type": "code",
      "source": [
        "np.shape(mapas_igs_2022_2024_2000_2200_0000_0200_0400)"
      ],
      "metadata": {
        "id": "P7h6hhIyyyme"
      },
      "execution_count": null,
      "outputs": []
    },
    {
      "cell_type": "code",
      "source": [
        "np.shape(mapas_igs_2022_2024_2000_2200_0000_0200_0400[0])"
      ],
      "metadata": {
        "id": "MAnKeGQlyyme"
      },
      "execution_count": null,
      "outputs": []
    },
    {
      "cell_type": "code",
      "source": [
        "np_mapas_igs_2022_2024_2000_2200_0000_0200_0400 = []\n",
        "for i in range(len(mapas_igs_2022_2024_2000_2200_0000_0200_0400)):\n",
        "    np_mapas_igs_2022_2024_2000_2200_0000_0200_0400.append(mapas_igs_2022_2024_2000_2200_0000_0200_0400[i])\n",
        "np_mapas_igs_2022_2024_2000_2200_0000_0200_0400 = np.array(np_mapas_igs_2022_2024_2000_2200_0000_0200_0400)"
      ],
      "metadata": {
        "id": "d5hFVcJZyyme"
      },
      "execution_count": null,
      "outputs": []
    },
    {
      "cell_type": "code",
      "source": [
        "np.shape(np_mapas_igs_2022_2024_2000_2200_0000_0200_0400)"
      ],
      "metadata": {
        "id": "7rsk6szRyymf"
      },
      "execution_count": null,
      "outputs": []
    },
    {
      "cell_type": "code",
      "source": [
        "type(np_mapas_igs_2022_2024_2000_2200_0000_0200_0400)"
      ],
      "metadata": {
        "id": "9iFsnjRlyymf"
      },
      "execution_count": null,
      "outputs": []
    },
    {
      "cell_type": "code",
      "source": [
        "np.save('mapas_igs_2022_2024_2000_2200_0000_0200_0400.npy', np_mapas_igs_2022_2024_2000_2200_0000_0200_0400)"
      ],
      "metadata": {
        "id": "rDFCOcYs0dt9"
      },
      "execution_count": null,
      "outputs": []
    },
    {
      "cell_type": "markdown",
      "source": [
        "# DF1 ADJUSTS"
      ],
      "metadata": {
        "id": "sQB1oVmdWEI_"
      }
    },
    {
      "cell_type": "markdown",
      "source": [
        "## CONTINUOUS"
      ],
      "metadata": {
        "id": "qt5j_IdWZcJw"
      }
    },
    {
      "cell_type": "code",
      "source": [
        "np.array(df1.iloc[0]['TECMAP'])"
      ],
      "metadata": {
        "id": "a9ZqCoA2WPh-"
      },
      "execution_count": null,
      "outputs": []
    },
    {
      "cell_type": "code",
      "source": [
        "np.array(df1.iloc[0]['TECMAP']).shape"
      ],
      "metadata": {
        "id": "THoU7IwtWPh_"
      },
      "execution_count": null,
      "outputs": []
    },
    {
      "cell_type": "code",
      "source": [
        "# Certificando-se de que a coluna DATETIME esteja no formato datetime\n",
        "df1['DATETIME'] = pd.to_datetime(df1['DATETIME'])\n",
        "\n",
        "# Definindo a coluna DATETIME como índice\n",
        "df1.set_index('DATETIME', inplace=True)\n",
        "\n",
        "# Filtrando os dados para os horários especificados\n",
        "\n",
        "# 1) 08:00 UTC (05:00 BRT)\n",
        "df1_0800 = df1.between_time('08:00', '08:00')\n",
        "\n",
        "#2 (16:00 UTC E 18:00 UTC) (14:00 BRT (17:00 UTC))\n",
        "\n",
        "# 2.1) 16:00 UTC (14:00 BRT)\n",
        "df1_1600 = df1.between_time('16:00', '16:00')\n",
        "\n",
        "# 2.2) 18:00 UTC (14:00 BRT)\n",
        "df1_1800 = df1.between_time('18:00', '18:00')\n",
        "\n",
        "# 3) 21:00 UTC A 03:00 UTC (20:00 UTC, 22:00 UTC, 00:00 UTC, 02:00 UTC e 04:00 UTC) (18:00 BRT A 00:00 BRT)\n",
        "df1_2000_2200_0000_0200_0400 = pd.concat([\n",
        "    df1.between_time('20:00', '20:00'),\n",
        "    df1.between_time('22:00', '22:00'),\n",
        "    df1.between_time('00:00', '00:00'),\n",
        "    df1.between_time('02:00', '02:00'),\n",
        "    df1.between_time('04:00', '04:00')\n",
        "])\n",
        "\n",
        "# Ordenando pelo índice DATETIME para garantir continuidade cronológica inplace\n",
        "df1_2000_2200_0000_0200_0400.sort_index(inplace=True)\n",
        "\n",
        "# Mostrando os DataFrames filtrados\n",
        "print(\"Dados das 08:00:\")\n",
        "print(df1_0800)\n",
        "\n",
        "print(\"\\nDados das 16:00:\")\n",
        "print(df1_1600)\n",
        "\n",
        "print(\"\\nDados das 18:00:\")\n",
        "print(df1_1800)\n",
        "\n",
        "print(\"\\nDados das 20:00, 22:00, 00:00, 02:00 e 04:00:\")\n",
        "print(df1_2000_2200_0000_0200_0400)"
      ],
      "metadata": {
        "id": "pyGAMtstWPiA"
      },
      "execution_count": null,
      "outputs": []
    },
    {
      "cell_type": "code",
      "source": [
        "df1.to_pickle(\"./df1_mapas_igs_2022_2024.pkl\")"
      ],
      "metadata": {
        "id": "F-yXD8rtm8gl"
      },
      "execution_count": null,
      "outputs": []
    },
    {
      "cell_type": "code",
      "source": [
        "np.shape(np.array(df1.iloc[:]['TECMAP']))"
      ],
      "metadata": {
        "id": "m9klXPFNnMV3"
      },
      "execution_count": null,
      "outputs": []
    },
    {
      "cell_type": "code",
      "source": [
        "mapas1 = np.array(df1.iloc[:]['TECMAP'])"
      ],
      "metadata": {
        "id": "9Skto206nDmc"
      },
      "execution_count": null,
      "outputs": []
    },
    {
      "cell_type": "code",
      "source": [
        "np.shape(df1)"
      ],
      "metadata": {
        "id": "KlUKR5V7nF8s"
      },
      "execution_count": null,
      "outputs": []
    },
    {
      "cell_type": "code",
      "source": [
        "np_mapas1 = []\n",
        "for i in range(len(mapas1)):\n",
        "    np_mapas1.append(mapas1[i])\n",
        "np_mapas1 = np.array(np_mapas1)"
      ],
      "metadata": {
        "id": "bCMDpAaxnQ49"
      },
      "execution_count": null,
      "outputs": []
    },
    {
      "cell_type": "code",
      "source": [
        "np.shape(np_mapas1)"
      ],
      "metadata": {
        "id": "cAbF4gmInXr2"
      },
      "execution_count": null,
      "outputs": []
    },
    {
      "cell_type": "code",
      "source": [
        "type(np_mapas1)"
      ],
      "metadata": {
        "id": "ln-ND4GZneQX"
      },
      "execution_count": null,
      "outputs": []
    },
    {
      "cell_type": "code",
      "source": [
        "np.save('mapas1_igs_2022_2024.npy', np_mapas1)"
      ],
      "metadata": {
        "id": "L-UCbyHung5I"
      },
      "execution_count": null,
      "outputs": []
    },
    {
      "cell_type": "markdown",
      "source": [
        "## 05:00 BRT (08:00 UTC)"
      ],
      "metadata": {
        "id": "V7eT0pGYZjG6"
      }
    },
    {
      "cell_type": "code",
      "source": [
        "df1_0800.to_pickle(\"./df1_mapas_igs_2022_2024_0800.pkl\")"
      ],
      "metadata": {
        "id": "EhtXj6iEWPiA"
      },
      "execution_count": null,
      "outputs": []
    },
    {
      "cell_type": "code",
      "source": [
        "np.shape(np.array(df1_0800.iloc[:]['TECMAP']))"
      ],
      "metadata": {
        "id": "p-qeZa-KWPiA"
      },
      "execution_count": null,
      "outputs": []
    },
    {
      "cell_type": "code",
      "source": [
        "mapas1_0800 = np.array(df1_0800.iloc[:]['TECMAP'])"
      ],
      "metadata": {
        "id": "Yn-HX7eXWPiA"
      },
      "execution_count": null,
      "outputs": []
    },
    {
      "cell_type": "code",
      "source": [
        "np.shape(df1_0800)"
      ],
      "metadata": {
        "id": "nlVO8inwWPiA"
      },
      "execution_count": null,
      "outputs": []
    },
    {
      "cell_type": "code",
      "source": [
        "np_mapas1_0800 = []\n",
        "for i in range(len(mapas1_0800)):\n",
        "    np_mapas1_0800.append(mapas1_0800[i])\n",
        "np_mapas1_0800 = np.array(np_mapas1_0800)"
      ],
      "metadata": {
        "id": "acE7ik_DWPiB"
      },
      "execution_count": null,
      "outputs": []
    },
    {
      "cell_type": "code",
      "source": [
        "np.shape(np_mapas1_0800)"
      ],
      "metadata": {
        "id": "4VxT5wCWWPiB"
      },
      "execution_count": null,
      "outputs": []
    },
    {
      "cell_type": "code",
      "source": [
        "type(np_mapas1_0800)"
      ],
      "metadata": {
        "id": "ncknCwT8WPiB"
      },
      "execution_count": null,
      "outputs": []
    },
    {
      "cell_type": "code",
      "source": [
        "np.save('mapas1_igs_2022_2024_0800.npy', np_mapas1_0800)"
      ],
      "metadata": {
        "id": "AvMDW2X1WPiB"
      },
      "execution_count": null,
      "outputs": []
    },
    {
      "cell_type": "markdown",
      "source": [
        "## 14:00 BRT (17:00 UTC) (16:00 UTC AND 18:00 UTC)"
      ],
      "metadata": {
        "id": "3PKgXTPlZm9Z"
      }
    },
    {
      "cell_type": "markdown",
      "source": [
        "### 16:00 UTC"
      ],
      "metadata": {
        "id": "-JuTJecTirA2"
      }
    },
    {
      "cell_type": "code",
      "source": [
        "df1_1600.to_pickle(\"./df1_mapas_igs_2022_2024_1600.pkl\")"
      ],
      "metadata": {
        "id": "mhEa-iuCWPiB"
      },
      "execution_count": null,
      "outputs": []
    },
    {
      "cell_type": "code",
      "source": [
        "mapas1_1600 = np.array(df1_1600.iloc[:]['TECMAP'])"
      ],
      "metadata": {
        "id": "mn8RmkwWWPiC"
      },
      "execution_count": null,
      "outputs": []
    },
    {
      "cell_type": "code",
      "source": [
        "np.shape(mapas1_1600)"
      ],
      "metadata": {
        "id": "MRTdplvbWPiC"
      },
      "execution_count": null,
      "outputs": []
    },
    {
      "cell_type": "code",
      "source": [
        "np_mapas1_1600 = []\n",
        "for i in range(len(mapas1_1600)):\n",
        "    np_mapas1_1600.append(mapas1_1600[i])\n",
        "np_mapas1_1600 = np.array(np_mapas1_1600)"
      ],
      "metadata": {
        "id": "47gYZPHzWPiC"
      },
      "execution_count": null,
      "outputs": []
    },
    {
      "cell_type": "code",
      "source": [
        "np.shape(np_mapas1_1600)"
      ],
      "metadata": {
        "id": "0BRr2lXnWPiC"
      },
      "execution_count": null,
      "outputs": []
    },
    {
      "cell_type": "code",
      "source": [
        "type(np_mapas1_1600)"
      ],
      "metadata": {
        "id": "u0BahecIWPiC"
      },
      "execution_count": null,
      "outputs": []
    },
    {
      "cell_type": "code",
      "source": [
        "np.save('mapas1_igs_2022_2024_1600.npy', np_mapas1_1600)"
      ],
      "metadata": {
        "id": "KwnI0hfeWPiD"
      },
      "execution_count": null,
      "outputs": []
    },
    {
      "cell_type": "markdown",
      "source": [
        "### 18:00 UTC"
      ],
      "metadata": {
        "id": "oKPA55WWjCTZ"
      }
    },
    {
      "cell_type": "code",
      "source": [
        "df1_1800.to_pickle(\"./df1_mapas_igs_2022_2024_1800.pkl\")"
      ],
      "metadata": {
        "id": "PwriFjiwa-FS"
      },
      "execution_count": null,
      "outputs": []
    },
    {
      "cell_type": "code",
      "source": [
        "mapas1_1800 = np.array(df1_1800.iloc[:]['TECMAP'])"
      ],
      "metadata": {
        "id": "KmQK04dCa-FT"
      },
      "execution_count": null,
      "outputs": []
    },
    {
      "cell_type": "code",
      "source": [
        "np.shape(mapas1_1800)"
      ],
      "metadata": {
        "id": "VktXr8yya-FT"
      },
      "execution_count": null,
      "outputs": []
    },
    {
      "cell_type": "code",
      "source": [
        "np_mapas1_1800 = []\n",
        "for i in range(len(mapas1_1800)):\n",
        "    np_mapas1_1800.append(mapas1_1800[i])\n",
        "np_mapas1_1800 = np.array(np_mapas1_1800)"
      ],
      "metadata": {
        "id": "lODNlQIza-FU"
      },
      "execution_count": null,
      "outputs": []
    },
    {
      "cell_type": "code",
      "source": [
        "np.shape(np_mapas1_1800)"
      ],
      "metadata": {
        "id": "aQ_zIpZQa-FU"
      },
      "execution_count": null,
      "outputs": []
    },
    {
      "cell_type": "code",
      "source": [
        "type(np_mapas1_1800)"
      ],
      "metadata": {
        "id": "95Av4G9ya-FV"
      },
      "execution_count": null,
      "outputs": []
    },
    {
      "cell_type": "code",
      "source": [
        "np.save('mapas1_igs_2022_2024_1800.npy', np_mapas1_1800)"
      ],
      "metadata": {
        "id": "NiQilSGUa-FV"
      },
      "execution_count": null,
      "outputs": []
    },
    {
      "cell_type": "markdown",
      "source": [
        "## 20:00 UTC, 22:00 UTC, 00:00 UTC, 02:00 UTC AND 04:00 UTC (18:00 BRT TO 00:00 BRT)"
      ],
      "metadata": {
        "id": "X4NvXOt8brUY"
      }
    },
    {
      "cell_type": "code",
      "source": [
        "df1_2000_2200_0000_0200_0400.to_pickle(\"./df1_mapas_igs_2022_2024_2000_2200_0000_0200_0400.pkl\")"
      ],
      "metadata": {
        "id": "Edq3VhjpbrUZ"
      },
      "execution_count": null,
      "outputs": []
    },
    {
      "cell_type": "code",
      "source": [
        "mapas1_2000_2200_0000_0200_0400 = np.array(df1_2000_2200_0000_0200_0400.iloc[:]['TECMAP'])"
      ],
      "metadata": {
        "id": "aCFptx_YbrUZ"
      },
      "execution_count": null,
      "outputs": []
    },
    {
      "cell_type": "code",
      "source": [
        "np.shape(mapas1_2000_2200_0000_0200_0400)"
      ],
      "metadata": {
        "id": "iVpVqn6-brUZ"
      },
      "execution_count": null,
      "outputs": []
    },
    {
      "cell_type": "code",
      "source": [
        "np_mapas1_2000_2200_0000_0200_0400 = []\n",
        "for i in range(len(mapas1_2000_2200_0000_0200_0400)):\n",
        "    np_mapas1_2000_2200_0000_0200_0400.append(mapas1_2000_2200_0000_0200_0400[i])\n",
        "np_mapas1_2000_2200_0000_0200_0400 = np.array(np_mapas1_2000_2200_0000_0200_0400)"
      ],
      "metadata": {
        "id": "2HPq3MPdbrUZ"
      },
      "execution_count": null,
      "outputs": []
    },
    {
      "cell_type": "code",
      "source": [
        "np.shape(np_mapas1_2000_2200_0000_0200_0400)"
      ],
      "metadata": {
        "id": "lsgjYbQabrUa"
      },
      "execution_count": null,
      "outputs": []
    },
    {
      "cell_type": "code",
      "source": [
        "type(np_mapas1_2000_2200_0000_0200_0400)"
      ],
      "metadata": {
        "id": "zqd5kvv_brUa"
      },
      "execution_count": null,
      "outputs": []
    },
    {
      "cell_type": "code",
      "source": [
        "np.save('mapas1_igs_2022_2024_2000_2200_0000_0200_0400.npy', np_mapas1_2000_2200_0000_0200_0400)"
      ],
      "metadata": {
        "id": "E9uzyImbbrUa"
      },
      "execution_count": null,
      "outputs": []
    },
    {
      "cell_type": "code",
      "source": [],
      "metadata": {
        "id": "nNJOepGTlC_R"
      },
      "execution_count": null,
      "outputs": []
    },
    {
      "cell_type": "markdown",
      "source": [
        "# DF2 ADJUSTS"
      ],
      "metadata": {
        "id": "LbrpshL5lDbn"
      }
    },
    {
      "cell_type": "markdown",
      "source": [
        "## CONTINUOUS"
      ],
      "metadata": {
        "id": "VLsT56MslDbo"
      }
    },
    {
      "cell_type": "code",
      "source": [
        "np.array(df2.iloc[0]['TECMAP'])"
      ],
      "metadata": {
        "id": "VNUUZeMHlDbo"
      },
      "execution_count": null,
      "outputs": []
    },
    {
      "cell_type": "code",
      "source": [
        "np.array(df2.iloc[0]['TECMAP']).shape"
      ],
      "metadata": {
        "id": "oB_rlugUlDbp"
      },
      "execution_count": null,
      "outputs": []
    },
    {
      "cell_type": "code",
      "source": [
        "# # Certificando-se de que a coluna DATETIME esteja no formato datetime\n",
        "df2['DATETIME'] = pd.to_datetime(df2['DATETIME'])\n",
        "\n",
        "# # Definindo a coluna DATETIME como índice\n",
        "df2.set_index('DATETIME', inplace=True)\n",
        "\n",
        "# Filtrando os dados para os horários especificados\n",
        "\n",
        "# 1) 08:00 UTC (05:00 BRT)\n",
        "df2_0800 = df2.between_time('08:00', '08:00')\n",
        "\n",
        "#2 (16:00 UTC E 18:00 UTC) (14:00 BRT (17:00 UTC))\n",
        "\n",
        "# 2.1) 16:00 UTC (14:00 BRT)\n",
        "df2_1600 = df2.between_time('16:00', '16:00')\n",
        "\n",
        "# 2.2) 18:00 UTC (14:00 BRT)\n",
        "df2_1800 = df2.between_time('18:00', '18:00')\n",
        "\n",
        "# 3) 21:00 UTC A 03:00 UTC (20:00 UTC, 22:00 UTC, 00:00 UTC, 02:00 UTC e 04:00 UTC) (18:00 BRT A 00:00 BRT)\n",
        "df2_2000_2200_0000_0200_0400 = pd.concat([\n",
        "    df2.between_time('20:00', '20:00'),\n",
        "    df2.between_time('22:00', '22:00'),\n",
        "    df2.between_time('00:00', '00:00'),\n",
        "    df2.between_time('02:00', '02:00'),\n",
        "    df2.between_time('04:00', '04:00')\n",
        "])\n",
        "\n",
        "# Ordenando pelo índice DATETIME para garantir continuidade cronológica inplace\n",
        "df2_2000_2200_0000_0200_0400.sort_index(inplace=True)\n",
        "\n",
        "# Mostrando os DataFrames filtrados\n",
        "print(\"Dados das 08:00:\")\n",
        "print(df2_0800)\n",
        "\n",
        "print(\"\\nDados das 16:00:\")\n",
        "print(df2_1600)\n",
        "\n",
        "print(\"\\nDados das 18:00:\")\n",
        "print(df2_1800)\n",
        "\n",
        "print(\"\\nDados das 20:00, 22:00, 00:00, 02:00 e 04:00:\")\n",
        "print(df2_2000_2200_0000_0200_0400)"
      ],
      "metadata": {
        "id": "UlqRklZslDbq"
      },
      "execution_count": null,
      "outputs": []
    },
    {
      "cell_type": "code",
      "source": [
        "df2.to_pickle(\"./df2_mapas_igs_2022_2024.pkl\")"
      ],
      "metadata": {
        "id": "9dyo4XgRntLL"
      },
      "execution_count": null,
      "outputs": []
    },
    {
      "cell_type": "code",
      "source": [
        "np.shape(np.array(df2.iloc[:]['TECMAP']))"
      ],
      "metadata": {
        "id": "1mK0RSjzntLL"
      },
      "execution_count": null,
      "outputs": []
    },
    {
      "cell_type": "code",
      "source": [
        "mapas2 = np.array(df2.iloc[:]['TECMAP'])"
      ],
      "metadata": {
        "id": "LbPiZslAntLM"
      },
      "execution_count": null,
      "outputs": []
    },
    {
      "cell_type": "code",
      "source": [
        "np.shape(df2)"
      ],
      "metadata": {
        "id": "6DyycRVDntLM"
      },
      "execution_count": null,
      "outputs": []
    },
    {
      "cell_type": "code",
      "source": [
        "np_mapas2 = []\n",
        "for i in range(len(mapas2)):\n",
        "    np_mapas2.append(mapas2[i])\n",
        "np_mapas2 = np.array(np_mapas2)"
      ],
      "metadata": {
        "id": "aj86X0PnntLM"
      },
      "execution_count": null,
      "outputs": []
    },
    {
      "cell_type": "code",
      "source": [
        "np.shape(np_mapas2)"
      ],
      "metadata": {
        "id": "oMwmxF7FntLN"
      },
      "execution_count": null,
      "outputs": []
    },
    {
      "cell_type": "code",
      "source": [
        "type(np_mapas2)"
      ],
      "metadata": {
        "id": "X1_9OXRzntLN"
      },
      "execution_count": null,
      "outputs": []
    },
    {
      "cell_type": "code",
      "source": [
        "np.save('mapas2_igs_2022_2024.npy', np_mapas2)"
      ],
      "metadata": {
        "id": "uAa17sKtntLO"
      },
      "execution_count": null,
      "outputs": []
    },
    {
      "cell_type": "markdown",
      "source": [
        "## 05:00 BRT (08:00 UTC)"
      ],
      "metadata": {
        "id": "NdEcc-iNlDbq"
      }
    },
    {
      "cell_type": "code",
      "source": [
        "df2_0800.to_pickle(\"./df2_mapas_igs_2022_2024_0800.pkl\")"
      ],
      "metadata": {
        "id": "kjWQr-BvlDbr"
      },
      "execution_count": null,
      "outputs": []
    },
    {
      "cell_type": "code",
      "source": [
        "np.shape(np.array(df2_0800.iloc[:]['TECMAP']))"
      ],
      "metadata": {
        "id": "9j0NAFqAlDbr"
      },
      "execution_count": null,
      "outputs": []
    },
    {
      "cell_type": "code",
      "source": [
        "mapas2_0800 = np.array(df2_0800.iloc[:]['TECMAP'])"
      ],
      "metadata": {
        "id": "fD2vD4K_lDbr"
      },
      "execution_count": null,
      "outputs": []
    },
    {
      "cell_type": "code",
      "source": [
        "np.shape(df2_0800)"
      ],
      "metadata": {
        "id": "gO5rYH5SlDbs"
      },
      "execution_count": null,
      "outputs": []
    },
    {
      "cell_type": "code",
      "source": [
        "np_mapas2_0800 = []\n",
        "for i in range(len(mapas2_0800)):\n",
        "    np_mapas2_0800.append(mapas2_0800[i])\n",
        "np_mapas2_0800 = np.array(np_mapas2_0800)"
      ],
      "metadata": {
        "id": "zfhY8d28lDbs"
      },
      "execution_count": null,
      "outputs": []
    },
    {
      "cell_type": "code",
      "source": [
        "np.shape(np_mapas2_0800)"
      ],
      "metadata": {
        "id": "g9y-ZSkSlDbs"
      },
      "execution_count": null,
      "outputs": []
    },
    {
      "cell_type": "code",
      "source": [
        "type(np_mapas2_0800)"
      ],
      "metadata": {
        "id": "zWYmKzDKlDbt"
      },
      "execution_count": null,
      "outputs": []
    },
    {
      "cell_type": "code",
      "source": [
        "np.save('mapas2_igs_2022_2024_0800.npy', np_mapas2_0800)"
      ],
      "metadata": {
        "id": "ebswsqyBlDbt"
      },
      "execution_count": null,
      "outputs": []
    },
    {
      "cell_type": "markdown",
      "source": [
        "## 14:00 BRT (17:00 UTC) (16:00 UTC E 18:00 UTC)"
      ],
      "metadata": {
        "id": "g2295WKSlDbu"
      }
    },
    {
      "cell_type": "markdown",
      "source": [
        "### 16:00 UTC"
      ],
      "metadata": {
        "id": "2raA08t5lDbu"
      }
    },
    {
      "cell_type": "code",
      "source": [
        "df2_1600.to_pickle(\"./df2_mapas_igs_2022_2024_1600.pkl\")"
      ],
      "metadata": {
        "id": "LAjAKsi-lDbu"
      },
      "execution_count": null,
      "outputs": []
    },
    {
      "cell_type": "code",
      "source": [
        "mapas2_1600 = np.array(df2_1600.iloc[:]['TECMAP'])"
      ],
      "metadata": {
        "id": "Gh042tAzlDbv"
      },
      "execution_count": null,
      "outputs": []
    },
    {
      "cell_type": "code",
      "source": [
        "np.shape(mapas2_1600)"
      ],
      "metadata": {
        "id": "o1oAoUWilDbv"
      },
      "execution_count": null,
      "outputs": []
    },
    {
      "cell_type": "code",
      "source": [
        "np_mapas2_1600 = []\n",
        "for i in range(len(mapas2_1600)):\n",
        "    np_mapas2_1600.append(mapas2_1600[i])\n",
        "np_mapas2_1600 = np.array(np_mapas2_1600)"
      ],
      "metadata": {
        "id": "nqJUFs6LlDbv"
      },
      "execution_count": null,
      "outputs": []
    },
    {
      "cell_type": "code",
      "source": [
        "np.shape(np_mapas2_1600)"
      ],
      "metadata": {
        "id": "U18byVinlDbw"
      },
      "execution_count": null,
      "outputs": []
    },
    {
      "cell_type": "code",
      "source": [
        "type(np_mapas2_1600)"
      ],
      "metadata": {
        "id": "BjwdeoMYlDbw"
      },
      "execution_count": null,
      "outputs": []
    },
    {
      "cell_type": "code",
      "source": [
        "np.save('mapas2_igs_2022_2024_1600.npy', np_mapas2_1600)"
      ],
      "metadata": {
        "id": "2947jOIklDbw"
      },
      "execution_count": null,
      "outputs": []
    },
    {
      "cell_type": "markdown",
      "source": [
        "### 18:00 UTC"
      ],
      "metadata": {
        "id": "XS9eHZWxlDbx"
      }
    },
    {
      "cell_type": "code",
      "source": [
        "df2_1800.to_pickle(\"./df2_mapas_igs_2022_2024_1800.pkl\")"
      ],
      "metadata": {
        "id": "WrAf1JbblDbx"
      },
      "execution_count": null,
      "outputs": []
    },
    {
      "cell_type": "code",
      "source": [
        "mapas2_1800 = np.array(df2_1800.iloc[:]['TECMAP'])"
      ],
      "metadata": {
        "id": "G0deoV5qlDbx"
      },
      "execution_count": null,
      "outputs": []
    },
    {
      "cell_type": "code",
      "source": [
        "np.shape(mapas2_1800)"
      ],
      "metadata": {
        "id": "CI4X3lwHlDby"
      },
      "execution_count": null,
      "outputs": []
    },
    {
      "cell_type": "code",
      "source": [
        "np_mapas2_1800 = []\n",
        "for i in range(len(mapas2_1800)):\n",
        "    np_mapas2_1800.append(mapas2_1800[i])\n",
        "np_mapas2_1800 = np.array(np_mapas2_1800)"
      ],
      "metadata": {
        "id": "GiDzV0ZQlDby"
      },
      "execution_count": null,
      "outputs": []
    },
    {
      "cell_type": "code",
      "source": [
        "np.shape(np_mapas2_1800)"
      ],
      "metadata": {
        "id": "_Y9nr2m4lDbz"
      },
      "execution_count": null,
      "outputs": []
    },
    {
      "cell_type": "code",
      "source": [
        "type(np_mapas2_1800)"
      ],
      "metadata": {
        "id": "bNku0WRblDbz"
      },
      "execution_count": null,
      "outputs": []
    },
    {
      "cell_type": "code",
      "source": [
        "np.save('mapas2_igs_2022_2024_1800.npy', np_mapas2_1800)"
      ],
      "metadata": {
        "id": "3tta0KZplDb0"
      },
      "execution_count": null,
      "outputs": []
    },
    {
      "cell_type": "markdown",
      "source": [
        "## 20:00 UTC, 22:00 UTC, 00:00 UTC, 02:00 UTC AND 04:00 UTC (18:00 BRT TO 00:00 BRT)"
      ],
      "metadata": {
        "id": "O8ccL_7VlDb0"
      }
    },
    {
      "cell_type": "code",
      "source": [
        "df2_2000_2200_0000_0200_0400.to_pickle(\"./df2_mapas_igs_2022_2024_2000_2200_0000_0200_0400.pkl\")"
      ],
      "metadata": {
        "id": "--yw2BjIlDb0"
      },
      "execution_count": null,
      "outputs": []
    },
    {
      "cell_type": "code",
      "source": [
        "mapas2_2000_2200_0000_0200_0400 = np.array(df2_2000_2200_0000_0200_0400.iloc[:]['TECMAP'])"
      ],
      "metadata": {
        "id": "qFNdDjJ8lDb1"
      },
      "execution_count": null,
      "outputs": []
    },
    {
      "cell_type": "code",
      "source": [
        "np.shape(mapas2_2000_2200_0000_0200_0400)"
      ],
      "metadata": {
        "id": "2vvmRElslDb1"
      },
      "execution_count": null,
      "outputs": []
    },
    {
      "cell_type": "code",
      "source": [
        "np_mapas2_2000_2200_0000_0200_0400 = []\n",
        "for i in range(len(mapas2_2000_2200_0000_0200_0400)):\n",
        "    np_mapas2_2000_2200_0000_0200_0400.append(mapas2_2000_2200_0000_0200_0400[i])\n",
        "np_mapas2_2000_2200_0000_0200_0400 = np.array(np_mapas2_2000_2200_0000_0200_0400)"
      ],
      "metadata": {
        "id": "e_mZQg9dlDb2"
      },
      "execution_count": null,
      "outputs": []
    },
    {
      "cell_type": "code",
      "source": [
        "np.shape(np_mapas2_2000_2200_0000_0200_0400)"
      ],
      "metadata": {
        "id": "vV3PQ1O4lDb2"
      },
      "execution_count": null,
      "outputs": []
    },
    {
      "cell_type": "code",
      "source": [
        "type(np_mapas2_2000_2200_0000_0200_0400)"
      ],
      "metadata": {
        "id": "e_7yHoo4lDb2"
      },
      "execution_count": null,
      "outputs": []
    },
    {
      "cell_type": "code",
      "source": [
        "np.save('mapas2_igs_2022_2024_2000_2200_0000_0200_0400.npy', np_mapas2_2000_2200_0000_0200_0400)"
      ],
      "metadata": {
        "id": "ICrJJEo6lDb3"
      },
      "execution_count": null,
      "outputs": []
    },
    {
      "cell_type": "code",
      "source": [],
      "metadata": {
        "id": "R01Nco5-bahK"
      },
      "execution_count": null,
      "outputs": []
    },
    {
      "cell_type": "markdown",
      "source": [
        "# DOWNLOAD OUTPUTS"
      ],
      "metadata": {
        "id": "zHDARhhVba1a"
      }
    },
    {
      "cell_type": "code",
      "source": [
        "from google.colab import files"
      ],
      "metadata": {
        "id": "dTWkmAnZK4bz"
      },
      "execution_count": null,
      "outputs": []
    },
    {
      "cell_type": "code",
      "source": [
        "%pwd"
      ],
      "metadata": {
        "id": "Boj9YA_edRlx"
      },
      "execution_count": null,
      "outputs": []
    },
    {
      "cell_type": "code",
      "source": [
        "# @title\n",
        "# files.download('./igs_2022_2024.npy')"
      ],
      "metadata": {
        "id": "Dpkj6_lYbt0J"
      },
      "execution_count": null,
      "outputs": []
    },
    {
      "cell_type": "code",
      "source": [
        "# @title\n",
        "# files.download('./igs_datetime_2022_2024.npy')"
      ],
      "metadata": {
        "id": "IcO9--0jjGyS"
      },
      "execution_count": null,
      "outputs": []
    },
    {
      "cell_type": "code",
      "source": [
        "# @title\n",
        "# files.download('./IGS-2022.npy')"
      ],
      "metadata": {
        "id": "1Mu067q9Laj6"
      },
      "execution_count": null,
      "outputs": []
    },
    {
      "cell_type": "code",
      "source": [
        "# @title\n",
        "# files.download('./IGS-2023.npy')"
      ],
      "metadata": {
        "id": "i1Vocq_3bYmz"
      },
      "execution_count": null,
      "outputs": []
    },
    {
      "cell_type": "code",
      "source": [
        "# @title\n",
        "# files.download('./IGS-2024.npy')"
      ],
      "metadata": {
        "id": "gr5-VRCbbmGd"
      },
      "execution_count": null,
      "outputs": []
    },
    {
      "cell_type": "code",
      "source": [
        "# @title\n",
        "# files.download('./df_mapas_igs_2022_2024.pkl')"
      ],
      "metadata": {
        "id": "8dTUgmPbbsct"
      },
      "execution_count": null,
      "outputs": []
    },
    {
      "cell_type": "code",
      "source": [
        "# @title\n",
        "# files.download('./df_mapas_igs_2022_2024_0800.pkl')"
      ],
      "metadata": {
        "id": "q5FZ8v0MbsjV"
      },
      "execution_count": null,
      "outputs": []
    },
    {
      "cell_type": "code",
      "source": [
        "# @title\n",
        "# files.download('./df_mapas_igs_2022_2024_1600.pkl')"
      ],
      "metadata": {
        "id": "uZAT8UzBbspP"
      },
      "execution_count": null,
      "outputs": []
    },
    {
      "cell_type": "code",
      "source": [
        "# @title\n",
        "# files.download('./df_mapas_igs_2022_2024_1800.pkl')"
      ],
      "metadata": {
        "id": "qenA3FWybsuu"
      },
      "execution_count": null,
      "outputs": []
    },
    {
      "cell_type": "code",
      "source": [
        "# @title\n",
        "# files.download('./df_mapas_igs_2022_2024_2000_2200_0000_0200_0400.pkl')"
      ],
      "metadata": {
        "id": "0POwPEgebtsV"
      },
      "execution_count": null,
      "outputs": []
    },
    {
      "cell_type": "code",
      "source": [
        "# @title\n",
        "# files.download('./mapas_igs_2022_2024_0800.npy')"
      ],
      "metadata": {
        "id": "z2SFVrA7ca7G"
      },
      "execution_count": null,
      "outputs": []
    },
    {
      "cell_type": "code",
      "source": [
        "# @title\n",
        "# files.download('./mapas_igs_2022_2024_1600.npy')"
      ],
      "metadata": {
        "id": "tj8zOwH0cbCw"
      },
      "execution_count": null,
      "outputs": []
    },
    {
      "cell_type": "code",
      "source": [
        "# @title\n",
        "# files.download('./mapas_igs_2022_2024_1800.npy')"
      ],
      "metadata": {
        "id": "krZ3AQwlcbJ_"
      },
      "execution_count": null,
      "outputs": []
    },
    {
      "cell_type": "code",
      "source": [
        "# @title\n",
        "# files.download('./mapas_igs_2022_2024_2000_2200_0000_0200_0400.npy')"
      ],
      "metadata": {
        "id": "cGraOl3KcbQ0"
      },
      "execution_count": null,
      "outputs": []
    },
    {
      "cell_type": "code",
      "source": [
        "files.download('./df1_mapas_igs_2022_2024.pkl')"
      ],
      "metadata": {
        "id": "sPUDSzrwboR0"
      },
      "execution_count": null,
      "outputs": []
    },
    {
      "cell_type": "code",
      "source": [
        "files.download('./df1_mapas_igs_2022_2024_0800.pkl')"
      ],
      "metadata": {
        "id": "0BmJh3umlVuH"
      },
      "execution_count": null,
      "outputs": []
    },
    {
      "cell_type": "code",
      "source": [
        "files.download('./df1_mapas_igs_2022_2024_1600.pkl')"
      ],
      "metadata": {
        "id": "U69muXpubrZu"
      },
      "execution_count": null,
      "outputs": []
    },
    {
      "cell_type": "code",
      "source": [
        "files.download('./df1_mapas_igs_2022_2024_1800.pkl')"
      ],
      "metadata": {
        "id": "TF7e33ZDbrm6"
      },
      "execution_count": null,
      "outputs": []
    },
    {
      "cell_type": "code",
      "source": [
        "files.download('./df1_mapas_igs_2022_2024_2000_2200_0000_0200_0400.pkl')"
      ],
      "metadata": {
        "id": "XOFSLoInbrxg"
      },
      "execution_count": null,
      "outputs": []
    },
    {
      "cell_type": "code",
      "source": [
        "files.download('./df2_mapas_igs_2022_2024.pkl')"
      ],
      "metadata": {
        "id": "hy-nQfd4br66"
      },
      "execution_count": null,
      "outputs": []
    },
    {
      "cell_type": "code",
      "source": [
        "files.download('./df2_mapas_igs_2022_2024_0800.pkl')"
      ],
      "metadata": {
        "id": "KNFdbzApbsCi"
      },
      "execution_count": null,
      "outputs": []
    },
    {
      "cell_type": "code",
      "source": [
        "files.download('./df2_mapas_igs_2022_2024_1600.pkl')"
      ],
      "metadata": {
        "id": "awV2CxpXbsJZ"
      },
      "execution_count": null,
      "outputs": []
    },
    {
      "cell_type": "code",
      "source": [
        "files.download('./df2_mapas_igs_2022_2024_1800.pkl')"
      ],
      "metadata": {
        "id": "ozstjiBSbsPb"
      },
      "execution_count": null,
      "outputs": []
    },
    {
      "cell_type": "code",
      "source": [
        "files.download('./df2_mapas_igs_2022_2024_2000_2200_0000_0200_0400.pkl')"
      ],
      "metadata": {
        "id": "6O1zIZVabsWU"
      },
      "execution_count": null,
      "outputs": []
    },
    {
      "cell_type": "code",
      "source": [
        "files.download('./mapas1_igs_2022_2024.npy')"
      ],
      "metadata": {
        "id": "GQH9ZdPVoQk-"
      },
      "execution_count": null,
      "outputs": []
    },
    {
      "cell_type": "code",
      "source": [
        "files.download('./mapas1_igs_2022_2024_0800.npy')"
      ],
      "metadata": {
        "id": "2RD6fIV6bt4c"
      },
      "execution_count": null,
      "outputs": []
    },
    {
      "cell_type": "code",
      "source": [
        "files.download('./mapas1_igs_2022_2024_1600.npy')"
      ],
      "metadata": {
        "id": "6HHKwbKNcZ-g"
      },
      "execution_count": null,
      "outputs": []
    },
    {
      "cell_type": "code",
      "source": [
        "files.download('./mapas1_igs_2022_2024_1800.npy')"
      ],
      "metadata": {
        "id": "Ck5NXIsCcaI6"
      },
      "execution_count": null,
      "outputs": []
    },
    {
      "cell_type": "code",
      "source": [
        "files.download('./mapas1_igs_2022_2024_2000_2200_0000_0200_0400.npy')"
      ],
      "metadata": {
        "id": "0JeXcdi7caSc"
      },
      "execution_count": null,
      "outputs": []
    },
    {
      "cell_type": "code",
      "source": [
        "files.download('./mapas2_igs_2022_2024.npy')"
      ],
      "metadata": {
        "id": "W1dEWQRpoXkf"
      },
      "execution_count": null,
      "outputs": []
    },
    {
      "cell_type": "code",
      "source": [
        "files.download('./mapas2_igs_2022_2024_0800.npy')"
      ],
      "metadata": {
        "id": "iklwWlH5cabA"
      },
      "execution_count": null,
      "outputs": []
    },
    {
      "cell_type": "code",
      "source": [
        "files.download('./mapas2_igs_2022_2024_1600.npy')"
      ],
      "metadata": {
        "id": "FDkaFf_gcakQ"
      },
      "execution_count": null,
      "outputs": []
    },
    {
      "cell_type": "code",
      "source": [
        "files.download('./mapas2_igs_2022_2024_1800.npy')"
      ],
      "metadata": {
        "id": "4MB9JUjmcasQ"
      },
      "execution_count": null,
      "outputs": []
    },
    {
      "cell_type": "code",
      "source": [
        "files.download('./mapas2_igs_2022_2024_2000_2200_0000_0200_0400.npy')"
      ],
      "metadata": {
        "id": "0k6rLBCCcaz5"
      },
      "execution_count": null,
      "outputs": []
    }
  ],
  "metadata": {
    "colab": {
      "provenance": [],
      "collapsed_sections": [
        "VIV4jlmehRvB",
        "IETPLiT5hWiq",
        "V7eT0pGYZjG6"
      ],
      "toc_visible": true,
      "include_colab_link": true
    },
    "kernelspec": {
      "display_name": "Python 3",
      "name": "python3"
    },
    "language_info": {
      "codemirror_mode": {
        "name": "ipython",
        "version": 3
      },
      "file_extension": ".py",
      "mimetype": "text/x-python",
      "name": "python",
      "nbconvert_exporter": "python",
      "pygments_lexer": "ipython3",
      "version": "3.8.10"
    }
  },
  "nbformat": 4,
  "nbformat_minor": 0
}