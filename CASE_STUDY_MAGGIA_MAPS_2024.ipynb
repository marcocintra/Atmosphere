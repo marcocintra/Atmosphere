{
  "cells": [
    {
      "cell_type": "markdown",
      "metadata": {
        "id": "view-in-github",
        "colab_type": "text"
      },
      "source": [
        "<a href=\"https://colab.research.google.com/github/marcocintra/Atmosphere/blob/master/CASE_STUDY_MAGGIA_MAPS_2024.ipynb\" target=\"_parent\"><img src=\"https://colab.research.google.com/assets/colab-badge.svg\" alt=\"Open In Colab\"/></a>"
      ]
    },
    {
      "cell_type": "markdown",
      "metadata": {
        "id": "tPYhxriRsr13"
      },
      "source": [
        "# ZIP FILES ADJUSTS"
      ]
    },
    {
      "cell_type": "code",
      "execution_count": null,
      "metadata": {
        "id": "mKS0qJhFZ48M"
      },
      "outputs": [],
      "source": [
        "!curl 'https://my.microsoftpersonalcontent.com/personal/a149071e7d7aaa61/_layouts/15/download.aspx?UniqueId=e43fcca5-9432-40f2-bc9e-3d8a5d991204&Translate=false&tempauth=v1e.eyJzaXRlaWQiOiI3NzM0Y2NkNy1mMWE2LTQ0ZmItOWZmYy03MjIyYzI4NGE0ODEiLCJhcHBpZCI6IjAwMDAwMDAwLTAwMDAtMDAwMC0wMDAwLTAwMDA0ODE3MTBhNCIsImF1ZCI6IjAwMDAwMDAzLTAwMDAtMGZmMS1jZTAwLTAwMDAwMDAwMDAwMC9teS5taWNyb3NvZnRwZXJzb25hbGNvbnRlbnQuY29tQDkxODgwNDBkLTZjNjctNGM1Yi1iMTEyLTM2YTMwNGI2NmRhZCIsImV4cCI6IjE3NDU1MjI3MzcifQ.hgLqBxgVoMvx7GgJZUjXPQ3coC09gMLvqvOFrtu-ekbOlhPI2xxtq8RkTeoAxo73nH8k8rau8WIcHJ3L4geWWuKPKWXnxIA7gbZnMAuGuUTfz1eZhj_sNPzZT8dDZhb1VjK_ZtVU90VQmp4fHiL9aa0O5jsKvojsAm4HnNUOC8Vppwd6jd-2QEKuTfQfZFFKNSjdCQo4gl5U2oQaDniAW8Dw2G1Nau2haybmSJjs5eb6BUH6p3mkilQ6GiKfvwfPRm-UuIZlnOkqAeyS08rmrNyj0F15juyGQ2CwUafM81eSuJbNT8lk0Gad5s80ZWtcIZdqoByNWCOM-KVw9faBosJeC0wAepwtGVMuFEH71JmbUV87lkGVb-3jQ9OkudiYr8Uj89Mo9_ct2xoFybB2uio9Cn0B_vD0PQvwmg62xr4.kkvBStYCDo1m0DX6TMC9xMIOCCVvMahHA7Ref1ibGGE&ApiVersion=2.0&AVOverride=1' \\\n",
        "  -H 'accept: text/html,application/xhtml+xml,application/xml;q=0.9,image/avif,image/webp,image/apng,*/*;q=0.8,application/signed-exchange;v=b3;q=0.7' \\\n",
        "  -H 'accept-language: pt-BR,pt;q=0.9,en-US;q=0.8,en;q=0.7' \\\n",
        "  -H 'priority: u=0, i' \\\n",
        "  -H 'referer: https://onedrive.live.com/' \\\n",
        "  -H 'sec-ch-ua: \"Google Chrome\";v=\"135\", \"Not-A.Brand\";v=\"8\", \"Chromium\";v=\"135\"' \\\n",
        "  -H 'sec-ch-ua-mobile: ?0' \\\n",
        "  -H 'sec-ch-ua-platform: \"Linux\"' \\\n",
        "  -H 'sec-fetch-dest: iframe' \\\n",
        "  -H 'sec-fetch-mode: navigate' \\\n",
        "  -H 'sec-fetch-site: cross-site' \\\n",
        "  -H 'sec-fetch-storage-access: none' \\\n",
        "  -H 'sec-fetch-user: ?1' \\\n",
        "  -H 'upgrade-insecure-requests: 1' \\\n",
        "  -H 'user-agent: Mozilla/5.0 (X11; Linux x86_64) AppleWebKit/537.36 (KHTML, like Gecko) Chrome/135.0.0.0 Safari/537.36' > 'MAGGIA-SEPT-05-2024-TO-END-2024.zip'"
      ]
    },
    {
      "cell_type": "code",
      "execution_count": null,
      "metadata": {
        "id": "ho9tLyt0agPO"
      },
      "outputs": [],
      "source": [
        "%pwd"
      ]
    },
    {
      "cell_type": "code",
      "execution_count": null,
      "metadata": {
        "id": "0hKf5wgbahVv",
        "scrolled": true
      },
      "outputs": [],
      "source": [
        "!ls"
      ]
    },
    {
      "cell_type": "code",
      "execution_count": null,
      "metadata": {
        "id": "OtCHJHUkyxU9"
      },
      "outputs": [],
      "source": [
        "!unzip -q 'MAGGIA-SEPT-05-2024-TO-END-2024.zip'"
      ]
    },
    {
      "cell_type": "code",
      "execution_count": null,
      "metadata": {
        "id": "3cVVSv_Go3u_"
      },
      "outputs": [],
      "source": [
        "%pwd"
      ]
    },
    {
      "cell_type": "code",
      "execution_count": null,
      "metadata": {
        "id": "c13X4YgWo3u_"
      },
      "outputs": [],
      "source": [
        "!ls"
      ]
    },
    {
      "cell_type": "markdown",
      "source": [
        "# DATA FILES ADJUSTS"
      ],
      "metadata": {
        "id": "99b0qquQokv7"
      }
    },
    {
      "cell_type": "code",
      "source": [
        "%cd MAGGIA-SEPT-05-2024-TO-END-2024"
      ],
      "metadata": {
        "id": "qvn8fD0I1GnR"
      },
      "execution_count": null,
      "outputs": []
    },
    {
      "cell_type": "code",
      "execution_count": null,
      "metadata": {
        "id": "o5Dh0z_Jo3vA"
      },
      "outputs": [],
      "source": [
        "import os\n",
        "import glob\n",
        "from collections import defaultdict\n",
        "\n",
        "base_path = './'\n",
        "\n",
        "file_pattern = os.path.join(base_path, '**', 'magn2024*.nc')\n",
        "file_list = sorted(glob.glob(file_pattern, recursive=True))\n",
        "\n",
        "file_count_by_day = defaultdict(int)\n",
        "\n",
        "for file_name in file_list:\n",
        "    day_dir = os.path.basename(os.path.dirname(file_name))\n",
        "    file_count_by_day[day_dir] += 1\n",
        "\n",
        "print(\"\\nDias com menos de 96 arquivos:\")\n",
        "for day, count in sorted(file_count_by_day.items()):\n",
        "    if count < 96:\n",
        "        print(f\"Dia {day}: {count} arquivos\")"
      ]
    },
    {
      "cell_type": "code",
      "execution_count": null,
      "metadata": {
        "id": "XK--dMkvZyce"
      },
      "outputs": [],
      "source": [
        "!pip install netCDF4"
      ]
    },
    {
      "cell_type": "code",
      "execution_count": null,
      "metadata": {
        "id": "_Q_xDyqJau5B"
      },
      "outputs": [],
      "source": [
        "!pip install xarray"
      ]
    },
    {
      "cell_type": "code",
      "execution_count": null,
      "metadata": {
        "id": "xPzZlKQuo3vA"
      },
      "outputs": [],
      "source": [
        "import numpy as np\n",
        "import xarray as xr\n",
        "import os\n",
        "import re\n",
        "import glob\n",
        "\n",
        "file_list = glob.glob(\"./magn2024*.nc\")\n",
        "\n",
        "file_list.sort()\n",
        "\n",
        "tec_by_doy = {}\n",
        "\n",
        "pattern = re.compile(r'magn2024(\\d{3})')\n",
        "\n",
        "for file_name in file_list:\n",
        "    try:\n",
        "        match = pattern.search(file_name)\n",
        "        if match:\n",
        "            doy = match.group(1)\n",
        "\n",
        "            print(f\"Processando o arquivo: {file_name}, DOY: {doy}\")\n",
        "\n",
        "            ds_disk = xr.open_dataset(file_name)\n",
        "            tec = ds_disk['z'][:, :].values\n",
        "\n",
        "            if doy not in tec_by_doy:\n",
        "                tec_by_doy[doy] = []\n",
        "\n",
        "            tec_by_doy[doy].append(tec)\n",
        "\n",
        "            ds_disk.close()\n",
        "\n",
        "    except Exception as e:\n",
        "        print(f\"Erro ao processar o arquivo {file_name}: {e}\")\n",
        "\n",
        "print(\"\\nSalvando arquivos NPY por dia...\")\n",
        "for doy, tec_list in tec_by_doy.items():\n",
        "    tec_array = np.array(tec_list)\n",
        "\n",
        "    output_file = f\"magn2024{doy}.npy\"\n",
        "    np.save(output_file, tec_array)\n",
        "\n",
        "    print(f\"Arquivo {output_file} salvo com sucesso! Shape: {tec_array.shape}\")\n",
        "\n",
        "print(\"\\nProcessamento concluído!\")"
      ]
    },
    {
      "cell_type": "code",
      "execution_count": null,
      "metadata": {
        "id": "MZfsJON-o3vB"
      },
      "outputs": [],
      "source": [
        "!ls -lR ./*.npy | wc -l"
      ]
    },
    {
      "cell_type": "code",
      "execution_count": null,
      "metadata": {
        "id": "E9b3K2gPo3vB"
      },
      "outputs": [],
      "source": [
        "import numpy as np\n",
        "import glob\n",
        "import re\n",
        "\n",
        "npy_files = glob.glob(\"magn2024*.npy\")\n",
        "\n",
        "def extract_doy(filename):\n",
        "    match = re.search(r'magn2024(\\d{3})\\.npy', filename)\n",
        "    if match:\n",
        "        return int(match.group(1))\n",
        "    return 0\n",
        "\n",
        "npy_files.sort(key=extract_doy)\n",
        "\n",
        "print(f\"Encontrados {len(npy_files)} arquivos NPY para processar.\")\n",
        "\n",
        "all_data = []\n",
        "\n",
        "for i, file in enumerate(npy_files):\n",
        "    doy = extract_doy(file)\n",
        "    print(f\"Processando {file} (DOY {doy}) - {i+1}/{len(npy_files)}\")\n",
        "\n",
        "    data = np.load(file)\n",
        "\n",
        "    all_data.append(data)\n",
        "\n",
        "    print(f\"  Shape: {data.shape}\")\n",
        "\n",
        "combined_data = np.concatenate(all_data, axis=0)\n",
        "\n",
        "print(f\"\\nDados combinados. Shape final: {combined_data.shape}\")\n",
        "\n",
        "output_file = \"MAGGIA-2024.npy\"\n",
        "np.save(output_file, combined_data)\n",
        "\n",
        "print(f\"\\nArquivo {output_file} salvo com sucesso!\")\n",
        "print(f\"Tamanho do arquivo: {combined_data.nbytes / (1024**2):.2f} MB\")"
      ]
    },
    {
      "cell_type": "code",
      "execution_count": null,
      "metadata": {
        "id": "KXRGuIJ35w5U"
      },
      "outputs": [],
      "source": [
        "%cd './'"
      ]
    },
    {
      "cell_type": "code",
      "execution_count": null,
      "metadata": {
        "id": "tGOoeUboYS7-"
      },
      "outputs": [],
      "source": [
        "!ls"
      ]
    },
    {
      "cell_type": "code",
      "execution_count": null,
      "metadata": {
        "id": "GmPRLZd3YS7_"
      },
      "outputs": [],
      "source": [
        "%pwd"
      ]
    },
    {
      "cell_type": "code",
      "execution_count": null,
      "metadata": {
        "id": "7N0MYUToYS7_"
      },
      "outputs": [],
      "source": [
        "!ls *.npy"
      ]
    },
    {
      "cell_type": "code",
      "execution_count": null,
      "metadata": {
        "id": "hsjJg_0SMHJf"
      },
      "outputs": [],
      "source": [
        "maggia_2024 = np.load('MAGGIA-2024.npy')\n",
        "print(np.shape(maggia_2024))\n",
        "print(type(maggia_2024))\n",
        "print(type(maggia_2024[0]))\n",
        "print(type(maggia_2024[0][0]))\n",
        "print(type(maggia_2024[0][0][0]))"
      ]
    },
    {
      "cell_type": "code",
      "execution_count": null,
      "metadata": {
        "id": "aRaytyYKgVfZ"
      },
      "outputs": [],
      "source": [
        "np.shape(maggia_2024)"
      ]
    },
    {
      "cell_type": "code",
      "execution_count": null,
      "metadata": {
        "id": "8PleC_HEgVfZ"
      },
      "outputs": [],
      "source": [
        "has_nan = np.any(np.isnan(maggia_2024))\n",
        "print(has_nan)\n",
        "\n",
        "count_nan = np.sum(np.isnan(maggia_2024))\n",
        "print(count_nan)"
      ]
    },
    {
      "cell_type": "code",
      "execution_count": null,
      "metadata": {
        "id": "758_m8o-gVfa"
      },
      "outputs": [],
      "source": [
        "maggia_2024.shape"
      ]
    },
    {
      "cell_type": "code",
      "execution_count": null,
      "metadata": {
        "id": "okYM755VgVfa"
      },
      "outputs": [],
      "source": [
        "np.set_printoptions(threshold=np.inf)"
      ]
    },
    {
      "cell_type": "code",
      "execution_count": null,
      "metadata": {
        "id": "MmLcVQgZgVfa"
      },
      "outputs": [],
      "source": [
        "print(maggia_2024[0][0])"
      ]
    },
    {
      "cell_type": "code",
      "execution_count": null,
      "metadata": {
        "id": "xmFTBj58gVfa"
      },
      "outputs": [],
      "source": [
        "print(maggia_2024[0][-1])"
      ]
    },
    {
      "cell_type": "code",
      "execution_count": null,
      "metadata": {
        "id": "qElFTYDOOIdz"
      },
      "outputs": [],
      "source": [
        "print(type(maggia_2024))\n",
        "print(type(maggia_2024[0]))\n",
        "print(type(maggia_2024[0][0]))\n",
        "print(type(maggia_2024[0][0][0]))"
      ]
    },
    {
      "cell_type": "code",
      "execution_count": null,
      "metadata": {
        "id": "ChF4XV8_wOLI"
      },
      "outputs": [],
      "source": [
        "for i in range(len(maggia_2024)):\n",
        "    print(np.shape(maggia_2024[i]))"
      ]
    },
    {
      "cell_type": "code",
      "execution_count": null,
      "metadata": {
        "id": "VSX1tZOiPdEt"
      },
      "outputs": [],
      "source": [
        "np.shape(maggia_2024)"
      ]
    },
    {
      "cell_type": "code",
      "execution_count": null,
      "metadata": {
        "id": "HDur6qb5E5ep"
      },
      "outputs": [],
      "source": [
        "has_nan = np.any(np.isnan(maggia_2024))\n",
        "print(has_nan)\n",
        "\n",
        "count_nan = np.sum(np.isnan(maggia_2024))\n",
        "print(count_nan)"
      ]
    },
    {
      "cell_type": "markdown",
      "metadata": {
        "id": "Yi4SpFp_TAEN"
      },
      "source": [
        "# DATES ADJUSTS"
      ]
    },
    {
      "cell_type": "code",
      "execution_count": null,
      "metadata": {
        "id": "n2uekCcKMgIz"
      },
      "outputs": [],
      "source": [
        "import numpy as np\n",
        "from datetime import datetime, timedelta\n",
        "\n",
        "def doy_to_date(year, doy):\n",
        "    \"\"\"Convert year and day of year to datetime.\"\"\"\n",
        "    return datetime(year, 1, 1) + timedelta(days=doy - 1)\n",
        "\n",
        "doys = {\n",
        "\n",
        "    2024: {\n",
        "        9: [249, 250, 251, 252, 253, 254, 255, 256, 257, 258,\n",
        "            261, 262, 263, 264, 265, 266, 267, 268, 269, 270,\n",
        "            271, 272, 274],\n",
        "        10: [275, 276, 277, 278, 279, 281, 282, 283, 285, 286,\n",
        "             287, 288, 289, 290, 291, 292, 293, 295, 299, 300,\n",
        "             301, 302, 303, 304, 305],\n",
        "        11: [306, 307, 308, 309, 310, 311, 312, 313, 314, 315,\n",
        "             316, 317, 318, 320, 321, 322, 323, 324, 325, 326,\n",
        "             327, 328, 329, 330, 331, 332, 333, 334, 335],\n",
        "        12: [336, 337, 338, 339, 340, 341, 342, 343, 344, 345,\n",
        "             346, 347, 348, 349, 350, 351, 352, 353, 354, 355,\n",
        "             356, 357, 358, 359, 360, 361, 362, 363, 364, 365,\n",
        "             366]\n",
        "    }\n",
        "}\n",
        "\n",
        "doy249_times = [\n",
        "    \"0000\", \"0010\", \"0015\", \"0020\", \"0030\", \"0040\", \"0045\", \"0050\",\n",
        "    \"0100\", \"0110\", \"0115\", \"0120\", \"0130\", \"0140\", \"0145\", \"0150\",\n",
        "    \"0200\", \"0210\", \"0215\", \"0220\", \"0230\", \"0240\", \"0245\", \"0250\",\n",
        "    \"0300\", \"0310\", \"0315\", \"0320\", \"0330\", \"0340\", \"0345\", \"0350\",\n",
        "    \"0400\", \"0410\", \"0415\", \"0420\", \"0430\", \"0440\", \"0445\", \"0450\",\n",
        "    \"0500\", \"0510\", \"0515\", \"0520\", \"0530\", \"0540\", \"0545\", \"0550\",\n",
        "    \"0600\", \"0610\", \"0615\", \"0620\", \"0630\", \"0640\", \"0645\", \"0650\",\n",
        "    \"0700\", \"0710\", \"0715\", \"0720\", \"0730\", \"0740\", \"0745\", \"0750\",\n",
        "    \"0800\", \"0810\", \"0815\", \"0820\", \"0830\", \"0840\", \"0845\", \"0850\",\n",
        "    \"0900\", \"0910\", \"0915\", \"0920\", \"0930\", \"0940\", \"0945\", \"0950\",\n",
        "    \"1000\", \"1010\", \"1015\", \"1020\", \"1030\", \"1040\", \"1045\", \"1050\",\n",
        "    \"1100\", \"1110\", \"1115\", \"1120\", \"1130\", \"1140\", \"1145\", \"1150\",\n",
        "    \"1200\", \"1210\", \"1215\", \"1220\", \"1230\", \"1240\", \"1245\", \"1250\",\n",
        "    \"1300\", \"1310\", \"1315\", \"1320\", \"1330\", \"1340\", \"1345\", \"1350\",\n",
        "    \"1400\", \"1410\", \"1415\", \"1420\", \"1430\", \"1440\", \"1445\", \"1450\",\n",
        "    \"1500\", \"1510\", \"1515\", \"1520\", \"1530\", \"1540\", \"1545\", \"1550\",\n",
        "    \"1600\", \"1610\", \"1615\", \"1620\", \"1630\", \"1640\", \"1645\", \"1650\",\n",
        "    \"1700\", \"1710\", \"1715\", \"1720\", \"1730\", \"1740\", \"1745\", \"1750\",\n",
        "    \"1800\", \"1810\", \"1815\", \"1820\", \"1830\", \"1840\", \"1845\", \"1850\",\n",
        "    \"1900\", \"1910\", \"1915\", \"1920\", \"1930\", \"1940\", \"1945\", \"1950\",\n",
        "    \"2000\", \"2010\", \"2015\", \"2020\", \"2030\", \"2040\", \"2045\", \"2050\",\n",
        "    \"2100\", \"2110\", \"2115\", \"2120\", \"2130\", \"2140\", \"2145\", \"2150\",\n",
        "    \"2200\", \"2210\", \"2215\", \"2220\", \"2230\", \"2240\", \"2245\", \"2250\",\n",
        "    \"2300\", \"2310\", \"2315\", \"2320\", \"2330\", \"2340\", \"2345\", \"2350\"\n",
        "]\n",
        "\n",
        "doy250_times = [\n",
        "    \"0000\", \"0010\", \"0015\", \"0020\", \"0030\", \"0040\", \"0045\", \"0050\",\n",
        "    \"0100\", \"0110\", \"0115\", \"0120\", \"0130\", \"0140\", \"0145\", \"0150\",\n",
        "    \"0200\", \"0210\", \"0215\", \"0220\", \"0230\", \"0240\", \"0245\", \"0250\",\n",
        "    \"0300\", \"0310\", \"0315\", \"0320\", \"0330\", \"0340\", \"0345\", \"0350\",\n",
        "    \"0400\", \"0410\", \"0415\", \"0420\", \"0430\", \"0440\", \"0445\", \"0450\",\n",
        "    \"0500\", \"0510\", \"0515\", \"0520\", \"0530\", \"0540\", \"0545\", \"0550\",\n",
        "    \"0600\", \"0610\", \"0615\", \"0620\", \"0630\", \"0640\", \"0645\", \"0650\",\n",
        "    \"0700\", \"0710\", \"0715\", \"0720\", \"0730\", \"0740\", \"0745\", \"0750\",\n",
        "    \"0800\", \"0810\", \"0815\", \"0820\", \"0830\", \"0840\", \"0845\", \"0850\",\n",
        "    \"0900\", \"0910\", \"0915\", \"0920\", \"0930\", \"0940\", \"0945\", \"0950\",\n",
        "    \"1000\", \"1010\", \"1015\", \"1020\", \"1030\", \"1040\", \"1045\", \"1050\",\n",
        "    \"1100\", \"1110\", \"1115\", \"1120\", \"1130\", \"1140\", \"1145\", \"1150\",\n",
        "    \"1200\", \"1210\", \"1220\", \"1230\", \"1240\", \"1250\", \"1300\", \"1310\",\n",
        "    \"1320\", \"1330\", \"1340\", \"1350\", \"1400\", \"1410\", \"1420\", \"1430\",\n",
        "    \"1440\", \"1450\", \"1500\", \"1510\", \"1520\", \"1530\", \"1540\", \"1550\",\n",
        "    \"1600\", \"1610\", \"1620\", \"1630\", \"1640\", \"1650\", \"1700\", \"1710\",\n",
        "    \"1720\", \"1730\", \"1740\", \"1750\", \"1800\", \"1810\", \"1820\", \"1830\",\n",
        "    \"1840\", \"1850\", \"1900\", \"1910\", \"1920\", \"1930\", \"1940\", \"1950\",\n",
        "    \"2000\", \"2010\", \"2020\", \"2030\", \"2040\", \"2050\", \"2100\", \"2110\",\n",
        "    \"2120\", \"2130\", \"2140\", \"2150\", \"2200\", \"2210\", \"2220\", \"2230\",\n",
        "    \"2240\", \"2250\", \"2300\", \"2310\", \"2320\", \"2330\", \"2340\", \"2350\"\n",
        "]\n",
        "\n",
        "datetime_list = []\n",
        "\n",
        "for year in doys.keys():\n",
        "    for month in doys[year].keys():\n",
        "        for doy in doys[year][month]:\n",
        "            base_date = doy_to_date(year, doy)\n",
        "\n",
        "            if year == 2024 and doy == 249:\n",
        "                for time_str in doy249_times:\n",
        "                    hours = int(time_str[:2])\n",
        "                    minutes = int(time_str[2:])\n",
        "                    dt = base_date + timedelta(hours=hours, minutes=minutes)\n",
        "                    datetime_list.append(dt)\n",
        "\n",
        "            elif year == 2024 and doy == 250:\n",
        "                for time_str in doy250_times:\n",
        "                    hours = int(time_str[:2])\n",
        "                    minutes = int(time_str[2:])\n",
        "                    dt = base_date + timedelta(hours=hours, minutes=minutes)\n",
        "                    datetime_list.append(dt)\n",
        "\n",
        "            elif year == 2024 and doy >= 251:\n",
        "                for minute in range(0, 24 * 60, 10):\n",
        "                    dt = base_date + timedelta(minutes=minute)\n",
        "                    datetime_list.append(dt)\n",
        "\n",
        "            else:\n",
        "                for minute in range(0, 24 * 60, 15):\n",
        "                    dt = base_date + timedelta(minutes=minute)\n",
        "                    datetime_list.append(dt)\n",
        "\n",
        "maggia_datetime_2024 = np.array(datetime_list, dtype='datetime64[s]')\n",
        "\n",
        "print(f\"Total number of datetime points: {len(maggia_datetime_2024)}\")\n",
        "print(f\"First datetime: {maggia_datetime_2024[0]}\")\n",
        "print(f\"Last datetime: {maggia_datetime_2024[-1]}\")\n",
        "\n",
        "np.save('maggia_datetime_2024.npy', maggia_datetime_2024)\n",
        "\n",
        "print(\"\\nSample of first 10 datetime entries:\")\n",
        "for dt in maggia_datetime_2024[:10]:\n",
        "    print(dt)\n",
        "\n",
        "print(\"\\nSample of last 10 datetime entries:\")\n",
        "for dt in maggia_datetime_2024[-10:]:\n",
        "    print(dt)"
      ]
    },
    {
      "cell_type": "code",
      "execution_count": null,
      "metadata": {
        "id": "TtaWVk_8QMBs"
      },
      "outputs": [],
      "source": [
        "maggia_dates = np.load('maggia_datetime_2024.npy')"
      ]
    },
    {
      "cell_type": "code",
      "execution_count": null,
      "metadata": {
        "id": "2xCYLZ9aQk8w"
      },
      "outputs": [],
      "source": [
        "maggia_dates.shape"
      ]
    },
    {
      "cell_type": "code",
      "execution_count": null,
      "metadata": {
        "id": "trcddEnElgvt"
      },
      "outputs": [],
      "source": [
        "maggia_dates"
      ]
    },
    {
      "cell_type": "code",
      "execution_count": null,
      "metadata": {
        "id": "aVApy8x7ajp2"
      },
      "outputs": [],
      "source": [
        "maggia_2024.shape"
      ]
    },
    {
      "cell_type": "code",
      "execution_count": null,
      "metadata": {
        "id": "5peLp8F8k8b5"
      },
      "outputs": [],
      "source": [
        "print(len(maggia_2024.tolist()))\n",
        "print(len(maggia_2024[0].tolist()))\n",
        "print(len(maggia_2024[0][0].tolist()))"
      ]
    },
    {
      "cell_type": "code",
      "execution_count": null,
      "metadata": {
        "id": "5SK2smyn6Cwa"
      },
      "outputs": [],
      "source": [
        "maggia_2024.shape"
      ]
    },
    {
      "cell_type": "code",
      "source": [
        "len(maggia_dates)"
      ],
      "metadata": {
        "id": "tKT94NxfGVbM"
      },
      "execution_count": null,
      "outputs": []
    },
    {
      "cell_type": "code",
      "execution_count": null,
      "metadata": {
        "id": "6A50R38CmQ0Z"
      },
      "outputs": [],
      "source": [
        "maggia_dates[0:12]"
      ]
    },
    {
      "cell_type": "code",
      "execution_count": null,
      "metadata": {
        "id": "FE6iX6cvmXSK"
      },
      "outputs": [],
      "source": [
        "len(maggia_dates[0:12])"
      ]
    },
    {
      "cell_type": "code",
      "execution_count": null,
      "metadata": {
        "id": "lykciIvkmVgS"
      },
      "outputs": [],
      "source": [
        "len(maggia_2024[0:12])"
      ]
    },
    {
      "cell_type": "code",
      "source": [
        "maggia_2024_shaped = np.reshape(maggia_2024, (-1, 241, 221))"
      ],
      "metadata": {
        "id": "Dl7mXCGg8kBy"
      },
      "execution_count": null,
      "outputs": []
    },
    {
      "cell_type": "code",
      "source": [
        "np.shape(maggia_2024_shaped)"
      ],
      "metadata": {
        "id": "KBe8uYCx9pmZ"
      },
      "execution_count": null,
      "outputs": []
    },
    {
      "cell_type": "code",
      "source": [
        "np.shape(maggia_2024_shaped.tolist())"
      ],
      "metadata": {
        "id": "V9YvYRMr8wa9"
      },
      "execution_count": null,
      "outputs": []
    },
    {
      "cell_type": "code",
      "source": [
        "maggia_dates.shape"
      ],
      "metadata": {
        "id": "qi1U85AkaWot"
      },
      "execution_count": null,
      "outputs": []
    },
    {
      "cell_type": "markdown",
      "source": [
        "## CREATE DATAFRAME"
      ],
      "metadata": {
        "id": "j3SVOO_KlQBT"
      }
    },
    {
      "cell_type": "code",
      "execution_count": null,
      "metadata": {
        "id": "7Y1nE6eeYNcS"
      },
      "outputs": [],
      "source": [
        "import pandas as pd\n",
        "\n",
        "data = {\n",
        "    'DATETIME': maggia_dates,\n",
        "    'TECMAP': maggia_2024_shaped.tolist()\n",
        "}\n",
        "\n",
        "df_mapas_maggia_2024 = pd.DataFrame(data)\n",
        "\n",
        "df_mapas_maggia_2024"
      ]
    },
    {
      "cell_type": "code",
      "source": [
        "np.array(df_mapas_maggia_2024.iloc[0]['TECMAP'])"
      ],
      "metadata": {
        "id": "bh0q1Zl191Sf"
      },
      "execution_count": null,
      "outputs": []
    },
    {
      "cell_type": "code",
      "source": [
        "np.array(df_mapas_maggia_2024.iloc[0]['TECMAP']).shape"
      ],
      "metadata": {
        "id": "r6bZ82Cc_yL1"
      },
      "execution_count": null,
      "outputs": []
    },
    {
      "cell_type": "code",
      "source": [
        "df_mapas_maggia_2024.to_pickle(\"./df_mapas_maggia_sept_05_2024_beyond.pkl\")"
      ],
      "metadata": {
        "id": "T-0eCWxpANVg"
      },
      "execution_count": null,
      "outputs": []
    },
    {
      "cell_type": "code",
      "source": [
        "mapas_maggia_2024 = np.array(df_mapas_maggia_2024.iloc[:]['TECMAP'])"
      ],
      "metadata": {
        "id": "B5AVirlss4KE"
      },
      "execution_count": null,
      "outputs": []
    },
    {
      "cell_type": "code",
      "source": [
        "np.shape(df_mapas_maggia_2024)"
      ],
      "metadata": {
        "id": "eITYuIPvs4KE"
      },
      "execution_count": null,
      "outputs": []
    },
    {
      "cell_type": "code",
      "source": [
        "np_mapas_maggia_2024 = []\n",
        "for i in range(len(mapas_maggia_2024)):\n",
        "    np_mapas_maggia_2024.append(mapas_maggia_2024[i])\n",
        "np_mapas_maggia_2024 = np.array(np_mapas_maggia_2024)"
      ],
      "metadata": {
        "id": "0hWhY3H3s4KF"
      },
      "execution_count": null,
      "outputs": []
    },
    {
      "cell_type": "code",
      "source": [
        "np.shape(np_mapas_maggia_2024)"
      ],
      "metadata": {
        "id": "2PKHDX-ks4KG"
      },
      "execution_count": null,
      "outputs": []
    },
    {
      "cell_type": "code",
      "source": [
        "type(np_mapas_maggia_2024)"
      ],
      "metadata": {
        "id": "kyWg7EYMs4KG"
      },
      "execution_count": null,
      "outputs": []
    },
    {
      "cell_type": "code",
      "source": [
        "np.save('mapas_maggia_sept_05_2024_beyond.npy', np_mapas_maggia_2024)"
      ],
      "metadata": {
        "id": "bgeCgCbFs4KH"
      },
      "execution_count": null,
      "outputs": []
    },
    {
      "cell_type": "code",
      "source": [
        "from google.colab import drive\n",
        "drive.mount('/content/drive')"
      ],
      "metadata": {
        "id": "L-3RQlh4MVjE"
      },
      "execution_count": null,
      "outputs": []
    },
    {
      "cell_type": "code",
      "source": [
        "!ls -lh mapas*"
      ],
      "metadata": {
        "id": "N8Vp77jaI8aq"
      },
      "execution_count": null,
      "outputs": []
    },
    {
      "cell_type": "code",
      "source": [
        "!ls -lh df_mapas*"
      ],
      "metadata": {
        "id": "gjXdfOH9KDd9"
      },
      "execution_count": null,
      "outputs": []
    },
    {
      "cell_type": "code",
      "source": [
        "%cp /content/MAGGIA-SEPT-05-2024-TO-END-2024/df_mapas_maggia_sept_05_2024_beyond.pkl /content/drive/MyDrive/df_mapas_maggia_sept_05_2024_beyond.pkl"
      ],
      "metadata": {
        "id": "coJ_1-exMZWz"
      },
      "execution_count": null,
      "outputs": []
    },
    {
      "cell_type": "code",
      "source": [
        "%cp /content/MAGGIA-SEPT-05-2024-TO-END-2024/mapas_maggia_sept_05_2024_beyond.npy /content/drive/MyDrive/mapas_maggia_sept_05_2024_beyond.npy"
      ],
      "metadata": {
        "id": "NsTHCrYcMpCx"
      },
      "execution_count": null,
      "outputs": []
    }
  ],
  "metadata": {
    "accelerator": "TPU",
    "colab": {
      "gpuType": "V28",
      "provenance": [],
      "toc_visible": true,
      "include_colab_link": true
    },
    "kaggle": {
      "accelerator": "nvidiaTeslaT4",
      "dataSources": [],
      "dockerImageVersionId": 30918,
      "isGpuEnabled": true,
      "isInternetEnabled": true,
      "language": "python",
      "sourceType": "notebook"
    },
    "kernelspec": {
      "display_name": "Python 3",
      "name": "python3"
    },
    "language_info": {
      "codemirror_mode": {
        "name": "ipython",
        "version": 3
      },
      "file_extension": ".py",
      "mimetype": "text/x-python",
      "name": "python",
      "nbconvert_exporter": "python",
      "pygments_lexer": "ipython3",
      "version": "3.10.12"
    }
  },
  "nbformat": 4,
  "nbformat_minor": 0
}