{
  "cells": [
    {
      "cell_type": "markdown",
      "metadata": {
        "id": "view-in-github",
        "colab_type": "text"
      },
      "source": [
        "<a href=\"https://colab.research.google.com/github/marcocintra/Atmosphere/blob/master/MAGGIA_MAPS_2022_2024.ipynb\" target=\"_parent\"><img src=\"https://colab.research.google.com/assets/colab-badge.svg\" alt=\"Open In Colab\"/></a>"
      ]
    },
    {
      "cell_type": "markdown",
      "metadata": {
        "id": "tPYhxriRsr13"
      },
      "source": [
        "# ZIP FILES ADJUSTS"
      ]
    },
    {
      "cell_type": "code",
      "execution_count": null,
      "metadata": {
        "id": "39thpWGD-7dk"
      },
      "outputs": [],
      "source": [
        "# %pwd"
      ]
    },
    {
      "cell_type": "code",
      "execution_count": null,
      "metadata": {
        "id": "mKS0qJhFZ48M"
      },
      "outputs": [],
      "source": [
        "#2022-2024\n",
        "!curl 'https://my.microsoftpersonalcontent.com/personal/a149071e7d7aaa61/_layouts/15/download.aspx?UniqueId=1e5af62f-acd7-48dd-82c1-7e5a0aa496f6&Translate=false&tempauth=v1e.eyJzaXRlaWQiOiI3NzM0Y2NkNy1mMWE2LTQ0ZmItOWZmYy03MjIyYzI4NGE0ODEiLCJhcHBpZCI6IjAwMDAwMDAwLTAwMDAtMDAwMC0wMDAwLTAwMDA0ODE3MTBhNCIsImF1ZCI6IjAwMDAwMDAzLTAwMDAtMGZmMS1jZTAwLTAwMDAwMDAwMDAwMC9teS5taWNyb3NvZnRwZXJzb25hbGNvbnRlbnQuY29tQDkxODgwNDBkLTZjNjctNGM1Yi1iMTEyLTM2YTMwNGI2NmRhZCIsImV4cCI6IjE3NDUyODQ1MDYifQ.KP2hsGJrZZE5IG-22dt1H-x3cVHJiMgW5I4EN1aDghC9T3XiLHyvbmmmks4mKNDRXJvT6RwgzluaLTEKRE-r97NPbJdqxgfk68P4nO4TG6TXV4nZYrYj3SZuoxt6247uI_T-e5G1Mr7T82DE4qqq209mgy2odi5CPojLhCnMD1M-xyni05GHvFNOO5rsr2Wda1hKPGFnD4ytlEASoOWibjJrpYMI8DXSUi6XkBcy4yqcC4crONuefkhDR4f_s0cxcLpyjhI7he1cVrSJyciMtd0rcsvQB-SZgPiqALMb0oT2CCZ-8he5pcSVbjBnCXoc-7BKTWWnm-atP4JQ7hOkkCqMS7CfUNKmfpIUt-45_1qhpmzDCMgZ6j3Wc4haAB7nquhzKNbKD3U1aUB8kJZKVFetAkRCMjOK30uS8dlYMxI.qLLgx-mxj6bYeJ1wjQBPyqVD2wwU8FQPpr4TGbDdRx8&ApiVersion=2.0&AVOverride=1' \\\n",
        "  -H 'accept: text/html,application/xhtml+xml,application/xml;q=0.9,image/avif,image/webp,image/apng,*/*;q=0.8,application/signed-exchange;v=b3;q=0.7' \\\n",
        "  -H 'accept-language: pt-BR,pt;q=0.9,en-US;q=0.8,en;q=0.7' \\\n",
        "  -H 'priority: u=0, i' \\\n",
        "  -H 'referer: https://onedrive.live.com/' \\\n",
        "  -H 'sec-ch-ua: \"Google Chrome\";v=\"135\", \"Not-A.Brand\";v=\"8\", \"Chromium\";v=\"135\"' \\\n",
        "  -H 'sec-ch-ua-mobile: ?0' \\\n",
        "  -H 'sec-ch-ua-platform: \"Linux\"' \\\n",
        "  -H 'sec-fetch-dest: iframe' \\\n",
        "  -H 'sec-fetch-mode: navigate' \\\n",
        "  -H 'sec-fetch-site: cross-site' \\\n",
        "  -H 'sec-fetch-storage-access: none' \\\n",
        "  -H 'sec-fetch-user: ?1' \\\n",
        "  -H 'upgrade-insecure-requests: 1' \\\n",
        "  -H 'user-agent: Mozilla/5.0 (X11; Linux x86_64) AppleWebKit/537.36 (KHTML, like Gecko) Chrome/135.0.0.0 Safari/537.36' > 'MAGGIA-INTERSECTION-2022-2024.zip'"
      ]
    },
    {
      "cell_type": "code",
      "execution_count": null,
      "metadata": {
        "id": "ho9tLyt0agPO"
      },
      "outputs": [],
      "source": [
        "%pwd"
      ]
    },
    {
      "cell_type": "code",
      "execution_count": null,
      "metadata": {
        "id": "0hKf5wgbahVv",
        "scrolled": true
      },
      "outputs": [],
      "source": [
        "# !ls"
      ]
    },
    {
      "cell_type": "code",
      "execution_count": null,
      "metadata": {
        "id": "OtCHJHUkyxU9"
      },
      "outputs": [],
      "source": [
        "!unzip -q 'MAGGIA-INTERSECTION-2022-2024.zip'"
      ]
    },
    {
      "cell_type": "markdown",
      "source": [
        "# DATA FILES ADJUSTS"
      ],
      "metadata": {
        "id": "FK8EhrxObBy3"
      }
    },
    {
      "cell_type": "markdown",
      "metadata": {
        "id": "4FX_ey9qpFaj"
      },
      "source": [
        "## 2022"
      ]
    },
    {
      "cell_type": "code",
      "execution_count": null,
      "metadata": {
        "id": "2plXJ9Hi3jkx"
      },
      "outputs": [],
      "source": [
        "%cd MAGGIA-INTERSECTION-2022-2024"
      ]
    },
    {
      "cell_type": "code",
      "execution_count": null,
      "metadata": {
        "id": "e7i6IKdzA7W1"
      },
      "outputs": [],
      "source": [
        "%pwd"
      ]
    },
    {
      "cell_type": "code",
      "execution_count": null,
      "metadata": {
        "id": "fwuiikocQfsV"
      },
      "outputs": [],
      "source": [
        "%rm *.npy"
      ]
    },
    {
      "cell_type": "code",
      "execution_count": null,
      "metadata": {
        "id": "hzoEnqSUm3yb"
      },
      "outputs": [],
      "source": [
        "!ls"
      ]
    },
    {
      "cell_type": "code",
      "execution_count": null,
      "metadata": {
        "id": "pUnYH2gGYnEe"
      },
      "outputs": [],
      "source": [
        "import os\n",
        "import glob\n",
        "from collections import defaultdict\n",
        "\n",
        "base_path = './'\n",
        "\n",
        "file_pattern = os.path.join(base_path, '**', 'magn2022*.nc')\n",
        "file_list = sorted(glob.glob(file_pattern, recursive=True))\n",
        "\n",
        "file_count_by_day = defaultdict(int)\n",
        "\n",
        "for file_name in file_list:\n",
        "\n",
        "    day_dir = os.path.basename(os.path.dirname(file_name))\n",
        "    file_count_by_day[day_dir] += 1\n",
        "\n",
        "print(\"\\nDias com menos de 96 arquivos:\")\n",
        "\n",
        "for day, count in sorted(file_count_by_day.items()):\n",
        "    if count < 96:\n",
        "        print(f\"Dia {day}: {count} arquivos\")"
      ]
    },
    {
      "cell_type": "code",
      "execution_count": null,
      "metadata": {
        "id": "XK--dMkvZyce"
      },
      "outputs": [],
      "source": [
        "!pip install netCDF4"
      ]
    },
    {
      "cell_type": "code",
      "execution_count": null,
      "metadata": {
        "id": "_Q_xDyqJau5B"
      },
      "outputs": [],
      "source": [
        "!pip install xarray"
      ]
    },
    {
      "cell_type": "code",
      "execution_count": null,
      "metadata": {
        "id": "MeunBPP9q8Uw"
      },
      "outputs": [],
      "source": [
        "import numpy as np\n",
        "import xarray as xr\n",
        "import os\n",
        "import re\n",
        "import glob\n",
        "\n",
        "file_list = glob.glob(\"./magn2022*.nc\")\n",
        "\n",
        "file_list.sort()\n",
        "\n",
        "tec_by_doy = {}\n",
        "\n",
        "pattern = re.compile(r'magn2022(\\d{3})')\n",
        "\n",
        "for file_name in file_list:\n",
        "    try:\n",
        "\n",
        "        match = pattern.search(file_name)\n",
        "        if match:\n",
        "            doy = match.group(1)\n",
        "\n",
        "            print(f\"Processando o arquivo: {file_name}, DOY: {doy}\")\n",
        "\n",
        "            ds_disk = xr.open_dataset(file_name)\n",
        "            tec = ds_disk['z'][:, :].values\n",
        "\n",
        "            if doy not in tec_by_doy:\n",
        "                tec_by_doy[doy] = []\n",
        "\n",
        "            tec_by_doy[doy].append(tec)\n",
        "\n",
        "            ds_disk.close()\n",
        "\n",
        "    except Exception as e:\n",
        "        print(f\"Erro ao processar o arquivo {file_name}: {e}\")\n",
        "\n",
        "print(\"\\nSalvando arquivos NPY por dia...\")\n",
        "for doy, tec_list in tec_by_doy.items():\n",
        "\n",
        "    tec_array = np.array(tec_list)\n",
        "\n",
        "    output_file = f\"magn2022{doy}.npy\"\n",
        "    np.save(output_file, tec_array)\n",
        "\n",
        "    print(f\"Arquivo {output_file} salvo com sucesso! Shape: {tec_array.shape}\")\n",
        "\n",
        "print(\"\\nProcessamento concluído!\")"
      ]
    },
    {
      "cell_type": "code",
      "execution_count": null,
      "metadata": {
        "id": "jZPIJpMFsfNb"
      },
      "outputs": [],
      "source": [
        "# ls *.npy"
      ]
    },
    {
      "cell_type": "code",
      "execution_count": null,
      "metadata": {
        "id": "XV_Ke215srIN"
      },
      "outputs": [],
      "source": [
        "!ls -lR ./*.npy | wc -l"
      ]
    },
    {
      "cell_type": "code",
      "execution_count": null,
      "metadata": {
        "id": "750Cq7BNuIwJ"
      },
      "outputs": [],
      "source": [
        "import numpy as np\n",
        "import glob\n",
        "import re\n",
        "\n",
        "npy_files = glob.glob(\"magn2022*.npy\")\n",
        "\n",
        "def extract_doy(filename):\n",
        "    match = re.search(r'magn2022(\\d{3})\\.npy', filename)\n",
        "    if match:\n",
        "        return int(match.group(1))\n",
        "    return 0\n",
        "\n",
        "npy_files.sort(key=extract_doy)\n",
        "\n",
        "print(f\"Encontrados {len(npy_files)} arquivos NPY para processar.\")\n",
        "\n",
        "all_data = []\n",
        "\n",
        "for i, file in enumerate(npy_files):\n",
        "    doy = extract_doy(file)\n",
        "    print(f\"Processando {file} (DOY {doy}) - {i+1}/{len(npy_files)}\")\n",
        "\n",
        "    data = np.load(file)\n",
        "\n",
        "    all_data.append(data)\n",
        "\n",
        "    print(f\"  Shape: {data.shape}\")\n",
        "\n",
        "combined_data = np.concatenate(all_data, axis=0)\n",
        "\n",
        "print(f\"\\nDados combinados. Shape final: {combined_data.shape}\")\n",
        "\n",
        "output_file = \"MAGGIA-2022.npy\"\n",
        "np.save(output_file, combined_data)\n",
        "\n",
        "print(f\"\\nArquivo {output_file} salvo com sucesso!\")\n",
        "print(f\"Tamanho do arquivo: {combined_data.nbytes / (1024**2):.2f} MB\")"
      ]
    },
    {
      "cell_type": "markdown",
      "metadata": {
        "id": "asQ7O8K1o1N6"
      },
      "source": [
        "## 2023"
      ]
    },
    {
      "cell_type": "code",
      "execution_count": null,
      "metadata": {
        "id": "bWOJT2e4o1N7"
      },
      "outputs": [],
      "source": [
        "# %cd MAGGIA-INTERSECTION-2022-2024"
      ]
    },
    {
      "cell_type": "code",
      "execution_count": null,
      "metadata": {
        "id": "D0LwRI-to1N7"
      },
      "outputs": [],
      "source": [
        "%pwd"
      ]
    },
    {
      "cell_type": "code",
      "execution_count": null,
      "metadata": {
        "id": "1DTFHe1Ho1N8"
      },
      "outputs": [],
      "source": [
        "# %rm *.npy"
      ]
    },
    {
      "cell_type": "code",
      "execution_count": null,
      "metadata": {
        "id": "-2llk_vyo1N8"
      },
      "outputs": [],
      "source": [
        "# !ls"
      ]
    },
    {
      "cell_type": "code",
      "execution_count": null,
      "metadata": {
        "id": "apr18Q9mo1N9"
      },
      "outputs": [],
      "source": [
        "import os\n",
        "import glob\n",
        "from collections import defaultdict\n",
        "\n",
        "base_path = './'\n",
        "\n",
        "file_pattern = os.path.join(base_path, '**', 'magn2023*.nc')\n",
        "file_list = sorted(glob.glob(file_pattern, recursive=True))\n",
        "\n",
        "file_count_by_day = defaultdict(int)\n",
        "\n",
        "for file_name in file_list:\n",
        "\n",
        "    day_dir = os.path.basename(os.path.dirname(file_name))\n",
        "    file_count_by_day[day_dir] += 1\n",
        "\n",
        "print(\"\\nDias com menos de 96 arquivos:\")\n",
        "\n",
        "for day, count in sorted(file_count_by_day.items()):\n",
        "    if count < 96:\n",
        "        print(f\"Dia {day}: {count} arquivos\")"
      ]
    },
    {
      "cell_type": "code",
      "execution_count": null,
      "metadata": {
        "id": "ZHll8Hp8o1N-"
      },
      "outputs": [],
      "source": [
        "import numpy as np\n",
        "import xarray as xr\n",
        "import os\n",
        "import re\n",
        "import glob\n",
        "\n",
        "file_list = glob.glob(\"./magn2023*.nc\")\n",
        "\n",
        "file_list.sort()\n",
        "\n",
        "tec_by_doy = {}\n",
        "\n",
        "pattern = re.compile(r'magn2023(\\d{3})')\n",
        "\n",
        "for file_name in file_list:\n",
        "    try:\n",
        "\n",
        "        match = pattern.search(file_name)\n",
        "        if match:\n",
        "            doy = match.group(1)\n",
        "\n",
        "            print(f\"Processando o arquivo: {file_name}, DOY: {doy}\")\n",
        "\n",
        "            ds_disk = xr.open_dataset(file_name)\n",
        "            tec = ds_disk['z'][:, :].values\n",
        "\n",
        "            if doy not in tec_by_doy:\n",
        "                tec_by_doy[doy] = []\n",
        "\n",
        "            tec_by_doy[doy].append(tec)\n",
        "\n",
        "            ds_disk.close()\n",
        "\n",
        "    except Exception as e:\n",
        "        print(f\"Erro ao processar o arquivo {file_name}: {e}\")\n",
        "\n",
        "print(\"\\nSalvando arquivos NPY por dia...\")\n",
        "for doy, tec_list in tec_by_doy.items():\n",
        "\n",
        "    tec_array = np.array(tec_list)\n",
        "\n",
        "    output_file = f\"magn2023{doy}.npy\"\n",
        "    np.save(output_file, tec_array)\n",
        "\n",
        "    print(f\"Arquivo {output_file} salvo com sucesso! Shape: {tec_array.shape}\")\n",
        "\n",
        "print(\"\\nProcessamento concluído!\")"
      ]
    },
    {
      "cell_type": "code",
      "execution_count": null,
      "metadata": {
        "id": "h5tckM-zo1N-"
      },
      "outputs": [],
      "source": [
        "# ls *.npy"
      ]
    },
    {
      "cell_type": "code",
      "execution_count": null,
      "metadata": {
        "id": "gq9x2PrWo1N_"
      },
      "outputs": [],
      "source": [
        "!ls -lR ./*.npy | wc -l"
      ]
    },
    {
      "cell_type": "code",
      "execution_count": null,
      "metadata": {
        "id": "WZ5SWEito1N_"
      },
      "outputs": [],
      "source": [
        "import numpy as np\n",
        "import glob\n",
        "import re\n",
        "\n",
        "npy_files = glob.glob(\"magn2023*.npy\")\n",
        "\n",
        "def extract_doy(filename):\n",
        "    match = re.search(r'magn2023(\\d{3})\\.npy', filename)\n",
        "    if match:\n",
        "        return int(match.group(1))\n",
        "    return 0\n",
        "\n",
        "npy_files.sort(key=extract_doy)\n",
        "\n",
        "print(f\"Encontrados {len(npy_files)} arquivos NPY para processar.\")\n",
        "\n",
        "all_data = []\n",
        "\n",
        "for i, file in enumerate(npy_files):\n",
        "    doy = extract_doy(file)\n",
        "    print(f\"Processando {file} (DOY {doy}) - {i+1}/{len(npy_files)}\")\n",
        "\n",
        "    data = np.load(file)\n",
        "\n",
        "    all_data.append(data)\n",
        "\n",
        "    print(f\"  Shape: {data.shape}\")\n",
        "\n",
        "combined_data = np.concatenate(all_data, axis=0)\n",
        "\n",
        "print(f\"\\nDados combinados. Shape final: {combined_data.shape}\")\n",
        "\n",
        "output_file = \"MAGGIA-2023.npy\"\n",
        "np.save(output_file, combined_data)\n",
        "\n",
        "print(f\"\\nArquivo {output_file} salvo com sucesso!\")\n",
        "print(f\"Tamanho do arquivo: {combined_data.nbytes / (1024**2):.2f} MB\")"
      ]
    },
    {
      "cell_type": "markdown",
      "metadata": {
        "id": "3AK5NrQPo3u-"
      },
      "source": [
        "## 2024"
      ]
    },
    {
      "cell_type": "code",
      "execution_count": null,
      "metadata": {
        "id": "sgXBoa_Vo3u_"
      },
      "outputs": [],
      "source": [
        "# %cd MAGGIA-INTERSECTION-2022-2024"
      ]
    },
    {
      "cell_type": "code",
      "execution_count": null,
      "metadata": {
        "id": "3cVVSv_Go3u_"
      },
      "outputs": [],
      "source": [
        "%pwd"
      ]
    },
    {
      "cell_type": "code",
      "execution_count": null,
      "metadata": {
        "id": "NQKss7lio3u_"
      },
      "outputs": [],
      "source": [
        "# %rm *.npy"
      ]
    },
    {
      "cell_type": "code",
      "execution_count": null,
      "metadata": {
        "id": "c13X4YgWo3u_"
      },
      "outputs": [],
      "source": [
        "# !ls"
      ]
    },
    {
      "cell_type": "code",
      "execution_count": null,
      "metadata": {
        "id": "o5Dh0z_Jo3vA"
      },
      "outputs": [],
      "source": [
        "import os\n",
        "import glob\n",
        "from collections import defaultdict\n",
        "\n",
        "base_path = './'\n",
        "\n",
        "file_pattern = os.path.join(base_path, '**', 'magn2024*.nc')\n",
        "file_list = sorted(glob.glob(file_pattern, recursive=True))\n",
        "\n",
        "file_count_by_day = defaultdict(int)\n",
        "\n",
        "for file_name in file_list:\n",
        "\n",
        "    day_dir = os.path.basename(os.path.dirname(file_name))\n",
        "    file_count_by_day[day_dir] += 1\n",
        "\n",
        "print(\"\\nDias com menos de 96 arquivos:\")\n",
        "\n",
        "for day, count in sorted(file_count_by_day.items()):\n",
        "    if count < 96:\n",
        "        print(f\"Dia {day}: {count} arquivos\")"
      ]
    },
    {
      "cell_type": "code",
      "execution_count": null,
      "metadata": {
        "id": "xPzZlKQuo3vA"
      },
      "outputs": [],
      "source": [
        "import numpy as np\n",
        "import xarray as xr\n",
        "import os\n",
        "import re\n",
        "import glob\n",
        "\n",
        "file_list = glob.glob(\"./magn2024*.nc\")\n",
        "\n",
        "file_list.sort()\n",
        "\n",
        "tec_by_doy = {}\n",
        "\n",
        "pattern = re.compile(r'magn2024(\\d{3})')\n",
        "\n",
        "for file_name in file_list:\n",
        "    try:\n",
        "\n",
        "        match = pattern.search(file_name)\n",
        "        if match:\n",
        "            doy = match.group(1)\n",
        "\n",
        "            print(f\"Processando o arquivo: {file_name}, DOY: {doy}\")\n",
        "\n",
        "            ds_disk = xr.open_dataset(file_name)\n",
        "            tec = ds_disk['z'][:, :].values\n",
        "\n",
        "            if doy not in tec_by_doy:\n",
        "                tec_by_doy[doy] = []\n",
        "\n",
        "            tec_by_doy[doy].append(tec)\n",
        "\n",
        "            ds_disk.close()\n",
        "\n",
        "    except Exception as e:\n",
        "        print(f\"Erro ao processar o arquivo {file_name}: {e}\")\n",
        "\n",
        "print(\"\\nSalvando arquivos NPY por dia...\")\n",
        "for doy, tec_list in tec_by_doy.items():\n",
        "\n",
        "    tec_array = np.array(tec_list)\n",
        "\n",
        "    output_file = f\"magn2024{doy}.npy\"\n",
        "    np.save(output_file, tec_array)\n",
        "\n",
        "    print(f\"Arquivo {output_file} salvo com sucesso! Shape: {tec_array.shape}\")\n",
        "\n",
        "print(\"\\nProcessamento concluído!\")"
      ]
    },
    {
      "cell_type": "code",
      "execution_count": null,
      "metadata": {
        "id": "3P6FGlSyo3vA"
      },
      "outputs": [],
      "source": [
        "# ls *.npy"
      ]
    },
    {
      "cell_type": "code",
      "execution_count": null,
      "metadata": {
        "id": "MZfsJON-o3vB"
      },
      "outputs": [],
      "source": [
        "# !ls -lR ./*.npy | wc -l"
      ]
    },
    {
      "cell_type": "code",
      "execution_count": null,
      "metadata": {
        "id": "E9b3K2gPo3vB"
      },
      "outputs": [],
      "source": [
        "import numpy as np\n",
        "import glob\n",
        "import re\n",
        "\n",
        "npy_files = glob.glob(\"magn2024*.npy\")\n",
        "\n",
        "def extract_doy(filename):\n",
        "    match = re.search(r'magn2024(\\d{3})\\.npy', filename)\n",
        "    if match:\n",
        "        return int(match.group(1))\n",
        "    return 0\n",
        "\n",
        "npy_files.sort(key=extract_doy)\n",
        "\n",
        "print(f\"Encontrados {len(npy_files)} arquivos NPY para processar.\")\n",
        "\n",
        "all_data = []\n",
        "\n",
        "for i, file in enumerate(npy_files):\n",
        "    doy = extract_doy(file)\n",
        "    print(f\"Processando {file} (DOY {doy}) - {i+1}/{len(npy_files)}\")\n",
        "\n",
        "    data = np.load(file)\n",
        "\n",
        "    all_data.append(data)\n",
        "\n",
        "    print(f\"  Shape: {data.shape}\")\n",
        "\n",
        "combined_data = np.concatenate(all_data, axis=0)\n",
        "\n",
        "print(f\"\\nDados combinados. Shape final: {combined_data.shape}\")\n",
        "\n",
        "output_file = \"MAGGIA-2024.npy\"\n",
        "np.save(output_file, combined_data)\n",
        "\n",
        "print(f\"\\nArquivo {output_file} salvo com sucesso!\")\n",
        "print(f\"Tamanho do arquivo: {combined_data.nbytes / (1024**2):.2f} MB\")"
      ]
    },
    {
      "cell_type": "markdown",
      "metadata": {
        "id": "qR0dqOizU5Jz"
      },
      "source": [
        "# 5D ARRAY - MERGE 2022-2024 DATA"
      ]
    },
    {
      "cell_type": "code",
      "execution_count": null,
      "metadata": {
        "id": "KXRGuIJ35w5U"
      },
      "outputs": [],
      "source": [
        "%cd './'"
      ]
    },
    {
      "cell_type": "code",
      "execution_count": null,
      "metadata": {
        "id": "ALgD2Ib_QUnT"
      },
      "outputs": [],
      "source": [
        "import numpy as np"
      ]
    },
    {
      "cell_type": "code",
      "execution_count": null,
      "metadata": {
        "id": "SKv1S92qQYo-"
      },
      "outputs": [],
      "source": [
        "# %cd /content/MAGGIA-INTERSECTION-2022-2024"
      ]
    },
    {
      "cell_type": "code",
      "execution_count": null,
      "metadata": {
        "id": "CxS5izOmQzcv"
      },
      "outputs": [],
      "source": [
        "# !ls *.npy"
      ]
    },
    {
      "cell_type": "code",
      "execution_count": null,
      "metadata": {
        "id": "h8OD9qy5YS7-"
      },
      "outputs": [],
      "source": [
        "%pwd"
      ]
    },
    {
      "cell_type": "code",
      "execution_count": null,
      "metadata": {
        "id": "tGOoeUboYS7-"
      },
      "outputs": [],
      "source": [
        "!ls"
      ]
    },
    {
      "cell_type": "code",
      "execution_count": null,
      "metadata": {
        "id": "GmPRLZd3YS7_"
      },
      "outputs": [],
      "source": [
        "%pwd"
      ]
    },
    {
      "cell_type": "code",
      "execution_count": null,
      "metadata": {
        "id": "7N0MYUToYS7_"
      },
      "outputs": [],
      "source": [
        "!ls *.npy"
      ]
    },
    {
      "cell_type": "code",
      "execution_count": null,
      "metadata": {
        "id": "X02gUiKK5w5U"
      },
      "outputs": [],
      "source": [
        "maggia_2022 = np.load('MAGGIA-2022.npy')\n",
        "print(np.shape(maggia_2022))\n",
        "print(type(maggia_2022))\n",
        "print(type(maggia_2022[0]))\n",
        "print(type(maggia_2022[0][0]))\n",
        "print(type(maggia_2022[0][0][0]))"
      ]
    },
    {
      "cell_type": "code",
      "execution_count": null,
      "metadata": {
        "id": "ZKWK3fq4fqPL"
      },
      "outputs": [],
      "source": [
        "for i in range(len(maggia_2022)):\n",
        "    print(np.shape(maggia_2022[i]))"
      ]
    },
    {
      "cell_type": "code",
      "execution_count": null,
      "metadata": {
        "id": "M5oNTZAHfqPL"
      },
      "outputs": [],
      "source": [
        "np.shape(maggia_2022)"
      ]
    },
    {
      "cell_type": "code",
      "execution_count": null,
      "metadata": {
        "id": "6I0w0aUAfqPM"
      },
      "outputs": [],
      "source": [
        "has_nan = np.any(np.isnan(maggia_2022))\n",
        "print(has_nan)\n",
        "\n",
        "count_nan = np.sum(np.isnan(maggia_2022))\n",
        "print(count_nan)"
      ]
    },
    {
      "cell_type": "code",
      "execution_count": null,
      "metadata": {
        "id": "mum15F9wfqPN"
      },
      "outputs": [],
      "source": [
        "maggia_2022.shape"
      ]
    },
    {
      "cell_type": "code",
      "execution_count": null,
      "metadata": {
        "id": "4FmkQIgOfqPN"
      },
      "outputs": [],
      "source": [
        "np.set_printoptions(threshold=np.inf)"
      ]
    },
    {
      "cell_type": "code",
      "execution_count": null,
      "metadata": {
        "id": "szgM6NJrfqPN"
      },
      "outputs": [],
      "source": [
        "print(maggia_2022[0][0])"
      ]
    },
    {
      "cell_type": "code",
      "execution_count": null,
      "metadata": {
        "id": "HDxeGdHOfqPN"
      },
      "outputs": [],
      "source": [
        "print(maggia_2022[0][-1])"
      ]
    },
    {
      "cell_type": "code",
      "execution_count": null,
      "metadata": {
        "id": "LbUTjE8nkKQQ"
      },
      "outputs": [],
      "source": [
        "# del maggia_2022"
      ]
    },
    {
      "cell_type": "code",
      "execution_count": null,
      "metadata": {
        "id": "R6pj1H0_MFoi"
      },
      "outputs": [],
      "source": [
        "maggia_2023 = np.load('MAGGIA-2023.npy')\n",
        "print(np.shape(maggia_2023))\n",
        "print(type(maggia_2023))\n",
        "print(type(maggia_2023[0]))\n",
        "print(type(maggia_2023[0][0]))\n",
        "print(type(maggia_2023[0][0][0]))"
      ]
    },
    {
      "cell_type": "code",
      "execution_count": null,
      "metadata": {
        "id": "DVffr2vngNu6"
      },
      "outputs": [],
      "source": [
        "for i in range(len(maggia_2023)):\n",
        "    print(np.shape(maggia_2023[i]))"
      ]
    },
    {
      "cell_type": "code",
      "execution_count": null,
      "metadata": {
        "id": "oXdmQBalgNu6"
      },
      "outputs": [],
      "source": [
        "np.shape(maggia_2023)"
      ]
    },
    {
      "cell_type": "code",
      "execution_count": null,
      "metadata": {
        "id": "pDmbZ6rigNu6"
      },
      "outputs": [],
      "source": [
        "has_nan = np.any(np.isnan(maggia_2023))\n",
        "print(has_nan)\n",
        "\n",
        "count_nan = np.sum(np.isnan(maggia_2023))\n",
        "print(count_nan)"
      ]
    },
    {
      "cell_type": "code",
      "execution_count": null,
      "metadata": {
        "id": "KzILdwnpgNu7"
      },
      "outputs": [],
      "source": [
        "maggia_2023.shape"
      ]
    },
    {
      "cell_type": "code",
      "execution_count": null,
      "metadata": {
        "id": "0lNz-8F0gNu7"
      },
      "outputs": [],
      "source": [
        "np.set_printoptions(threshold=np.inf)"
      ]
    },
    {
      "cell_type": "code",
      "execution_count": null,
      "metadata": {
        "id": "I7jVB4S9gNu7"
      },
      "outputs": [],
      "source": [
        "print(maggia_2023[0][0])"
      ]
    },
    {
      "cell_type": "code",
      "execution_count": null,
      "metadata": {
        "id": "-Mwpw0lPgNu7"
      },
      "outputs": [],
      "source": [
        "print(maggia_2023[0][-1])"
      ]
    },
    {
      "cell_type": "code",
      "execution_count": null,
      "metadata": {
        "id": "ykuIXzwdkTuO"
      },
      "outputs": [],
      "source": [
        "# del maggia_2023"
      ]
    },
    {
      "cell_type": "code",
      "execution_count": null,
      "metadata": {
        "id": "hsjJg_0SMHJf"
      },
      "outputs": [],
      "source": [
        "maggia_2024 = np.load('MAGGIA-2024.npy')\n",
        "print(np.shape(maggia_2024))\n",
        "print(type(maggia_2024))\n",
        "print(type(maggia_2024[0]))\n",
        "print(type(maggia_2024[0][0]))\n",
        "print(type(maggia_2024[0][0][0]))"
      ]
    },
    {
      "cell_type": "code",
      "execution_count": null,
      "metadata": {
        "id": "Q5JrcrQNgVfY"
      },
      "outputs": [],
      "source": [
        "for i in range(len(maggia_2024)):\n",
        "    print(np.shape(maggia_2024[i]))"
      ]
    },
    {
      "cell_type": "code",
      "execution_count": null,
      "metadata": {
        "id": "aRaytyYKgVfZ"
      },
      "outputs": [],
      "source": [
        "np.shape(maggia_2024)"
      ]
    },
    {
      "cell_type": "code",
      "execution_count": null,
      "metadata": {
        "id": "8PleC_HEgVfZ"
      },
      "outputs": [],
      "source": [
        "has_nan = np.any(np.isnan(maggia_2024))\n",
        "print(has_nan)\n",
        "\n",
        "count_nan = np.sum(np.isnan(maggia_2024))\n",
        "print(count_nan)"
      ]
    },
    {
      "cell_type": "code",
      "execution_count": null,
      "metadata": {
        "id": "758_m8o-gVfa"
      },
      "outputs": [],
      "source": [
        "maggia_2024.shape"
      ]
    },
    {
      "cell_type": "code",
      "execution_count": null,
      "metadata": {
        "id": "okYM755VgVfa"
      },
      "outputs": [],
      "source": [
        "np.set_printoptions(threshold=np.inf)"
      ]
    },
    {
      "cell_type": "code",
      "execution_count": null,
      "metadata": {
        "id": "MmLcVQgZgVfa"
      },
      "outputs": [],
      "source": [
        "print(maggia_2024[0][0])"
      ]
    },
    {
      "cell_type": "code",
      "execution_count": null,
      "metadata": {
        "id": "xmFTBj58gVfa"
      },
      "outputs": [],
      "source": [
        "print(maggia_2024[0][-1])"
      ]
    },
    {
      "cell_type": "code",
      "execution_count": null,
      "metadata": {
        "id": "i31T_Nvjkspy"
      },
      "outputs": [],
      "source": [
        "# del maggia_2024"
      ]
    },
    {
      "cell_type": "code",
      "execution_count": null,
      "metadata": {
        "id": "o8FPFsEFowWU"
      },
      "outputs": [],
      "source": [
        "maggia_2022_2024 = np.concatenate([maggia_2022, maggia_2023, maggia_2024], axis=0)\n",
        "print(maggia_2022_2024.shape)"
      ]
    },
    {
      "cell_type": "code",
      "execution_count": null,
      "metadata": {
        "id": "qElFTYDOOIdz"
      },
      "outputs": [],
      "source": [
        "print(type(maggia_2022_2024))\n",
        "print(type(maggia_2022_2024[0]))\n",
        "print(type(maggia_2022_2024[0][0]))\n",
        "print(type(maggia_2022_2024[0][0][0]))\n",
        "# print(type(maggia_2022_2024[0][0][0][0]))"
      ]
    },
    {
      "cell_type": "code",
      "execution_count": null,
      "metadata": {
        "id": "ChF4XV8_wOLI"
      },
      "outputs": [],
      "source": [
        "for i in range(len(maggia_2022_2024)):\n",
        "    print(np.shape(maggia_2022_2024[i]))"
      ]
    },
    {
      "cell_type": "code",
      "execution_count": null,
      "metadata": {
        "id": "VSX1tZOiPdEt"
      },
      "outputs": [],
      "source": [
        "np.shape(maggia_2022_2024)"
      ]
    },
    {
      "cell_type": "code",
      "execution_count": null,
      "metadata": {
        "id": "HDur6qb5E5ep"
      },
      "outputs": [],
      "source": [
        "has_nan = np.any(np.isnan(maggia_2022_2024))\n",
        "print(has_nan)\n",
        "\n",
        "count_nan = np.sum(np.isnan(maggia_2022_2024))\n",
        "print(count_nan)"
      ]
    },
    {
      "cell_type": "code",
      "execution_count": null,
      "metadata": {
        "id": "_GAnxKgPxjnj"
      },
      "outputs": [],
      "source": [
        "np.save('maggia_2022_2024.npy', maggia_2022_2024)"
      ]
    },
    {
      "cell_type": "code",
      "execution_count": null,
      "metadata": {
        "id": "h-wcGNRrIMJe"
      },
      "outputs": [],
      "source": [
        "np.set_printoptions(threshold=np.inf)"
      ]
    },
    {
      "cell_type": "code",
      "execution_count": null,
      "metadata": {
        "id": "IG7mgNtiIACM"
      },
      "outputs": [],
      "source": [
        "print(maggia_2022_2024[0][0])"
      ]
    },
    {
      "cell_type": "code",
      "execution_count": null,
      "metadata": {
        "id": "EqXUki5TI3gL"
      },
      "outputs": [],
      "source": [
        "print(maggia_2022_2024[0][-1])"
      ]
    },
    {
      "cell_type": "markdown",
      "metadata": {
        "id": "Yi4SpFp_TAEN"
      },
      "source": [
        "# DATES ADJUSTS"
      ]
    },
    {
      "cell_type": "code",
      "execution_count": null,
      "metadata": {
        "id": "n2uekCcKMgIz"
      },
      "outputs": [],
      "source": [
        "import numpy as np\n",
        "from datetime import datetime, timedelta\n",
        "\n",
        "def doy_to_date(year, doy):\n",
        "\n",
        "    return datetime(year, 1, 1) + timedelta(days=doy - 1)\n",
        "\n",
        "doys = {\n",
        "    2022: {\n",
        "        3: [60, 61, 62, 63, 64, 65, 66, 67, 69, 70,\n",
        "            71, 73, 74, 75, 76, 77, 78, 79, 80, 81,\n",
        "            82, 83, 84, 85, 86, 90],\n",
        "        6: [152, 153, 154, 156, 157, 158, 159, 160,\n",
        "            161, 162, 163, 164, 165, 166, 167, 168,\n",
        "            169, 170, 171, 172, 173, 174, 176, 178,\n",
        "            181],\n",
        "        9: [245, 246, 247, 248, 249, 250, 251, 252,\n",
        "            253, 254, 255, 256, 258, 260, 261, 262,\n",
        "            264, 265, 266, 267, 268, 269, 270, 271,\n",
        "            272, 273],\n",
        "        12: [338, 339, 340, 348, 349, 350, 351, 352,\n",
        "             353, 354, 356, 357, 358, 359, 360, 362,\n",
        "             363, 364, 365]\n",
        "    },\n",
        "    2023: {\n",
        "        3: [61, 62, 63, 64, 65, 66, 67, 68, 69, 70,\n",
        "            71, 72, 74, 75, 76, 77, 78, 79, 80, 81,\n",
        "            82, 83, 84, 85, 86, 87, 88, 89, 90],\n",
        "        6: [157, 158, 159, 160, 161, 162, 163, 164, 165, 166,\n",
        "            167, 168, 169, 170, 171, 172, 173, 174, 175, 176,\n",
        "            177, 178, 179, 180, 181],\n",
        "        9: [244, 245, 246, 247, 249, 250, 262, 263, 264, 265,\n",
        "            266, 267, 268, 269, 270, 271, 272, 273],\n",
        "        12: [335, 337, 338, 339, 341, 342, 343, 344, 345,\n",
        "             346, 347, 348, 349, 350, 351, 352, 353, 355, 356,\n",
        "             357, 358, 359, 360, 361, 362, 363, 365]\n",
        "    },\n",
        "    2024: {\n",
        "        3: [61, 62, 63, 64, 65, 66, 67, 68, 69, 70,\n",
        "            71, 72, 73, 74, 75, 76, 77, 78, 79, 80,\n",
        "            81, 86, 87, 88, 89, 91],\n",
        "        6: [153, 154, 155, 156, 157, 158, 159, 160, 161, 162,\n",
        "            163, 164, 165, 166, 167, 168, 169, 170, 171, 173,\n",
        "            174, 175, 176, 177, 180, 181],\n",
        "        9: [247, 248, 249, 250, 251, 252, 253, 254, 255, 256,\n",
        "            257, 258, 261, 262, 263, 264, 265, 266, 267, 268,\n",
        "            269, 270, 271, 272, 274],\n",
        "        12: [336, 337, 338, 339, 340, 341, 342, 343, 344, 345,\n",
        "             346, 347, 349, 350, 351, 352, 353, 354, 355,\n",
        "             356, 357, 358, 359, 360, 361, 362, 363, 364, 365]\n",
        "    }\n",
        "}\n",
        "\n",
        "doy249_times = [\n",
        "    \"0000\", \"0010\", \"0015\", \"0020\", \"0030\", \"0040\", \"0045\", \"0050\",\n",
        "    \"0100\", \"0110\", \"0115\", \"0120\", \"0130\", \"0140\", \"0145\", \"0150\",\n",
        "    \"0200\", \"0210\", \"0215\", \"0220\", \"0230\", \"0240\", \"0245\", \"0250\",\n",
        "    \"0300\", \"0310\", \"0315\", \"0320\", \"0330\", \"0340\", \"0345\", \"0350\",\n",
        "    \"0400\", \"0410\", \"0415\", \"0420\", \"0430\", \"0440\", \"0445\", \"0450\",\n",
        "    \"0500\", \"0510\", \"0515\", \"0520\", \"0530\", \"0540\", \"0545\", \"0550\",\n",
        "    \"0600\", \"0610\", \"0615\", \"0620\", \"0630\", \"0640\", \"0645\", \"0650\",\n",
        "    \"0700\", \"0710\", \"0715\", \"0720\", \"0730\", \"0740\", \"0745\", \"0750\",\n",
        "    \"0800\", \"0810\", \"0815\", \"0820\", \"0830\", \"0840\", \"0845\", \"0850\",\n",
        "    \"0900\", \"0910\", \"0915\", \"0920\", \"0930\", \"0940\", \"0945\", \"0950\",\n",
        "    \"1000\", \"1010\", \"1015\", \"1020\", \"1030\", \"1040\", \"1045\", \"1050\",\n",
        "    \"1100\", \"1110\", \"1115\", \"1120\", \"1130\", \"1140\", \"1145\", \"1150\",\n",
        "    \"1200\", \"1210\", \"1215\", \"1220\", \"1230\", \"1240\", \"1245\", \"1250\",\n",
        "    \"1300\", \"1310\", \"1315\", \"1320\", \"1330\", \"1340\", \"1345\", \"1350\",\n",
        "    \"1400\", \"1410\", \"1415\", \"1420\", \"1430\", \"1440\", \"1445\", \"1450\",\n",
        "    \"1500\", \"1510\", \"1515\", \"1520\", \"1530\", \"1540\", \"1545\", \"1550\",\n",
        "    \"1600\", \"1610\", \"1615\", \"1620\", \"1630\", \"1640\", \"1645\", \"1650\",\n",
        "    \"1700\", \"1710\", \"1715\", \"1720\", \"1730\", \"1740\", \"1745\", \"1750\",\n",
        "    \"1800\", \"1810\", \"1815\", \"1820\", \"1830\", \"1840\", \"1845\", \"1850\",\n",
        "    \"1900\", \"1910\", \"1915\", \"1920\", \"1930\", \"1940\", \"1945\", \"1950\",\n",
        "    \"2000\", \"2010\", \"2015\", \"2020\", \"2030\", \"2040\", \"2045\", \"2050\",\n",
        "    \"2100\", \"2110\", \"2115\", \"2120\", \"2130\", \"2140\", \"2145\", \"2150\",\n",
        "    \"2200\", \"2210\", \"2215\", \"2220\", \"2230\", \"2240\", \"2245\", \"2250\",\n",
        "    \"2300\", \"2310\", \"2315\", \"2320\", \"2330\", \"2340\", \"2345\", \"2350\"\n",
        "]\n",
        "\n",
        "doy250_times = [\n",
        "    \"0000\", \"0010\", \"0015\", \"0020\", \"0030\", \"0040\", \"0045\", \"0050\",\n",
        "    \"0100\", \"0110\", \"0115\", \"0120\", \"0130\", \"0140\", \"0145\", \"0150\",\n",
        "    \"0200\", \"0210\", \"0215\", \"0220\", \"0230\", \"0240\", \"0245\", \"0250\",\n",
        "    \"0300\", \"0310\", \"0315\", \"0320\", \"0330\", \"0340\", \"0345\", \"0350\",\n",
        "    \"0400\", \"0410\", \"0415\", \"0420\", \"0430\", \"0440\", \"0445\", \"0450\",\n",
        "    \"0500\", \"0510\", \"0515\", \"0520\", \"0530\", \"0540\", \"0545\", \"0550\",\n",
        "    \"0600\", \"0610\", \"0615\", \"0620\", \"0630\", \"0640\", \"0645\", \"0650\",\n",
        "    \"0700\", \"0710\", \"0715\", \"0720\", \"0730\", \"0740\", \"0745\", \"0750\",\n",
        "    \"0800\", \"0810\", \"0815\", \"0820\", \"0830\", \"0840\", \"0845\", \"0850\",\n",
        "    \"0900\", \"0910\", \"0915\", \"0920\", \"0930\", \"0940\", \"0945\", \"0950\",\n",
        "    \"1000\", \"1010\", \"1015\", \"1020\", \"1030\", \"1040\", \"1045\", \"1050\",\n",
        "    \"1100\", \"1110\", \"1115\", \"1120\", \"1130\", \"1140\", \"1145\", \"1150\",\n",
        "    \"1200\", \"1210\", \"1220\", \"1230\", \"1240\", \"1250\", \"1300\", \"1310\",\n",
        "    \"1320\", \"1330\", \"1340\", \"1350\", \"1400\", \"1410\", \"1420\", \"1430\",\n",
        "    \"1440\", \"1450\", \"1500\", \"1510\", \"1520\", \"1530\", \"1540\", \"1550\",\n",
        "    \"1600\", \"1610\", \"1620\", \"1630\", \"1640\", \"1650\", \"1700\", \"1710\",\n",
        "    \"1720\", \"1730\", \"1740\", \"1750\", \"1800\", \"1810\", \"1820\", \"1830\",\n",
        "    \"1840\", \"1850\", \"1900\", \"1910\", \"1920\", \"1930\", \"1940\", \"1950\",\n",
        "    \"2000\", \"2010\", \"2020\", \"2030\", \"2040\", \"2050\", \"2100\", \"2110\",\n",
        "    \"2120\", \"2130\", \"2140\", \"2150\", \"2200\", \"2210\", \"2220\", \"2230\",\n",
        "    \"2240\", \"2250\", \"2300\", \"2310\", \"2320\", \"2330\", \"2340\", \"2350\"\n",
        "]\n",
        "\n",
        "datetime_list = []\n",
        "\n",
        "for year in doys.keys():\n",
        "    for month in doys[year].keys():\n",
        "        for doy in doys[year][month]:\n",
        "            base_date = doy_to_date(year, doy)\n",
        "\n",
        "            if year == 2024 and doy == 249:\n",
        "                for time_str in doy249_times:\n",
        "                    hours = int(time_str[:2])\n",
        "                    minutes = int(time_str[2:])\n",
        "                    dt = base_date + timedelta(hours=hours, minutes=minutes)\n",
        "                    datetime_list.append(dt)\n",
        "\n",
        "            elif year == 2024 and doy == 250:\n",
        "                for time_str in doy250_times:\n",
        "                    hours = int(time_str[:2])\n",
        "                    minutes = int(time_str[2:])\n",
        "                    dt = base_date + timedelta(hours=hours, minutes=minutes)\n",
        "                    datetime_list.append(dt)\n",
        "\n",
        "            elif year == 2024 and doy >= 251:\n",
        "                for minute in range(0, 24 * 60, 10):\n",
        "                    dt = base_date + timedelta(minutes=minute)\n",
        "                    datetime_list.append(dt)\n",
        "\n",
        "            else:\n",
        "                for minute in range(0, 24 * 60, 15):\n",
        "                    dt = base_date + timedelta(minutes=minute)\n",
        "                    datetime_list.append(dt)\n",
        "\n",
        "maggia_datetime_2022_2024 = np.array(datetime_list, dtype='datetime64[s]')\n",
        "\n",
        "print(f\"Total number of datetime points: {len(maggia_datetime_2022_2024)}\")\n",
        "print(f\"First datetime: {maggia_datetime_2022_2024[0]}\")\n",
        "print(f\"Last datetime: {maggia_datetime_2022_2024[-1]}\")\n",
        "\n",
        "np.save('maggia_datetime_2022_2024.npy', maggia_datetime_2022_2024)\n",
        "\n",
        "print(\"\\nSample of first 10 datetime entries:\")\n",
        "for dt in maggia_datetime_2022_2024[:10]:\n",
        "    print(dt)\n",
        "\n",
        "print(\"\\nSample of last 10 datetime entries:\")\n",
        "for dt in maggia_datetime_2022_2024[-10:]:\n",
        "    print(dt)"
      ]
    },
    {
      "cell_type": "code",
      "execution_count": null,
      "metadata": {
        "id": "TtaWVk_8QMBs"
      },
      "outputs": [],
      "source": [
        "maggia_dates = np.load('maggia_datetime_2022_2024.npy')"
      ]
    },
    {
      "cell_type": "code",
      "execution_count": null,
      "metadata": {
        "id": "2xCYLZ9aQk8w"
      },
      "outputs": [],
      "source": [
        "maggia_dates.shape"
      ]
    },
    {
      "cell_type": "code",
      "execution_count": null,
      "metadata": {
        "id": "trcddEnElgvt"
      },
      "outputs": [],
      "source": [
        "maggia_dates"
      ]
    },
    {
      "cell_type": "code",
      "execution_count": null,
      "metadata": {
        "id": "aVApy8x7ajp2"
      },
      "outputs": [],
      "source": [
        "maggia_2022_2024.shape"
      ]
    },
    {
      "cell_type": "code",
      "execution_count": null,
      "metadata": {
        "id": "5peLp8F8k8b5"
      },
      "outputs": [],
      "source": [
        "print(len(maggia_2022_2024.tolist()))\n",
        "print(len(maggia_2022_2024[0].tolist()))\n",
        "print(len(maggia_2022_2024[0][0].tolist()))\n",
        "# print(len(maggia_2022_2024[0][0][0].tolist()))"
      ]
    },
    {
      "cell_type": "code",
      "execution_count": null,
      "metadata": {
        "id": "aEXXmnBJm6AW"
      },
      "outputs": [],
      "source": [
        "maggia_2022.shape"
      ]
    },
    {
      "cell_type": "code",
      "execution_count": null,
      "metadata": {
        "id": "4--U0X3unoDj"
      },
      "outputs": [],
      "source": [
        "maggia_2022.shape"
      ]
    },
    {
      "cell_type": "code",
      "execution_count": null,
      "metadata": {
        "id": "US3xQLNm52vN"
      },
      "outputs": [],
      "source": [
        "maggia_2023.shape"
      ]
    },
    {
      "cell_type": "code",
      "execution_count": null,
      "metadata": {
        "id": "5SK2smyn6Cwa"
      },
      "outputs": [],
      "source": [
        "maggia_2024.shape"
      ]
    },
    {
      "cell_type": "code",
      "execution_count": null,
      "metadata": {
        "id": "1h_Nzxi6nL5Q"
      },
      "outputs": [],
      "source": [
        "maggia_dates_2022 = np.array([d for d in maggia_dates if d.astype(object).year == 2022])"
      ]
    },
    {
      "cell_type": "code",
      "execution_count": null,
      "metadata": {
        "id": "T3fqfcECnZcp"
      },
      "outputs": [],
      "source": [
        "len(maggia_dates_2022)"
      ]
    },
    {
      "cell_type": "code",
      "execution_count": null,
      "metadata": {
        "id": "rFPRN3O16KE7"
      },
      "outputs": [],
      "source": [
        "maggia_dates_2023 = np.array([d for d in maggia_dates if d.astype(object).year == 2023])"
      ]
    },
    {
      "cell_type": "code",
      "execution_count": null,
      "metadata": {
        "id": "w1YPmp1V608W"
      },
      "outputs": [],
      "source": [
        "len(maggia_dates_2023)"
      ]
    },
    {
      "cell_type": "code",
      "execution_count": null,
      "metadata": {
        "id": "GjMyF_yt66hz"
      },
      "outputs": [],
      "source": [
        "maggia_dates_2024 = np.array([d for d in maggia_dates if d.astype(object).year == 2024])"
      ]
    },
    {
      "cell_type": "code",
      "execution_count": null,
      "metadata": {
        "id": "sq_xN3RV68JS"
      },
      "outputs": [],
      "source": [
        "len(maggia_dates_2024)"
      ]
    },
    {
      "cell_type": "code",
      "execution_count": null,
      "metadata": {
        "id": "6A50R38CmQ0Z"
      },
      "outputs": [],
      "source": [
        "maggia_dates[0:12]"
      ]
    },
    {
      "cell_type": "code",
      "execution_count": null,
      "metadata": {
        "id": "FE6iX6cvmXSK"
      },
      "outputs": [],
      "source": [
        "len(maggia_dates[0:12])"
      ]
    },
    {
      "cell_type": "code",
      "execution_count": null,
      "metadata": {
        "id": "lykciIvkmVgS"
      },
      "outputs": [],
      "source": [
        "len(maggia_2022_2024[0:12])"
      ]
    },
    {
      "cell_type": "code",
      "source": [
        "maggia_2022_2024_shaped = np.reshape(maggia_2022_2024, (-1, 241, 221))"
      ],
      "metadata": {
        "id": "Dl7mXCGg8kBy"
      },
      "execution_count": null,
      "outputs": []
    },
    {
      "cell_type": "code",
      "source": [
        "np.shape(maggia_2022_2024_shaped)"
      ],
      "metadata": {
        "id": "KBe8uYCx9pmZ"
      },
      "execution_count": null,
      "outputs": []
    },
    {
      "cell_type": "code",
      "source": [
        "np.shape(maggia_2022_2024_shaped.tolist())"
      ],
      "metadata": {
        "id": "V9YvYRMr8wa9"
      },
      "execution_count": null,
      "outputs": []
    },
    {
      "cell_type": "code",
      "source": [
        "maggia_dates.shape"
      ],
      "metadata": {
        "id": "qi1U85AkaWot"
      },
      "execution_count": null,
      "outputs": []
    },
    {
      "cell_type": "markdown",
      "source": [
        "## CREATE DATAFRAME"
      ],
      "metadata": {
        "id": "j3SVOO_KlQBT"
      }
    },
    {
      "cell_type": "code",
      "execution_count": null,
      "metadata": {
        "id": "7Y1nE6eeYNcS"
      },
      "outputs": [],
      "source": [
        "import pandas as pd\n",
        "\n",
        "data = {\n",
        "    'DATETIME': maggia_dates,\n",
        "    'TECMAP': maggia_2022_2024_shaped.tolist()\n",
        "}\n",
        "\n",
        "df_mapas_maggia_2022_2024 = pd.DataFrame(data)\n",
        "\n",
        "df_mapas_maggia_2022_2024"
      ]
    },
    {
      "cell_type": "code",
      "source": [
        "df_mapas_maggia_2022_2024['DATETIME'] = pd.to_datetime(df_mapas_maggia_2022_2024['DATETIME'])\n",
        "\n",
        "df_mapas_maggia_2022_2024.set_index('DATETIME', inplace=True)\n",
        "\n",
        "df_mapas_maggia_2022_2024 = df_mapas_maggia_2022_2024[(df_mapas_maggia_2022_2024.index.minute == 0) & (df_mapas_maggia_2022_2024.index.hour % 2 == 0)]\n",
        "\n",
        "df1 = df_mapas_maggia_2022_2024[\n",
        "    ((df_mapas_maggia_2022_2024.index.year == 2022) & (df_mapas_maggia_2022_2024.index.month.isin([3, 6, 9]))) |\n",
        "    ((df_mapas_maggia_2022_2024.index.year == 2024) & (df_mapas_maggia_2022_2024.index.month.isin([3, 6, 9, 12])))\n",
        "]\n",
        "\n",
        "df2 = df_mapas_maggia_2022_2024[\n",
        "    ((df_mapas_maggia_2022_2024.index.year == 2022) & (df_mapas_maggia_2022_2024.index.month == 12)) |\n",
        "    ((df_mapas_maggia_2022_2024.index.year == 2023) & (df_mapas_maggia_2022_2024.index.month.isin([3, 6, 9, 12])))\n",
        "]\n",
        "\n",
        "print(\"DataFrame 1:\")\n",
        "print(df1)\n",
        "print(\"\\nDataFrame 2:\")\n",
        "print(df2)"
      ],
      "metadata": {
        "id": "19q8QsnxVWf0"
      },
      "execution_count": null,
      "outputs": []
    },
    {
      "cell_type": "code",
      "source": [
        "np.array(df_mapas_maggia_2022_2024.iloc[0]['TECMAP'])"
      ],
      "metadata": {
        "id": "bh0q1Zl191Sf"
      },
      "execution_count": null,
      "outputs": []
    },
    {
      "cell_type": "code",
      "source": [
        "np.array(df_mapas_maggia_2022_2024.iloc[0]['TECMAP']).shape"
      ],
      "metadata": {
        "id": "r6bZ82Cc_yL1"
      },
      "execution_count": null,
      "outputs": []
    },
    {
      "cell_type": "code",
      "source": [
        "df_mapas_maggia_2022_2024.to_pickle(\"./df_mapas_maggia_2022_2024.pkl\")"
      ],
      "metadata": {
        "id": "T-0eCWxpANVg"
      },
      "execution_count": null,
      "outputs": []
    },
    {
      "cell_type": "code",
      "source": [
        "mapas = np.array(df_mapas_maggia_2022_2024.iloc[:]['TECMAP'])"
      ],
      "metadata": {
        "id": "B5AVirlss4KE"
      },
      "execution_count": null,
      "outputs": []
    },
    {
      "cell_type": "code",
      "source": [
        "np.shape(df_mapas_maggia_2022_2024)"
      ],
      "metadata": {
        "id": "eITYuIPvs4KE"
      },
      "execution_count": null,
      "outputs": []
    },
    {
      "cell_type": "code",
      "source": [
        "np_mapas = []\n",
        "for i in range(len(mapas)):\n",
        "    np_mapas.append(mapas[i])\n",
        "np_mapas = np.array(np_mapas)"
      ],
      "metadata": {
        "id": "0hWhY3H3s4KF"
      },
      "execution_count": null,
      "outputs": []
    },
    {
      "cell_type": "code",
      "source": [
        "np.shape(np_mapas)"
      ],
      "metadata": {
        "id": "2PKHDX-ks4KG"
      },
      "execution_count": null,
      "outputs": []
    },
    {
      "cell_type": "code",
      "source": [
        "type(np_mapas)"
      ],
      "metadata": {
        "id": "kyWg7EYMs4KG"
      },
      "execution_count": null,
      "outputs": []
    },
    {
      "cell_type": "code",
      "source": [
        "np.save('mapas_maggia_2022_2024.npy', np_mapas)"
      ],
      "metadata": {
        "id": "bgeCgCbFs4KH"
      },
      "execution_count": null,
      "outputs": []
    },
    {
      "cell_type": "code",
      "source": [
        "df_mapas_maggia_2022_2024_0800 = df_mapas_maggia_2022_2024.between_time('08:00', '08:00')\n",
        "\n",
        "df_mapas_maggia_2022_2024_1600 = df_mapas_maggia_2022_2024.between_time('16:00', '16:00')\n",
        "\n",
        "df_mapas_maggia_2022_2024_2000_2200_0000_0200_0400 = pd.concat([\n",
        "    df_mapas_maggia_2022_2024.between_time('20:00', '20:00'),\n",
        "    df_mapas_maggia_2022_2024.between_time('22:00', '22:00'),\n",
        "    df_mapas_maggia_2022_2024.between_time('00:00', '00:00'),\n",
        "    df_mapas_maggia_2022_2024.between_time('02:00', '02:00'),\n",
        "    df_mapas_maggia_2022_2024.between_time('04:00', '04:00')\n",
        "])\n",
        "\n",
        "print(\"Dados das 08:00:\")\n",
        "print(df_mapas_maggia_2022_2024_0800)\n",
        "\n",
        "print(\"\\nDados das 16:00:\")\n",
        "print(df_mapas_maggia_2022_2024_1600)\n",
        "\n",
        "print(\"\\nDados das 20:00, 22:00, 00:00, 02:00 e 04:00:\")\n",
        "print(df_mapas_maggia_2022_2024_2000_2200_0000_0200_0400)"
      ],
      "metadata": {
        "id": "-JbqSOwWH5ET"
      },
      "execution_count": null,
      "outputs": []
    },
    {
      "cell_type": "code",
      "source": [
        "df_mapas_maggia_2022_2024_0800.to_pickle(\"./df_mapas_maggia_2022_2024_0800.pkl\")"
      ],
      "metadata": {
        "id": "zcUMhfReJWLN"
      },
      "execution_count": null,
      "outputs": []
    },
    {
      "cell_type": "code",
      "source": [
        "np.shape(np.array(df_mapas_maggia_2022_2024_0800.iloc[:]['TECMAP']))"
      ],
      "metadata": {
        "id": "PPkYbWolLaNO"
      },
      "execution_count": null,
      "outputs": []
    },
    {
      "cell_type": "code",
      "source": [
        "mapas_maggia_2022_2024_0800 = np.array(df_mapas_maggia_2022_2024_0800.iloc[:]['TECMAP'])"
      ],
      "metadata": {
        "id": "xWz9pbjPMEUi"
      },
      "execution_count": null,
      "outputs": []
    },
    {
      "cell_type": "code",
      "source": [
        "np.shape(mapas_maggia_2022_2024_0800)"
      ],
      "metadata": {
        "id": "xYmLGFKkMKgq"
      },
      "execution_count": null,
      "outputs": []
    },
    {
      "cell_type": "code",
      "source": [
        "np_mapas_maggia_2022_2024_0800 = []\n",
        "for i in range(len(mapas_maggia_2022_2024_0800)):\n",
        "    np_mapas_maggia_2022_2024_0800.append(mapas_maggia_2022_2024_0800[i])\n",
        "np_mapas_maggia_2022_2024_0800 = np.array(np_mapas_maggia_2022_2024_0800)"
      ],
      "metadata": {
        "id": "gIFefpAcMQHD"
      },
      "execution_count": null,
      "outputs": []
    },
    {
      "cell_type": "code",
      "source": [
        "np.shape(np_mapas_maggia_2022_2024_0800)"
      ],
      "metadata": {
        "id": "YHRlhZavMh0O"
      },
      "execution_count": null,
      "outputs": []
    },
    {
      "cell_type": "code",
      "source": [
        "type(np_mapas_maggia_2022_2024_0800)"
      ],
      "metadata": {
        "id": "fMpxyls9wmOY"
      },
      "execution_count": null,
      "outputs": []
    },
    {
      "cell_type": "code",
      "source": [
        "np.save('mapas_maggia_2022_2024_0800.npy', np_mapas_maggia_2022_2024_0800)"
      ],
      "metadata": {
        "id": "E-Vl9uhOzXy8"
      },
      "execution_count": null,
      "outputs": []
    },
    {
      "cell_type": "code",
      "source": [
        "df_mapas_maggia_2022_2024_1600.to_pickle(\"./df_mapas_maggia_2022_2024_1600.pkl\")"
      ],
      "metadata": {
        "id": "vuJs5B16Jxqg"
      },
      "execution_count": null,
      "outputs": []
    },
    {
      "cell_type": "code",
      "source": [
        "mapas_maggia_2022_2024_1600 = np.array(df_mapas_maggia_2022_2024_1600.iloc[:]['TECMAP'])"
      ],
      "metadata": {
        "id": "2AjcgSX1ueEH"
      },
      "execution_count": null,
      "outputs": []
    },
    {
      "cell_type": "code",
      "source": [
        "np.shape(mapas_maggia_2022_2024_1600)"
      ],
      "metadata": {
        "id": "ALA6WJMVuhx2"
      },
      "execution_count": null,
      "outputs": []
    },
    {
      "cell_type": "code",
      "source": [
        "np_mapas_maggia_2022_2024_1600 = []\n",
        "for i in range(len(mapas_maggia_2022_2024_1600)):\n",
        "    np_mapas_maggia_2022_2024_1600.append(mapas_maggia_2022_2024_1600[i])\n",
        "np_mapas_maggia_2022_2024_1600 = np.array(np_mapas_maggia_2022_2024_1600)"
      ],
      "metadata": {
        "id": "Jqj-6z_RtnO5"
      },
      "execution_count": null,
      "outputs": []
    },
    {
      "cell_type": "code",
      "source": [
        "np.shape(np_mapas_maggia_2022_2024_1600)"
      ],
      "metadata": {
        "id": "N97gzrUTuk9P"
      },
      "execution_count": null,
      "outputs": []
    },
    {
      "cell_type": "code",
      "source": [
        "type(np_mapas_maggia_2022_2024_1600)"
      ],
      "metadata": {
        "id": "8_yCZxUwv7AL"
      },
      "execution_count": null,
      "outputs": []
    },
    {
      "cell_type": "code",
      "source": [
        "np.save('mapas_maggia_2022_2024_1600.npy', np_mapas_maggia_2022_2024_1600)"
      ],
      "metadata": {
        "id": "Kx3dVexBzjO9"
      },
      "execution_count": null,
      "outputs": []
    },
    {
      "cell_type": "code",
      "source": [
        "df_mapas_maggia_2022_2024_2000_2200_0000_0200_0400.to_pickle(\"./df_mapas_maggia_2022_2024_2000_2200_0000_0200_0400.pkl\")"
      ],
      "metadata": {
        "id": "GyD5FfqlJ0Ph"
      },
      "execution_count": null,
      "outputs": []
    },
    {
      "cell_type": "code",
      "source": [
        "mapas_maggia_2022_2024_2000_2200_0000_0200_0400 = np.array(df_mapas_maggia_2022_2024_2000_2200_0000_0200_0400.iloc[:]['TECMAP'])"
      ],
      "metadata": {
        "id": "_rWDVwnYyymd"
      },
      "execution_count": null,
      "outputs": []
    },
    {
      "cell_type": "code",
      "source": [
        "np.shape(mapas_maggia_2022_2024_2000_2200_0000_0200_0400)"
      ],
      "metadata": {
        "id": "P7h6hhIyyyme"
      },
      "execution_count": null,
      "outputs": []
    },
    {
      "cell_type": "code",
      "source": [
        "np.shape(mapas_maggia_2022_2024_2000_2200_0000_0200_0400[0])"
      ],
      "metadata": {
        "id": "MAnKeGQlyyme"
      },
      "execution_count": null,
      "outputs": []
    },
    {
      "cell_type": "code",
      "source": [
        "np_mapas_maggia_2022_2024_2000_2200_0000_0200_0400 = []\n",
        "for i in range(len(mapas_maggia_2022_2024_2000_2200_0000_0200_0400)):\n",
        "    np_mapas_maggia_2022_2024_2000_2200_0000_0200_0400.append(mapas_maggia_2022_2024_2000_2200_0000_0200_0400[i])\n",
        "np_mapas_maggia_2022_2024_2000_2200_0000_0200_0400 = np.array(np_mapas_maggia_2022_2024_2000_2200_0000_0200_0400)"
      ],
      "metadata": {
        "id": "d5hFVcJZyyme"
      },
      "execution_count": null,
      "outputs": []
    },
    {
      "cell_type": "code",
      "source": [
        "np.shape(np_mapas_maggia_2022_2024_2000_2200_0000_0200_0400)"
      ],
      "metadata": {
        "id": "7rsk6szRyymf"
      },
      "execution_count": null,
      "outputs": []
    },
    {
      "cell_type": "code",
      "source": [
        "type(np_mapas_maggia_2022_2024_2000_2200_0000_0200_0400)"
      ],
      "metadata": {
        "id": "9iFsnjRlyymf"
      },
      "execution_count": null,
      "outputs": []
    },
    {
      "cell_type": "code",
      "source": [
        "np.save('mapas_maggia_2022_2024_2000_2200_0000_0200_0400.npy', np_mapas_maggia_2022_2024_2000_2200_0000_0200_0400)"
      ],
      "metadata": {
        "id": "rDFCOcYs0dt9"
      },
      "execution_count": null,
      "outputs": []
    },
    {
      "cell_type": "markdown",
      "source": [
        "# TF1 ADJUSTS"
      ],
      "metadata": {
        "id": "sQB1oVmdWEI_"
      }
    },
    {
      "cell_type": "markdown",
      "source": [
        "## CONTINUOUS"
      ],
      "metadata": {
        "id": "qt5j_IdWZcJw"
      }
    },
    {
      "cell_type": "code",
      "source": [
        "np.array(df1.iloc[0]['TECMAP'])"
      ],
      "metadata": {
        "id": "a9ZqCoA2WPh-"
      },
      "execution_count": null,
      "outputs": []
    },
    {
      "cell_type": "code",
      "source": [
        "np.array(df1.iloc[0]['TECMAP']).shape"
      ],
      "metadata": {
        "id": "THoU7IwtWPh_"
      },
      "execution_count": null,
      "outputs": []
    },
    {
      "cell_type": "code",
      "source": [
        "df1_0800 = df1.between_time('08:00', '08:00')\n",
        "\n",
        "df1_1600 = df1.between_time('16:00', '16:00')\n",
        "\n",
        "df1_2000_2200_0000_0200_0400 = pd.concat([\n",
        "    df1.between_time('20:00', '20:00'),\n",
        "    df1.between_time('22:00', '22:00'),\n",
        "    df1.between_time('00:00', '00:00'),\n",
        "    df1.between_time('02:00', '02:00'),\n",
        "    df1.between_time('04:00', '04:00')\n",
        "])\n",
        "\n",
        "df1_2000_2200_0000_0200_0400.sort_index(inplace=True)\n",
        "\n",
        "print(\"Dados das 08:00:\")\n",
        "print(df1_0800)\n",
        "\n",
        "print(\"\\nDados das 16:00:\")\n",
        "print(df1_1600)\n",
        "\n",
        "print(\"\\nDados das 20:00, 22:00, 00:00, 02:00 e 04:00:\")\n",
        "print(df1_2000_2200_0000_0200_0400)"
      ],
      "metadata": {
        "id": "pyGAMtstWPiA"
      },
      "execution_count": null,
      "outputs": []
    },
    {
      "cell_type": "code",
      "source": [
        "df1.to_pickle(\"./df1_mapas_maggia_2022_2024.pkl\")"
      ],
      "metadata": {
        "id": "F-yXD8rtm8gl"
      },
      "execution_count": null,
      "outputs": []
    },
    {
      "cell_type": "code",
      "source": [
        "np.shape(np.array(df1.iloc[:]['TECMAP']))"
      ],
      "metadata": {
        "id": "m9klXPFNnMV3"
      },
      "execution_count": null,
      "outputs": []
    },
    {
      "cell_type": "code",
      "source": [
        "mapas1 = np.array(df1.iloc[:]['TECMAP'])"
      ],
      "metadata": {
        "id": "9Skto206nDmc"
      },
      "execution_count": null,
      "outputs": []
    },
    {
      "cell_type": "code",
      "source": [
        "np.shape(df1)"
      ],
      "metadata": {
        "id": "KlUKR5V7nF8s"
      },
      "execution_count": null,
      "outputs": []
    },
    {
      "cell_type": "code",
      "source": [
        "np_mapas1 = []\n",
        "for i in range(len(mapas1)):\n",
        "    np_mapas1.append(mapas1[i])\n",
        "np_mapas1 = np.array(np_mapas1)"
      ],
      "metadata": {
        "id": "bCMDpAaxnQ49"
      },
      "execution_count": null,
      "outputs": []
    },
    {
      "cell_type": "code",
      "source": [
        "np.shape(np_mapas1)"
      ],
      "metadata": {
        "id": "cAbF4gmInXr2"
      },
      "execution_count": null,
      "outputs": []
    },
    {
      "cell_type": "code",
      "source": [
        "type(np_mapas1)"
      ],
      "metadata": {
        "id": "ln-ND4GZneQX"
      },
      "execution_count": null,
      "outputs": []
    },
    {
      "cell_type": "code",
      "source": [
        "np.save('mapas1_maggia_2022_2024.npy', np_mapas1)"
      ],
      "metadata": {
        "id": "L-UCbyHung5I"
      },
      "execution_count": null,
      "outputs": []
    },
    {
      "cell_type": "markdown",
      "source": [
        "## 08:00 UTC"
      ],
      "metadata": {
        "id": "V7eT0pGYZjG6"
      }
    },
    {
      "cell_type": "code",
      "source": [
        "df1_0800.to_pickle(\"./df1_mapas_maggia_2022_2024_0800.pkl\")"
      ],
      "metadata": {
        "id": "EhtXj6iEWPiA"
      },
      "execution_count": null,
      "outputs": []
    },
    {
      "cell_type": "code",
      "source": [
        "np.shape(np.array(df1_0800.iloc[:]['TECMAP']))"
      ],
      "metadata": {
        "id": "p-qeZa-KWPiA"
      },
      "execution_count": null,
      "outputs": []
    },
    {
      "cell_type": "code",
      "source": [
        "mapas1_0800 = np.array(df1_0800.iloc[:]['TECMAP'])"
      ],
      "metadata": {
        "id": "Yn-HX7eXWPiA"
      },
      "execution_count": null,
      "outputs": []
    },
    {
      "cell_type": "code",
      "source": [
        "np.shape(df1_0800)"
      ],
      "metadata": {
        "id": "nlVO8inwWPiA"
      },
      "execution_count": null,
      "outputs": []
    },
    {
      "cell_type": "code",
      "source": [
        "np_mapas1_0800 = []\n",
        "for i in range(len(mapas1_0800)):\n",
        "    np_mapas1_0800.append(mapas1_0800[i])\n",
        "np_mapas1_0800 = np.array(np_mapas1_0800)"
      ],
      "metadata": {
        "id": "acE7ik_DWPiB"
      },
      "execution_count": null,
      "outputs": []
    },
    {
      "cell_type": "code",
      "source": [
        "np.shape(np_mapas1_0800)"
      ],
      "metadata": {
        "id": "4VxT5wCWWPiB"
      },
      "execution_count": null,
      "outputs": []
    },
    {
      "cell_type": "code",
      "source": [
        "type(np_mapas1_0800)"
      ],
      "metadata": {
        "id": "ncknCwT8WPiB"
      },
      "execution_count": null,
      "outputs": []
    },
    {
      "cell_type": "code",
      "source": [
        "np.save('mapas1_maggia_2022_2024_0800.npy', np_mapas1_0800)"
      ],
      "metadata": {
        "id": "AvMDW2X1WPiB"
      },
      "execution_count": null,
      "outputs": []
    },
    {
      "cell_type": "markdown",
      "source": [
        "## 16:00 UTC"
      ],
      "metadata": {
        "id": "-JuTJecTirA2"
      }
    },
    {
      "cell_type": "code",
      "source": [
        "df1_1600.to_pickle(\"./df1_mapas_maggia_2022_2024_1600.pkl\")"
      ],
      "metadata": {
        "id": "mhEa-iuCWPiB"
      },
      "execution_count": null,
      "outputs": []
    },
    {
      "cell_type": "code",
      "source": [
        "mapas1_1600 = np.array(df1_1600.iloc[:]['TECMAP'])"
      ],
      "metadata": {
        "id": "mn8RmkwWWPiC"
      },
      "execution_count": null,
      "outputs": []
    },
    {
      "cell_type": "code",
      "source": [
        "np.shape(mapas1_1600)"
      ],
      "metadata": {
        "id": "MRTdplvbWPiC"
      },
      "execution_count": null,
      "outputs": []
    },
    {
      "cell_type": "code",
      "source": [
        "np_mapas1_1600 = []\n",
        "for i in range(len(mapas1_1600)):\n",
        "    np_mapas1_1600.append(mapas1_1600[i])\n",
        "np_mapas1_1600 = np.array(np_mapas1_1600)"
      ],
      "metadata": {
        "id": "47gYZPHzWPiC"
      },
      "execution_count": null,
      "outputs": []
    },
    {
      "cell_type": "code",
      "source": [
        "np.shape(np_mapas1_1600)"
      ],
      "metadata": {
        "id": "0BRr2lXnWPiC"
      },
      "execution_count": null,
      "outputs": []
    },
    {
      "cell_type": "code",
      "source": [
        "type(np_mapas1_1600)"
      ],
      "metadata": {
        "id": "u0BahecIWPiC"
      },
      "execution_count": null,
      "outputs": []
    },
    {
      "cell_type": "code",
      "source": [
        "np.save('mapas1_maggia_2022_2024_1600.npy', np_mapas1_1600)"
      ],
      "metadata": {
        "id": "KwnI0hfeWPiD"
      },
      "execution_count": null,
      "outputs": []
    },
    {
      "cell_type": "markdown",
      "source": [
        "## 20:00 TO 04:00 UTC"
      ],
      "metadata": {
        "id": "X4NvXOt8brUY"
      }
    },
    {
      "cell_type": "code",
      "source": [
        "df1_2000_2200_0000_0200_0400.to_pickle(\"./df1_mapas_maggia_2022_2024_2000_2200_0000_0200_0400.pkl\")"
      ],
      "metadata": {
        "id": "Edq3VhjpbrUZ"
      },
      "execution_count": null,
      "outputs": []
    },
    {
      "cell_type": "code",
      "source": [
        "mapas1_2000_2200_0000_0200_0400 = np.array(df1_2000_2200_0000_0200_0400.iloc[:]['TECMAP'])"
      ],
      "metadata": {
        "id": "aCFptx_YbrUZ"
      },
      "execution_count": null,
      "outputs": []
    },
    {
      "cell_type": "code",
      "source": [
        "np.shape(mapas1_2000_2200_0000_0200_0400)"
      ],
      "metadata": {
        "id": "iVpVqn6-brUZ"
      },
      "execution_count": null,
      "outputs": []
    },
    {
      "cell_type": "code",
      "source": [
        "np_mapas1_2000_2200_0000_0200_0400 = []\n",
        "for i in range(len(mapas1_2000_2200_0000_0200_0400)):\n",
        "    np_mapas1_2000_2200_0000_0200_0400.append(mapas1_2000_2200_0000_0200_0400[i])\n",
        "np_mapas1_2000_2200_0000_0200_0400 = np.array(np_mapas1_2000_2200_0000_0200_0400)"
      ],
      "metadata": {
        "id": "2HPq3MPdbrUZ"
      },
      "execution_count": null,
      "outputs": []
    },
    {
      "cell_type": "code",
      "source": [
        "np.shape(np_mapas1_2000_2200_0000_0200_0400)"
      ],
      "metadata": {
        "id": "lsgjYbQabrUa"
      },
      "execution_count": null,
      "outputs": []
    },
    {
      "cell_type": "code",
      "source": [
        "type(np_mapas1_2000_2200_0000_0200_0400)"
      ],
      "metadata": {
        "id": "zqd5kvv_brUa"
      },
      "execution_count": null,
      "outputs": []
    },
    {
      "cell_type": "code",
      "source": [
        "np.save('mapas1_maggia_2022_2024_2000_2200_0000_0200_0400.npy', np_mapas1_2000_2200_0000_0200_0400)"
      ],
      "metadata": {
        "id": "E9uzyImbbrUa"
      },
      "execution_count": null,
      "outputs": []
    },
    {
      "cell_type": "markdown",
      "source": [
        "# TF2 ADJUSTS"
      ],
      "metadata": {
        "id": "LbrpshL5lDbn"
      }
    },
    {
      "cell_type": "markdown",
      "source": [
        "## CONTINUOUS"
      ],
      "metadata": {
        "id": "VLsT56MslDbo"
      }
    },
    {
      "cell_type": "code",
      "source": [
        "np.array(df2.iloc[0]['TECMAP'])"
      ],
      "metadata": {
        "id": "VNUUZeMHlDbo"
      },
      "execution_count": null,
      "outputs": []
    },
    {
      "cell_type": "code",
      "source": [
        "np.array(df2.iloc[0]['TECMAP']).shape"
      ],
      "metadata": {
        "id": "oB_rlugUlDbp"
      },
      "execution_count": null,
      "outputs": []
    },
    {
      "cell_type": "code",
      "source": [
        "df2_0800 = df2.between_time('08:00', '08:00')\n",
        "\n",
        "df2_1600 = df2.between_time('16:00', '16:00')\n",
        "\n",
        "df2_2000_2200_0000_0200_0400 = pd.concat([\n",
        "    df2.between_time('20:00', '20:00'),\n",
        "    df2.between_time('22:00', '22:00'),\n",
        "    df2.between_time('00:00', '00:00'),\n",
        "    df2.between_time('02:00', '02:00'),\n",
        "    df2.between_time('04:00', '04:00')\n",
        "])\n",
        "\n",
        "df2_2000_2200_0000_0200_0400.sort_index(inplace=True)\n",
        "\n",
        "print(\"Dados das 08:00:\")\n",
        "print(df2_0800)\n",
        "\n",
        "print(\"\\nDados das 16:00:\")\n",
        "print(df2_1600)\n",
        "\n",
        "print(\"\\nDados das 20:00, 22:00, 00:00, 02:00 e 04:00:\")\n",
        "print(df2_2000_2200_0000_0200_0400)"
      ],
      "metadata": {
        "id": "UlqRklZslDbq"
      },
      "execution_count": null,
      "outputs": []
    },
    {
      "cell_type": "code",
      "source": [
        "df2.to_pickle(\"./df2_mapas_maggia_2022_2024.pkl\")"
      ],
      "metadata": {
        "id": "9dyo4XgRntLL"
      },
      "execution_count": null,
      "outputs": []
    },
    {
      "cell_type": "code",
      "source": [
        "np.shape(np.array(df2.iloc[:]['TECMAP']))"
      ],
      "metadata": {
        "id": "1mK0RSjzntLL"
      },
      "execution_count": null,
      "outputs": []
    },
    {
      "cell_type": "code",
      "source": [
        "mapas2 = np.array(df2.iloc[:]['TECMAP'])"
      ],
      "metadata": {
        "id": "LbPiZslAntLM"
      },
      "execution_count": null,
      "outputs": []
    },
    {
      "cell_type": "code",
      "source": [
        "np.shape(df2)"
      ],
      "metadata": {
        "id": "6DyycRVDntLM"
      },
      "execution_count": null,
      "outputs": []
    },
    {
      "cell_type": "code",
      "source": [
        "np_mapas2 = []\n",
        "for i in range(len(mapas2)):\n",
        "    np_mapas2.append(mapas2[i])\n",
        "np_mapas2 = np.array(np_mapas2)"
      ],
      "metadata": {
        "id": "aj86X0PnntLM"
      },
      "execution_count": null,
      "outputs": []
    },
    {
      "cell_type": "code",
      "source": [
        "np.shape(np_mapas2)"
      ],
      "metadata": {
        "id": "oMwmxF7FntLN"
      },
      "execution_count": null,
      "outputs": []
    },
    {
      "cell_type": "code",
      "source": [
        "type(np_mapas2)"
      ],
      "metadata": {
        "id": "X1_9OXRzntLN"
      },
      "execution_count": null,
      "outputs": []
    },
    {
      "cell_type": "code",
      "source": [
        "np.save('mapas2_maggia_2022_2024.npy', np_mapas2)"
      ],
      "metadata": {
        "id": "uAa17sKtntLO"
      },
      "execution_count": null,
      "outputs": []
    },
    {
      "cell_type": "markdown",
      "source": [
        "## 08:00 UTC"
      ],
      "metadata": {
        "id": "NdEcc-iNlDbq"
      }
    },
    {
      "cell_type": "code",
      "source": [
        "df2_0800.to_pickle(\"./df2_mapas_maggia_2022_2024_0800.pkl\")"
      ],
      "metadata": {
        "id": "kjWQr-BvlDbr"
      },
      "execution_count": null,
      "outputs": []
    },
    {
      "cell_type": "code",
      "source": [
        "np.shape(np.array(df2_0800.iloc[:]['TECMAP']))"
      ],
      "metadata": {
        "id": "9j0NAFqAlDbr"
      },
      "execution_count": null,
      "outputs": []
    },
    {
      "cell_type": "code",
      "source": [
        "mapas2_0800 = np.array(df2_0800.iloc[:]['TECMAP'])"
      ],
      "metadata": {
        "id": "fD2vD4K_lDbr"
      },
      "execution_count": null,
      "outputs": []
    },
    {
      "cell_type": "code",
      "source": [
        "np.shape(df2_0800)"
      ],
      "metadata": {
        "id": "gO5rYH5SlDbs"
      },
      "execution_count": null,
      "outputs": []
    },
    {
      "cell_type": "code",
      "source": [
        "np_mapas2_0800 = []\n",
        "for i in range(len(mapas2_0800)):\n",
        "    np_mapas2_0800.append(mapas2_0800[i])\n",
        "np_mapas2_0800 = np.array(np_mapas2_0800)"
      ],
      "metadata": {
        "id": "zfhY8d28lDbs"
      },
      "execution_count": null,
      "outputs": []
    },
    {
      "cell_type": "code",
      "source": [
        "np.shape(np_mapas2_0800)"
      ],
      "metadata": {
        "id": "g9y-ZSkSlDbs"
      },
      "execution_count": null,
      "outputs": []
    },
    {
      "cell_type": "code",
      "source": [
        "type(np_mapas2_0800)"
      ],
      "metadata": {
        "id": "zWYmKzDKlDbt"
      },
      "execution_count": null,
      "outputs": []
    },
    {
      "cell_type": "code",
      "source": [
        "np.save('mapas2_maggia_2022_2024_0800.npy', np_mapas2_0800)"
      ],
      "metadata": {
        "id": "ebswsqyBlDbt"
      },
      "execution_count": null,
      "outputs": []
    },
    {
      "cell_type": "markdown",
      "source": [
        "## 16:00 UTC"
      ],
      "metadata": {
        "id": "2raA08t5lDbu"
      }
    },
    {
      "cell_type": "code",
      "source": [
        "df2_1600.to_pickle(\"./df2_mapas_maggia_2022_2024_1600.pkl\")"
      ],
      "metadata": {
        "id": "LAjAKsi-lDbu"
      },
      "execution_count": null,
      "outputs": []
    },
    {
      "cell_type": "code",
      "source": [
        "mapas2_1600 = np.array(df2_1600.iloc[:]['TECMAP'])"
      ],
      "metadata": {
        "id": "Gh042tAzlDbv"
      },
      "execution_count": null,
      "outputs": []
    },
    {
      "cell_type": "code",
      "source": [
        "np.shape(mapas2_1600)"
      ],
      "metadata": {
        "id": "o1oAoUWilDbv"
      },
      "execution_count": null,
      "outputs": []
    },
    {
      "cell_type": "code",
      "source": [
        "np_mapas2_1600 = []\n",
        "for i in range(len(mapas2_1600)):\n",
        "    np_mapas2_1600.append(mapas2_1600[i])\n",
        "np_mapas2_1600 = np.array(np_mapas2_1600)"
      ],
      "metadata": {
        "id": "nqJUFs6LlDbv"
      },
      "execution_count": null,
      "outputs": []
    },
    {
      "cell_type": "code",
      "source": [
        "np.shape(np_mapas2_1600)"
      ],
      "metadata": {
        "id": "U18byVinlDbw"
      },
      "execution_count": null,
      "outputs": []
    },
    {
      "cell_type": "code",
      "source": [
        "type(np_mapas2_1600)"
      ],
      "metadata": {
        "id": "BjwdeoMYlDbw"
      },
      "execution_count": null,
      "outputs": []
    },
    {
      "cell_type": "code",
      "source": [
        "np.save('mapas2_maggia_2022_2024_1600.npy', np_mapas2_1600)"
      ],
      "metadata": {
        "id": "2947jOIklDbw"
      },
      "execution_count": null,
      "outputs": []
    },
    {
      "cell_type": "markdown",
      "source": [
        "## 20:00 TO 04:00 UTC"
      ],
      "metadata": {
        "id": "O8ccL_7VlDb0"
      }
    },
    {
      "cell_type": "code",
      "source": [
        "df2_2000_2200_0000_0200_0400.to_pickle(\"./df2_mapas_maggia_2022_2024_2000_2200_0000_0200_0400.pkl\")"
      ],
      "metadata": {
        "id": "--yw2BjIlDb0"
      },
      "execution_count": null,
      "outputs": []
    },
    {
      "cell_type": "code",
      "source": [
        "mapas2_2000_2200_0000_0200_0400 = np.array(df2_2000_2200_0000_0200_0400.iloc[:]['TECMAP'])"
      ],
      "metadata": {
        "id": "qFNdDjJ8lDb1"
      },
      "execution_count": null,
      "outputs": []
    },
    {
      "cell_type": "code",
      "source": [
        "np.shape(mapas2_2000_2200_0000_0200_0400)"
      ],
      "metadata": {
        "id": "2vvmRElslDb1"
      },
      "execution_count": null,
      "outputs": []
    },
    {
      "cell_type": "code",
      "source": [
        "np_mapas2_2000_2200_0000_0200_0400 = []\n",
        "for i in range(len(mapas2_2000_2200_0000_0200_0400)):\n",
        "    np_mapas2_2000_2200_0000_0200_0400.append(mapas2_2000_2200_0000_0200_0400[i])\n",
        "np_mapas2_2000_2200_0000_0200_0400 = np.array(np_mapas2_2000_2200_0000_0200_0400)"
      ],
      "metadata": {
        "id": "e_mZQg9dlDb2"
      },
      "execution_count": null,
      "outputs": []
    },
    {
      "cell_type": "code",
      "source": [
        "np.shape(np_mapas2_2000_2200_0000_0200_0400)"
      ],
      "metadata": {
        "id": "vV3PQ1O4lDb2"
      },
      "execution_count": null,
      "outputs": []
    },
    {
      "cell_type": "code",
      "source": [
        "type(np_mapas2_2000_2200_0000_0200_0400)"
      ],
      "metadata": {
        "id": "e_7yHoo4lDb2"
      },
      "execution_count": null,
      "outputs": []
    },
    {
      "cell_type": "code",
      "source": [
        "np.save('mapas2_maggia_2022_2024_2000_2200_0000_0200_0400.npy', np_mapas2_2000_2200_0000_0200_0400)"
      ],
      "metadata": {
        "id": "ICrJJEo6lDb3"
      },
      "execution_count": null,
      "outputs": []
    },
    {
      "cell_type": "markdown",
      "source": [
        "# CASE STUDY - 30-MINUTE TEMPORAL RESOLUTION - INTERSECTION BETWEEN NAGOYA, MAGGIA AND EMBRACE"
      ],
      "metadata": {
        "id": "DnO3lo9_C2go"
      }
    },
    {
      "cell_type": "markdown",
      "metadata": {
        "id": "woPiK5IuC2go"
      },
      "source": [
        "# ZIP FILES ADJUSTS"
      ]
    },
    {
      "cell_type": "code",
      "execution_count": null,
      "metadata": {
        "id": "JYJoZ3vqC2gp"
      },
      "outputs": [],
      "source": [
        "# %pwd"
      ]
    },
    {
      "cell_type": "code",
      "execution_count": null,
      "metadata": {
        "id": "FPXt2SajC2gp"
      },
      "outputs": [],
      "source": [
        "!curl 'https://my.microsoftpersonalcontent.com/personal/a149071e7d7aaa61/_layouts/15/download.aspx?UniqueId=1e5af62f-acd7-48dd-82c1-7e5a0aa496f6&Translate=false&tempauth=v1e.eyJzaXRlaWQiOiI3NzM0Y2NkNy1mMWE2LTQ0ZmItOWZmYy03MjIyYzI4NGE0ODEiLCJhcHBpZCI6IjAwMDAwMDAwLTAwMDAtMDAwMC0wMDAwLTAwMDA0ODE3MTBhNCIsImF1ZCI6IjAwMDAwMDAzLTAwMDAtMGZmMS1jZTAwLTAwMDAwMDAwMDAwMC9teS5taWNyb3NvZnRwZXJzb25hbGNvbnRlbnQuY29tQDkxODgwNDBkLTZjNjctNGM1Yi1iMTEyLTM2YTMwNGI2NmRhZCIsImV4cCI6IjE3NDQ1Nzg2NTUifQ.1pGkQfLVNOVounEsVmd_Os7TfrN01eFnqMN9rAgHylNAh_DgzMzRWCGPB45F5mCCtwot5EDzj37ha_5WnBTXSVBStcDmvC5BkiOkA6KdqqhpcNGNitxq57LOseyqj4NxbW8jLe34iPU_w2pCPTA7jvppd0LNUoACB6vUafUBUXQliuyanSBCkcWHEH1qjDyEWpitSJuCld_NE-12dlVwIl9daMStxsiefjlzvHGRFzdVDLFVJ_LpbUrICkIYQD8FzCtHbvcW9ZhrEr7L_OsDUqZdf94R_hBitPY6DL-9CLLBNLGUpWHwME3nrmlzWAfL6Sdl5oL1OUTbQ4buVLicPcVo3dMYSLx7Icybwd-UsZcqVdRS1HusYhCTLZgySEfV2kKxia3P-5ECcdxcxLjfzUtZsmAbvK3gfXrzB1fdkgY.RCCvw9n0wZNHBHZ2UWeV1bJr606XqaDve7wi4U9sW9Y&ApiVersion=2.0&AVOverride=1' \\\n",
        "  -H 'accept: text/html,application/xhtml+xml,application/xml;q=0.9,image/avif,image/webp,image/apng,*/*;q=0.8,application/signed-exchange;v=b3;q=0.7' \\\n",
        "  -H 'accept-language: pt-BR,pt;q=0.9,en-US;q=0.8,en;q=0.7' \\\n",
        "  -H 'priority: u=0, i' \\\n",
        "  -H 'referer: https://onedrive.live.com/' \\\n",
        "  -H 'sec-ch-ua: \"Google Chrome\";v=\"135\", \"Not-A.Brand\";v=\"8\", \"Chromium\";v=\"135\"' \\\n",
        "  -H 'sec-ch-ua-mobile: ?0' \\\n",
        "  -H 'sec-ch-ua-platform: \"Linux\"' \\\n",
        "  -H 'sec-fetch-dest: iframe' \\\n",
        "  -H 'sec-fetch-mode: navigate' \\\n",
        "  -H 'sec-fetch-site: cross-site' \\\n",
        "  -H 'sec-fetch-storage-access: none' \\\n",
        "  -H 'sec-fetch-user: ?1' \\\n",
        "  -H 'upgrade-insecure-requests: 1' \\\n",
        "  -H 'user-agent: Mozilla/5.0 (X11; Linux x86_64) AppleWebKit/537.36 (KHTML, like Gecko) Chrome/135.0.0.0 Safari/537.36' > 'MAGGIA-INTERSECTION-2022-2024.zip'"
      ]
    },
    {
      "cell_type": "code",
      "execution_count": null,
      "metadata": {
        "id": "xEhf6fjbC2gp"
      },
      "outputs": [],
      "source": [
        "%pwd"
      ]
    },
    {
      "cell_type": "code",
      "execution_count": null,
      "metadata": {
        "scrolled": true,
        "id": "op9g4RmJC2gq"
      },
      "outputs": [],
      "source": [
        "!ls"
      ]
    },
    {
      "cell_type": "code",
      "execution_count": null,
      "metadata": {
        "id": "xyFKRw0dC2gq"
      },
      "outputs": [],
      "source": [
        "!unzip -q 'MAGGIA-INTERSECTION-2022-2024.zip'"
      ]
    },
    {
      "cell_type": "markdown",
      "source": [
        "# DATA FILES ADJUSTS"
      ],
      "metadata": {
        "id": "mY186tD1IxdU"
      }
    },
    {
      "cell_type": "markdown",
      "metadata": {
        "id": "lwsJsMKaC2gq"
      },
      "source": [
        "## 2024"
      ]
    },
    {
      "cell_type": "code",
      "execution_count": null,
      "metadata": {
        "id": "SBuqi990C2gr"
      },
      "outputs": [],
      "source": [
        "!pip install netCDF4"
      ]
    },
    {
      "cell_type": "code",
      "execution_count": null,
      "metadata": {
        "id": "JWXSRGk4C2gr"
      },
      "outputs": [],
      "source": [
        "!pip install xarray"
      ]
    },
    {
      "cell_type": "code",
      "source": [
        "%cd '/content/MAGGIA-INTERSECTION-2022-2024'"
      ],
      "metadata": {
        "id": "MZke0ETeC2gr"
      },
      "execution_count": null,
      "outputs": []
    },
    {
      "cell_type": "code",
      "execution_count": null,
      "metadata": {
        "id": "6XP2MQFDC2gs"
      },
      "outputs": [],
      "source": [
        "!ls"
      ]
    },
    {
      "cell_type": "code",
      "execution_count": null,
      "metadata": {
        "id": "JSHdBc040X1z"
      },
      "outputs": [],
      "source": [
        "import os\n",
        "import glob\n",
        "from collections import defaultdict\n",
        "\n",
        "base_path = './'\n",
        "\n",
        "file_pattern = os.path.join(base_path, '**', 'magn2024*.nc')\n",
        "file_list = sorted(glob.glob(file_pattern, recursive=True))\n",
        "\n",
        "file_count_by_day = defaultdict(int)\n",
        "\n",
        "for file_name in file_list:\n",
        "\n",
        "    day_dir = os.path.basename(os.path.dirname(file_name))\n",
        "    file_count_by_day[day_dir] += 1\n",
        "\n",
        "# for day, count in sorted(file_count_by_day.items()):\n",
        "#     print(f\"Dia {day}: {count} arquivos\")\n",
        "\n",
        "print(\"\\nDias com menos de 96 arquivos:\")\n",
        "\n",
        "for day, count in sorted(file_count_by_day.items()):\n",
        "    if count < 96:\n",
        "        print(f\"Dia {day}: {count} arquivos\")"
      ]
    },
    {
      "cell_type": "code",
      "execution_count": null,
      "metadata": {
        "id": "_-id1r5s0X10"
      },
      "outputs": [],
      "source": [
        "import numpy as np\n",
        "import xarray as xr\n",
        "import os\n",
        "import re\n",
        "import glob\n",
        "\n",
        "file_list = glob.glob(\"./magn2024*.nc\")\n",
        "\n",
        "file_list.sort()\n",
        "\n",
        "tec_by_doy = {}\n",
        "\n",
        "pattern = re.compile(r'magn2024(\\d{3})')\n",
        "\n",
        "for file_name in file_list:\n",
        "    try:\n",
        "\n",
        "        match = pattern.search(file_name)\n",
        "        if match:\n",
        "            doy = match.group(1)\n",
        "\n",
        "            print(f\"Processando o arquivo: {file_name}, DOY: {doy}\")\n",
        "\n",
        "            ds_disk = xr.open_dataset(file_name)\n",
        "            tec = ds_disk['z'][:, :].values\n",
        "\n",
        "            if doy not in tec_by_doy:\n",
        "                tec_by_doy[doy] = []\n",
        "\n",
        "            tec_by_doy[doy].append(tec)\n",
        "\n",
        "            ds_disk.close()\n",
        "\n",
        "    except Exception as e:\n",
        "        print(f\"Erro ao processar o arquivo {file_name}: {e}\")\n",
        "\n",
        "print(\"\\nSalvando arquivos NPY por dia...\")\n",
        "for doy, tec_list in tec_by_doy.items():\n",
        "\n",
        "    tec_array = np.array(tec_list)\n",
        "\n",
        "    output_file = f\"magn2024{doy}.npy\"\n",
        "    np.save(output_file, tec_array)\n",
        "\n",
        "    print(f\"Arquivo {output_file} salvo com sucesso! Shape: {tec_array.shape}\")\n",
        "\n",
        "print(\"\\nProcessamento concluído!\")"
      ]
    },
    {
      "cell_type": "code",
      "execution_count": null,
      "metadata": {
        "id": "R9m49P2I0X11"
      },
      "outputs": [],
      "source": [
        "!ls -lR ./*.npy | wc -l"
      ]
    },
    {
      "cell_type": "code",
      "execution_count": null,
      "metadata": {
        "id": "vy0G-G6K0X12"
      },
      "outputs": [],
      "source": [
        "import numpy as np\n",
        "import glob\n",
        "import re\n",
        "\n",
        "npy_files = glob.glob(\"magn2024*.npy\")\n",
        "\n",
        "def extract_doy(filename):\n",
        "    match = re.search(r'magn2024(\\d{3})\\.npy', filename)\n",
        "    if match:\n",
        "        return int(match.group(1))\n",
        "    return 0\n",
        "\n",
        "npy_files.sort(key=extract_doy)\n",
        "\n",
        "print(f\"Encontrados {len(npy_files)} arquivos NPY para processar.\")\n",
        "\n",
        "all_data = []\n",
        "\n",
        "for i, file in enumerate(npy_files):\n",
        "    doy = extract_doy(file)\n",
        "    print(f\"Processando {file} (DOY {doy}) - {i+1}/{len(npy_files)}\")\n",
        "\n",
        "    data = np.load(file)\n",
        "\n",
        "    all_data.append(data)\n",
        "\n",
        "    print(f\"  Shape: {data.shape}\")\n",
        "\n",
        "combined_data = np.concatenate(all_data, axis=0)\n",
        "\n",
        "print(f\"\\nDados combinados. Shape final: {combined_data.shape}\")\n",
        "\n",
        "output_file = \"MAGGIA-2024.npy\"\n",
        "np.save(output_file, combined_data)\n",
        "\n",
        "print(f\"\\nArquivo {output_file} salvo com sucesso!\")\n",
        "print(f\"Tamanho do arquivo: {combined_data.nbytes / (1024**2):.2f} MB\")"
      ]
    },
    {
      "cell_type": "code",
      "execution_count": null,
      "metadata": {
        "id": "-tl2sqzX0X12"
      },
      "outputs": [],
      "source": [
        "import numpy as np\n",
        "from datetime import datetime, timedelta\n",
        "\n",
        "def doy_to_date(year, doy):\n",
        "\n",
        "    return datetime(year, 1, 1) + timedelta(days=doy - 1)\n",
        "\n",
        "doys = {\n",
        "\n",
        "    2024: {\n",
        "        3: [61, 62, 63, 64, 65, 66, 67, 68, 69, 70,\n",
        "            71, 72, 73, 74, 75, 76, 77, 78, 79, 80,\n",
        "            81, 86, 87, 88, 89, 91],\n",
        "        6: [153, 154, 155, 156, 157, 158, 159, 160, 161, 162,\n",
        "            163, 164, 165, 166, 167, 168, 169, 170, 171, 173,\n",
        "            174, 175, 176, 177, 180, 181],\n",
        "        9: [247, 248, 249, 250, 251, 252, 253, 254, 255, 256,\n",
        "            257, 258, 261, 262, 263, 264, 265, 266, 267, 268,\n",
        "            269, 270, 271, 272, 274],\n",
        "        12: [336, 337, 338, 339, 340, 341, 342, 343, 344, 345,\n",
        "             346, 347, 349, 350, 351, 352, 353, 354, 355,\n",
        "             356, 357, 358, 359, 360, 361, 362, 363, 364, 365]\n",
        "    }\n",
        "}\n",
        "\n",
        "doy249_times = [\n",
        "    \"0000\", \"0010\", \"0015\", \"0020\", \"0030\", \"0040\", \"0045\", \"0050\",\n",
        "    \"0100\", \"0110\", \"0115\", \"0120\", \"0130\", \"0140\", \"0145\", \"0150\",\n",
        "    \"0200\", \"0210\", \"0215\", \"0220\", \"0230\", \"0240\", \"0245\", \"0250\",\n",
        "    \"0300\", \"0310\", \"0315\", \"0320\", \"0330\", \"0340\", \"0345\", \"0350\",\n",
        "    \"0400\", \"0410\", \"0415\", \"0420\", \"0430\", \"0440\", \"0445\", \"0450\",\n",
        "    \"0500\", \"0510\", \"0515\", \"0520\", \"0530\", \"0540\", \"0545\", \"0550\",\n",
        "    \"0600\", \"0610\", \"0615\", \"0620\", \"0630\", \"0640\", \"0645\", \"0650\",\n",
        "    \"0700\", \"0710\", \"0715\", \"0720\", \"0730\", \"0740\", \"0745\", \"0750\",\n",
        "    \"0800\", \"0810\", \"0815\", \"0820\", \"0830\", \"0840\", \"0845\", \"0850\",\n",
        "    \"0900\", \"0910\", \"0915\", \"0920\", \"0930\", \"0940\", \"0945\", \"0950\",\n",
        "    \"1000\", \"1010\", \"1015\", \"1020\", \"1030\", \"1040\", \"1045\", \"1050\",\n",
        "    \"1100\", \"1110\", \"1115\", \"1120\", \"1130\", \"1140\", \"1145\", \"1150\",\n",
        "    \"1200\", \"1210\", \"1215\", \"1220\", \"1230\", \"1240\", \"1245\", \"1250\",\n",
        "    \"1300\", \"1310\", \"1315\", \"1320\", \"1330\", \"1340\", \"1345\", \"1350\",\n",
        "    \"1400\", \"1410\", \"1415\", \"1420\", \"1430\", \"1440\", \"1445\", \"1450\",\n",
        "    \"1500\", \"1510\", \"1515\", \"1520\", \"1530\", \"1540\", \"1545\", \"1550\",\n",
        "    \"1600\", \"1610\", \"1615\", \"1620\", \"1630\", \"1640\", \"1645\", \"1650\",\n",
        "    \"1700\", \"1710\", \"1715\", \"1720\", \"1730\", \"1740\", \"1745\", \"1750\",\n",
        "    \"1800\", \"1810\", \"1815\", \"1820\", \"1830\", \"1840\", \"1845\", \"1850\",\n",
        "    \"1900\", \"1910\", \"1915\", \"1920\", \"1930\", \"1940\", \"1945\", \"1950\",\n",
        "    \"2000\", \"2010\", \"2015\", \"2020\", \"2030\", \"2040\", \"2045\", \"2050\",\n",
        "    \"2100\", \"2110\", \"2115\", \"2120\", \"2130\", \"2140\", \"2145\", \"2150\",\n",
        "    \"2200\", \"2210\", \"2215\", \"2220\", \"2230\", \"2240\", \"2245\", \"2250\",\n",
        "    \"2300\", \"2310\", \"2315\", \"2320\", \"2330\", \"2340\", \"2345\", \"2350\"\n",
        "]\n",
        "\n",
        "doy250_times = [\n",
        "    \"0000\", \"0010\", \"0015\", \"0020\", \"0030\", \"0040\", \"0045\", \"0050\",\n",
        "    \"0100\", \"0110\", \"0115\", \"0120\", \"0130\", \"0140\", \"0145\", \"0150\",\n",
        "    \"0200\", \"0210\", \"0215\", \"0220\", \"0230\", \"0240\", \"0245\", \"0250\",\n",
        "    \"0300\", \"0310\", \"0315\", \"0320\", \"0330\", \"0340\", \"0345\", \"0350\",\n",
        "    \"0400\", \"0410\", \"0415\", \"0420\", \"0430\", \"0440\", \"0445\", \"0450\",\n",
        "    \"0500\", \"0510\", \"0515\", \"0520\", \"0530\", \"0540\", \"0545\", \"0550\",\n",
        "    \"0600\", \"0610\", \"0615\", \"0620\", \"0630\", \"0640\", \"0645\", \"0650\",\n",
        "    \"0700\", \"0710\", \"0715\", \"0720\", \"0730\", \"0740\", \"0745\", \"0750\",\n",
        "    \"0800\", \"0810\", \"0815\", \"0820\", \"0830\", \"0840\", \"0845\", \"0850\",\n",
        "    \"0900\", \"0910\", \"0915\", \"0920\", \"0930\", \"0940\", \"0945\", \"0950\",\n",
        "    \"1000\", \"1010\", \"1015\", \"1020\", \"1030\", \"1040\", \"1045\", \"1050\",\n",
        "    \"1100\", \"1110\", \"1115\", \"1120\", \"1130\", \"1140\", \"1145\", \"1150\",\n",
        "    \"1200\", \"1210\", \"1220\", \"1230\", \"1240\", \"1250\", \"1300\", \"1310\",\n",
        "    \"1320\", \"1330\", \"1340\", \"1350\", \"1400\", \"1410\", \"1420\", \"1430\",\n",
        "    \"1440\", \"1450\", \"1500\", \"1510\", \"1520\", \"1530\", \"1540\", \"1550\",\n",
        "    \"1600\", \"1610\", \"1620\", \"1630\", \"1640\", \"1650\", \"1700\", \"1710\",\n",
        "    \"1720\", \"1730\", \"1740\", \"1750\", \"1800\", \"1810\", \"1820\", \"1830\",\n",
        "    \"1840\", \"1850\", \"1900\", \"1910\", \"1920\", \"1930\", \"1940\", \"1950\",\n",
        "    \"2000\", \"2010\", \"2020\", \"2030\", \"2040\", \"2050\", \"2100\", \"2110\",\n",
        "    \"2120\", \"2130\", \"2140\", \"2150\", \"2200\", \"2210\", \"2220\", \"2230\",\n",
        "    \"2240\", \"2250\", \"2300\", \"2310\", \"2320\", \"2330\", \"2340\", \"2350\"\n",
        "]\n",
        "\n",
        "datetime_list = []\n",
        "\n",
        "for year in doys.keys():\n",
        "    for month in doys[year].keys():\n",
        "        for doy in doys[year][month]:\n",
        "            base_date = doy_to_date(year, doy)\n",
        "\n",
        "            if year == 2024 and doy == 249:\n",
        "                for time_str in doy249_times:\n",
        "                    hours = int(time_str[:2])\n",
        "                    minutes = int(time_str[2:])\n",
        "                    dt = base_date + timedelta(hours=hours, minutes=minutes)\n",
        "                    datetime_list.append(dt)\n",
        "\n",
        "            elif year == 2024 and doy == 250:\n",
        "                for time_str in doy250_times:\n",
        "                    hours = int(time_str[:2])\n",
        "                    minutes = int(time_str[2:])\n",
        "                    dt = base_date + timedelta(hours=hours, minutes=minutes)\n",
        "                    datetime_list.append(dt)\n",
        "\n",
        "            elif year == 2024 and doy >= 251:\n",
        "                for minute in range(0, 24 * 60, 10):\n",
        "                    dt = base_date + timedelta(minutes=minute)\n",
        "                    datetime_list.append(dt)\n",
        "\n",
        "            else:\n",
        "                for minute in range(0, 24 * 60, 15):\n",
        "                    dt = base_date + timedelta(minutes=minute)\n",
        "                    datetime_list.append(dt)\n",
        "\n",
        "maggia_datetime_2022_2024 = np.array(datetime_list, dtype='datetime64[s]')\n",
        "\n",
        "print(f\"Total number of datetime points: {len(maggia_datetime_2022_2024)}\")\n",
        "print(f\"First datetime: {maggia_datetime_2022_2024[0]}\")\n",
        "print(f\"Last datetime: {maggia_datetime_2022_2024[-1]}\")\n",
        "\n",
        "np.save('maggia_datetime_2024.npy', maggia_datetime_2022_2024)\n",
        "\n",
        "print(\"\\nSample of first 10 datetime entries:\")\n",
        "for dt in maggia_datetime_2022_2024[:10]:\n",
        "    print(dt)\n",
        "\n",
        "print(\"\\nSample of last 10 datetime entries:\")\n",
        "for dt in maggia_datetime_2022_2024[-10:]:\n",
        "    print(dt)"
      ]
    },
    {
      "cell_type": "code",
      "execution_count": null,
      "metadata": {
        "id": "F3_4MQ-IC2gw"
      },
      "outputs": [],
      "source": [
        "!ls -lh *.npy"
      ]
    },
    {
      "cell_type": "code",
      "source": [
        "%pwd"
      ],
      "metadata": {
        "id": "wW4iZQoXC2gx"
      },
      "execution_count": null,
      "outputs": []
    },
    {
      "cell_type": "code",
      "source": [
        "!ls *.npy"
      ],
      "metadata": {
        "id": "xPRtGoevC2gy"
      },
      "execution_count": null,
      "outputs": []
    },
    {
      "cell_type": "code",
      "source": [
        "%pwd"
      ],
      "metadata": {
        "id": "pXMGQ4IKO7Kp"
      },
      "execution_count": null,
      "outputs": []
    },
    {
      "cell_type": "code",
      "execution_count": null,
      "metadata": {
        "id": "PmKQ-EeRC2gy"
      },
      "outputs": [],
      "source": [
        "maggia_2024 = np.load('MAGGIA-2024.npy')\n",
        "print(np.shape(maggia_2024))\n",
        "print(type(maggia_2024))\n",
        "print(type(maggia_2024[0]))\n",
        "print(type(maggia_2024[0][0]))\n",
        "print(type(maggia_2024[0][0][0]))"
      ]
    },
    {
      "cell_type": "code",
      "execution_count": null,
      "metadata": {
        "id": "xtEc8F65C2gy"
      },
      "outputs": [],
      "source": [
        "for i in range(len(maggia_2024)):\n",
        "    print(np.shape(maggia_2024[i]))"
      ]
    },
    {
      "cell_type": "code",
      "execution_count": null,
      "metadata": {
        "id": "dF9x1fzqC2gz"
      },
      "outputs": [],
      "source": [
        "np.shape(maggia_2024)"
      ]
    },
    {
      "cell_type": "code",
      "execution_count": null,
      "metadata": {
        "id": "JurXGQBWC2gz"
      },
      "outputs": [],
      "source": [
        "has_nan = np.any(np.isnan(maggia_2024))\n",
        "print(has_nan)\n",
        "\n",
        "count_nan = np.sum(np.isnan(maggia_2024))\n",
        "print(count_nan)"
      ]
    },
    {
      "cell_type": "code",
      "execution_count": null,
      "metadata": {
        "id": "_ZPP0Cu9C2gz"
      },
      "outputs": [],
      "source": [
        "maggia_2024.shape"
      ]
    },
    {
      "cell_type": "code",
      "execution_count": null,
      "metadata": {
        "id": "yQRL5TBVC2g0"
      },
      "outputs": [],
      "source": [
        "np.set_printoptions(threshold=np.inf)"
      ]
    },
    {
      "cell_type": "code",
      "execution_count": null,
      "metadata": {
        "id": "iy0eTz9QC2g0"
      },
      "outputs": [],
      "source": [
        "print(maggia_2024[0][0])"
      ]
    },
    {
      "cell_type": "code",
      "execution_count": null,
      "metadata": {
        "id": "c6AvdI29C2g0"
      },
      "outputs": [],
      "source": [
        "print(maggia_2024[0][-1])"
      ]
    },
    {
      "cell_type": "code",
      "execution_count": null,
      "metadata": {
        "id": "XE7e9ufuC2g1"
      },
      "outputs": [],
      "source": [
        "maggia_2024_shaped = np.reshape(maggia_2024, (-1, 241, 221))"
      ]
    },
    {
      "cell_type": "code",
      "execution_count": null,
      "metadata": {
        "id": "bWpSWYvtC2g1"
      },
      "outputs": [],
      "source": [
        "np.shape(maggia_2024_shaped)"
      ]
    },
    {
      "cell_type": "code",
      "execution_count": null,
      "metadata": {
        "id": "0E_Q1xs8C2g1"
      },
      "outputs": [],
      "source": [
        "np.shape(maggia_2024_shaped.tolist())"
      ]
    },
    {
      "cell_type": "markdown",
      "metadata": {
        "id": "oRk6Lbv3C2g1"
      },
      "source": [
        "# DATES ADJUSTS"
      ]
    },
    {
      "cell_type": "markdown",
      "source": [
        "## CREATE DATAFRAME"
      ],
      "metadata": {
        "id": "ZrsYakU23uUU"
      }
    },
    {
      "cell_type": "code",
      "execution_count": null,
      "metadata": {
        "id": "PdZLQflo37Le"
      },
      "outputs": [],
      "source": [
        "maggia_dates = np.load('maggia_datetime_2024.npy')"
      ]
    },
    {
      "cell_type": "code",
      "source": [
        "maggia_dates"
      ],
      "metadata": {
        "id": "0UMsM2Hv3-lE"
      },
      "execution_count": null,
      "outputs": []
    },
    {
      "cell_type": "code",
      "source": [
        "len(maggia_dates)"
      ],
      "metadata": {
        "id": "oO6M5PBT4Amj"
      },
      "execution_count": null,
      "outputs": []
    },
    {
      "cell_type": "code",
      "execution_count": null,
      "metadata": {
        "id": "6wW7dlu23uUU"
      },
      "outputs": [],
      "source": [
        "import pandas as pd\n",
        "\n",
        "data = {\n",
        "    'DATETIME': maggia_dates,\n",
        "    'TECMAP': maggia_2024_shaped.tolist()\n",
        "}\n",
        "\n",
        "df_mapas_maggia_2024 = pd.DataFrame(data)\n",
        "\n",
        "df_mapas_maggia_2024"
      ]
    },
    {
      "cell_type": "code",
      "source": [
        "df_mapas_maggia_2024['DATETIME'] = pd.to_datetime(df_mapas_maggia_2024['DATETIME'])\n",
        "\n",
        "df_mapas_maggia_2024.set_index('DATETIME', inplace=True)\n",
        "\n",
        "df_mapas_maggia_2024 = df_mapas_maggia_2024[(df_mapas_maggia_2024.index.minute == 0) | (df_mapas_maggia_2024.index.minute == 30)]\n",
        "\n",
        "df3 = df_mapas_maggia_2024[\n",
        "    ((df_mapas_maggia_2024.index.year == 2024) & (df_mapas_maggia_2024.index.month.isin([3, 6, 9, 12])))\n",
        "]\n",
        "\n",
        "print(\"DataFrame 3:\")\n",
        "print(df3)"
      ],
      "metadata": {
        "id": "lDFFB_sk3uUV"
      },
      "execution_count": null,
      "outputs": []
    },
    {
      "cell_type": "markdown",
      "metadata": {
        "id": "ZfPnBXZpC2g7"
      },
      "source": [
        "# TF3 ADJUSTS"
      ]
    },
    {
      "cell_type": "markdown",
      "metadata": {
        "id": "ImiiWb1bC2g7"
      },
      "source": [
        "## 20:00 TO 04:00 UTC - 30-MINUTE TEMPORAL RESOLUTION"
      ]
    },
    {
      "cell_type": "code",
      "execution_count": null,
      "metadata": {
        "id": "NlN-IPbtC2g7"
      },
      "outputs": [],
      "source": [
        "np.array(df3.iloc[0]['TECMAP'])"
      ]
    },
    {
      "cell_type": "code",
      "execution_count": null,
      "metadata": {
        "id": "6RldXk1VC2g8"
      },
      "outputs": [],
      "source": [
        "np.array(df3.iloc[0]['TECMAP']).shape"
      ]
    },
    {
      "cell_type": "code",
      "execution_count": null,
      "metadata": {
        "id": "kKBw_aL-C2g8"
      },
      "outputs": [],
      "source": [
        "df3_2000_0400 = pd.concat([\n",
        "    df3.between_time('20:00', '20:00'),\n",
        "    df3.between_time('20:30', '20:30'),\n",
        "    df3.between_time('21:00', '21:00'),\n",
        "    df3.between_time('21:30', '21:30'),\n",
        "    df3.between_time('22:00', '22:00'),\n",
        "    df3.between_time('22:30', '22:30'),\n",
        "    df3.between_time('23:00', '23:00'),\n",
        "    df3.between_time('23:30', '23:30'),\n",
        "    df3.between_time('00:00', '00:00'),\n",
        "    df3.between_time('00:30', '00:30'),\n",
        "    df3.between_time('01:00', '01:00'),\n",
        "    df3.between_time('01:30', '01:30'),\n",
        "    df3.between_time('02:00', '02:00'),\n",
        "    df3.between_time('02:30', '02:30'),\n",
        "    df3.between_time('03:00', '03:00'),\n",
        "    df3.between_time('03:30', '03:30'),\n",
        "    df3.between_time('04:00', '04:00')\n",
        "])\n",
        "\n",
        "df3_2000_0400.sort_index(inplace=True)\n",
        "\n",
        "print(\"\\nDados das 20:00, 22:00, 00:00, 02:00 e 04:00:\")\n",
        "print(df3_2000_0400)"
      ]
    },
    {
      "cell_type": "code",
      "execution_count": null,
      "metadata": {
        "id": "aH18wLylC2g8"
      },
      "outputs": [],
      "source": [
        "df3.to_pickle(\"./df3_mapas_maggia_2024_30m.pkl\")"
      ]
    },
    {
      "cell_type": "code",
      "execution_count": null,
      "metadata": {
        "id": "mRrjv1c6C2g9"
      },
      "outputs": [],
      "source": [
        "np.shape(np.array(df3.iloc[:]['TECMAP']))"
      ]
    },
    {
      "cell_type": "code",
      "execution_count": null,
      "metadata": {
        "id": "5sJ4t0EJC2g9"
      },
      "outputs": [],
      "source": [
        "mapas3 = np.array(df3.iloc[:]['TECMAP'])"
      ]
    },
    {
      "cell_type": "code",
      "execution_count": null,
      "metadata": {
        "id": "3gCnXdo9C2g9"
      },
      "outputs": [],
      "source": [
        "np.shape(df3)"
      ]
    },
    {
      "cell_type": "code",
      "execution_count": null,
      "metadata": {
        "id": "u219Kf1TC2g9"
      },
      "outputs": [],
      "source": [
        "np_mapas3 = []\n",
        "for i in range(len(mapas3)):\n",
        "    np_mapas3.append(mapas3[i])\n",
        "np_mapas3 = np.array(np_mapas3)"
      ]
    },
    {
      "cell_type": "code",
      "execution_count": null,
      "metadata": {
        "id": "w4mG0PzmC2g-"
      },
      "outputs": [],
      "source": [
        "np.shape(np_mapas3)"
      ]
    },
    {
      "cell_type": "code",
      "execution_count": null,
      "metadata": {
        "id": "0owuU6POC2g-"
      },
      "outputs": [],
      "source": [
        "type(np_mapas3)"
      ]
    },
    {
      "cell_type": "code",
      "execution_count": null,
      "metadata": {
        "id": "SbybhE0IC2g-"
      },
      "outputs": [],
      "source": [
        "np.save('mapas3_maggia_2024_30m.npy', np_mapas3)"
      ]
    },
    {
      "cell_type": "code",
      "execution_count": null,
      "metadata": {
        "id": "a_MYOl2AC2g-"
      },
      "outputs": [],
      "source": [
        "df3_2000_0400.to_pickle(\"./df3_mapas_maggia_2024_2000_0400_30m.pkl\")"
      ]
    },
    {
      "cell_type": "code",
      "execution_count": null,
      "metadata": {
        "id": "gw19rnbWC2g-"
      },
      "outputs": [],
      "source": [
        "mapas3_2000_0400 = np.array(df3_2000_0400.iloc[:]['TECMAP'])"
      ]
    },
    {
      "cell_type": "code",
      "execution_count": null,
      "metadata": {
        "id": "0cGMRJg1C2g_"
      },
      "outputs": [],
      "source": [
        "np.shape(mapas3_2000_0400)"
      ]
    },
    {
      "cell_type": "code",
      "execution_count": null,
      "metadata": {
        "id": "3BEUEBx-C2g_"
      },
      "outputs": [],
      "source": [
        "np_mapas3_2000_0400 = []\n",
        "for i in range(len(mapas3_2000_0400)):\n",
        "    np_mapas3_2000_0400.append(mapas3_2000_0400[i])\n",
        "np_mapas3_2000_0400 = np.array(np_mapas3_2000_0400)"
      ]
    },
    {
      "cell_type": "code",
      "execution_count": null,
      "metadata": {
        "id": "K0LnS_n9C2g_"
      },
      "outputs": [],
      "source": [
        "np.shape(np_mapas3_2000_0400)"
      ]
    },
    {
      "cell_type": "code",
      "execution_count": null,
      "metadata": {
        "id": "O35Uf9T9C2g_"
      },
      "outputs": [],
      "source": [
        "type(np_mapas3_2000_0400)"
      ]
    },
    {
      "cell_type": "code",
      "execution_count": null,
      "metadata": {
        "id": "bilNzyjIC2g_"
      },
      "outputs": [],
      "source": [
        "np.save('mapas3_maggia_2024_2000_0400_30m.npy', np_mapas3_2000_0400)"
      ]
    },
    {
      "cell_type": "markdown",
      "source": [
        "# DOWNLOAD OUTPUTS"
      ],
      "metadata": {
        "id": "zHDARhhVba1a"
      }
    },
    {
      "cell_type": "code",
      "source": [
        "from google.colab import files"
      ],
      "metadata": {
        "id": "dTWkmAnZK4bz"
      },
      "execution_count": null,
      "outputs": []
    },
    {
      "cell_type": "code",
      "source": [
        "%pwd"
      ],
      "metadata": {
        "id": "Boj9YA_edRlx"
      },
      "execution_count": null,
      "outputs": []
    },
    {
      "cell_type": "code",
      "source": [
        "!ls df*"
      ],
      "metadata": {
        "id": "EVTsa3kvod8z"
      },
      "execution_count": null,
      "outputs": []
    },
    {
      "cell_type": "code",
      "source": [
        "!ls maggia*"
      ],
      "metadata": {
        "id": "jb5U0f-Aow3L"
      },
      "execution_count": null,
      "outputs": []
    },
    {
      "cell_type": "code",
      "source": [
        "# files.download('./maggia_2022_2024.npy')"
      ],
      "metadata": {
        "id": "Dpkj6_lYbt0J"
      },
      "execution_count": null,
      "outputs": []
    },
    {
      "cell_type": "code",
      "source": [
        "!ls -lh maggia*"
      ],
      "metadata": {
        "id": "Fb5a__Bf82ou"
      },
      "execution_count": null,
      "outputs": []
    },
    {
      "cell_type": "code",
      "source": [
        "!ls -lh mapas*.npy"
      ],
      "metadata": {
        "id": "8Qu-_WAttdcp"
      },
      "execution_count": null,
      "outputs": []
    },
    {
      "cell_type": "code",
      "source": [
        "# files.download('./maggia_2022_2024.npy')"
      ],
      "metadata": {
        "id": "rDA9kn2O8x-O"
      },
      "execution_count": null,
      "outputs": []
    },
    {
      "cell_type": "code",
      "source": [
        "# from google.colab import drive\n",
        "# drive.mount('/content/drive')"
      ],
      "metadata": {
        "id": "IHTZyUJcDANw"
      },
      "execution_count": null,
      "outputs": []
    },
    {
      "cell_type": "code",
      "source": [
        "# %cp maggia_2022_2024.npy /content/drive/MyDrive/maggia_2022_2024.npy"
      ],
      "metadata": {
        "id": "hU0BgBrlDJPL"
      },
      "execution_count": null,
      "outputs": []
    },
    {
      "cell_type": "code",
      "source": [
        "# %pwd"
      ],
      "metadata": {
        "id": "ZV_9bR28Fle-"
      },
      "execution_count": null,
      "outputs": []
    },
    {
      "cell_type": "code",
      "source": [
        "# %cd /content/drive/MyDrive"
      ],
      "metadata": {
        "id": "rOdBHHJ1FvS4"
      },
      "execution_count": null,
      "outputs": []
    },
    {
      "cell_type": "code",
      "source": [
        "# !df -H /content/drive/MyDrive"
      ],
      "metadata": {
        "id": "AvdsywltFeQ1"
      },
      "execution_count": null,
      "outputs": []
    },
    {
      "cell_type": "code",
      "source": [
        "# files.download('./maggia_datetime_2022_2024.npy')"
      ],
      "metadata": {
        "id": "IcO9--0jjGyS"
      },
      "execution_count": null,
      "outputs": []
    },
    {
      "cell_type": "code",
      "source": [
        "# files.download('./df_mapas_maggia_2022_2024.pkl')"
      ],
      "metadata": {
        "id": "8dTUgmPbbsct"
      },
      "execution_count": null,
      "outputs": []
    },
    {
      "cell_type": "code",
      "source": [
        "# files.download('./df_mapas_maggia_2022_2024_0800.pkl')"
      ],
      "metadata": {
        "id": "q5FZ8v0MbsjV"
      },
      "execution_count": null,
      "outputs": []
    },
    {
      "cell_type": "code",
      "source": [
        "# files.download('./df_mapas_maggia_2022_2024_1600.pkl')"
      ],
      "metadata": {
        "id": "uZAT8UzBbspP"
      },
      "execution_count": null,
      "outputs": []
    },
    {
      "cell_type": "code",
      "source": [
        "# files.download('./df_mapas_maggia_2022_2024_2000_2200_0000_0200_0400.pkl')"
      ],
      "metadata": {
        "id": "0POwPEgebtsV"
      },
      "execution_count": null,
      "outputs": []
    },
    {
      "cell_type": "code",
      "source": [
        "files.download('./df1_mapas_maggia_2022_2024.pkl')"
      ],
      "metadata": {
        "id": "sPUDSzrwboR0"
      },
      "execution_count": null,
      "outputs": []
    },
    {
      "cell_type": "code",
      "source": [
        "files.download('./df1_mapas_maggia_2022_2024_0800.pkl')"
      ],
      "metadata": {
        "id": "0BmJh3umlVuH"
      },
      "execution_count": null,
      "outputs": []
    },
    {
      "cell_type": "code",
      "source": [
        "files.download('./df1_mapas_maggia_2022_2024_1600.pkl')"
      ],
      "metadata": {
        "id": "U69muXpubrZu"
      },
      "execution_count": null,
      "outputs": []
    },
    {
      "cell_type": "code",
      "source": [
        "files.download('./df1_mapas_maggia_2022_2024_2000_2200_0000_0200_0400.pkl')"
      ],
      "metadata": {
        "id": "XOFSLoInbrxg"
      },
      "execution_count": null,
      "outputs": []
    },
    {
      "cell_type": "code",
      "source": [
        "files.download('./df2_mapas_maggia_2022_2024.pkl')"
      ],
      "metadata": {
        "id": "hy-nQfd4br66"
      },
      "execution_count": null,
      "outputs": []
    },
    {
      "cell_type": "code",
      "source": [
        "files.download('./df2_mapas_maggia_2022_2024_0800.pkl')"
      ],
      "metadata": {
        "id": "KNFdbzApbsCi"
      },
      "execution_count": null,
      "outputs": []
    },
    {
      "cell_type": "code",
      "source": [
        "files.download('./df2_mapas_maggia_2022_2024_1600.pkl')"
      ],
      "metadata": {
        "id": "awV2CxpXbsJZ"
      },
      "execution_count": null,
      "outputs": []
    },
    {
      "cell_type": "code",
      "source": [
        "files.download('./df2_mapas_maggia_2022_2024_2000_2200_0000_0200_0400.pkl')"
      ],
      "metadata": {
        "id": "6O1zIZVabsWU"
      },
      "execution_count": null,
      "outputs": []
    },
    {
      "cell_type": "code",
      "source": [
        "files.download('./mapas1_maggia_2022_2024.npy')"
      ],
      "metadata": {
        "id": "GQH9ZdPVoQk-"
      },
      "execution_count": null,
      "outputs": []
    },
    {
      "cell_type": "code",
      "source": [
        "files.download('./mapas1_maggia_2022_2024_0800.npy')"
      ],
      "metadata": {
        "id": "2RD6fIV6bt4c"
      },
      "execution_count": null,
      "outputs": []
    },
    {
      "cell_type": "code",
      "source": [
        "files.download('./mapas1_maggia_2022_2024_1600.npy')"
      ],
      "metadata": {
        "id": "6HHKwbKNcZ-g"
      },
      "execution_count": null,
      "outputs": []
    },
    {
      "cell_type": "code",
      "source": [
        "files.download('./mapas1_maggia_2022_2024_2000_2200_0000_0200_0400.npy')"
      ],
      "metadata": {
        "id": "0JeXcdi7caSc"
      },
      "execution_count": null,
      "outputs": []
    },
    {
      "cell_type": "code",
      "source": [
        "files.download('./mapas2_maggia_2022_2024.npy')"
      ],
      "metadata": {
        "id": "W1dEWQRpoXkf"
      },
      "execution_count": null,
      "outputs": []
    },
    {
      "cell_type": "code",
      "source": [
        "files.download('./mapas2_maggia_2022_2024_0800.npy')"
      ],
      "metadata": {
        "id": "iklwWlH5cabA"
      },
      "execution_count": null,
      "outputs": []
    },
    {
      "cell_type": "code",
      "source": [
        "files.download('./mapas2_maggia_2022_2024_1600.npy')"
      ],
      "metadata": {
        "id": "FDkaFf_gcakQ"
      },
      "execution_count": null,
      "outputs": []
    },
    {
      "cell_type": "code",
      "source": [
        "files.download('./mapas2_maggia_2022_2024_2000_2200_0000_0200_0400.npy')"
      ],
      "metadata": {
        "id": "0k6rLBCCcaz5"
      },
      "execution_count": null,
      "outputs": []
    },
    {
      "cell_type": "code",
      "source": [
        "# files.download('./mapas_maggia_2022_2024_0800.npy')"
      ],
      "metadata": {
        "id": "z2SFVrA7ca7G"
      },
      "execution_count": null,
      "outputs": []
    },
    {
      "cell_type": "code",
      "source": [
        "# files.download('./mapas_maggia_2022_2024_1600.npy')"
      ],
      "metadata": {
        "id": "tj8zOwH0cbCw"
      },
      "execution_count": null,
      "outputs": []
    },
    {
      "cell_type": "code",
      "source": [
        "# files.download('./mapas_maggia_2022_2024_2000_2200_0000_0200_0400.npy')"
      ],
      "metadata": {
        "id": "cGraOl3KcbQ0"
      },
      "execution_count": null,
      "outputs": []
    },
    {
      "cell_type": "code",
      "source": [
        "from google.colab import drive\n",
        "drive.mount('/content/drive')"
      ],
      "metadata": {
        "id": "dS4MVyuh6Lnc"
      },
      "execution_count": null,
      "outputs": []
    },
    {
      "cell_type": "code",
      "source": [
        "!ls -lh df3*"
      ],
      "metadata": {
        "id": "rLU20E8_WDpv"
      },
      "execution_count": null,
      "outputs": []
    },
    {
      "cell_type": "code",
      "source": [
        "%cp df3_mapas_maggia_2024_30m.pkl /content/drive/MyDrive/df3_mapas_maggia_2024_30m.pkl"
      ],
      "metadata": {
        "id": "g3B4NsJf69gB"
      },
      "execution_count": null,
      "outputs": []
    },
    {
      "cell_type": "code",
      "source": [
        "%cp df3_mapas_maggia_2024_2000_0400_30m.pkl /content/drive/MyDrive/df3_mapas_maggia_2024_2000_0400_30m.pkl"
      ],
      "metadata": {
        "id": "vFhSNsas610U"
      },
      "execution_count": null,
      "outputs": []
    },
    {
      "cell_type": "code",
      "source": [
        "!ls -lh mapas3*"
      ],
      "metadata": {
        "id": "AvzHJwhwWJbT"
      },
      "execution_count": null,
      "outputs": []
    },
    {
      "cell_type": "code",
      "source": [
        "%cp mapas3_maggia_2024_30m.npy /content/drive/MyDrive/mapas3_maggia_2024_30m.npy"
      ],
      "metadata": {
        "id": "N16IXwKB7HrU"
      },
      "execution_count": null,
      "outputs": []
    },
    {
      "cell_type": "code",
      "source": [
        "%cp mapas3_maggia_2024_2000_0400_30m.npy /content/drive/MyDrive/mapas3_maggia_2024_2000_0400_30m.npy"
      ],
      "metadata": {
        "id": "K1Mog6ft7Xp6"
      },
      "execution_count": null,
      "outputs": []
    }
  ],
  "metadata": {
    "accelerator": "TPU",
    "colab": {
      "gpuType": "V28",
      "provenance": [],
      "toc_visible": true,
      "include_colab_link": true
    },
    "kaggle": {
      "accelerator": "nvidiaTeslaT4",
      "dataSources": [],
      "dockerImageVersionId": 30918,
      "isGpuEnabled": true,
      "isInternetEnabled": true,
      "language": "python",
      "sourceType": "notebook"
    },
    "kernelspec": {
      "display_name": "Python 3",
      "name": "python3"
    },
    "language_info": {
      "codemirror_mode": {
        "name": "ipython",
        "version": 3
      },
      "file_extension": ".py",
      "mimetype": "text/x-python",
      "name": "python",
      "nbconvert_exporter": "python",
      "pygments_lexer": "ipython3",
      "version": "3.10.12"
    }
  },
  "nbformat": 4,
  "nbformat_minor": 0
}