{
  "cells": [
    {
      "cell_type": "markdown",
      "metadata": {
        "id": "view-in-github",
        "colab_type": "text"
      },
      "source": [
        "<a href=\"https://colab.research.google.com/github/marcocintra/Atmosphere/blob/master/CASE_STUDY_EMBRACE_MAPS_2024.ipynb\" target=\"_parent\"><img src=\"https://colab.research.google.com/assets/colab-badge.svg\" alt=\"Open In Colab\"/></a>"
      ]
    },
    {
      "cell_type": "markdown",
      "metadata": {
        "id": "tPYhxriRsr13"
      },
      "source": [
        "# ZIP FILES ADJUSTS"
      ]
    },
    {
      "cell_type": "code",
      "execution_count": null,
      "metadata": {
        "id": "39thpWGD-7dk"
      },
      "outputs": [],
      "source": [
        "%pwd"
      ]
    },
    {
      "cell_type": "code",
      "execution_count": null,
      "metadata": {
        "id": "mKS0qJhFZ48M"
      },
      "outputs": [],
      "source": [
        "!curl 'https://my.microsoftpersonalcontent.com/personal/a149071e7d7aaa61/_layouts/15/download.aspx?UniqueId=82f02526-63af-41d6-89aa-873c486f7997&Translate=false&tempauth=v1e.eyJzaXRlaWQiOiI3NzM0Y2NkNy1mMWE2LTQ0ZmItOWZmYy03MjIyYzI4NGE0ODEiLCJhcHBpZCI6IjAwMDAwMDAwLTAwMDAtMDAwMC0wMDAwLTAwMDA0ODE3MTBhNCIsImF1ZCI6IjAwMDAwMDAzLTAwMDAtMGZmMS1jZTAwLTAwMDAwMDAwMDAwMC9teS5taWNyb3NvZnRwZXJzb25hbGNvbnRlbnQuY29tQDkxODgwNDBkLTZjNjctNGM1Yi1iMTEyLTM2YTMwNGI2NmRhZCIsImV4cCI6IjE3NDUzNzEyMTgifQ.ERznhGOMXBFsPh0soTyk52rZgNok4ou1zluTBu-DoCfPD-X5AkP5L4ADxaKEq05-PsmTCEM1GtPRztOmMrBFCoFGb4Kb0Nnva2jRSXP07B52Podb4R7CDJh9oZEv8Yguw_Uog2Lcr2rL9moZ3VJO5WSwpl6sLfa61UjLw3t7RdLCIM8igvB2eaY6Wr0A6AvENfDMom7X4HH8Lc4P-CKOuV-BtbC7u0yRSEyauRvpCb8hYvOeMcjTrXmU9C_khGDSqG_TaOOl1zMlFZGcgsyuGscFHZfefplOCmYQoCn5jvL7oh0AgAiQaQYmU4vwx1lxtTG7cictKupGgmQDMQQ_4pGX-K_FaXPYYXOQ62fLtjAGBK2zUOdGnmUWuN5j8UleTLIbO79wy29qaYTOuQ4S32NPH9SAhKk6n6v0M_6ymv4.xj9ckt4qdKfyCdxeGu07RDSmZWsyWy6HJPvdNLmlb7A&ApiVersion=2.0&AVOverride=1' \\\n",
        "  -H 'accept: text/html,application/xhtml+xml,application/xml;q=0.9,image/avif,image/webp,image/apng,*/*;q=0.8,application/signed-exchange;v=b3;q=0.7' \\\n",
        "  -H 'accept-language: pt-BR,pt;q=0.9,en-US;q=0.8,en;q=0.7' \\\n",
        "  -H 'priority: u=0, i' \\\n",
        "  -H 'referer: https://onedrive.live.com/' \\\n",
        "  -H 'sec-ch-ua: \"Google Chrome\";v=\"135\", \"Not-A.Brand\";v=\"8\", \"Chromium\";v=\"135\"' \\\n",
        "  -H 'sec-ch-ua-mobile: ?0' \\\n",
        "  -H 'sec-ch-ua-platform: \"Linux\"' \\\n",
        "  -H 'sec-fetch-dest: iframe' \\\n",
        "  -H 'sec-fetch-mode: navigate' \\\n",
        "  -H 'sec-fetch-site: cross-site' \\\n",
        "  -H 'sec-fetch-storage-access: none' \\\n",
        "  -H 'sec-fetch-user: ?1' \\\n",
        "  -H 'upgrade-insecure-requests: 1' \\\n",
        "  -H 'user-agent: Mozilla/5.0 (X11; Linux x86_64) AppleWebKit/537.36 (KHTML, like Gecko) Chrome/135.0.0.0 Safari/537.36' > 'EMBRACE-FROM-SEPT-5-2024-BEYOND.zip'"
      ]
    },
    {
      "cell_type": "code",
      "execution_count": null,
      "metadata": {
        "id": "ho9tLyt0agPO"
      },
      "outputs": [],
      "source": [
        "%pwd"
      ]
    },
    {
      "cell_type": "code",
      "execution_count": null,
      "metadata": {
        "id": "0hKf5wgbahVv"
      },
      "outputs": [],
      "source": [
        "!ls"
      ]
    },
    {
      "cell_type": "code",
      "execution_count": null,
      "metadata": {
        "id": "OtCHJHUkyxU9"
      },
      "outputs": [],
      "source": [
        "!unzip 'EMBRACE-FROM-SEPT-5-2024-BEYOND.zip'"
      ]
    },
    {
      "cell_type": "markdown",
      "metadata": {
        "id": "I41PddkZC1XF"
      },
      "source": [
        "# DATA FILES ADJUSTS"
      ]
    },
    {
      "cell_type": "code",
      "execution_count": null,
      "metadata": {
        "id": "GWh-Linflxcp"
      },
      "outputs": [],
      "source": [
        "%cd 'EMBRACE-FROM-SEPT-5-2024-BEYOND'"
      ]
    },
    {
      "cell_type": "code",
      "execution_count": null,
      "metadata": {
        "id": "e7i6IKdzA7W1"
      },
      "outputs": [],
      "source": [
        "%pwd"
      ]
    },
    {
      "cell_type": "code",
      "execution_count": null,
      "metadata": {
        "id": "hzoEnqSUm3yb"
      },
      "outputs": [],
      "source": [
        "!ls"
      ]
    },
    {
      "cell_type": "code",
      "source": [
        "%rm *.npy"
      ],
      "metadata": {
        "id": "ncWI8EPO36gu"
      },
      "execution_count": null,
      "outputs": []
    },
    {
      "cell_type": "code",
      "execution_count": null,
      "metadata": {
        "id": "sjvqBf8pH-e9"
      },
      "outputs": [],
      "source": [
        "import os\n",
        "import numpy as np\n",
        "\n",
        "diretorio_atual = './'\n",
        "\n",
        "arquivos_24i = []\n",
        "\n",
        "for root, dirs, files in os.walk(diretorio_atual):\n",
        "    for file in files:\n",
        "        if file.endswith(\".24I\") and file.startswith(\"INPE\"):\n",
        "            arquivos_24i.append(os.path.join(root, file))\n",
        "\n",
        "arquivos_24i = sorted(arquivos_24i)\n",
        "print(arquivos_24i)\n",
        "\n",
        "print(\"Arquivos .24i encontrados (ordenados):\")\n",
        "for arquivo in arquivos_24i:\n",
        "    print(arquivo)\n",
        "\n",
        "for caminho_arquivo_i in arquivos_24i:\n",
        "\n",
        "    lista_dados = []\n",
        "\n",
        "    with open(caminho_arquivo_i, 'r') as arquivo:\n",
        "        for linha in arquivo:\n",
        "\n",
        "            if \"LAT/LON1/LON2/DLON/H\" in linha:\n",
        "\n",
        "                valores_linha1 = list(map(float, arquivo.readline().split()))\n",
        "                valores_linha2 = list(map(float, arquivo.readline().split()))\n",
        "\n",
        "                valores_combinados = valores_linha1 + valores_linha2\n",
        "\n",
        "                lista_dados.append(valores_combinados)\n",
        "\n",
        "        array_dados = np.array(lista_dados)\n",
        "\n",
        "        nome_arquivo_sem_extensao = os.path.splitext(os.path.basename(caminho_arquivo_i))[0]\n",
        "\n",
        "        caminho_saida_npy = os.path.join(os.path.dirname(caminho_arquivo_i), f\"{nome_arquivo_sem_extensao}_24.npy\")\n",
        "\n",
        "        elementos_por_linha = 41\n",
        "\n",
        "        total_linhas = array_dados.shape[0] // elementos_por_linha\n",
        "\n",
        "        new_shape = (total_linhas, elementos_por_linha, array_dados.shape[1])\n",
        "        array_dados = array_dados[:total_linhas * elementos_por_linha, :].reshape(new_shape)\n",
        "        print(np.shape(array_dados))\n",
        "        array_dados = array_dados[:, :, :]\n",
        "        print(np.shape(array_dados))\n",
        "        np.save(caminho_saida_npy, array_dados)\n",
        "\n",
        "        print(f\"Array salvo em: {caminho_saida_npy}\")"
      ]
    },
    {
      "cell_type": "code",
      "source": [
        "!ls"
      ],
      "metadata": {
        "id": "SCrwjf912crx"
      },
      "execution_count": null,
      "outputs": []
    },
    {
      "cell_type": "code",
      "source": [
        "import os\n",
        "import numpy as np\n",
        "\n",
        "diretorio_atual = './'\n",
        "\n",
        "arquivos_24i = []\n",
        "\n",
        "for root, dirs, files in os.walk(diretorio_atual):\n",
        "    for file in files:\n",
        "        if file.endswith(\".24I\") and file.startswith(\"INPE\"):\n",
        "            arquivos_24i.append(os.path.join(root, file))\n",
        "\n",
        "arquivos_24i = sorted(arquivos_24i)\n",
        "print(arquivos_24i)\n",
        "\n",
        "print(\"Arquivos .24i encontrados (ordenados):\")\n",
        "for arquivo in arquivos_24i:\n",
        "    print(arquivo)\n",
        "\n",
        "for caminho_arquivo_i in arquivos_24i:\n",
        "\n",
        "    lista_dados = []\n",
        "\n",
        "    with open(caminho_arquivo_i, 'r') as arquivo:\n",
        "        for linha in arquivo:\n",
        "\n",
        "            if \"LAT/LON1/LON2/DLON/H\" in linha:\n",
        "\n",
        "                valores_linha1 = list(map(float, arquivo.readline().split()))\n",
        "                valores_linha2 = list(map(float, arquivo.readline().split()))\n",
        "\n",
        "                valores_combinados = valores_linha1 + valores_linha2\n",
        "\n",
        "                lista_dados.append(valores_combinados)\n",
        "\n",
        "        array_dados = np.array(lista_dados)\n",
        "\n",
        "        nome_arquivo_sem_extensao = os.path.splitext(os.path.basename(caminho_arquivo_i))[0]\n",
        "\n",
        "        caminho_saida_npy = os.path.join(os.path.dirname(caminho_arquivo_i), f\"{nome_arquivo_sem_extensao}_24.npy\")\n",
        "\n",
        "        elementos_por_linha = 41\n",
        "\n",
        "        total_linhas = array_dados.shape[0] // elementos_por_linha\n",
        "\n",
        "        new_shape = (total_linhas, elementos_por_linha, array_dados.shape[1])\n",
        "        array_dados = array_dados[:total_linhas * elementos_por_linha, :].reshape(new_shape)\n",
        "        print(np.shape(array_dados))\n",
        "        array_dados = array_dados[:, :, :]\n",
        "        print(np.shape(array_dados))\n",
        "        np.save(caminho_saida_npy, array_dados)\n",
        "\n",
        "        print(f\"Array salvo em: {caminho_saida_npy}\")"
      ],
      "metadata": {
        "id": "iyqPYWDi227_"
      },
      "execution_count": null,
      "outputs": []
    },
    {
      "cell_type": "code",
      "execution_count": null,
      "metadata": {
        "id": "ct3UaUB4Le6j"
      },
      "outputs": [],
      "source": [
        "diretorio_principal = './'\n",
        "\n",
        "arquivos_npy = [arquivo for arquivo in os.listdir(diretorio_principal) if arquivo.endswith('_24.npy')]\n",
        "arquivos_npy = sorted(arquivos_npy)\n",
        "print(arquivos_npy)\n",
        "\n",
        "if not arquivos_npy:\n",
        "    print(\"Nenhum arquivo .npy encontrado no diretório atual.\")\n",
        "else:\n",
        "    array_4d = np.empty((len(arquivos_npy), 144, 41, 25))\n",
        "\n",
        "    for i, arquivo in enumerate(arquivos_npy):\n",
        "        caminho_arquivo = os.path.join(diretorio_principal, arquivo)\n",
        "        print(caminho_arquivo)\n",
        "        array_npy = np.load(caminho_arquivo)\n",
        "        print(i)\n",
        "        array_4d[i, :, :, :] = array_npy\n",
        "\n",
        "    array_4d = array_4d/10\n",
        "\n",
        "    print(\"\\n\\n\")\n",
        "    has_9999 = np.any(array_4d == 999.9)\n",
        "    print(has_9999)\n",
        "    count_9999 = np.sum(array_4d == 999.9)\n",
        "    print(count_9999)\n",
        "    print(\"\\n\\n\")\n",
        "\n",
        "    array_4d = np.where(array_4d == 999.9, np.nan, array_4d)\n",
        "    has_nan = np.any(np.isnan(array_4d))\n",
        "    print(has_nan)\n",
        "    count_nan = np.sum(np.isnan(array_4d))\n",
        "    print(count_nan)\n",
        "    print(\"\\n\\n\")\n",
        "\n",
        "    has_9999 = np.any(array_4d == 999.9)\n",
        "    print(has_9999)\n",
        "    count_9999 = np.sum(array_4d == 999.9)\n",
        "    print(count_9999)\n",
        "    print(\"\\n\\n\")\n",
        "\n",
        "    np.save(os.path.join(diretorio_principal, 'EMBRACE-2024.npy'), array_4d)\n",
        "\n",
        "    print(f\"Processados {len(arquivos_npy)} arquivos .npy\")\n",
        "    print(f\"Forma do array resultante: {array_4d.shape}\")"
      ]
    },
    {
      "cell_type": "code",
      "execution_count": null,
      "metadata": {
        "id": "hsjJg_0SMHJf"
      },
      "outputs": [],
      "source": [
        "embrace_2024 = np.load('EMBRACE-2024.npy').astype(np.float64)\n",
        "print(np.shape(embrace_2024))\n",
        "print(type(embrace_2024))\n",
        "print(type(embrace_2024[0]))\n",
        "print(type(embrace_2024[0][0]))\n",
        "print(type(embrace_2024[0][0][0]))\n",
        "print(type(embrace_2024[0][0][0][0]))"
      ]
    },
    {
      "cell_type": "markdown",
      "metadata": {
        "id": "Yi4SpFp_TAEN"
      },
      "source": [
        "# DATES ADJUSTS"
      ]
    },
    {
      "cell_type": "code",
      "execution_count": null,
      "metadata": {
        "id": "Lacx7MQ1YTaN"
      },
      "outputs": [],
      "source": [
        "import numpy as np\n",
        "from datetime import datetime, timedelta\n",
        "\n",
        "def doy_to_date(year, doy):\n",
        "    \"\"\"Convert year and day of year to datetime.\"\"\"\n",
        "    return datetime(year, 1, 1) + timedelta(days=doy - 1)\n",
        "\n",
        "doys = {\n",
        "\n",
        "    2024: {\n",
        "        9: [249, 250, 251, 252, 253, 254, 255, 256, 257, 258,\n",
        "            259, 260, 261, 262, 263, 264, 265, 266, 267, 268,\n",
        "            269, 270, 271, 272, 273, 274],\n",
        "        10: [275, 276, 277, 278, 279, 280, 281, 282, 283, 284,\n",
        "             285, 286, 287, 288, 289, 290, 291, 292, 293, 294,\n",
        "             295, 296, 297, 298, 299, 300, 301, 302, 303, 304,\n",
        "             305],\n",
        "        11: [306, 307, 308, 309, 310, 311, 312, 313, 314, 315,\n",
        "             316, 317, 318, 319, 320, 321, 322, 323, 324, 325,\n",
        "             326, 327, 328, 329, 330, 331, 332, 333, 334, 335],\n",
        "        12: [336, 337, 338, 339, 340, 341, 342, 343, 344, 345,\n",
        "             346, 347, 349, 350, 351, 352, 353, 354, 355, 356, 357,\n",
        "             358, 359, 360, 361, 362, 363, 364, 365]\n",
        "    }\n",
        "}\n",
        "\n",
        "datetime_list = []\n",
        "\n",
        "for year in doys.keys():\n",
        "    for month in doys[year].keys():\n",
        "        for doy in doys[year][month]:\n",
        "            base_date = doy_to_date(year, doy)\n",
        "            for minute in range(0, 24 * 60, 10):\n",
        "                dt = base_date + timedelta(minutes=minute)\n",
        "                datetime_list.append(dt)\n",
        "\n",
        "embrace_datetime_2024 = np.array(datetime_list, dtype='datetime64[s]')\n",
        "\n",
        "print(f\"Total number of datetime points: {len(embrace_datetime_2024)}\")\n",
        "print(f\"First datetime: {embrace_datetime_2024[0]}\")\n",
        "print(f\"Last datetime: {embrace_datetime_2024[-1]}\")\n",
        "\n",
        "np.save('embrace_datetime_2024.npy', embrace_datetime_2024)\n",
        "\n",
        "print(\"\\nSample of first 10 datetime entries:\")\n",
        "for dt in embrace_datetime_2024[:10]:\n",
        "    print(dt)\n",
        "\n",
        "print(\"\\nSample of last 10 datetime entries:\")\n",
        "for dt in embrace_datetime_2024[-10:]:\n",
        "    print(dt)"
      ]
    },
    {
      "cell_type": "code",
      "execution_count": null,
      "metadata": {
        "id": "TtaWVk_8QMBs"
      },
      "outputs": [],
      "source": [
        "embrace_dates = np.load('embrace_datetime_2024.npy')"
      ]
    },
    {
      "cell_type": "code",
      "execution_count": null,
      "metadata": {
        "id": "2xCYLZ9aQk8w"
      },
      "outputs": [],
      "source": [
        "embrace_dates.shape"
      ]
    },
    {
      "cell_type": "code",
      "execution_count": null,
      "metadata": {
        "id": "trcddEnElgvt"
      },
      "outputs": [],
      "source": [
        "embrace_dates"
      ]
    },
    {
      "cell_type": "code",
      "execution_count": null,
      "metadata": {
        "id": "aVApy8x7ajp2"
      },
      "outputs": [],
      "source": [
        "embrace_2024.shape"
      ]
    },
    {
      "cell_type": "code",
      "execution_count": null,
      "metadata": {
        "id": "5peLp8F8k8b5"
      },
      "outputs": [],
      "source": [
        "print(len(embrace_2024.tolist()))\n",
        "print(len(embrace_2024[0].tolist()))\n",
        "print(len(embrace_2024[0][0].tolist()))\n",
        "print(len(embrace_2024[0][0][0].tolist()))"
      ]
    },
    {
      "cell_type": "code",
      "execution_count": null,
      "metadata": {
        "id": "aEXXmnBJm6AW"
      },
      "outputs": [],
      "source": [
        "embrace_2024.shape"
      ]
    },
    {
      "cell_type": "code",
      "execution_count": null,
      "metadata": {
        "id": "Dl7mXCGg8kBy"
      },
      "outputs": [],
      "source": [
        "embrace_2024_shaped = np.reshape(embrace_2024, (-1, 41, 25))"
      ]
    },
    {
      "cell_type": "code",
      "execution_count": null,
      "metadata": {
        "id": "KBe8uYCx9pmZ"
      },
      "outputs": [],
      "source": [
        "np.shape(embrace_2024_shaped)"
      ]
    },
    {
      "cell_type": "code",
      "execution_count": null,
      "metadata": {
        "id": "V9YvYRMr8wa9"
      },
      "outputs": [],
      "source": [
        "np.shape(embrace_2024_shaped.tolist())"
      ]
    },
    {
      "cell_type": "code",
      "execution_count": null,
      "metadata": {
        "id": "MeZkjqA6Igze"
      },
      "outputs": [],
      "source": [
        "embrace_dates.shape"
      ]
    },
    {
      "cell_type": "markdown",
      "metadata": {
        "id": "s1UdyXhgoQ-u"
      },
      "source": [
        "## CREATE DATAFRAME"
      ]
    },
    {
      "cell_type": "code",
      "execution_count": null,
      "metadata": {
        "id": "7Y1nE6eeYNcS"
      },
      "outputs": [],
      "source": [
        "import pandas as pd\n",
        "\n",
        "data = {\n",
        "    'DATETIME': embrace_dates,\n",
        "    'TECMAP': embrace_2024_shaped.tolist()\n",
        "}\n",
        "\n",
        "df_mapas_embrace_2024 = pd.DataFrame(data)\n",
        "\n",
        "print(df_mapas_embrace_2024)"
      ]
    },
    {
      "cell_type": "code",
      "execution_count": null,
      "metadata": {
        "id": "bh0q1Zl191Sf"
      },
      "outputs": [],
      "source": [
        "np.array(df_mapas_embrace_2024.iloc[0]['TECMAP'])"
      ]
    },
    {
      "cell_type": "code",
      "execution_count": null,
      "metadata": {
        "id": "r6bZ82Cc_yL1"
      },
      "outputs": [],
      "source": [
        "np.array(df_mapas_embrace_2024.iloc[0]['TECMAP']).shape"
      ]
    },
    {
      "cell_type": "code",
      "execution_count": null,
      "metadata": {
        "id": "8nAbs7cgYNcT"
      },
      "outputs": [],
      "source": [
        "type(df_mapas_embrace_2024.index)"
      ]
    },
    {
      "cell_type": "code",
      "execution_count": null,
      "metadata": {
        "id": "VRl6pbBRYNcT"
      },
      "outputs": [],
      "source": [
        "df_mapas_embrace_2024.set_index('DATETIME', inplace=True)"
      ]
    },
    {
      "cell_type": "code",
      "execution_count": null,
      "metadata": {
        "id": "OSmVmA1-YNcT"
      },
      "outputs": [],
      "source": [
        "type(df_mapas_embrace_2024.index)"
      ]
    },
    {
      "cell_type": "code",
      "execution_count": null,
      "metadata": {
        "id": "Nzy6X8H0YNcT"
      },
      "outputs": [],
      "source": [
        "df_mapas_embrace_2024"
      ]
    },
    {
      "cell_type": "code",
      "execution_count": null,
      "metadata": {
        "id": "T-0eCWxpANVg"
      },
      "outputs": [],
      "source": [
        "df_mapas_embrace_2024.to_pickle(\"./df_mapas_embrace_sept_05_2024_beyond.pkl\")"
      ]
    },
    {
      "cell_type": "code",
      "execution_count": null,
      "metadata": {
        "id": "SZsYdwUluFfk"
      },
      "outputs": [],
      "source": [
        "np.shape(np.array(df_mapas_embrace_2024.iloc[:]['TECMAP']))"
      ]
    },
    {
      "cell_type": "code",
      "execution_count": null,
      "metadata": {
        "id": "Cm4FFnqOuFfl"
      },
      "outputs": [],
      "source": [
        "mapas_embrace_2024 = np.array(df_mapas_embrace_2024.iloc[:]['TECMAP'])"
      ]
    },
    {
      "cell_type": "code",
      "execution_count": null,
      "metadata": {
        "id": "GwBzGDa-uFfl"
      },
      "outputs": [],
      "source": [
        "np.shape(mapas_embrace_2024)"
      ]
    },
    {
      "cell_type": "code",
      "execution_count": null,
      "metadata": {
        "id": "bUVZQhVxuFfl"
      },
      "outputs": [],
      "source": [
        "np_mapas_embrace_2024 = []\n",
        "for i in range(len(mapas_embrace_2024)):\n",
        "    np_mapas_embrace_2024.append(mapas_embrace_2024[i])\n",
        "np_mapas_embrace_2024 = np.array(np_mapas_embrace_2024)"
      ]
    },
    {
      "cell_type": "code",
      "execution_count": null,
      "metadata": {
        "id": "A6eA-6D9uFfm"
      },
      "outputs": [],
      "source": [
        "np.shape(np_mapas_embrace_2024)"
      ]
    },
    {
      "cell_type": "code",
      "execution_count": null,
      "metadata": {
        "id": "t6_M03R4uFfm"
      },
      "outputs": [],
      "source": [
        "type(np_mapas_embrace_2024)"
      ]
    },
    {
      "cell_type": "code",
      "execution_count": null,
      "metadata": {
        "id": "88LmJuSWuFfm"
      },
      "outputs": [],
      "source": [
        "np.save('mapas_embrace_sept_05_2024_beyond.npy', np_mapas_embrace_2024)"
      ]
    },
    {
      "cell_type": "code",
      "source": [
        "from google.colab import drive\n",
        "drive.mount('/content/drive')"
      ],
      "metadata": {
        "id": "L-3RQlh4MVjE"
      },
      "execution_count": null,
      "outputs": []
    },
    {
      "cell_type": "code",
      "source": [
        "%cp /content/EMBRACE-FROM-SEPT-5-2024-BEYOND/df_mapas_embrace_sept_05_2024_beyond.pkl /content/drive/MyDrive/df_mapas_embrace_sept_05_2024_beyond.pkl"
      ],
      "metadata": {
        "id": "coJ_1-exMZWz"
      },
      "execution_count": null,
      "outputs": []
    },
    {
      "cell_type": "code",
      "source": [
        "%cp /content/EMBRACE-FROM-SEPT-5-2024-BEYOND/mapas_maggia_sept_05_2024_beyond.npy /content/drive/MyDrive/mapas_maggia_sept_05_2024_beyond.npy"
      ],
      "metadata": {
        "id": "NsTHCrYcMpCx"
      },
      "execution_count": null,
      "outputs": []
    }
  ],
  "metadata": {
    "colab": {
      "provenance": [],
      "toc_visible": true,
      "include_colab_link": true
    },
    "kernelspec": {
      "display_name": "Python 3",
      "name": "python3"
    },
    "language_info": {
      "codemirror_mode": {
        "name": "ipython",
        "version": 3
      },
      "file_extension": ".py",
      "mimetype": "text/x-python",
      "name": "python",
      "nbconvert_exporter": "python",
      "pygments_lexer": "ipython3",
      "version": "3.8.10"
    }
  },
  "nbformat": 4,
  "nbformat_minor": 0
}