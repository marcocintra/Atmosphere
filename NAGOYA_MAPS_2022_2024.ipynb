{
  "cells": [
    {
      "cell_type": "markdown",
      "metadata": {
        "id": "view-in-github",
        "colab_type": "text"
      },
      "source": [
        "<a href=\"https://colab.research.google.com/github/marcocintra/Atmosphere/blob/master/NAGOYA_MAPS_2022_2024.ipynb\" target=\"_parent\"><img src=\"https://colab.research.google.com/assets/colab-badge.svg\" alt=\"Open In Colab\"/></a>"
      ]
    },
    {
      "cell_type": "markdown",
      "metadata": {
        "id": "tPYhxriRsr13"
      },
      "source": [
        "# ZIP FILES ADJUSTS"
      ]
    },
    {
      "cell_type": "code",
      "execution_count": null,
      "metadata": {
        "id": "39thpWGD-7dk"
      },
      "outputs": [],
      "source": [
        "# %pwd"
      ]
    },
    {
      "cell_type": "code",
      "execution_count": null,
      "metadata": {
        "id": "mKS0qJhFZ48M"
      },
      "outputs": [],
      "source": [
        "#2022-2024\n",
        "!curl 'https://my.microsoftpersonalcontent.com/personal/a149071e7d7aaa61/_layouts/15/download.aspx?UniqueId=a434c4fb-9710-4a81-aca8-3e939c3ac7da&Translate=false&tempauth=v1e.eyJzaXRlaWQiOiI3NzM0Y2NkNy1mMWE2LTQ0ZmItOWZmYy03MjIyYzI4NGE0ODEiLCJhcHBpZCI6IjAwMDAwMDAwLTAwMDAtMDAwMC0wMDAwLTAwMDA0ODE3MTBhNCIsImF1ZCI6IjAwMDAwMDAzLTAwMDAtMGZmMS1jZTAwLTAwMDAwMDAwMDAwMC9teS5taWNyb3NvZnRwZXJzb25hbGNvbnRlbnQuY29tQDkxODgwNDBkLTZjNjctNGM1Yi1iMTEyLTM2YTMwNGI2NmRhZCIsImV4cCI6IjE3NDM3MzQ5NzgifQ.u-2utNoJN7yBRsCmc3NMU0_Ez6vFBu23LM5sgYxlNxi-smPG5uEk7B5FAes-PNMtUvdjZ7uNCZ20j9QoJIRu5PK6tQEjtuVotHxensLt4tLj3hbsx2qXxI72n-16ZDUJ7xKxtjcINhznivGkak_RNutTT-aNqmDZ-FC1lyaYPNYhE81JQiBUgQCyscbWCREnx-zsc2451SEKN7BINji8ES11VweH6hn5v2Z4F92_fvD0OYHpKuVa92_4Dihz-TuUFynHF54ukzBcdUqaOjQu455A2gqXSxmTNSMJdjBUcj2PrkvQUJcTvFnH20uWI-VF9Ul9ufNcSyOgVJrVecB2DfFDSMQfvWcFrFMQ-FX1eHtb9hTPo2ERZNuN5d2e08vMpRuqdRqnU-XpgB_P2YTILc31eFIZlEw94b1VDaf4yj8.HX9mnTeykytVer3U0wgq3LNlfCb92u4erCWfvzc7yr4&ApiVersion=2.0&AVOverride=1' \\\n",
        "  -H 'accept: text/html,application/xhtml+xml,application/xml;q=0.9,image/avif,image/webp,image/apng,*/*;q=0.8,application/signed-exchange;v=b3;q=0.7' \\\n",
        "  -H 'accept-language: pt-BR,pt;q=0.9,en-US;q=0.8,en;q=0.7' \\\n",
        "  -H 'priority: u=0, i' \\\n",
        "  -H 'referer: https://onedrive.live.com/' \\\n",
        "  -H 'sec-ch-ua: \"Chromium\";v=\"134\", \"Not:A-Brand\";v=\"24\", \"Google Chrome\";v=\"134\"' \\\n",
        "  -H 'sec-ch-ua-mobile: ?0' \\\n",
        "  -H 'sec-ch-ua-platform: \"Linux\"' \\\n",
        "  -H 'sec-fetch-dest: iframe' \\\n",
        "  -H 'sec-fetch-mode: navigate' \\\n",
        "  -H 'sec-fetch-site: cross-site' \\\n",
        "  -H 'sec-fetch-storage-access: none' \\\n",
        "  -H 'sec-fetch-user: ?1' \\\n",
        "  -H 'upgrade-insecure-requests: 1' \\\n",
        "  -H 'user-agent: Mozilla/5.0 (X11; Linux x86_64) AppleWebKit/537.36 (KHTML, like Gecko) Chrome/134.0.0.0 Safari/537.36' > 'NAGOYA-INTERSECTION-2022-2024.zip'"
      ]
    },
    {
      "cell_type": "code",
      "execution_count": null,
      "metadata": {
        "id": "ho9tLyt0agPO"
      },
      "outputs": [],
      "source": [
        "%pwd"
      ]
    },
    {
      "cell_type": "code",
      "execution_count": null,
      "metadata": {
        "id": "0hKf5wgbahVv",
        "scrolled": true
      },
      "outputs": [],
      "source": [
        "!ls"
      ]
    },
    {
      "cell_type": "code",
      "execution_count": null,
      "metadata": {
        "id": "OtCHJHUkyxU9"
      },
      "outputs": [],
      "source": [
        "!unzip -q 'NAGOYA-INTERSECTION-2022-2024.zip'"
      ]
    },
    {
      "cell_type": "markdown",
      "source": [
        "# DATA FILES ADJUSTS"
      ],
      "metadata": {
        "id": "zALN0xcwbYSp"
      }
    },
    {
      "cell_type": "markdown",
      "metadata": {
        "id": "4FX_ey9qpFaj"
      },
      "source": [
        "## 2022"
      ]
    },
    {
      "cell_type": "code",
      "execution_count": null,
      "metadata": {
        "id": "imASGkAuDnpq"
      },
      "outputs": [],
      "source": [
        "!pip install netCDF4"
      ]
    },
    {
      "cell_type": "code",
      "execution_count": null,
      "metadata": {
        "id": "McoWNtbXDnpr"
      },
      "outputs": [],
      "source": [
        "!pip install xarray"
      ]
    },
    {
      "cell_type": "code",
      "execution_count": null,
      "metadata": {
        "id": "RIVc2_MwD4RA"
      },
      "outputs": [],
      "source": [
        "import xarray as xr"
      ]
    },
    {
      "cell_type": "code",
      "execution_count": null,
      "metadata": {
        "id": "Uz5j40looSLd"
      },
      "outputs": [],
      "source": [
        "tecnagoya = xr.open_dataset(\"/content/NAGOYA-INTERSECTION-2022-2024/2022122519_atec.nc\", decode_times=False)"
      ]
    },
    {
      "cell_type": "code",
      "execution_count": null,
      "metadata": {
        "id": "AvG9TarJsk3u"
      },
      "outputs": [],
      "source": [
        "tecnagoya"
      ]
    },
    {
      "cell_type": "code",
      "execution_count": null,
      "metadata": {
        "id": "U1HTxICeocgF"
      },
      "outputs": [],
      "source": [
        "tecnagoya['lat'].values, tecnagoya['lat'].values.shape"
      ]
    },
    {
      "cell_type": "code",
      "execution_count": null,
      "metadata": {
        "id": "Vp4_NE9EpUx1"
      },
      "outputs": [],
      "source": [
        "tecnagoya['lat'].values[19:261]"
      ]
    },
    {
      "cell_type": "code",
      "execution_count": null,
      "metadata": {
        "id": "z1vnkF1hodh2"
      },
      "outputs": [],
      "source": [
        "tecnagoya['lon'].values[140:361]"
      ]
    },
    {
      "cell_type": "code",
      "execution_count": null,
      "metadata": {
        "id": "2plXJ9Hi3jkx"
      },
      "outputs": [],
      "source": [
        "%cd /content/NAGOYA-INTERSECTION-2022-2024"
      ]
    },
    {
      "cell_type": "code",
      "execution_count": null,
      "metadata": {
        "id": "e7i6IKdzA7W1"
      },
      "outputs": [],
      "source": [
        "%pwd"
      ]
    },
    {
      "cell_type": "code",
      "execution_count": null,
      "metadata": {
        "id": "fwuiikocQfsV"
      },
      "outputs": [],
      "source": [
        "%rm *.npy"
      ]
    },
    {
      "cell_type": "code",
      "execution_count": null,
      "metadata": {
        "id": "hzoEnqSUm3yb"
      },
      "outputs": [],
      "source": [
        "!ls"
      ]
    },
    {
      "cell_type": "code",
      "execution_count": null,
      "metadata": {
        "id": "pUnYH2gGYnEe"
      },
      "outputs": [],
      "source": [
        "import os\n",
        "import glob\n",
        "from collections import defaultdict\n",
        "\n",
        "base_path = './'\n",
        "\n",
        "file_pattern = os.path.join(base_path, '**', '2022*.nc')\n",
        "file_list = sorted(glob.glob(file_pattern, recursive=True))\n",
        "\n",
        "file_count_by_day = defaultdict(int)\n",
        "\n",
        "for file_name in file_list:\n",
        "\n",
        "    day_dir = os.path.basename(os.path.dirname(file_name))\n",
        "    file_count_by_day[day_dir] += 1\n",
        "\n",
        "for day, count in sorted(file_count_by_day.items()):\n",
        "    if count < 144:\n",
        "        print(f\"Dia {day}: {count} arquivos\")"
      ]
    },
    {
      "cell_type": "code",
      "execution_count": null,
      "metadata": {
        "id": "MeunBPP9q8Uw"
      },
      "outputs": [],
      "source": [
        "import numpy as np\n",
        "import xarray as xr\n",
        "import os\n",
        "import re\n",
        "import glob\n",
        "\n",
        "file_list = glob.glob(\"./2022*.nc\")\n",
        "\n",
        "pattern = re.compile(r'(\\d{8})(\\d{2})_atec')\n",
        "\n",
        "def extract_datetime(file_name):\n",
        "    match = pattern.search(file_name)\n",
        "    if match:\n",
        "        date = match.group(1)\n",
        "        hour = match.group(2)\n",
        "        return date, int(hour)\n",
        "    return None, None\n",
        "\n",
        "files_by_date = {}\n",
        "\n",
        "for file_name in file_list:\n",
        "    date, hour = extract_datetime(file_name)\n",
        "    if date:\n",
        "        if date not in files_by_date:\n",
        "            files_by_date[date] = []\n",
        "        files_by_date[date].append((file_name, hour))\n",
        "\n",
        "sorted_dates = sorted(files_by_date.keys())\n",
        "print(f\"\\nDatas a serem processadas em ordem cronológica: {sorted_dates}\")\n",
        "\n",
        "print(\"\\nProcessando dados por dia (em ordem cronológica)...\")\n",
        "for date in sorted_dates:\n",
        "    file_hour_pairs = files_by_date[date]\n",
        "\n",
        "    file_hour_pairs.sort(key=lambda x: x[1])\n",
        "\n",
        "    print(f\"Processando o dia: {date}, {len(file_hour_pairs)} arquivos encontrados\")\n",
        "\n",
        "    final_data = np.zeros((288, 242, 221))\n",
        "\n",
        "    for file_name, hour in file_hour_pairs:\n",
        "        try:\n",
        "            print(f\"  Processando: {file_name}, Hora: {hour}\")\n",
        "\n",
        "            ds_disk = xr.open_dataset(file_name)\n",
        "            tec = ds_disk['atec'][19:261, 140:361].values\n",
        "\n",
        "            for timestep in range(12):\n",
        "\n",
        "                global_idx = hour * 12 + timestep\n",
        "\n",
        "                timestep_slice = tec[:, :, timestep]\n",
        "\n",
        "                final_data[global_idx] = timestep_slice\n",
        "\n",
        "            ds_disk.close()\n",
        "\n",
        "        except Exception as e:\n",
        "            print(f\"  Erro ao processar o arquivo {file_name}: {e}\")\n",
        "\n",
        "    print(f\"  Shape final do array: {final_data.shape}\")\n",
        "\n",
        "    output_file = f\"atec{date}.npy\"\n",
        "    np.save(output_file, final_data)\n",
        "\n",
        "    print(f\"Arquivo {output_file} salvo com sucesso! Shape: {final_data.shape}\")\n",
        "\n",
        "print(\"\\nProcessamento concluído!\")"
      ]
    },
    {
      "cell_type": "code",
      "execution_count": null,
      "metadata": {
        "id": "XV_Ke215srIN"
      },
      "outputs": [],
      "source": [
        "!ls -lR ./*.npy | wc -l"
      ]
    },
    {
      "cell_type": "code",
      "execution_count": null,
      "metadata": {
        "id": "TxwEePjVU8Rw"
      },
      "outputs": [],
      "source": [
        "import numpy as np\n",
        "import glob\n",
        "import re\n",
        "from datetime import datetime\n",
        "\n",
        "npy_files = glob.glob(\"atec2022*.npy\")\n",
        "\n",
        "def extract_doy(filename):\n",
        "    match = re.search(r'atec(\\d{8})\\.npy', filename)\n",
        "    if match:\n",
        "        date_str = match.group(1)\n",
        "        try:\n",
        "            date_obj = datetime.strptime(date_str, '%Y%m%d')\n",
        "            return date_obj.timetuple().tm_yday\n",
        "        except ValueError:\n",
        "            return 0\n",
        "    return 0\n",
        "\n",
        "npy_files.sort(key=extract_doy)\n",
        "\n",
        "print(f\"Encontrados {len(npy_files)} arquivos NPY para processar.\")\n",
        "\n",
        "all_data = []\n",
        "\n",
        "for i, file in enumerate(npy_files):\n",
        "    doy = extract_doy(file)\n",
        "    print(f\"Processando {file} (DOY {doy}) - {i+1}/{len(npy_files)}\")\n",
        "\n",
        "    data = np.load(file)\n",
        "\n",
        "    all_data.append(data)\n",
        "\n",
        "    print(f\"  Shape: {data.shape}\")\n",
        "\n",
        "combined_data = np.concatenate(all_data, axis=0)\n",
        "\n",
        "print(f\"\\nDados combinados. Shape final: {combined_data.shape}\")\n",
        "\n",
        "output_file = \"NAGOYA-2022.npy\"\n",
        "np.save(output_file, combined_data)\n",
        "\n",
        "print(f\"\\nArquivo {output_file} salvo com sucesso!\")\n",
        "print(f\"Tamanho do arquivo: {combined_data.nbytes / (1024**2):.2f} MB\")"
      ]
    },
    {
      "cell_type": "code",
      "execution_count": null,
      "metadata": {
        "id": "VXBjUYB6cdaN"
      },
      "outputs": [],
      "source": [
        "!ls -lh *.npy"
      ]
    },
    {
      "cell_type": "markdown",
      "metadata": {
        "id": "y1ln7QtWDwPl"
      },
      "source": [
        "## 2023"
      ]
    },
    {
      "cell_type": "code",
      "execution_count": null,
      "metadata": {
        "id": "1My_p4rHDwPo"
      },
      "outputs": [],
      "source": [
        "!ls"
      ]
    },
    {
      "cell_type": "code",
      "execution_count": null,
      "metadata": {
        "id": "Hc8uPS3bDwPo"
      },
      "outputs": [],
      "source": [
        "import os\n",
        "import glob\n",
        "from collections import defaultdict\n",
        "\n",
        "base_path = './'\n",
        "\n",
        "file_pattern = os.path.join(base_path, '**', '2023*.nc')\n",
        "file_list = sorted(glob.glob(file_pattern, recursive=True))\n",
        "\n",
        "file_count_by_day = defaultdict(int)\n",
        "\n",
        "for file_name in file_list:\n",
        "\n",
        "    day_dir = os.path.basename(os.path.dirname(file_name))\n",
        "    file_count_by_day[day_dir] += 1\n",
        "\n",
        "print(\"\\nDias com menos de 144 arquivos:\")\n",
        "\n",
        "for day, count in sorted(file_count_by_day.items()):\n",
        "    if count < 144:\n",
        "        print(f\"Dia {day}: {count} arquivos\")"
      ]
    },
    {
      "cell_type": "code",
      "execution_count": null,
      "metadata": {
        "id": "jxyWG2jHDwPp"
      },
      "outputs": [],
      "source": [
        "import numpy as np\n",
        "import xarray as xr\n",
        "import os\n",
        "import re\n",
        "import glob\n",
        "\n",
        "file_list = glob.glob(\"./2023*.nc\")\n",
        "\n",
        "pattern = re.compile(r'(\\d{8})(\\d{2})_atec')\n",
        "\n",
        "def extract_datetime(file_name):\n",
        "    match = pattern.search(file_name)\n",
        "    if match:\n",
        "        date = match.group(1)\n",
        "        hour = match.group(2)\n",
        "        return date, int(hour)\n",
        "    return None, None\n",
        "\n",
        "files_by_date = {}\n",
        "\n",
        "for file_name in file_list:\n",
        "    date, hour = extract_datetime(file_name)\n",
        "    if date:\n",
        "        if date not in files_by_date:\n",
        "            files_by_date[date] = []\n",
        "        files_by_date[date].append((file_name, hour))\n",
        "\n",
        "sorted_dates = sorted(files_by_date.keys())\n",
        "print(f\"\\nDatas a serem processadas em ordem cronológica: {sorted_dates}\")\n",
        "\n",
        "print(\"\\nProcessando dados por dia (em ordem cronológica)...\")\n",
        "for date in sorted_dates:\n",
        "    file_hour_pairs = files_by_date[date]\n",
        "\n",
        "    file_hour_pairs.sort(key=lambda x: x[1])\n",
        "\n",
        "    print(f\"Processando o dia: {date}, {len(file_hour_pairs)} arquivos encontrados\")\n",
        "\n",
        "    final_data = np.zeros((288, 242, 221))\n",
        "\n",
        "    for file_name, hour in file_hour_pairs:\n",
        "        try:\n",
        "            print(f\"  Processando: {file_name}, Hora: {hour}\")\n",
        "\n",
        "            ds_disk = xr.open_dataset(file_name)\n",
        "            tec = ds_disk['atec'][19:261, 140:361].values\n",
        "\n",
        "            for timestep in range(12):\n",
        "\n",
        "                global_idx = hour * 12 + timestep\n",
        "\n",
        "                timestep_slice = tec[:, :, timestep]\n",
        "\n",
        "                final_data[global_idx] = timestep_slice\n",
        "\n",
        "            ds_disk.close()\n",
        "\n",
        "        except Exception as e:\n",
        "            print(f\"  Erro ao processar o arquivo {file_name}: {e}\")\n",
        "\n",
        "    print(f\"  Shape final do array: {final_data.shape}\")\n",
        "\n",
        "    output_file = f\"atec{date}.npy\"\n",
        "    np.save(output_file, final_data)\n",
        "\n",
        "    print(f\"Arquivo {output_file} salvo com sucesso! Shape: {final_data.shape}\")\n",
        "\n",
        "print(\"\\nProcessamento concluído!\")"
      ]
    },
    {
      "cell_type": "code",
      "execution_count": null,
      "metadata": {
        "id": "E_Q_21qiDwPp"
      },
      "outputs": [],
      "source": [
        "# ls *.npy"
      ]
    },
    {
      "cell_type": "code",
      "execution_count": null,
      "metadata": {
        "id": "Y8beqEgZDwPq"
      },
      "outputs": [],
      "source": [
        "!ls -lR ./*.npy | wc -l"
      ]
    },
    {
      "cell_type": "code",
      "execution_count": null,
      "metadata": {
        "id": "70y1B8zoDwPq"
      },
      "outputs": [],
      "source": [
        "import numpy as np\n",
        "import glob\n",
        "import re\n",
        "from datetime import datetime\n",
        "\n",
        "npy_files = glob.glob(\"atec2023*.npy\")\n",
        "\n",
        "def extract_doy(filename):\n",
        "    match = re.search(r'atec(\\d{8})\\.npy', filename)\n",
        "    if match:\n",
        "        date_str = match.group(1)\n",
        "        try:\n",
        "            date_obj = datetime.strptime(date_str, '%Y%m%d')\n",
        "            return date_obj.timetuple().tm_yday\n",
        "        except ValueError:\n",
        "            return 0\n",
        "    return 0\n",
        "\n",
        "npy_files.sort(key=extract_doy)\n",
        "\n",
        "print(f\"Encontrados {len(npy_files)} arquivos NPY para processar.\")\n",
        "\n",
        "all_data = []\n",
        "\n",
        "for i, file in enumerate(npy_files):\n",
        "    doy = extract_doy(file)\n",
        "    print(f\"Processando {file} (DOY {doy}) - {i+1}/{len(npy_files)}\")\n",
        "\n",
        "    data = np.load(file)\n",
        "\n",
        "    all_data.append(data)\n",
        "\n",
        "    print(f\"  Shape: {data.shape}\")\n",
        "\n",
        "combined_data = np.concatenate(all_data, axis=0)\n",
        "\n",
        "print(f\"\\nDados combinados. Shape final: {combined_data.shape}\")\n",
        "\n",
        "output_file = \"NAGOYA-2023.npy\"\n",
        "np.save(output_file, combined_data)\n",
        "\n",
        "print(f\"\\nArquivo {output_file} salvo com sucesso!\")\n",
        "print(f\"Tamanho do arquivo: {combined_data.nbytes / (1024**2):.2f} MB\")"
      ]
    },
    {
      "cell_type": "code",
      "execution_count": null,
      "metadata": {
        "id": "MpzEgg4ZDwPq"
      },
      "outputs": [],
      "source": [
        "!ls -lh *.npy"
      ]
    },
    {
      "cell_type": "markdown",
      "metadata": {
        "id": "AvitoJn5D0AY"
      },
      "source": [
        "## 2024"
      ]
    },
    {
      "cell_type": "code",
      "execution_count": null,
      "metadata": {
        "id": "OjHlKTEdD0Ab"
      },
      "outputs": [],
      "source": [
        "!ls"
      ]
    },
    {
      "cell_type": "code",
      "execution_count": null,
      "metadata": {
        "id": "kkaMuOcrD0Ab"
      },
      "outputs": [],
      "source": [
        "import os\n",
        "import glob\n",
        "from collections import defaultdict\n",
        "\n",
        "base_path = './'\n",
        "\n",
        "file_pattern = os.path.join(base_path, '**', '2024*.nc')\n",
        "file_list = sorted(glob.glob(file_pattern, recursive=True))\n",
        "\n",
        "file_count_by_day = defaultdict(int)\n",
        "\n",
        "for file_name in file_list:\n",
        "\n",
        "    day_dir = os.path.basename(os.path.dirname(file_name))\n",
        "    file_count_by_day[day_dir] += 1\n",
        "\n",
        "print(\"\\nDias com menos de 144 arquivos:\")\n",
        "\n",
        "for day, count in sorted(file_count_by_day.items()):\n",
        "    if count < 144:\n",
        "        print(f\"Dia {day}: {count} arquivos\")"
      ]
    },
    {
      "cell_type": "code",
      "execution_count": null,
      "metadata": {
        "id": "8Xl7khivD0Ac"
      },
      "outputs": [],
      "source": [
        "import numpy as np\n",
        "import xarray as xr\n",
        "import os\n",
        "import re\n",
        "import glob\n",
        "\n",
        "file_list = glob.glob(\"./2024*.nc\")\n",
        "\n",
        "pattern = re.compile(r'(\\d{8})(\\d{2})_atec')\n",
        "\n",
        "def extract_datetime(file_name):\n",
        "    match = pattern.search(file_name)\n",
        "    if match:\n",
        "        date = match.group(1)\n",
        "        hour = match.group(2)\n",
        "        return date, int(hour)\n",
        "    return None, None\n",
        "\n",
        "files_by_date = {}\n",
        "\n",
        "for file_name in file_list:\n",
        "    date, hour = extract_datetime(file_name)\n",
        "    if date:\n",
        "        if date not in files_by_date:\n",
        "            files_by_date[date] = []\n",
        "        files_by_date[date].append((file_name, hour))\n",
        "\n",
        "sorted_dates = sorted(files_by_date.keys())\n",
        "print(f\"\\nDatas a serem processadas em ordem cronológica: {sorted_dates}\")\n",
        "\n",
        "print(\"\\nProcessando dados por dia (em ordem cronológica)...\")\n",
        "for date in sorted_dates:\n",
        "    file_hour_pairs = files_by_date[date]\n",
        "\n",
        "    file_hour_pairs.sort(key=lambda x: x[1])\n",
        "\n",
        "    print(f\"Processando o dia: {date}, {len(file_hour_pairs)} arquivos encontrados\")\n",
        "\n",
        "    final_data = np.zeros((288, 242, 221))\n",
        "\n",
        "    for file_name, hour in file_hour_pairs:\n",
        "        try:\n",
        "            print(f\"  Processando: {file_name}, Hora: {hour}\")\n",
        "\n",
        "            ds_disk = xr.open_dataset(file_name)\n",
        "            tec = ds_disk['atec'][19:261, 140:361].values\n",
        "\n",
        "            for timestep in range(12):\n",
        "\n",
        "                global_idx = hour * 12 + timestep\n",
        "\n",
        "                timestep_slice = tec[:, :, timestep]\n",
        "\n",
        "                final_data[global_idx] = timestep_slice\n",
        "\n",
        "            ds_disk.close()\n",
        "\n",
        "        except Exception as e:\n",
        "            print(f\"  Erro ao processar o arquivo {file_name}: {e}\")\n",
        "\n",
        "    print(f\"  Shape final do array: {final_data.shape}\")\n",
        "\n",
        "    output_file = f\"atec{date}.npy\"\n",
        "    np.save(output_file, final_data)\n",
        "\n",
        "    print(f\"Arquivo {output_file} salvo com sucesso! Shape: {final_data.shape}\")\n",
        "\n",
        "print(\"\\nProcessamento concluído!\")"
      ]
    },
    {
      "cell_type": "code",
      "execution_count": null,
      "metadata": {
        "id": "SJzL_iaAD0Ad"
      },
      "outputs": [],
      "source": [
        "# ls *.npy"
      ]
    },
    {
      "cell_type": "code",
      "execution_count": null,
      "metadata": {
        "id": "Ywfu-0vgD0Ad"
      },
      "outputs": [],
      "source": [
        "!ls -lR ./*.npy | wc -l"
      ]
    },
    {
      "cell_type": "code",
      "execution_count": null,
      "metadata": {
        "id": "qBifMr8KD0Ad"
      },
      "outputs": [],
      "source": [
        "import numpy as np\n",
        "import glob\n",
        "import re\n",
        "from datetime import datetime\n",
        "\n",
        "npy_files = glob.glob(\"atec2024*.npy\")\n",
        "\n",
        "def extract_doy(filename):\n",
        "    match = re.search(r'atec(\\d{8})\\.npy', filename)\n",
        "    if match:\n",
        "        date_str = match.group(1)\n",
        "        try:\n",
        "            date_obj = datetime.strptime(date_str, '%Y%m%d')\n",
        "            return date_obj.timetuple().tm_yday\n",
        "        except ValueError:\n",
        "            return 0\n",
        "    return 0\n",
        "\n",
        "npy_files.sort(key=extract_doy)\n",
        "\n",
        "print(f\"Encontrados {len(npy_files)} arquivos NPY para processar.\")\n",
        "\n",
        "all_data = []\n",
        "\n",
        "for i, file in enumerate(npy_files):\n",
        "    doy = extract_doy(file)\n",
        "    print(f\"Processando {file} (DOY {doy}) - {i+1}/{len(npy_files)}\")\n",
        "\n",
        "    data = np.load(file)\n",
        "\n",
        "    all_data.append(data)\n",
        "\n",
        "    print(f\"  Shape: {data.shape}\")\n",
        "\n",
        "combined_data = np.concatenate(all_data, axis=0)\n",
        "\n",
        "print(f\"\\nDados combinados. Shape final: {combined_data.shape}\")\n",
        "\n",
        "output_file = \"NAGOYA-2024.npy\"\n",
        "np.save(output_file, combined_data)\n",
        "\n",
        "print(f\"\\nArquivo {output_file} salvo com sucesso!\")\n",
        "print(f\"Tamanho do arquivo: {combined_data.nbytes / (1024**2):.2f} MB\")"
      ]
    },
    {
      "cell_type": "code",
      "execution_count": null,
      "metadata": {
        "id": "NGbyMY7aD0Ae"
      },
      "outputs": [],
      "source": [
        "!ls -lh *.npy"
      ]
    },
    {
      "cell_type": "markdown",
      "metadata": {
        "id": "qR0dqOizU5Jz"
      },
      "source": [
        "# 5D ARRAY - MERGE 2022-2024 DATA"
      ]
    },
    {
      "cell_type": "code",
      "execution_count": null,
      "metadata": {
        "id": "KXRGuIJ35w5U"
      },
      "outputs": [],
      "source": [
        "%cd './'"
      ]
    },
    {
      "cell_type": "code",
      "execution_count": null,
      "metadata": {
        "id": "ALgD2Ib_QUnT"
      },
      "outputs": [],
      "source": [
        "import numpy as np"
      ]
    },
    {
      "cell_type": "code",
      "execution_count": null,
      "metadata": {
        "id": "tGOoeUboYS7-"
      },
      "outputs": [],
      "source": [
        "!ls"
      ]
    },
    {
      "cell_type": "code",
      "execution_count": null,
      "metadata": {
        "id": "GmPRLZd3YS7_"
      },
      "outputs": [],
      "source": [
        "%pwd"
      ]
    },
    {
      "cell_type": "code",
      "execution_count": null,
      "metadata": {
        "id": "7N0MYUToYS7_"
      },
      "outputs": [],
      "source": [
        "!ls *.npy"
      ]
    },
    {
      "cell_type": "code",
      "execution_count": null,
      "metadata": {
        "id": "X02gUiKK5w5U"
      },
      "outputs": [],
      "source": [
        "nagoya_2022 = np.load('NAGOYA-2022.npy')\n",
        "print(np.shape(nagoya_2022))\n",
        "print(type(nagoya_2022))\n",
        "print(type(nagoya_2022[0]))\n",
        "print(type(nagoya_2022[0][0]))\n",
        "print(type(nagoya_2022[0][0][0]))"
      ]
    },
    {
      "cell_type": "code",
      "execution_count": null,
      "metadata": {
        "id": "ZKWK3fq4fqPL"
      },
      "outputs": [],
      "source": [
        "for i in range(len(nagoya_2022)):\n",
        "    print(np.shape(nagoya_2022[i]))"
      ]
    },
    {
      "cell_type": "code",
      "execution_count": null,
      "metadata": {
        "id": "M5oNTZAHfqPL"
      },
      "outputs": [],
      "source": [
        "np.shape(nagoya_2022)"
      ]
    },
    {
      "cell_type": "code",
      "execution_count": null,
      "metadata": {
        "id": "6I0w0aUAfqPM"
      },
      "outputs": [],
      "source": [
        "has_nan = np.any(np.isnan(nagoya_2022))\n",
        "print(has_nan)\n",
        "\n",
        "count_nan = np.sum(np.isnan(nagoya_2022))\n",
        "print(count_nan)"
      ]
    },
    {
      "cell_type": "code",
      "execution_count": null,
      "metadata": {
        "id": "mum15F9wfqPN"
      },
      "outputs": [],
      "source": [
        "nagoya_2022.shape"
      ]
    },
    {
      "cell_type": "code",
      "execution_count": null,
      "metadata": {
        "id": "4FmkQIgOfqPN"
      },
      "outputs": [],
      "source": [
        "np.set_printoptions(threshold=np.inf)"
      ]
    },
    {
      "cell_type": "code",
      "execution_count": null,
      "metadata": {
        "id": "szgM6NJrfqPN"
      },
      "outputs": [],
      "source": [
        "print(nagoya_2022[0][0])"
      ]
    },
    {
      "cell_type": "code",
      "execution_count": null,
      "metadata": {
        "id": "HDxeGdHOfqPN"
      },
      "outputs": [],
      "source": [
        "print(nagoya_2022[0][-1])"
      ]
    },
    {
      "cell_type": "code",
      "execution_count": null,
      "metadata": {
        "id": "LbUTjE8nkKQQ"
      },
      "outputs": [],
      "source": [
        "# del nagoya_2022"
      ]
    },
    {
      "cell_type": "code",
      "execution_count": null,
      "metadata": {
        "id": "R6pj1H0_MFoi"
      },
      "outputs": [],
      "source": [
        "nagoya_2023 = np.load('NAGOYA-2023.npy')\n",
        "print(np.shape(nagoya_2023))\n",
        "print(type(nagoya_2023))\n",
        "print(type(nagoya_2023[0]))\n",
        "print(type(nagoya_2023[0][0]))\n",
        "print(type(nagoya_2023[0][0][0]))"
      ]
    },
    {
      "cell_type": "code",
      "execution_count": null,
      "metadata": {
        "id": "DVffr2vngNu6"
      },
      "outputs": [],
      "source": [
        "for i in range(len(nagoya_2023)):\n",
        "    print(np.shape(nagoya_2023[i]))"
      ]
    },
    {
      "cell_type": "code",
      "execution_count": null,
      "metadata": {
        "id": "oXdmQBalgNu6"
      },
      "outputs": [],
      "source": [
        "np.shape(nagoya_2023)"
      ]
    },
    {
      "cell_type": "code",
      "execution_count": null,
      "metadata": {
        "id": "pDmbZ6rigNu6"
      },
      "outputs": [],
      "source": [
        "has_nan = np.any(np.isnan(nagoya_2023))\n",
        "print(has_nan)\n",
        "\n",
        "count_nan = np.sum(np.isnan(nagoya_2023))\n",
        "print(count_nan)"
      ]
    },
    {
      "cell_type": "code",
      "execution_count": null,
      "metadata": {
        "id": "KzILdwnpgNu7"
      },
      "outputs": [],
      "source": [
        "nagoya_2023.shape"
      ]
    },
    {
      "cell_type": "code",
      "execution_count": null,
      "metadata": {
        "id": "0lNz-8F0gNu7"
      },
      "outputs": [],
      "source": [
        "np.set_printoptions(threshold=np.inf)"
      ]
    },
    {
      "cell_type": "code",
      "execution_count": null,
      "metadata": {
        "id": "I7jVB4S9gNu7"
      },
      "outputs": [],
      "source": [
        "print(nagoya_2023[0][0])"
      ]
    },
    {
      "cell_type": "code",
      "execution_count": null,
      "metadata": {
        "id": "-Mwpw0lPgNu7"
      },
      "outputs": [],
      "source": [
        "print(nagoya_2023[0][-1])"
      ]
    },
    {
      "cell_type": "code",
      "execution_count": null,
      "metadata": {
        "id": "ykuIXzwdkTuO"
      },
      "outputs": [],
      "source": [
        "# del nagoya_2023"
      ]
    },
    {
      "cell_type": "code",
      "execution_count": null,
      "metadata": {
        "id": "hsjJg_0SMHJf"
      },
      "outputs": [],
      "source": [
        "nagoya_2024 = np.load('NAGOYA-2024.npy')\n",
        "print(np.shape(nagoya_2024))\n",
        "print(type(nagoya_2024))\n",
        "print(type(nagoya_2024[0]))\n",
        "print(type(nagoya_2024[0][0]))\n",
        "print(type(nagoya_2024[0][0][0]))"
      ]
    },
    {
      "cell_type": "code",
      "execution_count": null,
      "metadata": {
        "id": "Q5JrcrQNgVfY"
      },
      "outputs": [],
      "source": [
        "for i in range(len(nagoya_2024)):\n",
        "    print(np.shape(nagoya_2024[i]))"
      ]
    },
    {
      "cell_type": "code",
      "execution_count": null,
      "metadata": {
        "id": "aRaytyYKgVfZ"
      },
      "outputs": [],
      "source": [
        "np.shape(nagoya_2024)"
      ]
    },
    {
      "cell_type": "code",
      "execution_count": null,
      "metadata": {
        "id": "8PleC_HEgVfZ"
      },
      "outputs": [],
      "source": [
        "has_nan = np.any(np.isnan(nagoya_2024))\n",
        "print(has_nan)\n",
        "\n",
        "count_nan = np.sum(np.isnan(nagoya_2024))\n",
        "print(count_nan)"
      ]
    },
    {
      "cell_type": "code",
      "execution_count": null,
      "metadata": {
        "id": "758_m8o-gVfa"
      },
      "outputs": [],
      "source": [
        "nagoya_2024.shape"
      ]
    },
    {
      "cell_type": "code",
      "execution_count": null,
      "metadata": {
        "id": "okYM755VgVfa"
      },
      "outputs": [],
      "source": [
        "np.set_printoptions(threshold=np.inf)"
      ]
    },
    {
      "cell_type": "code",
      "execution_count": null,
      "metadata": {
        "id": "MmLcVQgZgVfa"
      },
      "outputs": [],
      "source": [
        "print(nagoya_2024[0][0])"
      ]
    },
    {
      "cell_type": "code",
      "execution_count": null,
      "metadata": {
        "id": "xmFTBj58gVfa"
      },
      "outputs": [],
      "source": [
        "print(nagoya_2024[0][-1])"
      ]
    },
    {
      "cell_type": "code",
      "execution_count": null,
      "metadata": {
        "id": "i31T_Nvjkspy"
      },
      "outputs": [],
      "source": [
        "# del nagoya_2024"
      ]
    },
    {
      "cell_type": "code",
      "execution_count": null,
      "metadata": {
        "id": "o8FPFsEFowWU"
      },
      "outputs": [],
      "source": [
        "nagoya_2022_2024 = np.concatenate([nagoya_2022, nagoya_2023, nagoya_2024], axis=0)\n",
        "print(nagoya_2022_2024.shape)"
      ]
    },
    {
      "cell_type": "code",
      "execution_count": null,
      "metadata": {
        "id": "qElFTYDOOIdz"
      },
      "outputs": [],
      "source": [
        "print(type(nagoya_2022_2024))\n",
        "print(type(nagoya_2022_2024[0]))\n",
        "print(type(nagoya_2022_2024[0][0]))\n",
        "print(type(nagoya_2022_2024[0][0][0]))\n",
        "# print(type(nagoya_2022_2024[0][0][0][0]))"
      ]
    },
    {
      "cell_type": "code",
      "execution_count": null,
      "metadata": {
        "id": "ChF4XV8_wOLI"
      },
      "outputs": [],
      "source": [
        "for i in range(len(nagoya_2022_2024)):\n",
        "    print(np.shape(nagoya_2022_2024[i]))"
      ]
    },
    {
      "cell_type": "code",
      "execution_count": null,
      "metadata": {
        "id": "VSX1tZOiPdEt"
      },
      "outputs": [],
      "source": [
        "np.shape(nagoya_2022_2024)"
      ]
    },
    {
      "cell_type": "code",
      "execution_count": null,
      "metadata": {
        "id": "HDur6qb5E5ep"
      },
      "outputs": [],
      "source": [
        "has_nan = np.any(np.isnan(nagoya_2022_2024))\n",
        "print(has_nan)\n",
        "\n",
        "count_nan = np.sum(np.isnan(nagoya_2022_2024))\n",
        "print(count_nan)"
      ]
    },
    {
      "cell_type": "code",
      "execution_count": null,
      "metadata": {
        "id": "_GAnxKgPxjnj"
      },
      "outputs": [],
      "source": [
        "np.save('nagoya_2022_2024.npy', nagoya_2022_2024)"
      ]
    },
    {
      "cell_type": "code",
      "execution_count": null,
      "metadata": {
        "id": "h-wcGNRrIMJe"
      },
      "outputs": [],
      "source": [
        "np.set_printoptions(threshold=np.inf)"
      ]
    },
    {
      "cell_type": "code",
      "execution_count": null,
      "metadata": {
        "id": "IG7mgNtiIACM"
      },
      "outputs": [],
      "source": [
        "print(nagoya_2022_2024[0][0])"
      ]
    },
    {
      "cell_type": "code",
      "execution_count": null,
      "metadata": {
        "id": "EqXUki5TI3gL"
      },
      "outputs": [],
      "source": [
        "print(nagoya_2022_2024[0][-1])"
      ]
    },
    {
      "cell_type": "markdown",
      "metadata": {
        "id": "Yi4SpFp_TAEN"
      },
      "source": [
        "# DATES ADJUST"
      ]
    },
    {
      "cell_type": "code",
      "execution_count": null,
      "metadata": {
        "id": "HoR3_TCjn2Ja"
      },
      "outputs": [],
      "source": [
        "# !curl 'https://my.microsoftpersonalcontent.com/personal/a149071e7d7aaa61/_layouts/15/download.aspx?UniqueId=90c52543-75ba-4d16-9ee8-0c4a783ac710&Translate=false&tempauth=v1e.eyJzaXRlaWQiOiI3NzM0Y2NkNy1mMWE2LTQ0ZmItOWZmYy03MjIyYzI4NGE0ODEiLCJhcHBpZCI6IjAwMDAwMDAwLTAwMDAtMDAwMC0wMDAwLTAwMDA0ODE3MTBhNCIsImF1ZCI6IjAwMDAwMDAzLTAwMDAtMGZmMS1jZTAwLTAwMDAwMDAwMDAwMC9teS5taWNyb3NvZnRwZXJzb25hbGNvbnRlbnQuY29tQDkxODgwNDBkLTZjNjctNGM1Yi1iMTEyLTM2YTMwNGI2NmRhZCIsImV4cCI6IjE3NDMzMDEwMTUifQ.B89qhsAySYRryuNoddw3U5VPLKupDqiYLN7JDuGNp9B-z4lVi7np29-VXzen8wO7OlAf2l2fjs7RPG37bXWmsjw-oMNJd6zmvrEtjhiMpZVY-EKBrgCEyJeOwMtKMGwukhTfgbZQgRFVwHV-Uk4HPY7opSgid8QPwfkFLA8F0Ohkh4ZpmOBaWHvvS01QlAoYC1I0VE7m-Ug9Bky9_DvGUMC0TMaFzpY0lBOGv3lzt8hpaLosn8sF-bDB9wXq6AFcvpKpAfGAxzIZrkafITMB7RTGQj6wAyyZ9dLSiFQfdugasmDI6CpbMkmyNQSBCSoKzn54dCeM7Ir7f25TIZwae7N8yW_F89tznnH3q0-xJfyKkkxIYsQZZmC1AuBEV0J7ipWUr-NiRf0lxi_ShqFyraYlR1gHB7jKzvbnqPie0Mk.Mvl5-yvouOIWRJ1ABSANBACdkq4c9fVeMND3BfvEbCk&ApiVersion=2.0&AVOverride=1' \\\n",
        "#   -H 'accept: text/html,application/xhtml+xml,application/xml;q=0.9,image/avif,image/webp,image/apng,*/*;q=0.8,application/signed-exchange;v=b3;q=0.7' \\\n",
        "#   -H 'accept-language: pt-BR,pt;q=0.9,en-US;q=0.8,en;q=0.7' \\\n",
        "#   -H 'priority: u=0, i' \\\n",
        "#   -H 'referer: https://onedrive.live.com/' \\\n",
        "#   -H 'sec-ch-ua: \"Chromium\";v=\"134\", \"Not:A-Brand\";v=\"24\", \"Google Chrome\";v=\"134\"' \\\n",
        "#   -H 'sec-ch-ua-mobile: ?0' \\\n",
        "#   -H 'sec-ch-ua-platform: \"Linux\"' \\\n",
        "#   -H 'sec-fetch-dest: iframe' \\\n",
        "#   -H 'sec-fetch-mode: navigate' \\\n",
        "#   -H 'sec-fetch-site: cross-site' \\\n",
        "#   -H 'sec-fetch-storage-access: none' \\\n",
        "#   -H 'sec-fetch-user: ?1' \\\n",
        "#   -H 'upgrade-insecure-requests: 1' \\\n",
        "#   -H 'user-agent: Mozilla/5.0 (X11; Linux x86_64) AppleWebKit/537.36 (KHTML, like Gecko) Chrome/134.0.0.0 Safari/537.36' > 'nagoya_2022_2024.npy'"
      ]
    },
    {
      "cell_type": "code",
      "execution_count": null,
      "metadata": {
        "id": "UqaIq-h_n_1V"
      },
      "outputs": [],
      "source": [
        "import numpy as np"
      ]
    },
    {
      "cell_type": "code",
      "execution_count": null,
      "metadata": {
        "id": "hbla_Kq8bk76"
      },
      "outputs": [],
      "source": [
        "nagoya_2022_2024 = np.load('nagoya_2022_2024.npy')"
      ]
    },
    {
      "cell_type": "code",
      "execution_count": null,
      "metadata": {
        "id": "Lacx7MQ1YTaN"
      },
      "outputs": [],
      "source": [
        "import numpy as np\n",
        "from datetime import datetime, timedelta\n",
        "\n",
        "def doy_to_date(year, doy):\n",
        "\n",
        "    return datetime(year, 1, 1) + timedelta(days=doy - 1)\n",
        "\n",
        "doys = {\n",
        "    2022: {\n",
        "        3: [60, 61, 62, 63, 64, 65, 66, 67, 69, 70,\n",
        "            71, 73, 74, 75, 76, 77, 78, 79, 80, 81,\n",
        "            82, 83, 84, 85, 86, 90],\n",
        "        6: [152, 153, 154, 156, 157, 158, 159, 160,\n",
        "            161, 162, 163, 164, 165, 166, 167, 168,\n",
        "            169, 170, 171, 172, 173, 174, 176, 178,\n",
        "            181],\n",
        "        9: [245, 246, 247, 248, 249, 250, 251, 252,\n",
        "            253, 254, 255, 256, 258, 260, 261, 262,\n",
        "            264, 265, 266, 267, 268, 269, 270, 271,\n",
        "            272, 273],\n",
        "        12: [338, 339, 340, 348, 349, 350, 351, 352,\n",
        "             353, 354, 356, 357, 358, 359, 360, 362,\n",
        "             363, 364, 365]\n",
        "    },\n",
        "    2023: {\n",
        "        3: [61, 62, 63, 64, 65, 66, 67, 68, 69, 70,\n",
        "            71, 72, 74, 75, 76, 77, 78, 79, 80, 81,\n",
        "            82, 83, 84, 85, 86, 87, 88, 89, 90],\n",
        "        6: [157, 158, 159, 160, 161, 162, 163, 164, 165, 166,\n",
        "            167, 168, 169, 170, 171, 172, 173, 174, 175, 176,\n",
        "            177, 178, 179, 180, 181],\n",
        "        9: [244, 245, 246, 247, 249, 250, 262, 263, 264, 265,\n",
        "            266, 267, 268, 269, 270, 271, 272, 273],\n",
        "        12: [335, 337, 338, 339, 341, 342, 343, 344, 345,\n",
        "             346, 347, 348, 349, 350, 351, 352, 353, 355, 356,\n",
        "             357, 358, 359, 360, 361, 362, 363, 365]\n",
        "    },\n",
        "    2024: {\n",
        "        3: [61, 62, 63, 64, 65, 66, 67, 68, 69, 70,\n",
        "            71, 72, 73, 74, 75, 76, 77, 78, 79, 80,\n",
        "            81, 86, 87, 88, 89, 91],\n",
        "        6: [153, 154, 155, 156, 157, 158, 159, 160, 161, 162,\n",
        "            163, 164, 165, 166, 167, 168, 169, 170, 171, 173,\n",
        "            174, 175, 176, 177, 180, 181],\n",
        "        9: [247, 248, 249, 250, 251, 252, 253, 254, 255, 256,\n",
        "            257, 258, 261, 262, 263, 264, 265, 266, 267, 268,\n",
        "            269, 270, 271, 272, 274],\n",
        "        12: [336, 337, 338, 339, 340, 341, 342, 343, 344, 345,\n",
        "             346, 347, 349, 350, 351, 352, 353, 354, 355,\n",
        "             356, 357, 358, 359, 360, 361, 362, 363, 364, 365]\n",
        "    }\n",
        "}\n",
        "\n",
        "datetime_list = []\n",
        "\n",
        "for year in doys.keys():\n",
        "    for month in doys[year].keys():\n",
        "        for doy in doys[year][month]:\n",
        "            base_date = doy_to_date(year, doy)\n",
        "            for hour in range(24):\n",
        "                for minute in range(0, 60, 5):\n",
        "                    dt = datetime(base_date.year, base_date.month, base_date.day, hour, minute, 0)\n",
        "                    datetime_list.append(dt)\n",
        "\n",
        "nagoya_datetime_2022_2024 = np.array(datetime_list, dtype='datetime64[s]')\n",
        "\n",
        "print(f\"Total number of datetime points: {len(nagoya_datetime_2022_2024)}\")\n",
        "print(f\"First datetime: {nagoya_datetime_2022_2024[0]}\")\n",
        "print(f\"Last datetime: {nagoya_datetime_2022_2024[-1]}\")\n",
        "\n",
        "np.save('nagoya_datetime_2022_2024.npy', nagoya_datetime_2022_2024)\n",
        "\n",
        "print(\"\\nSample of first 10 datetime entries:\")\n",
        "for dt in nagoya_datetime_2022_2024[:10]:\n",
        "    print(dt)\n",
        "\n",
        "print(\"\\nSample of last 10 datetime entries:\")\n",
        "for dt in nagoya_datetime_2022_2024[-10:]:\n",
        "    print(dt)"
      ]
    },
    {
      "cell_type": "code",
      "execution_count": null,
      "metadata": {
        "id": "TtaWVk_8QMBs"
      },
      "outputs": [],
      "source": [
        "nagoya_dates = np.load('nagoya_datetime_2022_2024.npy')"
      ]
    },
    {
      "cell_type": "code",
      "execution_count": null,
      "metadata": {
        "id": "2xCYLZ9aQk8w"
      },
      "outputs": [],
      "source": [
        "nagoya_dates.shape"
      ]
    },
    {
      "cell_type": "code",
      "execution_count": null,
      "metadata": {
        "id": "trcddEnElgvt"
      },
      "outputs": [],
      "source": [
        "nagoya_dates"
      ]
    },
    {
      "cell_type": "code",
      "execution_count": null,
      "metadata": {
        "id": "aVApy8x7ajp2"
      },
      "outputs": [],
      "source": [
        "nagoya_2022_2024.shape"
      ]
    },
    {
      "cell_type": "code",
      "execution_count": null,
      "metadata": {
        "id": "5peLp8F8k8b5"
      },
      "outputs": [],
      "source": [
        "print(len(nagoya_2022_2024.tolist()))\n",
        "print(len(nagoya_2022_2024[0].tolist()))\n",
        "print(len(nagoya_2022_2024[0][0].tolist()))\n",
        "# print(len(nagoya_2022_2024[0][0][0].tolist()))"
      ]
    },
    {
      "cell_type": "code",
      "execution_count": null,
      "metadata": {
        "id": "aEXXmnBJm6AW"
      },
      "outputs": [],
      "source": [
        "# nagoya_2022.shape"
      ]
    },
    {
      "cell_type": "code",
      "execution_count": null,
      "metadata": {
        "id": "4--U0X3unoDj"
      },
      "outputs": [],
      "source": [
        "# nagoya_2022.shape"
      ]
    },
    {
      "cell_type": "code",
      "execution_count": null,
      "metadata": {
        "id": "US3xQLNm52vN"
      },
      "outputs": [],
      "source": [
        "# nagoya_2023.shape"
      ]
    },
    {
      "cell_type": "code",
      "execution_count": null,
      "metadata": {
        "id": "5SK2smyn6Cwa"
      },
      "outputs": [],
      "source": [
        "# nagoya_2024.shape"
      ]
    },
    {
      "cell_type": "code",
      "execution_count": null,
      "metadata": {
        "id": "1h_Nzxi6nL5Q"
      },
      "outputs": [],
      "source": [
        "# nagoya_dates_2022 = np.array([d for d in nagoya_dates if d.astype(object).year == 2022])"
      ]
    },
    {
      "cell_type": "code",
      "execution_count": null,
      "metadata": {
        "id": "T3fqfcECnZcp"
      },
      "outputs": [],
      "source": [
        "# len(nagoya_dates_2022)"
      ]
    },
    {
      "cell_type": "code",
      "execution_count": null,
      "metadata": {
        "id": "rFPRN3O16KE7"
      },
      "outputs": [],
      "source": [
        "# nagoya_dates_2023 = np.array([d for d in nagoya_dates if d.astype(object).year == 2023])"
      ]
    },
    {
      "cell_type": "code",
      "execution_count": null,
      "metadata": {
        "id": "w1YPmp1V608W"
      },
      "outputs": [],
      "source": [
        "# len(nagoya_dates_2023)"
      ]
    },
    {
      "cell_type": "code",
      "execution_count": null,
      "metadata": {
        "id": "GjMyF_yt66hz"
      },
      "outputs": [],
      "source": [
        "# nagoya_dates_2024 = np.array([d for d in nagoya_dates if d.astype(object).year == 2024])"
      ]
    },
    {
      "cell_type": "code",
      "execution_count": null,
      "metadata": {
        "id": "sq_xN3RV68JS"
      },
      "outputs": [],
      "source": [
        "# len(nagoya_dates_2024)"
      ]
    },
    {
      "cell_type": "code",
      "execution_count": null,
      "metadata": {
        "id": "6A50R38CmQ0Z"
      },
      "outputs": [],
      "source": [
        "# nagoya_dates[0:12]"
      ]
    },
    {
      "cell_type": "code",
      "execution_count": null,
      "metadata": {
        "id": "FE6iX6cvmXSK"
      },
      "outputs": [],
      "source": [
        "# len(nagoya_dates[0:12])"
      ]
    },
    {
      "cell_type": "code",
      "execution_count": null,
      "metadata": {
        "id": "lykciIvkmVgS"
      },
      "outputs": [],
      "source": [
        "len(nagoya_2022_2024[0:12])"
      ]
    },
    {
      "cell_type": "code",
      "execution_count": null,
      "metadata": {
        "id": "Dl7mXCGg8kBy"
      },
      "outputs": [],
      "source": [
        "nagoya_2022_2024_shaped = np.reshape(nagoya_2022_2024, (-1, 242, 221))"
      ]
    },
    {
      "cell_type": "code",
      "execution_count": null,
      "metadata": {
        "id": "KBe8uYCx9pmZ"
      },
      "outputs": [],
      "source": [
        "np.shape(nagoya_2022_2024_shaped)"
      ]
    },
    {
      "cell_type": "code",
      "execution_count": null,
      "metadata": {
        "id": "V9YvYRMr8wa9"
      },
      "outputs": [],
      "source": [
        "np.shape(nagoya_2022_2024_shaped.tolist())"
      ]
    },
    {
      "cell_type": "markdown",
      "metadata": {
        "id": "j3SVOO_KlQBT"
      },
      "source": [
        "## CREATE DATAFRAME"
      ]
    },
    {
      "cell_type": "code",
      "execution_count": null,
      "metadata": {
        "id": "smfOY761yCmR"
      },
      "outputs": [],
      "source": [
        "nagoya_dates.shape"
      ]
    },
    {
      "cell_type": "code",
      "execution_count": null,
      "metadata": {
        "id": "7Y1nE6eeYNcS"
      },
      "outputs": [],
      "source": [
        "import pandas as pd\n",
        "\n",
        "data = {\n",
        "    'DATETIME': nagoya_dates,\n",
        "    'TECMAP': nagoya_2022_2024_shaped.tolist()\n",
        "}\n",
        "\n",
        "df_mapas_nagoya_2022_2024 = pd.DataFrame(data)\n",
        "\n",
        "df_mapas_nagoya_2022_2024"
      ]
    },
    {
      "cell_type": "code",
      "execution_count": null,
      "metadata": {
        "id": "19q8QsnxVWf0"
      },
      "outputs": [],
      "source": [
        "df_mapas_nagoya_2022_2024['DATETIME'] = pd.to_datetime(df_mapas_nagoya_2022_2024['DATETIME'])\n",
        "\n",
        "df_mapas_nagoya_2022_2024.set_index('DATETIME', inplace=True)\n",
        "\n",
        "df_mapas_nagoya_2022_2024 = df_mapas_nagoya_2022_2024[(df_mapas_nagoya_2022_2024.index.minute == 0) & (df_mapas_nagoya_2022_2024.index.hour % 2 == 0)]\n",
        "\n",
        "df1 = df_mapas_nagoya_2022_2024[\n",
        "    ((df_mapas_nagoya_2022_2024.index.year == 2022) & (df_mapas_nagoya_2022_2024.index.month.isin([3, 6, 9]))) |\n",
        "    ((df_mapas_nagoya_2022_2024.index.year == 2024) & (df_mapas_nagoya_2022_2024.index.month.isin([3, 6, 9, 12])))\n",
        "]\n",
        "\n",
        "df2 = df_mapas_nagoya_2022_2024[\n",
        "    ((df_mapas_nagoya_2022_2024.index.year == 2022) & (df_mapas_nagoya_2022_2024.index.month == 12)) |\n",
        "    ((df_mapas_nagoya_2022_2024.index.year == 2023) & (df_mapas_nagoya_2022_2024.index.month.isin([3, 6, 9, 12])))\n",
        "]\n",
        "\n",
        "print(\"DataFrame 1:\")\n",
        "print(df1)\n",
        "print(\"\\nDataFrame 2:\")\n",
        "print(df2)"
      ]
    },
    {
      "cell_type": "code",
      "execution_count": null,
      "metadata": {
        "id": "bh0q1Zl191Sf"
      },
      "outputs": [],
      "source": [
        "np.array(df_mapas_nagoya_2022_2024.iloc[0]['TECMAP'])"
      ]
    },
    {
      "cell_type": "code",
      "execution_count": null,
      "metadata": {
        "id": "r6bZ82Cc_yL1"
      },
      "outputs": [],
      "source": [
        "np.array(df_mapas_nagoya_2022_2024.iloc[0]['TECMAP']).shape"
      ]
    },
    {
      "cell_type": "code",
      "execution_count": null,
      "metadata": {
        "id": "T-0eCWxpANVg"
      },
      "outputs": [],
      "source": [
        "df_mapas_nagoya_2022_2024.to_pickle(\"./df_mapas_nagoya_2022_2024.pkl\")"
      ]
    },
    {
      "cell_type": "code",
      "execution_count": null,
      "metadata": {
        "id": "-JbqSOwWH5ET"
      },
      "outputs": [],
      "source": [
        "df_mapas_nagoya_2022_2024_0800 = df_mapas_nagoya_2022_2024.between_time('08:00', '08:00')\n",
        "\n",
        "df_mapas_nagoya_2022_2024_1600 = df_mapas_nagoya_2022_2024.between_time('16:00', '16:00')\n",
        "\n",
        "df_mapas_nagoya_2022_2024_1800 = df_mapas_nagoya_2022_2024.between_time('18:00', '18:00')\n",
        "\n",
        "df_mapas_nagoya_2022_2024_2000_2200_0000_0200_0400 = pd.concat([\n",
        "    df_mapas_nagoya_2022_2024.between_time('20:00', '20:00'),\n",
        "    df_mapas_nagoya_2022_2024.between_time('22:00', '22:00'),\n",
        "    df_mapas_nagoya_2022_2024.between_time('00:00', '00:00'),\n",
        "    df_mapas_nagoya_2022_2024.between_time('02:00', '02:00'),\n",
        "    df_mapas_nagoya_2022_2024.between_time('04:00', '04:00')\n",
        "])\n",
        "\n",
        "df_mapas_nagoya_2022_2024_2000_2200_0000_0200_0400.sort_index(inplace=True)\n",
        "\n",
        "print(\"Dados das 08:00:\")\n",
        "print(df_mapas_nagoya_2022_2024_0800)\n",
        "\n",
        "print(\"\\nDados das 16:00:\")\n",
        "print(df_mapas_nagoya_2022_2024_1600)\n",
        "\n",
        "print(\"\\nDados das 18:00:\")\n",
        "print(df_mapas_nagoya_2022_2024_1800)\n",
        "\n",
        "print(\"\\nDados das 20:00, 22:00, 00:00, 02:00 e 04:00:\")\n",
        "print(df_mapas_nagoya_2022_2024_2000_2200_0000_0200_0400)"
      ]
    },
    {
      "cell_type": "code",
      "execution_count": null,
      "metadata": {
        "id": "zcUMhfReJWLN"
      },
      "outputs": [],
      "source": [
        "df_mapas_nagoya_2022_2024_0800.to_pickle(\"./df_mapas_nagoya_2022_2024_0800.pkl\")"
      ]
    },
    {
      "cell_type": "code",
      "execution_count": null,
      "metadata": {
        "id": "PPkYbWolLaNO"
      },
      "outputs": [],
      "source": [
        "np.shape(np.array(df_mapas_nagoya_2022_2024_0800.iloc[:]['TECMAP']))"
      ]
    },
    {
      "cell_type": "code",
      "execution_count": null,
      "metadata": {
        "id": "xWz9pbjPMEUi"
      },
      "outputs": [],
      "source": [
        "mapas_nagoya_2022_2024_0800 = np.array(df_mapas_nagoya_2022_2024_0800.iloc[:]['TECMAP'])"
      ]
    },
    {
      "cell_type": "code",
      "execution_count": null,
      "metadata": {
        "id": "xYmLGFKkMKgq"
      },
      "outputs": [],
      "source": [
        "np.shape(mapas_nagoya_2022_2024_0800)"
      ]
    },
    {
      "cell_type": "code",
      "execution_count": null,
      "metadata": {
        "id": "gIFefpAcMQHD"
      },
      "outputs": [],
      "source": [
        "np_mapas_nagoya_2022_2024_0800 = []\n",
        "for i in range(len(mapas_nagoya_2022_2024_0800)):\n",
        "    np_mapas_nagoya_2022_2024_0800.append(mapas_nagoya_2022_2024_0800[i])\n",
        "np_mapas_nagoya_2022_2024_0800 = np.array(np_mapas_nagoya_2022_2024_0800)"
      ]
    },
    {
      "cell_type": "code",
      "execution_count": null,
      "metadata": {
        "id": "YHRlhZavMh0O"
      },
      "outputs": [],
      "source": [
        "np.shape(np_mapas_nagoya_2022_2024_0800)"
      ]
    },
    {
      "cell_type": "code",
      "execution_count": null,
      "metadata": {
        "id": "fMpxyls9wmOY"
      },
      "outputs": [],
      "source": [
        "type(np_mapas_nagoya_2022_2024_0800)"
      ]
    },
    {
      "cell_type": "code",
      "execution_count": null,
      "metadata": {
        "id": "E-Vl9uhOzXy8"
      },
      "outputs": [],
      "source": [
        "np.save('mapas_nagoya_2022_2024_0800.npy', np_mapas_nagoya_2022_2024_0800)"
      ]
    },
    {
      "cell_type": "code",
      "execution_count": null,
      "metadata": {
        "id": "vuJs5B16Jxqg"
      },
      "outputs": [],
      "source": [
        "df_mapas_nagoya_2022_2024_1600.to_pickle(\"./df_mapas_nagoya_2022_2024_1600.pkl\")"
      ]
    },
    {
      "cell_type": "code",
      "execution_count": null,
      "metadata": {
        "id": "2AjcgSX1ueEH"
      },
      "outputs": [],
      "source": [
        "mapas_nagoya_2022_2024_1600 = np.array(df_mapas_nagoya_2022_2024_1600.iloc[:]['TECMAP'])"
      ]
    },
    {
      "cell_type": "code",
      "execution_count": null,
      "metadata": {
        "id": "ALA6WJMVuhx2"
      },
      "outputs": [],
      "source": [
        "np.shape(mapas_nagoya_2022_2024_1600)"
      ]
    },
    {
      "cell_type": "code",
      "execution_count": null,
      "metadata": {
        "id": "Jqj-6z_RtnO5"
      },
      "outputs": [],
      "source": [
        "np_mapas_nagoya_2022_2024_1600 = []\n",
        "for i in range(len(mapas_nagoya_2022_2024_1600)):\n",
        "    np_mapas_nagoya_2022_2024_1600.append(mapas_nagoya_2022_2024_1600[i])\n",
        "np_mapas_nagoya_2022_2024_1600 = np.array(np_mapas_nagoya_2022_2024_1600)"
      ]
    },
    {
      "cell_type": "code",
      "execution_count": null,
      "metadata": {
        "id": "N97gzrUTuk9P"
      },
      "outputs": [],
      "source": [
        "np.shape(np_mapas_nagoya_2022_2024_1600)"
      ]
    },
    {
      "cell_type": "code",
      "execution_count": null,
      "metadata": {
        "id": "8_yCZxUwv7AL"
      },
      "outputs": [],
      "source": [
        "type(np_mapas_nagoya_2022_2024_1600)"
      ]
    },
    {
      "cell_type": "code",
      "execution_count": null,
      "metadata": {
        "id": "Kx3dVexBzjO9"
      },
      "outputs": [],
      "source": [
        "np.save('mapas_nagoya_2022_2024_1600.npy', np_mapas_nagoya_2022_2024_1600)"
      ]
    },
    {
      "cell_type": "code",
      "execution_count": null,
      "metadata": {
        "id": "9cqb1xlSKYJM"
      },
      "outputs": [],
      "source": [
        "df_mapas_nagoya_2022_2024_1800.to_pickle(\"./df_mapas_nagoya_2022_2024_1800.pkl\")"
      ]
    },
    {
      "cell_type": "code",
      "execution_count": null,
      "metadata": {
        "id": "qPmw1i_4xDHN"
      },
      "outputs": [],
      "source": [
        "mapas_nagoya_2022_2024_1800 = np.array(df_mapas_nagoya_2022_2024_1800.iloc[:]['TECMAP'])"
      ]
    },
    {
      "cell_type": "code",
      "execution_count": null,
      "metadata": {
        "id": "befNhVwUxDHO"
      },
      "outputs": [],
      "source": [
        "np.shape(mapas_nagoya_2022_2024_1800)"
      ]
    },
    {
      "cell_type": "code",
      "execution_count": null,
      "metadata": {
        "id": "AKEmkw8QyF1b"
      },
      "outputs": [],
      "source": [
        "np.shape(mapas_nagoya_2022_2024_1800[0])"
      ]
    },
    {
      "cell_type": "code",
      "execution_count": null,
      "metadata": {
        "id": "gKE10YXvxDHO"
      },
      "outputs": [],
      "source": [
        "np_mapas_nagoya_2022_2024_1800 = []\n",
        "for i in range(len(mapas_nagoya_2022_2024_1800)):\n",
        "    np_mapas_nagoya_2022_2024_1800.append(mapas_nagoya_2022_2024_1800[i])\n",
        "np_mapas_nagoya_2022_2024_1800 = np.array(np_mapas_nagoya_2022_2024_1800)"
      ]
    },
    {
      "cell_type": "code",
      "execution_count": null,
      "metadata": {
        "id": "jJ6unDgnxDHP"
      },
      "outputs": [],
      "source": [
        "np.shape(np_mapas_nagoya_2022_2024_1800)"
      ]
    },
    {
      "cell_type": "code",
      "execution_count": null,
      "metadata": {
        "id": "6P_AtyrExDHP"
      },
      "outputs": [],
      "source": [
        "type(np_mapas_nagoya_2022_2024_1800)"
      ]
    },
    {
      "cell_type": "code",
      "execution_count": null,
      "metadata": {
        "id": "q4D44XT5zpde"
      },
      "outputs": [],
      "source": [
        "np.save('mapas_nagoya_2022_2024_1800.npy', np_mapas_nagoya_2022_2024_1800)"
      ]
    },
    {
      "cell_type": "code",
      "execution_count": null,
      "metadata": {
        "id": "GyD5FfqlJ0Ph"
      },
      "outputs": [],
      "source": [
        "df_mapas_nagoya_2022_2024_2000_2200_0000_0200_0400.to_pickle(\"./df_mapas_nagoya_2022_2024_2000_2200_0000_0200_0400.pkl\")"
      ]
    },
    {
      "cell_type": "code",
      "execution_count": null,
      "metadata": {
        "id": "_rWDVwnYyymd"
      },
      "outputs": [],
      "source": [
        "mapas_nagoya_2022_2024_2000_2200_0000_0200_0400 = np.array(df_mapas_nagoya_2022_2024_2000_2200_0000_0200_0400.iloc[:]['TECMAP'])"
      ]
    },
    {
      "cell_type": "code",
      "execution_count": null,
      "metadata": {
        "id": "P7h6hhIyyyme"
      },
      "outputs": [],
      "source": [
        "np.shape(mapas_nagoya_2022_2024_2000_2200_0000_0200_0400)"
      ]
    },
    {
      "cell_type": "code",
      "execution_count": null,
      "metadata": {
        "id": "MAnKeGQlyyme"
      },
      "outputs": [],
      "source": [
        "np.shape(mapas_nagoya_2022_2024_2000_2200_0000_0200_0400[0])"
      ]
    },
    {
      "cell_type": "code",
      "execution_count": null,
      "metadata": {
        "id": "d5hFVcJZyyme"
      },
      "outputs": [],
      "source": [
        "np_mapas_nagoya_2022_2024_2000_2200_0000_0200_0400 = []\n",
        "for i in range(len(mapas_nagoya_2022_2024_2000_2200_0000_0200_0400)):\n",
        "    np_mapas_nagoya_2022_2024_2000_2200_0000_0200_0400.append(mapas_nagoya_2022_2024_2000_2200_0000_0200_0400[i])\n",
        "np_mapas_nagoya_2022_2024_2000_2200_0000_0200_0400 = np.array(np_mapas_nagoya_2022_2024_2000_2200_0000_0200_0400)"
      ]
    },
    {
      "cell_type": "code",
      "execution_count": null,
      "metadata": {
        "id": "7rsk6szRyymf"
      },
      "outputs": [],
      "source": [
        "np.shape(np_mapas_nagoya_2022_2024_2000_2200_0000_0200_0400)"
      ]
    },
    {
      "cell_type": "code",
      "execution_count": null,
      "metadata": {
        "id": "9iFsnjRlyymf"
      },
      "outputs": [],
      "source": [
        "type(np_mapas_nagoya_2022_2024_2000_2200_0000_0200_0400)"
      ]
    },
    {
      "cell_type": "code",
      "execution_count": null,
      "metadata": {
        "id": "rDFCOcYs0dt9"
      },
      "outputs": [],
      "source": [
        "np.save('mapas_nagoya_2022_2024_2000_2200_0000_0200_0400.npy', np_mapas_nagoya_2022_2024_2000_2200_0000_0200_0400)"
      ]
    },
    {
      "cell_type": "markdown",
      "metadata": {
        "id": "sQB1oVmdWEI_"
      },
      "source": [
        "# TF1 ADJUSTS"
      ]
    },
    {
      "cell_type": "markdown",
      "metadata": {
        "id": "qt5j_IdWZcJw"
      },
      "source": [
        "## CONTINUOUS"
      ]
    },
    {
      "cell_type": "code",
      "execution_count": null,
      "metadata": {
        "id": "a9ZqCoA2WPh-"
      },
      "outputs": [],
      "source": [
        "np.array(df1.iloc[0]['TECMAP'])"
      ]
    },
    {
      "cell_type": "code",
      "execution_count": null,
      "metadata": {
        "id": "THoU7IwtWPh_"
      },
      "outputs": [],
      "source": [
        "np.array(df1.iloc[0]['TECMAP']).shape"
      ]
    },
    {
      "cell_type": "code",
      "execution_count": null,
      "metadata": {
        "id": "pyGAMtstWPiA"
      },
      "outputs": [],
      "source": [
        "df1_0800 = df1.between_time('08:00', '08:00')\n",
        "\n",
        "df1_1600 = df1.between_time('16:00', '16:00')\n",
        "\n",
        "# 3) 21:00 UTC A 03:00 UTC (20:00 UTC, 22:00 UTC, 00:00 UTC, 02:00 UTC e 04:00 UTC) (18:00 BRT A 00:00 BRT)\n",
        "df1_2000_2200_0000_0200_0400 = pd.concat([\n",
        "    df1.between_time('20:00', '20:00'),\n",
        "    df1.between_time('22:00', '22:00'),\n",
        "    df1.between_time('00:00', '00:00'),\n",
        "    df1.between_time('02:00', '02:00'),\n",
        "    df1.between_time('04:00', '04:00')\n",
        "])\n",
        "\n",
        "df1_2000_2200_0000_0200_0400.sort_index(inplace=True)\n",
        "\n",
        "print(\"Dados das 08:00:\")\n",
        "print(df1_0800)\n",
        "\n",
        "print(\"\\nDados das 16:00:\")\n",
        "print(df1_1600)\n",
        "\n",
        "print(\"\\nDados das 20:00, 22:00, 00:00, 02:00 e 04:00:\")\n",
        "print(df1_2000_2200_0000_0200_0400)"
      ]
    },
    {
      "cell_type": "code",
      "execution_count": null,
      "metadata": {
        "id": "F-yXD8rtm8gl"
      },
      "outputs": [],
      "source": [
        "df1.to_pickle(\"./df1_mapas_nagoya_2022_2024.pkl\")"
      ]
    },
    {
      "cell_type": "code",
      "execution_count": null,
      "metadata": {
        "id": "m9klXPFNnMV3"
      },
      "outputs": [],
      "source": [
        "np.shape(np.array(df1.iloc[:]['TECMAP']))"
      ]
    },
    {
      "cell_type": "code",
      "execution_count": null,
      "metadata": {
        "id": "9Skto206nDmc"
      },
      "outputs": [],
      "source": [
        "mapas1 = np.array(df1.iloc[:]['TECMAP'])"
      ]
    },
    {
      "cell_type": "code",
      "execution_count": null,
      "metadata": {
        "id": "KlUKR5V7nF8s"
      },
      "outputs": [],
      "source": [
        "np.shape(df1)"
      ]
    },
    {
      "cell_type": "code",
      "execution_count": null,
      "metadata": {
        "id": "bCMDpAaxnQ49"
      },
      "outputs": [],
      "source": [
        "np_mapas1 = []\n",
        "for i in range(len(mapas1)):\n",
        "    np_mapas1.append(mapas1[i])\n",
        "np_mapas1 = np.array(np_mapas1)"
      ]
    },
    {
      "cell_type": "code",
      "execution_count": null,
      "metadata": {
        "id": "cAbF4gmInXr2"
      },
      "outputs": [],
      "source": [
        "np.shape(np_mapas1)"
      ]
    },
    {
      "cell_type": "code",
      "execution_count": null,
      "metadata": {
        "id": "ln-ND4GZneQX"
      },
      "outputs": [],
      "source": [
        "type(np_mapas1)"
      ]
    },
    {
      "cell_type": "code",
      "execution_count": null,
      "metadata": {
        "id": "L-UCbyHung5I"
      },
      "outputs": [],
      "source": [
        "np.save('mapas1_nagoya_2022_2024.npy', np_mapas1)"
      ]
    },
    {
      "cell_type": "markdown",
      "metadata": {
        "id": "V7eT0pGYZjG6"
      },
      "source": [
        "## 08:00 UTC"
      ]
    },
    {
      "cell_type": "code",
      "execution_count": null,
      "metadata": {
        "id": "EhtXj6iEWPiA"
      },
      "outputs": [],
      "source": [
        "df1_0800.to_pickle(\"./df1_mapas_nagoya_2022_2024_0800.pkl\")"
      ]
    },
    {
      "cell_type": "code",
      "execution_count": null,
      "metadata": {
        "id": "p-qeZa-KWPiA"
      },
      "outputs": [],
      "source": [
        "np.shape(np.array(df1_0800.iloc[:]['TECMAP']))"
      ]
    },
    {
      "cell_type": "code",
      "execution_count": null,
      "metadata": {
        "id": "Yn-HX7eXWPiA"
      },
      "outputs": [],
      "source": [
        "mapas1_0800 = np.array(df1_0800.iloc[:]['TECMAP'])"
      ]
    },
    {
      "cell_type": "code",
      "execution_count": null,
      "metadata": {
        "id": "nlVO8inwWPiA"
      },
      "outputs": [],
      "source": [
        "np.shape(df1_0800)"
      ]
    },
    {
      "cell_type": "code",
      "execution_count": null,
      "metadata": {
        "id": "acE7ik_DWPiB"
      },
      "outputs": [],
      "source": [
        "np_mapas1_0800 = []\n",
        "for i in range(len(mapas1_0800)):\n",
        "    np_mapas1_0800.append(mapas1_0800[i])\n",
        "np_mapas1_0800 = np.array(np_mapas1_0800)"
      ]
    },
    {
      "cell_type": "code",
      "execution_count": null,
      "metadata": {
        "id": "4VxT5wCWWPiB"
      },
      "outputs": [],
      "source": [
        "np.shape(np_mapas1_0800)"
      ]
    },
    {
      "cell_type": "code",
      "execution_count": null,
      "metadata": {
        "id": "ncknCwT8WPiB"
      },
      "outputs": [],
      "source": [
        "type(np_mapas1_0800)"
      ]
    },
    {
      "cell_type": "code",
      "execution_count": null,
      "metadata": {
        "id": "AvMDW2X1WPiB"
      },
      "outputs": [],
      "source": [
        "np.save('mapas1_nagoya_2022_2024_0800.npy', np_mapas1_0800)"
      ]
    },
    {
      "cell_type": "markdown",
      "metadata": {
        "id": "-JuTJecTirA2"
      },
      "source": [
        "## 16:00 UTC"
      ]
    },
    {
      "cell_type": "code",
      "execution_count": null,
      "metadata": {
        "id": "mhEa-iuCWPiB"
      },
      "outputs": [],
      "source": [
        "df1_1600.to_pickle(\"./df1_mapas_nagoya_2022_2024_1600.pkl\")"
      ]
    },
    {
      "cell_type": "code",
      "execution_count": null,
      "metadata": {
        "id": "mn8RmkwWWPiC"
      },
      "outputs": [],
      "source": [
        "mapas1_1600 = np.array(df1_1600.iloc[:]['TECMAP'])"
      ]
    },
    {
      "cell_type": "code",
      "execution_count": null,
      "metadata": {
        "id": "MRTdplvbWPiC"
      },
      "outputs": [],
      "source": [
        "np.shape(mapas1_1600)"
      ]
    },
    {
      "cell_type": "code",
      "execution_count": null,
      "metadata": {
        "id": "47gYZPHzWPiC"
      },
      "outputs": [],
      "source": [
        "np_mapas1_1600 = []\n",
        "for i in range(len(mapas1_1600)):\n",
        "    np_mapas1_1600.append(mapas1_1600[i])\n",
        "np_mapas1_1600 = np.array(np_mapas1_1600)"
      ]
    },
    {
      "cell_type": "code",
      "execution_count": null,
      "metadata": {
        "id": "0BRr2lXnWPiC"
      },
      "outputs": [],
      "source": [
        "np.shape(np_mapas1_1600)"
      ]
    },
    {
      "cell_type": "code",
      "execution_count": null,
      "metadata": {
        "id": "u0BahecIWPiC"
      },
      "outputs": [],
      "source": [
        "type(np_mapas1_1600)"
      ]
    },
    {
      "cell_type": "code",
      "execution_count": null,
      "metadata": {
        "id": "KwnI0hfeWPiD"
      },
      "outputs": [],
      "source": [
        "np.save('mapas1_nagoya_2022_2024_1600.npy', np_mapas1_1600)"
      ]
    },
    {
      "cell_type": "markdown",
      "metadata": {
        "id": "X4NvXOt8brUY"
      },
      "source": [
        "## 20:00 TO 04:00 UTC"
      ]
    },
    {
      "cell_type": "code",
      "execution_count": null,
      "metadata": {
        "id": "Edq3VhjpbrUZ"
      },
      "outputs": [],
      "source": [
        "df1_2000_2200_0000_0200_0400.to_pickle(\"./df1_mapas_nagoya_2022_2024_2000_2200_0000_0200_0400.pkl\")"
      ]
    },
    {
      "cell_type": "code",
      "execution_count": null,
      "metadata": {
        "id": "aCFptx_YbrUZ"
      },
      "outputs": [],
      "source": [
        "mapas1_2000_2200_0000_0200_0400 = np.array(df1_2000_2200_0000_0200_0400.iloc[:]['TECMAP'])"
      ]
    },
    {
      "cell_type": "code",
      "execution_count": null,
      "metadata": {
        "id": "iVpVqn6-brUZ"
      },
      "outputs": [],
      "source": [
        "np.shape(mapas1_2000_2200_0000_0200_0400)"
      ]
    },
    {
      "cell_type": "code",
      "execution_count": null,
      "metadata": {
        "id": "2HPq3MPdbrUZ"
      },
      "outputs": [],
      "source": [
        "np_mapas1_2000_2200_0000_0200_0400 = []\n",
        "for i in range(len(mapas1_2000_2200_0000_0200_0400)):\n",
        "    np_mapas1_2000_2200_0000_0200_0400.append(mapas1_2000_2200_0000_0200_0400[i])\n",
        "np_mapas1_2000_2200_0000_0200_0400 = np.array(np_mapas1_2000_2200_0000_0200_0400)"
      ]
    },
    {
      "cell_type": "code",
      "execution_count": null,
      "metadata": {
        "id": "lsgjYbQabrUa"
      },
      "outputs": [],
      "source": [
        "np.shape(np_mapas1_2000_2200_0000_0200_0400)"
      ]
    },
    {
      "cell_type": "code",
      "execution_count": null,
      "metadata": {
        "id": "zqd5kvv_brUa"
      },
      "outputs": [],
      "source": [
        "type(np_mapas1_2000_2200_0000_0200_0400)"
      ]
    },
    {
      "cell_type": "code",
      "execution_count": null,
      "metadata": {
        "id": "E9uzyImbbrUa"
      },
      "outputs": [],
      "source": [
        "np.save('mapas1_nagoya_2022_2024_2000_2200_0000_0200_0400.npy', np_mapas1_2000_2200_0000_0200_0400)"
      ]
    },
    {
      "cell_type": "markdown",
      "metadata": {
        "id": "LbrpshL5lDbn"
      },
      "source": [
        "# TF2 ADJUSTS"
      ]
    },
    {
      "cell_type": "markdown",
      "metadata": {
        "id": "VLsT56MslDbo"
      },
      "source": [
        "## CONTINUOUS"
      ]
    },
    {
      "cell_type": "code",
      "execution_count": null,
      "metadata": {
        "id": "VNUUZeMHlDbo"
      },
      "outputs": [],
      "source": [
        "np.array(df2.iloc[0]['TECMAP'])"
      ]
    },
    {
      "cell_type": "code",
      "execution_count": null,
      "metadata": {
        "id": "oB_rlugUlDbp"
      },
      "outputs": [],
      "source": [
        "np.array(df2.iloc[0]['TECMAP']).shape"
      ]
    },
    {
      "cell_type": "code",
      "execution_count": null,
      "metadata": {
        "id": "UlqRklZslDbq"
      },
      "outputs": [],
      "source": [
        "df2_0800 = df2.between_time('08:00', '08:00')\n",
        "\n",
        "df2_1600 = df2.between_time('16:00', '16:00')\n",
        "\n",
        "df2_1800 = df2.between_time('18:00', '18:00')\n",
        "\n",
        "df2_2000_2200_0000_0200_0400 = pd.concat([\n",
        "    df2.between_time('20:00', '20:00'),\n",
        "    df2.between_time('22:00', '22:00'),\n",
        "    df2.between_time('00:00', '00:00'),\n",
        "    df2.between_time('02:00', '02:00'),\n",
        "    df2.between_time('04:00', '04:00')\n",
        "])\n",
        "\n",
        "df2_2000_2200_0000_0200_0400.sort_index(inplace=True)\n",
        "\n",
        "print(\"Dados das 08:00:\")\n",
        "print(df2_0800)\n",
        "\n",
        "print(\"\\nDados das 16:00:\")\n",
        "print(df2_1600)\n",
        "\n",
        "print(\"\\nDados das 18:00:\")\n",
        "print(df2_1800)\n",
        "\n",
        "print(\"\\nDados das 20:00, 22:00, 00:00, 02:00 e 04:00:\")\n",
        "print(df2_2000_2200_0000_0200_0400)"
      ]
    },
    {
      "cell_type": "code",
      "execution_count": null,
      "metadata": {
        "id": "9dyo4XgRntLL"
      },
      "outputs": [],
      "source": [
        "df2.to_pickle(\"./df2_mapas_nagoya_2022_2024.pkl\")"
      ]
    },
    {
      "cell_type": "code",
      "execution_count": null,
      "metadata": {
        "id": "1mK0RSjzntLL"
      },
      "outputs": [],
      "source": [
        "np.shape(np.array(df2.iloc[:]['TECMAP']))"
      ]
    },
    {
      "cell_type": "code",
      "execution_count": null,
      "metadata": {
        "id": "LbPiZslAntLM"
      },
      "outputs": [],
      "source": [
        "mapas2 = np.array(df2.iloc[:]['TECMAP'])"
      ]
    },
    {
      "cell_type": "code",
      "execution_count": null,
      "metadata": {
        "id": "6DyycRVDntLM"
      },
      "outputs": [],
      "source": [
        "np.shape(df2)"
      ]
    },
    {
      "cell_type": "code",
      "execution_count": null,
      "metadata": {
        "id": "aj86X0PnntLM"
      },
      "outputs": [],
      "source": [
        "np_mapas2 = []\n",
        "for i in range(len(mapas2)):\n",
        "    np_mapas2.append(mapas2[i])\n",
        "np_mapas2 = np.array(np_mapas2)"
      ]
    },
    {
      "cell_type": "code",
      "execution_count": null,
      "metadata": {
        "id": "oMwmxF7FntLN"
      },
      "outputs": [],
      "source": [
        "np.shape(np_mapas2)"
      ]
    },
    {
      "cell_type": "code",
      "execution_count": null,
      "metadata": {
        "id": "X1_9OXRzntLN"
      },
      "outputs": [],
      "source": [
        "type(np_mapas2)"
      ]
    },
    {
      "cell_type": "code",
      "execution_count": null,
      "metadata": {
        "id": "uAa17sKtntLO"
      },
      "outputs": [],
      "source": [
        "np.save('mapas2_nagoya_2022_2024.npy', np_mapas2)"
      ]
    },
    {
      "cell_type": "markdown",
      "metadata": {
        "id": "NdEcc-iNlDbq"
      },
      "source": [
        "## 08:00 UTC"
      ]
    },
    {
      "cell_type": "code",
      "execution_count": null,
      "metadata": {
        "id": "kjWQr-BvlDbr"
      },
      "outputs": [],
      "source": [
        "df2_0800.to_pickle(\"./df2_mapas_nagoya_2022_2024_0800.pkl\")"
      ]
    },
    {
      "cell_type": "code",
      "execution_count": null,
      "metadata": {
        "id": "9j0NAFqAlDbr"
      },
      "outputs": [],
      "source": [
        "np.shape(np.array(df2_0800.iloc[:]['TECMAP']))"
      ]
    },
    {
      "cell_type": "code",
      "execution_count": null,
      "metadata": {
        "id": "fD2vD4K_lDbr"
      },
      "outputs": [],
      "source": [
        "mapas2_0800 = np.array(df2_0800.iloc[:]['TECMAP'])"
      ]
    },
    {
      "cell_type": "code",
      "execution_count": null,
      "metadata": {
        "id": "gO5rYH5SlDbs"
      },
      "outputs": [],
      "source": [
        "np.shape(df2_0800)"
      ]
    },
    {
      "cell_type": "code",
      "execution_count": null,
      "metadata": {
        "id": "zfhY8d28lDbs"
      },
      "outputs": [],
      "source": [
        "np_mapas2_0800 = []\n",
        "for i in range(len(mapas2_0800)):\n",
        "    np_mapas2_0800.append(mapas2_0800[i])\n",
        "np_mapas2_0800 = np.array(np_mapas2_0800)"
      ]
    },
    {
      "cell_type": "code",
      "execution_count": null,
      "metadata": {
        "id": "g9y-ZSkSlDbs"
      },
      "outputs": [],
      "source": [
        "np.shape(np_mapas2_0800)"
      ]
    },
    {
      "cell_type": "code",
      "execution_count": null,
      "metadata": {
        "id": "zWYmKzDKlDbt"
      },
      "outputs": [],
      "source": [
        "type(np_mapas2_0800)"
      ]
    },
    {
      "cell_type": "code",
      "execution_count": null,
      "metadata": {
        "id": "ebswsqyBlDbt"
      },
      "outputs": [],
      "source": [
        "np.save('mapas2_nagoya_2022_2024_0800.npy', np_mapas2_0800)"
      ]
    },
    {
      "cell_type": "markdown",
      "metadata": {
        "id": "2raA08t5lDbu"
      },
      "source": [
        "## 16:00 UTC"
      ]
    },
    {
      "cell_type": "code",
      "execution_count": null,
      "metadata": {
        "id": "LAjAKsi-lDbu"
      },
      "outputs": [],
      "source": [
        "df2_1600.to_pickle(\"./df2_mapas_nagoya_2022_2024_1600.pkl\")"
      ]
    },
    {
      "cell_type": "code",
      "execution_count": null,
      "metadata": {
        "id": "Gh042tAzlDbv"
      },
      "outputs": [],
      "source": [
        "mapas2_1600 = np.array(df2_1600.iloc[:]['TECMAP'])"
      ]
    },
    {
      "cell_type": "code",
      "execution_count": null,
      "metadata": {
        "id": "o1oAoUWilDbv"
      },
      "outputs": [],
      "source": [
        "np.shape(mapas2_1600)"
      ]
    },
    {
      "cell_type": "code",
      "execution_count": null,
      "metadata": {
        "id": "nqJUFs6LlDbv"
      },
      "outputs": [],
      "source": [
        "np_mapas2_1600 = []\n",
        "for i in range(len(mapas2_1600)):\n",
        "    np_mapas2_1600.append(mapas2_1600[i])\n",
        "np_mapas2_1600 = np.array(np_mapas2_1600)"
      ]
    },
    {
      "cell_type": "code",
      "execution_count": null,
      "metadata": {
        "id": "U18byVinlDbw"
      },
      "outputs": [],
      "source": [
        "np.shape(np_mapas2_1600)"
      ]
    },
    {
      "cell_type": "code",
      "execution_count": null,
      "metadata": {
        "id": "BjwdeoMYlDbw"
      },
      "outputs": [],
      "source": [
        "type(np_mapas2_1600)"
      ]
    },
    {
      "cell_type": "code",
      "execution_count": null,
      "metadata": {
        "id": "2947jOIklDbw"
      },
      "outputs": [],
      "source": [
        "np.save('mapas2_nagoya_2022_2024_1600.npy', np_mapas2_1600)"
      ]
    },
    {
      "cell_type": "markdown",
      "metadata": {
        "id": "O8ccL_7VlDb0"
      },
      "source": [
        "## 20:00 TO 04:00 UTC"
      ]
    },
    {
      "cell_type": "code",
      "execution_count": null,
      "metadata": {
        "id": "--yw2BjIlDb0"
      },
      "outputs": [],
      "source": [
        "df2_2000_2200_0000_0200_0400.to_pickle(\"./df2_mapas_nagoya_2022_2024_2000_2200_0000_0200_0400.pkl\")"
      ]
    },
    {
      "cell_type": "code",
      "execution_count": null,
      "metadata": {
        "id": "qFNdDjJ8lDb1"
      },
      "outputs": [],
      "source": [
        "mapas2_2000_2200_0000_0200_0400 = np.array(df2_2000_2200_0000_0200_0400.iloc[:]['TECMAP'])"
      ]
    },
    {
      "cell_type": "code",
      "execution_count": null,
      "metadata": {
        "id": "2vvmRElslDb1"
      },
      "outputs": [],
      "source": [
        "np.shape(mapas2_2000_2200_0000_0200_0400)"
      ]
    },
    {
      "cell_type": "code",
      "execution_count": null,
      "metadata": {
        "id": "e_mZQg9dlDb2"
      },
      "outputs": [],
      "source": [
        "np_mapas2_2000_2200_0000_0200_0400 = []\n",
        "for i in range(len(mapas2_2000_2200_0000_0200_0400)):\n",
        "    np_mapas2_2000_2200_0000_0200_0400.append(mapas2_2000_2200_0000_0200_0400[i])\n",
        "np_mapas2_2000_2200_0000_0200_0400 = np.array(np_mapas2_2000_2200_0000_0200_0400)"
      ]
    },
    {
      "cell_type": "code",
      "execution_count": null,
      "metadata": {
        "id": "vV3PQ1O4lDb2"
      },
      "outputs": [],
      "source": [
        "np.shape(np_mapas2_2000_2200_0000_0200_0400)"
      ]
    },
    {
      "cell_type": "code",
      "execution_count": null,
      "metadata": {
        "id": "e_7yHoo4lDb2"
      },
      "outputs": [],
      "source": [
        "type(np_mapas2_2000_2200_0000_0200_0400)"
      ]
    },
    {
      "cell_type": "code",
      "execution_count": null,
      "metadata": {
        "id": "ICrJJEo6lDb3"
      },
      "outputs": [],
      "source": [
        "np.save('mapas2_nagoya_2022_2024_2000_2200_0000_0200_0400.npy', np_mapas2_2000_2200_0000_0200_0400)"
      ]
    },
    {
      "cell_type": "markdown",
      "metadata": {
        "id": "zHDARhhVba1a"
      },
      "source": [
        "# DOWNLOAD OUTPUTS"
      ]
    },
    {
      "cell_type": "code",
      "execution_count": null,
      "metadata": {
        "id": "dTWkmAnZK4bz"
      },
      "outputs": [],
      "source": [
        "from google.colab import files"
      ]
    },
    {
      "cell_type": "code",
      "execution_count": null,
      "metadata": {
        "id": "Boj9YA_edRlx"
      },
      "outputs": [],
      "source": [
        "%pwd"
      ]
    },
    {
      "cell_type": "code",
      "source": [
        "!ls -lh NAGOYA*"
      ],
      "metadata": {
        "id": "R9fGLXGXskK5"
      },
      "execution_count": null,
      "outputs": []
    },
    {
      "cell_type": "code",
      "source": [
        "files.download('NAGOYA-2024.npy')"
      ],
      "metadata": {
        "id": "aVLeffl_tpXz"
      },
      "execution_count": null,
      "outputs": []
    },
    {
      "cell_type": "code",
      "execution_count": null,
      "metadata": {
        "id": "EVTsa3kvod8z"
      },
      "outputs": [],
      "source": [
        "!ls -lh df*"
      ]
    },
    {
      "cell_type": "code",
      "execution_count": null,
      "metadata": {
        "id": "jb5U0f-Aow3L"
      },
      "outputs": [],
      "source": [
        "!ls -lh nagoya*"
      ]
    },
    {
      "cell_type": "code",
      "execution_count": null,
      "metadata": {
        "id": "YcmhmkATqlmL"
      },
      "outputs": [],
      "source": [
        "from google.colab import files"
      ]
    },
    {
      "cell_type": "code",
      "execution_count": null,
      "metadata": {
        "id": "B45ejd4zrhMB"
      },
      "outputs": [],
      "source": [
        "%pwd"
      ]
    },
    {
      "cell_type": "code",
      "execution_count": null,
      "metadata": {
        "id": "LUHp2xotriFZ"
      },
      "outputs": [],
      "source": [
        "%cd /content/nagoya-INTERSECTION-2022-2024"
      ]
    },
    {
      "cell_type": "code",
      "source": [
        "%pwd"
      ],
      "metadata": {
        "id": "IzOuKfAfm_hc"
      },
      "execution_count": null,
      "outputs": []
    },
    {
      "cell_type": "code",
      "execution_count": null,
      "metadata": {
        "id": "Dpkj6_lYbt0J"
      },
      "outputs": [],
      "source": [
        "# files.download('./nagoya_2022_2024.npy')"
      ]
    },
    {
      "cell_type": "code",
      "execution_count": null,
      "metadata": {
        "id": "Fb5a__Bf82ou"
      },
      "outputs": [],
      "source": [
        "!ls -lh nagoya*"
      ]
    },
    {
      "cell_type": "code",
      "execution_count": null,
      "metadata": {
        "id": "8Qu-_WAttdcp"
      },
      "outputs": [],
      "source": [
        "!ls -lh mapas*.npy"
      ]
    },
    {
      "cell_type": "code",
      "execution_count": null,
      "metadata": {
        "id": "rDA9kn2O8x-O"
      },
      "outputs": [],
      "source": [
        "# files.download('./nagoya_2022_2024.npy')"
      ]
    },
    {
      "cell_type": "code",
      "execution_count": null,
      "metadata": {
        "id": "IHTZyUJcDANw"
      },
      "outputs": [],
      "source": [
        "# from google.colab import drive\n",
        "# drive.mount('/content/drive')"
      ]
    },
    {
      "cell_type": "code",
      "execution_count": null,
      "metadata": {
        "id": "hU0BgBrlDJPL"
      },
      "outputs": [],
      "source": [
        "# %cp nagoya_2022_2024.npy /content/drive/MyDrive/nagoya_2022_2024.npy"
      ]
    },
    {
      "cell_type": "code",
      "execution_count": null,
      "metadata": {
        "id": "ZV_9bR28Fle-"
      },
      "outputs": [],
      "source": [
        "# %pwd"
      ]
    },
    {
      "cell_type": "code",
      "execution_count": null,
      "metadata": {
        "id": "rOdBHHJ1FvS4"
      },
      "outputs": [],
      "source": [
        "# %cd /content/drive/MyDrive"
      ]
    },
    {
      "cell_type": "code",
      "execution_count": null,
      "metadata": {
        "id": "AvdsywltFeQ1"
      },
      "outputs": [],
      "source": [
        "# !df -H /content/drive/MyDrive"
      ]
    },
    {
      "cell_type": "code",
      "execution_count": null,
      "metadata": {
        "id": "IcO9--0jjGyS"
      },
      "outputs": [],
      "source": [
        "files.download('./nagoya_datetime_2022_2024.npy')"
      ]
    },
    {
      "cell_type": "code",
      "execution_count": null,
      "metadata": {
        "id": "8dTUgmPbbsct"
      },
      "outputs": [],
      "source": [
        "# files.download('./df_mapas_nagoya_2022_2024.pkl')"
      ]
    },
    {
      "cell_type": "code",
      "execution_count": null,
      "metadata": {
        "id": "q5FZ8v0MbsjV"
      },
      "outputs": [],
      "source": [
        "files.download('./df_mapas_nagoya_2022_2024_0800.pkl')"
      ]
    },
    {
      "cell_type": "code",
      "execution_count": null,
      "metadata": {
        "id": "uZAT8UzBbspP"
      },
      "outputs": [],
      "source": [
        "files.download('./df_mapas_nagoya_2022_2024_1600.pkl')"
      ]
    },
    {
      "cell_type": "code",
      "execution_count": null,
      "metadata": {
        "id": "qenA3FWybsuu"
      },
      "outputs": [],
      "source": [
        "files.download('./df_mapas_nagoya_2022_2024_1800.pkl')"
      ]
    },
    {
      "cell_type": "code",
      "execution_count": null,
      "metadata": {
        "id": "0POwPEgebtsV"
      },
      "outputs": [],
      "source": [
        "files.download('./df_mapas_nagoya_2022_2024_2000_2200_0000_0200_0400.pkl')"
      ]
    },
    {
      "cell_type": "code",
      "execution_count": null,
      "metadata": {
        "id": "sPUDSzrwboR0"
      },
      "outputs": [],
      "source": [
        "# files.download('./df1_mapas_nagoya_2022_2024.pkl')"
      ]
    },
    {
      "cell_type": "code",
      "execution_count": null,
      "metadata": {
        "id": "0BmJh3umlVuH"
      },
      "outputs": [],
      "source": [
        "files.download('./df1_mapas_nagoya_2022_2024_0800.pkl')"
      ]
    },
    {
      "cell_type": "code",
      "execution_count": null,
      "metadata": {
        "id": "U69muXpubrZu"
      },
      "outputs": [],
      "source": [
        "files.download('./df1_mapas_nagoya_2022_2024_1600.pkl')"
      ]
    },
    {
      "cell_type": "code",
      "execution_count": null,
      "metadata": {
        "id": "TF7e33ZDbrm6"
      },
      "outputs": [],
      "source": [
        "files.download('./df1_mapas_nagoya_2022_2024_1800.pkl')"
      ]
    },
    {
      "cell_type": "code",
      "execution_count": null,
      "metadata": {
        "id": "XOFSLoInbrxg"
      },
      "outputs": [],
      "source": [
        "files.download('./df1_mapas_nagoya_2022_2024_2000_2200_0000_0200_0400.pkl')"
      ]
    },
    {
      "cell_type": "code",
      "execution_count": null,
      "metadata": {
        "id": "hy-nQfd4br66"
      },
      "outputs": [],
      "source": [
        "files.download('./df2_mapas_nagoya_2022_2024.pkl')"
      ]
    },
    {
      "cell_type": "code",
      "execution_count": null,
      "metadata": {
        "id": "KNFdbzApbsCi"
      },
      "outputs": [],
      "source": [
        "files.download('./df2_mapas_nagoya_2022_2024_0800.pkl')"
      ]
    },
    {
      "cell_type": "code",
      "execution_count": null,
      "metadata": {
        "id": "awV2CxpXbsJZ"
      },
      "outputs": [],
      "source": [
        "files.download('./df2_mapas_nagoya_2022_2024_1600.pkl')"
      ]
    },
    {
      "cell_type": "code",
      "execution_count": null,
      "metadata": {
        "id": "ozstjiBSbsPb"
      },
      "outputs": [],
      "source": [
        "files.download('./df2_mapas_nagoya_2022_2024_1800.pkl')"
      ]
    },
    {
      "cell_type": "code",
      "execution_count": null,
      "metadata": {
        "id": "6O1zIZVabsWU"
      },
      "outputs": [],
      "source": [
        "files.download('./df2_mapas_nagoya_2022_2024_2000_2200_0000_0200_0400.pkl')"
      ]
    },
    {
      "cell_type": "code",
      "execution_count": null,
      "metadata": {
        "id": "GQH9ZdPVoQk-"
      },
      "outputs": [],
      "source": [
        "files.download('./mapas1_nagoya_2022_2024.npy')"
      ]
    },
    {
      "cell_type": "code",
      "execution_count": null,
      "metadata": {
        "id": "2RD6fIV6bt4c"
      },
      "outputs": [],
      "source": [
        "files.download('./mapas1_nagoya_2022_2024_0800.npy')"
      ]
    },
    {
      "cell_type": "code",
      "execution_count": null,
      "metadata": {
        "id": "6HHKwbKNcZ-g"
      },
      "outputs": [],
      "source": [
        "files.download('./mapas1_nagoya_2022_2024_1600.npy')"
      ]
    },
    {
      "cell_type": "code",
      "execution_count": null,
      "metadata": {
        "id": "Ck5NXIsCcaI6"
      },
      "outputs": [],
      "source": [
        "files.download('./mapas1_nagoya_2022_2024_1800.npy')"
      ]
    },
    {
      "cell_type": "code",
      "execution_count": null,
      "metadata": {
        "id": "0JeXcdi7caSc"
      },
      "outputs": [],
      "source": [
        "files.download('./mapas1_nagoya_2022_2024_2000_2200_0000_0200_0400.npy')"
      ]
    },
    {
      "cell_type": "code",
      "execution_count": null,
      "metadata": {
        "id": "W1dEWQRpoXkf"
      },
      "outputs": [],
      "source": [
        "files.download('./mapas2_nagoya_2022_2024.npy')"
      ]
    },
    {
      "cell_type": "code",
      "execution_count": null,
      "metadata": {
        "id": "iklwWlH5cabA"
      },
      "outputs": [],
      "source": [
        "files.download('./mapas2_nagoya_2022_2024_0800.npy')"
      ]
    },
    {
      "cell_type": "code",
      "execution_count": null,
      "metadata": {
        "id": "FDkaFf_gcakQ"
      },
      "outputs": [],
      "source": [
        "files.download('./mapas2_nagoya_2022_2024_1600.npy')"
      ]
    },
    {
      "cell_type": "code",
      "execution_count": null,
      "metadata": {
        "id": "4MB9JUjmcasQ"
      },
      "outputs": [],
      "source": [
        "files.download('./mapas2_nagoya_2022_2024_1800.npy')"
      ]
    },
    {
      "cell_type": "code",
      "execution_count": null,
      "metadata": {
        "id": "0k6rLBCCcaz5"
      },
      "outputs": [],
      "source": [
        "files.download('./mapas2_nagoya_2022_2024_2000_2200_0000_0200_0400.npy')"
      ]
    },
    {
      "cell_type": "code",
      "execution_count": null,
      "metadata": {
        "id": "z2SFVrA7ca7G"
      },
      "outputs": [],
      "source": [
        "files.download('./mapas_nagoya_2022_2024_0800.npy')"
      ]
    },
    {
      "cell_type": "code",
      "execution_count": null,
      "metadata": {
        "id": "tj8zOwH0cbCw"
      },
      "outputs": [],
      "source": [
        "files.download('./mapas_nagoya_2022_2024_1600.npy')"
      ]
    },
    {
      "cell_type": "code",
      "execution_count": null,
      "metadata": {
        "id": "krZ3AQwlcbJ_"
      },
      "outputs": [],
      "source": [
        "files.download('./mapas_nagoya_2022_2024_1800.npy')"
      ]
    },
    {
      "cell_type": "code",
      "execution_count": null,
      "metadata": {
        "id": "cGraOl3KcbQ0"
      },
      "outputs": [],
      "source": [
        "files.download('./mapas_nagoya_2022_2024_2000_2200_0000_0200_0400.npy')"
      ]
    },
    {
      "cell_type": "markdown",
      "source": [
        "# CASE STUDY - 30-MINUTE TEMPORAL RESOLUTION - INTERSECTION BETWEEN NAGOYA, MAGGIA AND EMBRACE"
      ],
      "metadata": {
        "id": "DnO3lo9_C2go"
      }
    },
    {
      "cell_type": "markdown",
      "metadata": {
        "id": "woPiK5IuC2go"
      },
      "source": [
        "# ZIP FILES ADJUSTS"
      ]
    },
    {
      "cell_type": "code",
      "execution_count": null,
      "metadata": {
        "id": "JYJoZ3vqC2gp"
      },
      "outputs": [],
      "source": [
        "# %pwd"
      ]
    },
    {
      "cell_type": "code",
      "execution_count": null,
      "metadata": {
        "id": "FPXt2SajC2gp"
      },
      "outputs": [],
      "source": [
        "!curl 'https://my.microsoftpersonalcontent.com/personal/a149071e7d7aaa61/_layouts/15/download.aspx?UniqueId=2dabbe53-d2cc-40a8-9e4c-4b9228c92878&Translate=false&tempauth=v1e.eyJzaXRlaWQiOiI3NzM0Y2NkNy1mMWE2LTQ0ZmItOWZmYy03MjIyYzI4NGE0ODEiLCJhcHBpZCI6IjAwMDAwMDAwLTAwMDAtMDAwMC0wMDAwLTAwMDA0ODE3MTBhNCIsImF1ZCI6IjAwMDAwMDAzLTAwMDAtMGZmMS1jZTAwLTAwMDAwMDAwMDAwMC9teS5taWNyb3NvZnRwZXJzb25hbGNvbnRlbnQuY29tQDkxODgwNDBkLTZjNjctNGM1Yi1iMTEyLTM2YTMwNGI2NmRhZCIsImV4cCI6IjE3NDQ1MTc1MTMifQ._g39ehuk56dhVpkmQJ8c8291jKgEPGEtwSj38KIO4HBtU5rr8ehmMHvg93BeMjwHrB_rmhHa9qmsSDCDlVwFXbG6UFWEdU4e3Ks0wsHZD48MhYySuTnjiOFXSIWdLO2vgSs8p4lFFOYEPGf8a17K7csry1O0yqJE3TIiF-uLotp0s3kcZoNm1iMKRjxyRKMIitziDWVIARXDo9fEuTqrUSQolwuVcyL8jkWdpPOIC9cRwom_f6tuq0FM5AbuWWP0OWoODRSqH1h1-vShYJp0tj6MFqtEbaExkvD3_IXhutr0-UtJ8zQA8gi5_y5zA4-GdLEmfklz4d8QqpUf7rmjmV6HxLV2Zl2NjNxWDIwlsADKjZMDV9E4qnsATIBe5hgOCgAtMpO4Hf1rEMLjftSRCL6ojBijtnw4S7JoooXR0Xs.OGfzetZujleIdHAO7orlHJSmsmUhWUfUU1Ogp-3GhsQ&ApiVersion=2.0&AVOverride=1' \\\n",
        "  -H 'accept: text/html,application/xhtml+xml,application/xml;q=0.9,image/avif,image/webp,image/apng,*/*;q=0.8,application/signed-exchange;v=b3;q=0.7' \\\n",
        "  -H 'accept-language: pt-BR,pt;q=0.9,en-US;q=0.8,en;q=0.7' \\\n",
        "  -H 'priority: u=0, i' \\\n",
        "  -H 'referer: https://onedrive.live.com/' \\\n",
        "  -H 'sec-ch-ua: \"Google Chrome\";v=\"135\", \"Not-A.Brand\";v=\"8\", \"Chromium\";v=\"135\"' \\\n",
        "  -H 'sec-ch-ua-mobile: ?0' \\\n",
        "  -H 'sec-ch-ua-platform: \"Linux\"' \\\n",
        "  -H 'sec-fetch-dest: iframe' \\\n",
        "  -H 'sec-fetch-mode: navigate' \\\n",
        "  -H 'sec-fetch-site: cross-site' \\\n",
        "  -H 'sec-fetch-storage-access: none' \\\n",
        "  -H 'sec-fetch-user: ?1' \\\n",
        "  -H 'upgrade-insecure-requests: 1' \\\n",
        "  -H 'user-agent: Mozilla/5.0 (X11; Linux x86_64) AppleWebKit/537.36 (KHTML, like Gecko) Chrome/135.0.0.0 Safari/537.36' > 'NAGOYA-2024-TF3.zip'"
      ]
    },
    {
      "cell_type": "code",
      "execution_count": null,
      "metadata": {
        "id": "xEhf6fjbC2gp"
      },
      "outputs": [],
      "source": [
        "%pwd"
      ]
    },
    {
      "cell_type": "code",
      "execution_count": null,
      "metadata": {
        "scrolled": true,
        "id": "op9g4RmJC2gq"
      },
      "outputs": [],
      "source": [
        "!ls"
      ]
    },
    {
      "cell_type": "code",
      "execution_count": null,
      "metadata": {
        "id": "xyFKRw0dC2gq"
      },
      "outputs": [],
      "source": [
        "!unzip -q 'NAGOYA-2024-TF3.zip'"
      ]
    },
    {
      "cell_type": "markdown",
      "source": [
        "# DATA FILES ADJUSTS"
      ],
      "metadata": {
        "id": "hbGcpe01IrYr"
      }
    },
    {
      "cell_type": "markdown",
      "metadata": {
        "id": "lwsJsMKaC2gq"
      },
      "source": [
        "## 2024"
      ]
    },
    {
      "cell_type": "code",
      "execution_count": null,
      "metadata": {
        "id": "SBuqi990C2gr"
      },
      "outputs": [],
      "source": [
        "!pip install netCDF4"
      ]
    },
    {
      "cell_type": "code",
      "execution_count": null,
      "metadata": {
        "id": "JWXSRGk4C2gr"
      },
      "outputs": [],
      "source": [
        "!pip install xarray"
      ]
    },
    {
      "cell_type": "code",
      "source": [
        "%cd '/content/NAGOYA-2024-TF3'"
      ],
      "metadata": {
        "id": "MZke0ETeC2gr"
      },
      "execution_count": null,
      "outputs": []
    },
    {
      "cell_type": "code",
      "execution_count": null,
      "metadata": {
        "id": "6XP2MQFDC2gs"
      },
      "outputs": [],
      "source": [
        "!ls"
      ]
    },
    {
      "cell_type": "code",
      "execution_count": null,
      "metadata": {
        "id": "SpzlkmOdC2gs"
      },
      "outputs": [],
      "source": [
        "import os\n",
        "import glob\n",
        "from collections import defaultdict\n",
        "\n",
        "base_path = './'\n",
        "\n",
        "file_pattern = os.path.join(base_path, '**', '2024*.nc')\n",
        "file_list = sorted(glob.glob(file_pattern, recursive=True))\n",
        "\n",
        "file_count_by_day = defaultdict(int)\n",
        "\n",
        "for file_name in file_list:\n",
        "\n",
        "    day_dir = os.path.basename(os.path.dirname(file_name))\n",
        "    file_count_by_day[day_dir] += 1\n",
        "\n",
        "for day, count in sorted(file_count_by_day.items()):\n",
        "    if count < 144:\n",
        "        print(f\"Dia {day}: {count} arquivos\")"
      ]
    },
    {
      "cell_type": "code",
      "source": [
        "%pwd"
      ],
      "metadata": {
        "id": "uPzqc_ffC2gu"
      },
      "execution_count": null,
      "outputs": []
    },
    {
      "cell_type": "code",
      "execution_count": null,
      "metadata": {
        "id": "ANLLuDNlC2gu"
      },
      "outputs": [],
      "source": [
        "import numpy as np\n",
        "import xarray as xr\n",
        "import os\n",
        "import re\n",
        "import glob\n",
        "\n",
        "file_list = glob.glob(\"./2024*.nc\")\n",
        "\n",
        "pattern = re.compile(r'(\\d{8})(\\d{2})_atec')\n",
        "\n",
        "def extract_datetime(file_name):\n",
        "    match = pattern.search(file_name)\n",
        "    if match:\n",
        "        date = match.group(1)\n",
        "        hour = match.group(2)\n",
        "        return date, int(hour)\n",
        "    return None, None\n",
        "\n",
        "files_by_date = {}\n",
        "\n",
        "for file_name in file_list:\n",
        "    date, hour = extract_datetime(file_name)\n",
        "    if date:\n",
        "        if date not in files_by_date:\n",
        "            files_by_date[date] = []\n",
        "        files_by_date[date].append((file_name, hour))\n",
        "\n",
        "sorted_dates = sorted(files_by_date.keys())\n",
        "print(f\"\\nDatas a serem processadas em ordem cronológica: {sorted_dates}\")\n",
        "\n",
        "print(\"\\nProcessando dados por dia (em ordem cronológica)...\")\n",
        "for date in sorted_dates:\n",
        "    file_hour_pairs = files_by_date[date]\n",
        "\n",
        "    file_hour_pairs.sort(key=lambda x: x[1])\n",
        "\n",
        "    print(f\"Processando o dia: {date}, {len(file_hour_pairs)} arquivos encontrados\")\n",
        "\n",
        "    final_data = np.zeros((288, 242, 221))\n",
        "\n",
        "    for file_name, hour in file_hour_pairs:\n",
        "        try:\n",
        "            print(f\"  Processando: {file_name}, Hora: {hour}\")\n",
        "\n",
        "            ds_disk = xr.open_dataset(file_name)\n",
        "            tec = ds_disk['atec'][19:261, 140:361].values\n",
        "\n",
        "            for timestep in range(12):\n",
        "\n",
        "                global_idx = hour * 12 + timestep\n",
        "\n",
        "                timestep_slice = tec[:, :, timestep]\n",
        "\n",
        "                final_data[global_idx] = timestep_slice\n",
        "\n",
        "            ds_disk.close()\n",
        "\n",
        "        except Exception as e:\n",
        "            print(f\"  Erro ao processar o arquivo {file_name}: {e}\")\n",
        "\n",
        "    print(f\"  Shape final do array: {final_data.shape}\")\n",
        "\n",
        "    output_file = f\"atec{date}.npy\"\n",
        "    np.save(output_file, final_data)\n",
        "\n",
        "    print(f\"Arquivo {output_file} salvo com sucesso! Shape: {final_data.shape}\")\n",
        "\n",
        "print(\"\\nProcessamento concluído!\")"
      ]
    },
    {
      "cell_type": "code",
      "execution_count": null,
      "metadata": {
        "id": "bMybdWtZC2gu"
      },
      "outputs": [],
      "source": [
        "# ls *.npy"
      ]
    },
    {
      "cell_type": "code",
      "execution_count": null,
      "metadata": {
        "id": "W9TPb8a_C2gv"
      },
      "outputs": [],
      "source": [
        "!ls -lR ./*.npy | wc -l"
      ]
    },
    {
      "cell_type": "code",
      "execution_count": null,
      "metadata": {
        "id": "LdBOvphKC2gv"
      },
      "outputs": [],
      "source": [
        "import numpy as np\n",
        "import glob\n",
        "import re\n",
        "from datetime import datetime\n",
        "\n",
        "npy_files = glob.glob(\"atec2024*.npy\")\n",
        "\n",
        "def extract_doy(filename):\n",
        "    match = re.search(r'atec(\\d{8})\\.npy', filename)\n",
        "    if match:\n",
        "        date_str = match.group(1)\n",
        "        try:\n",
        "            date_obj = datetime.strptime(date_str, '%Y%m%d')\n",
        "            return date_obj.timetuple().tm_yday\n",
        "        except ValueError:\n",
        "            return 0\n",
        "    return 0\n",
        "\n",
        "npy_files.sort(key=extract_doy)\n",
        "\n",
        "print(f\"Encontrados {len(npy_files)} arquivos NPY para processar.\")\n",
        "\n",
        "all_data = []\n",
        "\n",
        "for i, file in enumerate(npy_files):\n",
        "    doy = extract_doy(file)\n",
        "    print(f\"Processando {file} (DOY {doy}) - {i+1}/{len(npy_files)}\")\n",
        "\n",
        "    data = np.load(file)\n",
        "\n",
        "    all_data.append(data)\n",
        "\n",
        "    print(f\"  Shape: {data.shape}\")\n",
        "\n",
        "combined_data = np.concatenate(all_data, axis=0)\n",
        "\n",
        "print(f\"\\nDados combinados. Shape final: {combined_data.shape}\")\n",
        "\n",
        "output_file = \"NAGOYA-2024-INTERSECT-NAG-MAG-EMB.npy\"\n",
        "np.save(output_file, combined_data)\n",
        "\n",
        "print(f\"\\nArquivo {output_file} salvo com sucesso!\")\n",
        "print(f\"Tamanho do arquivo: {combined_data.nbytes / (1024**2):.2f} MB\")"
      ]
    },
    {
      "cell_type": "code",
      "execution_count": null,
      "metadata": {
        "id": "F3_4MQ-IC2gw"
      },
      "outputs": [],
      "source": [
        "!ls -lh *.npy"
      ]
    },
    {
      "cell_type": "code",
      "source": [
        "%pwd"
      ],
      "metadata": {
        "id": "wW4iZQoXC2gx"
      },
      "execution_count": null,
      "outputs": []
    },
    {
      "cell_type": "code",
      "source": [
        "from google.colab import drive\n",
        "drive.mount('/content/drive')"
      ],
      "metadata": {
        "id": "4FlN-73MMtpC"
      },
      "execution_count": null,
      "outputs": []
    },
    {
      "cell_type": "code",
      "execution_count": null,
      "metadata": {
        "id": "LZfkIfv4C2gx"
      },
      "outputs": [],
      "source": [
        "%cp '/content/NAGOYA-2024-TF3/NAGOYA-2024-INTERSECT-NAG-MAG-EMB.npy' '/content/drive/MyDrive/NAGOYA-2024-INTERSECT-NAG-MAG-EMB.npy'"
      ]
    },
    {
      "cell_type": "code",
      "source": [
        "%cd '/content/drive/MyDrive/'"
      ],
      "metadata": {
        "id": "7moiJSGAC2gx"
      },
      "execution_count": null,
      "outputs": []
    },
    {
      "cell_type": "code",
      "source": [
        "!ls *.npy"
      ],
      "metadata": {
        "id": "xPRtGoevC2gy"
      },
      "execution_count": null,
      "outputs": []
    },
    {
      "cell_type": "code",
      "source": [
        "%pwd"
      ],
      "metadata": {
        "id": "pXMGQ4IKO7Kp"
      },
      "execution_count": null,
      "outputs": []
    },
    {
      "cell_type": "code",
      "source": [
        "%cd /content/NAGOYA-2024-TF3"
      ],
      "metadata": {
        "id": "V8cQ8LeHO8OA"
      },
      "execution_count": null,
      "outputs": []
    },
    {
      "cell_type": "code",
      "execution_count": null,
      "metadata": {
        "id": "PmKQ-EeRC2gy"
      },
      "outputs": [],
      "source": [
        "nagoya_2024 = np.load('NAGOYA-2024-INTERSECT-NAG-MAG-EMB.npy')\n",
        "print(np.shape(nagoya_2024))\n",
        "print(type(nagoya_2024))\n",
        "print(type(nagoya_2024[0]))\n",
        "print(type(nagoya_2024[0][0]))\n",
        "print(type(nagoya_2024[0][0][0]))"
      ]
    },
    {
      "cell_type": "code",
      "execution_count": null,
      "metadata": {
        "id": "xtEc8F65C2gy"
      },
      "outputs": [],
      "source": [
        "for i in range(len(nagoya_2024)):\n",
        "    print(np.shape(nagoya_2024[i]))"
      ]
    },
    {
      "cell_type": "code",
      "execution_count": null,
      "metadata": {
        "id": "dF9x1fzqC2gz"
      },
      "outputs": [],
      "source": [
        "np.shape(nagoya_2024)"
      ]
    },
    {
      "cell_type": "code",
      "execution_count": null,
      "metadata": {
        "id": "JurXGQBWC2gz"
      },
      "outputs": [],
      "source": [
        "has_nan = np.any(np.isnan(nagoya_2024))\n",
        "print(has_nan)\n",
        "\n",
        "count_nan = np.sum(np.isnan(nagoya_2024))\n",
        "print(count_nan)"
      ]
    },
    {
      "cell_type": "code",
      "execution_count": null,
      "metadata": {
        "id": "_ZPP0Cu9C2gz"
      },
      "outputs": [],
      "source": [
        "nagoya_2024.shape"
      ]
    },
    {
      "cell_type": "code",
      "execution_count": null,
      "metadata": {
        "id": "yQRL5TBVC2g0"
      },
      "outputs": [],
      "source": [
        "np.set_printoptions(threshold=np.inf)"
      ]
    },
    {
      "cell_type": "code",
      "execution_count": null,
      "metadata": {
        "id": "iy0eTz9QC2g0"
      },
      "outputs": [],
      "source": [
        "print(nagoya_2024[0][0])"
      ]
    },
    {
      "cell_type": "code",
      "execution_count": null,
      "metadata": {
        "id": "c6AvdI29C2g0"
      },
      "outputs": [],
      "source": [
        "print(nagoya_2024[0][-1])"
      ]
    },
    {
      "cell_type": "code",
      "execution_count": null,
      "metadata": {
        "id": "TFFEZktNC2g0"
      },
      "outputs": [],
      "source": [
        "# del nagoya_2024"
      ]
    },
    {
      "cell_type": "code",
      "execution_count": null,
      "metadata": {
        "id": "XE7e9ufuC2g1"
      },
      "outputs": [],
      "source": [
        "nagoya_2024_shaped = np.reshape(nagoya_2024, (-1, 242, 221))"
      ]
    },
    {
      "cell_type": "code",
      "execution_count": null,
      "metadata": {
        "id": "bWpSWYvtC2g1"
      },
      "outputs": [],
      "source": [
        "np.shape(nagoya_2024_shaped)"
      ]
    },
    {
      "cell_type": "code",
      "execution_count": null,
      "metadata": {
        "id": "0E_Q1xs8C2g1"
      },
      "outputs": [],
      "source": [
        "np.shape(nagoya_2024_shaped.tolist())"
      ]
    },
    {
      "cell_type": "markdown",
      "metadata": {
        "id": "oRk6Lbv3C2g1"
      },
      "source": [
        "# DATES ADJUSTS"
      ]
    },
    {
      "cell_type": "code",
      "execution_count": null,
      "metadata": {
        "id": "4xl25xnKC2g2"
      },
      "outputs": [],
      "source": [
        "import numpy as np\n",
        "from datetime import datetime, timedelta\n",
        "\n",
        "def doy_to_date(year, doy):\n",
        "\n",
        "    return datetime(year, 1, 1) + timedelta(days=doy - 1)\n",
        "\n",
        "doys = {\n",
        "\n",
        "    2024: {\n",
        "        3: [61, 62, 63, 64, 65, 66, 67, 68, 69, 70,\n",
        "            71, 72, 73, 74, 75, 76, 77, 78, 79, 80,\n",
        "            81, 86, 87, 88, 89, 91],\n",
        "        6: [153, 154, 155, 156, 157, 158, 159, 160, 161, 162,\n",
        "            163, 164, 165, 166, 167, 168, 169, 170, 171, 173,\n",
        "            174, 175, 176, 177, 180, 181],\n",
        "        9: [247, 248, 249, 250, 251, 252, 253, 254, 255, 256,\n",
        "            257, 258, 261, 262, 263, 264, 265, 266, 267, 268,\n",
        "            269, 270, 271, 272, 274],\n",
        "        12: [336, 337, 338, 339, 340, 341, 342, 343, 344, 345,\n",
        "             346, 347, 349, 350, 351, 352, 353, 354, 355,\n",
        "             356, 357, 358, 359, 360, 361, 362, 363, 364, 365]\n",
        "    }\n",
        "}\n",
        "\n",
        "datetime_list = []\n",
        "\n",
        "for year in doys.keys():\n",
        "    for month in doys[year].keys():\n",
        "        for doy in doys[year][month]:\n",
        "            base_date = doy_to_date(year, doy)\n",
        "            for hour in range(24):\n",
        "                for minute in range(0, 60, 5):\n",
        "                    dt = datetime(base_date.year, base_date.month, base_date.day, hour, minute, 0)\n",
        "                    datetime_list.append(dt)\n",
        "\n",
        "nagoya_datetime_2024 = np.array(datetime_list, dtype='datetime64[s]')\n",
        "\n",
        "print(f\"Total number of datetime points: {len(nagoya_datetime_2024)}\")\n",
        "print(f\"First datetime: {nagoya_datetime_2024[0]}\")\n",
        "print(f\"Last datetime: {nagoya_datetime_2024[-1]}\")\n",
        "\n",
        "np.save('nagoya_datetime_2024.npy', nagoya_datetime_2024)\n",
        "\n",
        "print(\"\\nSample of first 10 datetime entries:\")\n",
        "for dt in nagoya_datetime_2024[:10]:\n",
        "    print(dt)\n",
        "\n",
        "print(\"\\nSample of last 10 datetime entries:\")\n",
        "for dt in nagoya_datetime_2024[-10:]:\n",
        "    print(dt)"
      ]
    },
    {
      "cell_type": "code",
      "execution_count": null,
      "metadata": {
        "id": "wL3dh8p_C2g2"
      },
      "outputs": [],
      "source": [
        "nagoya_dates = np.load('nagoya_datetime_2024.npy')"
      ]
    },
    {
      "cell_type": "code",
      "execution_count": null,
      "metadata": {
        "id": "0VZx7nGFC2g2"
      },
      "outputs": [],
      "source": [
        "nagoya_dates.shape"
      ]
    },
    {
      "cell_type": "code",
      "execution_count": null,
      "metadata": {
        "id": "jmDpbnpLC2g3"
      },
      "outputs": [],
      "source": [
        "nagoya_dates"
      ]
    },
    {
      "cell_type": "code",
      "execution_count": null,
      "metadata": {
        "id": "GqM8YK6oC2g3"
      },
      "outputs": [],
      "source": [
        "nagoya_2024.shape"
      ]
    },
    {
      "cell_type": "code",
      "execution_count": null,
      "metadata": {
        "id": "dPWApLOkC2g3"
      },
      "outputs": [],
      "source": [
        "print(len(nagoya_2024.tolist()))\n",
        "print(len(nagoya_2024[0].tolist()))\n",
        "print(len(nagoya_2024[0][0].tolist()))\n",
        "# print(len(nagoya_2024[0][0][0].tolist()))"
      ]
    },
    {
      "cell_type": "code",
      "execution_count": null,
      "metadata": {
        "id": "UIKNqYPKC2g4"
      },
      "outputs": [],
      "source": [
        "nagoya_2024.shape"
      ]
    },
    {
      "cell_type": "code",
      "execution_count": null,
      "metadata": {
        "id": "-nrd8akkC2g4"
      },
      "outputs": [],
      "source": [
        "nagoya_dates_2024 = np.array([d for d in nagoya_dates if d.astype(object).year == 2024])"
      ]
    },
    {
      "cell_type": "code",
      "execution_count": null,
      "metadata": {
        "id": "-xW2WB55C2g4"
      },
      "outputs": [],
      "source": [
        "len(nagoya_dates_2024)"
      ]
    },
    {
      "cell_type": "code",
      "execution_count": null,
      "metadata": {
        "id": "8iKUH-2JC2g4"
      },
      "outputs": [],
      "source": [
        "nagoya_dates[0:12]"
      ]
    },
    {
      "cell_type": "code",
      "execution_count": null,
      "metadata": {
        "id": "8s1Im63CC2g4"
      },
      "outputs": [],
      "source": [
        "len(nagoya_dates[0:12])"
      ]
    },
    {
      "cell_type": "code",
      "execution_count": null,
      "metadata": {
        "id": "pJS7dDAaC2g5"
      },
      "outputs": [],
      "source": [
        "len(nagoya_2024[0:12])"
      ]
    },
    {
      "cell_type": "code",
      "execution_count": null,
      "metadata": {
        "id": "-6Rlxm7aC2g5"
      },
      "outputs": [],
      "source": [
        "nagoya_2024_shaped = np.reshape(nagoya_2024, (-1, 242, 221))"
      ]
    },
    {
      "cell_type": "code",
      "execution_count": null,
      "metadata": {
        "id": "BhpjaBCNC2g5"
      },
      "outputs": [],
      "source": [
        "np.shape(nagoya_2024_shaped)"
      ]
    },
    {
      "cell_type": "code",
      "execution_count": null,
      "metadata": {
        "id": "8LtgCMe3C2g5"
      },
      "outputs": [],
      "source": [
        "np.shape(nagoya_2024_shaped.tolist())"
      ]
    },
    {
      "cell_type": "markdown",
      "metadata": {
        "id": "SwhRO3ZmC2g6"
      },
      "source": [
        "## CREATE DATAFRAME"
      ]
    },
    {
      "cell_type": "code",
      "execution_count": null,
      "metadata": {
        "id": "7RodJ-BaC2g6"
      },
      "outputs": [],
      "source": [
        "import pandas as pd\n",
        "\n",
        "data = {\n",
        "    'DATETIME': nagoya_dates,\n",
        "    'TECMAP': nagoya_2024_shaped.tolist()\n",
        "}\n",
        "\n",
        "df_mapas_nagoya_2024 = pd.DataFrame(data)\n",
        "\n",
        "df_mapas_nagoya_2024"
      ]
    },
    {
      "cell_type": "code",
      "execution_count": null,
      "metadata": {
        "id": "2ij-xWguC2g6"
      },
      "outputs": [],
      "source": [
        "df_mapas_nagoya_2024['DATETIME'] = pd.to_datetime(df_mapas_nagoya_2024['DATETIME'])\n",
        "\n",
        "df_mapas_nagoya_2024.set_index('DATETIME', inplace=True)\n",
        "\n",
        "df_mapas_nagoya_2024 = df_mapas_nagoya_2024[(df_mapas_nagoya_2024.index.minute == 0) | (df_mapas_nagoya_2024.index.minute == 30)]\n",
        "\n",
        "df3 = df_mapas_nagoya_2024[\n",
        "    ((df_mapas_nagoya_2024.index.year == 2024) & (df_mapas_nagoya_2024.index.month.isin([3, 6, 9, 12])))\n",
        "]\n",
        "\n",
        "print(\"DataFrame 3:\")\n",
        "print(df3)"
      ]
    },
    {
      "cell_type": "code",
      "execution_count": null,
      "metadata": {
        "id": "Lj3cHb5JC2g6"
      },
      "outputs": [],
      "source": [
        "np.array(df_mapas_nagoya_2024.iloc[0]['TECMAP'])"
      ]
    },
    {
      "cell_type": "code",
      "execution_count": null,
      "metadata": {
        "id": "5W_oM20nC2g7"
      },
      "outputs": [],
      "source": [
        "np.array(df_mapas_nagoya_2024.iloc[0]['TECMAP']).shape"
      ]
    },
    {
      "cell_type": "code",
      "source": [
        "df_mapas_nagoya_2024"
      ],
      "metadata": {
        "id": "0DeLJM-6C2g7"
      },
      "execution_count": null,
      "outputs": []
    },
    {
      "cell_type": "markdown",
      "metadata": {
        "id": "ZfPnBXZpC2g7"
      },
      "source": [
        "# TF3 ADJUSTS"
      ]
    },
    {
      "cell_type": "markdown",
      "metadata": {
        "id": "ImiiWb1bC2g7"
      },
      "source": [
        "## 20:00 TO 04:00 UTC - 30-MINUTE TEMPORAL RESOLUTION"
      ]
    },
    {
      "cell_type": "code",
      "execution_count": null,
      "metadata": {
        "id": "NlN-IPbtC2g7"
      },
      "outputs": [],
      "source": [
        "np.array(df3.iloc[0]['TECMAP'])"
      ]
    },
    {
      "cell_type": "code",
      "execution_count": null,
      "metadata": {
        "id": "6RldXk1VC2g8"
      },
      "outputs": [],
      "source": [
        "np.array(df3.iloc[0]['TECMAP']).shape"
      ]
    },
    {
      "cell_type": "code",
      "execution_count": null,
      "metadata": {
        "id": "kKBw_aL-C2g8"
      },
      "outputs": [],
      "source": [
        "df3_2000_0400 = pd.concat([\n",
        "    df3.between_time('20:00', '20:00'),\n",
        "    df3.between_time('20:30', '20:30'),\n",
        "    df3.between_time('21:00', '21:00'),\n",
        "    df3.between_time('21:30', '21:30'),\n",
        "    df3.between_time('22:00', '22:00'),\n",
        "    df3.between_time('22:30', '22:30'),\n",
        "    df3.between_time('23:00', '23:00'),\n",
        "    df3.between_time('23:30', '23:30'),\n",
        "    df3.between_time('00:00', '00:00'),\n",
        "    df3.between_time('00:30', '00:30'),\n",
        "    df3.between_time('01:00', '01:00'),\n",
        "    df3.between_time('01:30', '01:30'),\n",
        "    df3.between_time('02:00', '02:00'),\n",
        "    df3.between_time('02:30', '02:30'),\n",
        "    df3.between_time('03:00', '03:00'),\n",
        "    df3.between_time('03:30', '03:30'),\n",
        "    df3.between_time('04:00', '04:00')\n",
        "])\n",
        "\n",
        "df3_2000_0400.sort_index(inplace=True)\n",
        "\n",
        "print(\"\\nDados das 20:00, 22:00, 00:00, 02:00 e 04:00:\")\n",
        "print(df3_2000_0400)"
      ]
    },
    {
      "cell_type": "code",
      "execution_count": null,
      "metadata": {
        "id": "aH18wLylC2g8"
      },
      "outputs": [],
      "source": [
        "df3.to_pickle(\"./df3_mapas_nagoya_2024_30m.pkl\")"
      ]
    },
    {
      "cell_type": "code",
      "execution_count": null,
      "metadata": {
        "id": "mRrjv1c6C2g9"
      },
      "outputs": [],
      "source": [
        "np.shape(np.array(df3.iloc[:]['TECMAP']))"
      ]
    },
    {
      "cell_type": "code",
      "execution_count": null,
      "metadata": {
        "id": "5sJ4t0EJC2g9"
      },
      "outputs": [],
      "source": [
        "mapas3 = np.array(df3.iloc[:]['TECMAP'])"
      ]
    },
    {
      "cell_type": "code",
      "execution_count": null,
      "metadata": {
        "id": "3gCnXdo9C2g9"
      },
      "outputs": [],
      "source": [
        "np.shape(df3)"
      ]
    },
    {
      "cell_type": "code",
      "execution_count": null,
      "metadata": {
        "id": "u219Kf1TC2g9"
      },
      "outputs": [],
      "source": [
        "np_mapas3 = []\n",
        "for i in range(len(mapas3)):\n",
        "    np_mapas3.append(mapas3[i])\n",
        "np_mapas3 = np.array(np_mapas3)"
      ]
    },
    {
      "cell_type": "code",
      "execution_count": null,
      "metadata": {
        "id": "w4mG0PzmC2g-"
      },
      "outputs": [],
      "source": [
        "np.shape(np_mapas3)"
      ]
    },
    {
      "cell_type": "code",
      "execution_count": null,
      "metadata": {
        "id": "0owuU6POC2g-"
      },
      "outputs": [],
      "source": [
        "type(np_mapas3)"
      ]
    },
    {
      "cell_type": "code",
      "execution_count": null,
      "metadata": {
        "id": "SbybhE0IC2g-"
      },
      "outputs": [],
      "source": [
        "np.save('mapas3_nagoya_2024_30m.npy', np_mapas3)"
      ]
    },
    {
      "cell_type": "code",
      "execution_count": null,
      "metadata": {
        "id": "a_MYOl2AC2g-"
      },
      "outputs": [],
      "source": [
        "df3_2000_0400.to_pickle(\"./df3_mapas_nagoya_2024_2000_0400_30m.pkl\")"
      ]
    },
    {
      "cell_type": "code",
      "execution_count": null,
      "metadata": {
        "id": "gw19rnbWC2g-"
      },
      "outputs": [],
      "source": [
        "mapas3_2000_0400 = np.array(df3_2000_0400.iloc[:]['TECMAP'])"
      ]
    },
    {
      "cell_type": "code",
      "execution_count": null,
      "metadata": {
        "id": "0cGMRJg1C2g_"
      },
      "outputs": [],
      "source": [
        "np.shape(mapas3_2000_0400)"
      ]
    },
    {
      "cell_type": "code",
      "execution_count": null,
      "metadata": {
        "id": "3BEUEBx-C2g_"
      },
      "outputs": [],
      "source": [
        "np_mapas3_2000_0400 = []\n",
        "for i in range(len(mapas3_2000_0400)):\n",
        "    np_mapas3_2000_0400.append(mapas3_2000_0400[i])\n",
        "np_mapas3_2000_0400 = np.array(np_mapas3_2000_0400)"
      ]
    },
    {
      "cell_type": "code",
      "execution_count": null,
      "metadata": {
        "id": "K0LnS_n9C2g_"
      },
      "outputs": [],
      "source": [
        "np.shape(np_mapas3_2000_0400)"
      ]
    },
    {
      "cell_type": "code",
      "execution_count": null,
      "metadata": {
        "id": "O35Uf9T9C2g_"
      },
      "outputs": [],
      "source": [
        "type(np_mapas3_2000_0400)"
      ]
    },
    {
      "cell_type": "code",
      "execution_count": null,
      "metadata": {
        "id": "bilNzyjIC2g_"
      },
      "outputs": [],
      "source": [
        "np.save('mapas3_nagoya_2024_2000_0400_30m.npy', np_mapas3_2000_0400)"
      ]
    },
    {
      "cell_type": "markdown",
      "metadata": {
        "id": "4zbZsLf9mIv8"
      },
      "source": [
        "# DOWNLOAD OUTPUTS"
      ]
    },
    {
      "cell_type": "code",
      "execution_count": null,
      "metadata": {
        "id": "5jLppunqmIv8"
      },
      "outputs": [],
      "source": [
        "from google.colab import files"
      ]
    },
    {
      "cell_type": "code",
      "execution_count": null,
      "metadata": {
        "id": "RK8uBkaFmIv8"
      },
      "outputs": [],
      "source": [
        "%pwd"
      ]
    },
    {
      "cell_type": "code",
      "source": [
        "%cd '/content/NAGOYA-INTERSECTION-2022-2024'"
      ],
      "metadata": {
        "id": "kWFhy6YoePjJ"
      },
      "execution_count": null,
      "outputs": []
    },
    {
      "cell_type": "code",
      "source": [
        "!ls -lh NAGOYA*"
      ],
      "metadata": {
        "id": "q92Fshy3mIv9"
      },
      "execution_count": null,
      "outputs": []
    },
    {
      "cell_type": "code",
      "source": [
        "files.download('NAGOYA-2024.npy')"
      ],
      "metadata": {
        "id": "wfKQM98qmIv9"
      },
      "execution_count": null,
      "outputs": []
    },
    {
      "cell_type": "code",
      "execution_count": null,
      "metadata": {
        "id": "MQUTpwwzmIv9"
      },
      "outputs": [],
      "source": [
        "!ls -lh df*"
      ]
    },
    {
      "cell_type": "code",
      "execution_count": null,
      "metadata": {
        "id": "EWb7t_JPmIv9"
      },
      "outputs": [],
      "source": [
        "!ls -lh nagoya*"
      ]
    },
    {
      "cell_type": "code",
      "execution_count": null,
      "metadata": {
        "id": "52gU0bjAmIv-"
      },
      "outputs": [],
      "source": [
        "%pwd"
      ]
    },
    {
      "cell_type": "code",
      "execution_count": null,
      "metadata": {
        "id": "NOPlVN2umIv-"
      },
      "outputs": [],
      "source": [
        "%cd /content/nagoya-INTERSECTION-2022-2024"
      ]
    },
    {
      "cell_type": "code",
      "source": [
        "%pwd"
      ],
      "metadata": {
        "id": "1DBoNyhdmIv-"
      },
      "execution_count": null,
      "outputs": []
    },
    {
      "cell_type": "code",
      "execution_count": null,
      "metadata": {
        "id": "DH69OmTUmIv-"
      },
      "outputs": [],
      "source": [
        "# files.download('./nagoya_2022_2024.npy')"
      ]
    },
    {
      "cell_type": "code",
      "execution_count": null,
      "metadata": {
        "id": "wzG_iuL0mIv-"
      },
      "outputs": [],
      "source": [
        "!ls -lh nagoya*"
      ]
    },
    {
      "cell_type": "code",
      "execution_count": null,
      "metadata": {
        "id": "bv7Y9lLimIv-"
      },
      "outputs": [],
      "source": [
        "!ls -lh mapas*.npy"
      ]
    },
    {
      "cell_type": "code",
      "execution_count": null,
      "metadata": {
        "id": "tDVcCCrOmIv_"
      },
      "outputs": [],
      "source": [
        "# files.download('./nagoya_2022_2024.npy')"
      ]
    },
    {
      "cell_type": "code",
      "execution_count": null,
      "metadata": {
        "id": "rWjm-MOHmIv_"
      },
      "outputs": [],
      "source": [
        "# from google.colab import drive\n",
        "# drive.mount('/content/drive')"
      ]
    },
    {
      "cell_type": "code",
      "execution_count": null,
      "metadata": {
        "id": "TTqWxldqmIv_"
      },
      "outputs": [],
      "source": [
        "# %cp nagoya_2022_2024.npy /content/drive/MyDrive/nagoya_2022_2024.npy"
      ]
    },
    {
      "cell_type": "code",
      "execution_count": null,
      "metadata": {
        "id": "5NMMcDvMmIv_"
      },
      "outputs": [],
      "source": [
        "# %pwd"
      ]
    },
    {
      "cell_type": "code",
      "execution_count": null,
      "metadata": {
        "id": "sbYaFfuDmIv_"
      },
      "outputs": [],
      "source": [
        "# %cd /content/drive/MyDrive"
      ]
    },
    {
      "cell_type": "code",
      "execution_count": null,
      "metadata": {
        "id": "OxjlyjwZmIv_"
      },
      "outputs": [],
      "source": [
        "# !df -H /content/drive/MyDrive"
      ]
    },
    {
      "cell_type": "code",
      "execution_count": null,
      "metadata": {
        "id": "CIzdkGuLmIwA"
      },
      "outputs": [],
      "source": [
        "files.download('./nagoya_datetime_2022_2024.npy')"
      ]
    },
    {
      "cell_type": "code",
      "execution_count": null,
      "metadata": {
        "id": "zBjuJmKsmIwA"
      },
      "outputs": [],
      "source": [
        "# files.download('./df_mapas_nagoya_2022_2024.pkl')"
      ]
    },
    {
      "cell_type": "code",
      "execution_count": null,
      "metadata": {
        "id": "f8pGtZyvmIwA"
      },
      "outputs": [],
      "source": [
        "files.download('./df_mapas_nagoya_2022_2024_0800.pkl')"
      ]
    },
    {
      "cell_type": "code",
      "execution_count": null,
      "metadata": {
        "id": "1otAc4ylmIwA"
      },
      "outputs": [],
      "source": [
        "files.download('./df_mapas_nagoya_2022_2024_1600.pkl')"
      ]
    },
    {
      "cell_type": "code",
      "execution_count": null,
      "metadata": {
        "id": "lgRQ6MzxmIwB"
      },
      "outputs": [],
      "source": [
        "files.download('./df_mapas_nagoya_2022_2024_2000_2200_0000_0200_0400.pkl')"
      ]
    },
    {
      "cell_type": "code",
      "execution_count": null,
      "metadata": {
        "id": "QLzoBIUdmIwB"
      },
      "outputs": [],
      "source": [
        "# files.download('./df1_mapas_nagoya_2022_2024.pkl')"
      ]
    },
    {
      "cell_type": "code",
      "execution_count": null,
      "metadata": {
        "id": "pbcAudYHmIwB"
      },
      "outputs": [],
      "source": [
        "files.download('./df1_mapas_nagoya_2022_2024_0800.pkl')"
      ]
    },
    {
      "cell_type": "code",
      "execution_count": null,
      "metadata": {
        "id": "JS1DpcXEmIwB"
      },
      "outputs": [],
      "source": [
        "files.download('./df1_mapas_nagoya_2022_2024_1600.pkl')"
      ]
    },
    {
      "cell_type": "code",
      "execution_count": null,
      "metadata": {
        "id": "pADEIl8xmIwB"
      },
      "outputs": [],
      "source": [
        "files.download('./df1_mapas_nagoya_2022_2024_2000_2200_0000_0200_0400.pkl')"
      ]
    },
    {
      "cell_type": "code",
      "execution_count": null,
      "metadata": {
        "id": "d0hJjPr7mIwC"
      },
      "outputs": [],
      "source": [
        "files.download('./df2_mapas_nagoya_2022_2024.pkl')"
      ]
    },
    {
      "cell_type": "code",
      "execution_count": null,
      "metadata": {
        "id": "Pmg2YOKwmIwC"
      },
      "outputs": [],
      "source": [
        "files.download('./df2_mapas_nagoya_2022_2024_0800.pkl')"
      ]
    },
    {
      "cell_type": "code",
      "execution_count": null,
      "metadata": {
        "id": "QAg-weX3mIwC"
      },
      "outputs": [],
      "source": [
        "files.download('./df2_mapas_nagoya_2022_2024_1600.pkl')"
      ]
    },
    {
      "cell_type": "code",
      "execution_count": null,
      "metadata": {
        "id": "cXl8kSY7mIwC"
      },
      "outputs": [],
      "source": [
        "files.download('./df2_mapas_nagoya_2022_2024_2000_2200_0000_0200_0400.pkl')"
      ]
    },
    {
      "cell_type": "code",
      "source": [
        "!ls -lh df3*"
      ],
      "metadata": {
        "id": "rLU20E8_WDpv"
      },
      "execution_count": null,
      "outputs": []
    },
    {
      "cell_type": "code",
      "source": [
        "%cp df3_mapas_nagoya_2024_30m.pkl /content/drive/MyDrive/df3_mapas_nagoya_2024_30m.pkl"
      ],
      "metadata": {
        "id": "g3B4NsJf69gB"
      },
      "execution_count": null,
      "outputs": []
    },
    {
      "cell_type": "code",
      "source": [
        "%cp df3_mapas_nagoya_2024_2000_0400_30m.pkl /content/drive/MyDrive/df3_mapas_nagoya_2024_2000_0400_30m.pkl"
      ],
      "metadata": {
        "id": "vFhSNsas610U"
      },
      "execution_count": null,
      "outputs": []
    },
    {
      "cell_type": "code",
      "execution_count": null,
      "metadata": {
        "id": "jAxYM14ZmIwD"
      },
      "outputs": [],
      "source": [
        "files.download('./mapas1_nagoya_2022_2024.npy')"
      ]
    },
    {
      "cell_type": "code",
      "execution_count": null,
      "metadata": {
        "id": "pjHoYNLcmIwD"
      },
      "outputs": [],
      "source": [
        "files.download('./mapas1_nagoya_2022_2024_0800.npy')"
      ]
    },
    {
      "cell_type": "code",
      "execution_count": null,
      "metadata": {
        "id": "3nk9ObzmmIwD"
      },
      "outputs": [],
      "source": [
        "files.download('./mapas1_nagoya_2022_2024_1600.npy')"
      ]
    },
    {
      "cell_type": "code",
      "execution_count": null,
      "metadata": {
        "id": "OK8nkV2wmIwD"
      },
      "outputs": [],
      "source": [
        "files.download('./mapas1_nagoya_2022_2024_2000_2200_0000_0200_0400.npy')"
      ]
    },
    {
      "cell_type": "code",
      "execution_count": null,
      "metadata": {
        "id": "Wzau2KD1mIwE"
      },
      "outputs": [],
      "source": [
        "files.download('./mapas2_nagoya_2022_2024.npy')"
      ]
    },
    {
      "cell_type": "code",
      "execution_count": null,
      "metadata": {
        "id": "P9ZxZ9gsmIwE"
      },
      "outputs": [],
      "source": [
        "files.download('./mapas2_nagoya_2022_2024_0800.npy')"
      ]
    },
    {
      "cell_type": "code",
      "execution_count": null,
      "metadata": {
        "id": "NcpYTLbTmIwE"
      },
      "outputs": [],
      "source": [
        "files.download('./mapas2_nagoya_2022_2024_1600.npy')"
      ]
    },
    {
      "cell_type": "code",
      "execution_count": null,
      "metadata": {
        "id": "cajG0npMmIwE"
      },
      "outputs": [],
      "source": [
        "files.download('./mapas2_nagoya_2022_2024_2000_2200_0000_0200_0400.npy')"
      ]
    },
    {
      "cell_type": "code",
      "source": [
        "!ls -lh mapas3*"
      ],
      "metadata": {
        "id": "AvzHJwhwWJbT"
      },
      "execution_count": null,
      "outputs": []
    },
    {
      "cell_type": "code",
      "source": [
        "%cp mapas3_nagoya_2024_30m.npy /content/drive/MyDrive/mapas3_nagoya_2024_30m.npy"
      ],
      "metadata": {
        "id": "N16IXwKB7HrU"
      },
      "execution_count": null,
      "outputs": []
    },
    {
      "cell_type": "code",
      "source": [
        "%cp mapas3_nagoya_2024_2000_0400_30m.npy /content/drive/MyDrive/mapas3_nagoya_2024_2000_0400_30m.npy"
      ],
      "metadata": {
        "id": "K1Mog6ft7Xp6"
      },
      "execution_count": null,
      "outputs": []
    },
    {
      "cell_type": "code",
      "execution_count": null,
      "metadata": {
        "id": "UUoleWZ5mIwF"
      },
      "outputs": [],
      "source": [
        "files.download('./mapas_nagoya_2022_2024_0800.npy')"
      ]
    },
    {
      "cell_type": "code",
      "execution_count": null,
      "metadata": {
        "id": "cMJgK7iumIwF"
      },
      "outputs": [],
      "source": [
        "files.download('./mapas_nagoya_2022_2024_1600.npy')"
      ]
    },
    {
      "cell_type": "code",
      "execution_count": null,
      "metadata": {
        "id": "iKx1nFyOmIwF"
      },
      "outputs": [],
      "source": [
        "files.download('./mapas_nagoya_2022_2024_2000_2200_0000_0200_0400.npy')"
      ]
    }
  ],
  "metadata": {
    "colab": {
      "toc_visible": true,
      "provenance": [],
      "gpuType": "V28",
      "include_colab_link": true
    },
    "kaggle": {
      "accelerator": "nvidiaTeslaT4",
      "dataSources": [],
      "dockerImageVersionId": 30918,
      "isGpuEnabled": true,
      "isInternetEnabled": true,
      "language": "python",
      "sourceType": "notebook"
    },
    "kernelspec": {
      "display_name": "Python 3",
      "name": "python3"
    },
    "language_info": {
      "codemirror_mode": {
        "name": "ipython",
        "version": 3
      },
      "file_extension": ".py",
      "mimetype": "text/x-python",
      "name": "python",
      "nbconvert_exporter": "python",
      "pygments_lexer": "ipython3",
      "version": "3.10.12"
    },
    "accelerator": "TPU"
  },
  "nbformat": 4,
  "nbformat_minor": 0
}