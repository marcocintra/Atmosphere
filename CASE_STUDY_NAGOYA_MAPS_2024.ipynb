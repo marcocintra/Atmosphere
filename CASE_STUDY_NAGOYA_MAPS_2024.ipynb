{
  "cells": [
    {
      "cell_type": "markdown",
      "metadata": {
        "id": "view-in-github",
        "colab_type": "text"
      },
      "source": [
        "<a href=\"https://colab.research.google.com/github/marcocintra/Atmosphere/blob/master/CASE_STUDY_NAGOYA_MAPS_2024.ipynb\" target=\"_parent\"><img src=\"https://colab.research.google.com/assets/colab-badge.svg\" alt=\"Open In Colab\"/></a>"
      ]
    },
    {
      "cell_type": "markdown",
      "metadata": {
        "id": "tPYhxriRsr13"
      },
      "source": [
        "# ZIP FILES ADJUSTS"
      ]
    },
    {
      "cell_type": "code",
      "execution_count": null,
      "metadata": {
        "id": "mKS0qJhFZ48M"
      },
      "outputs": [],
      "source": [
        "!curl 'https://my.microsoftpersonalcontent.com/personal/a149071e7d7aaa61/_layouts/15/download.aspx?UniqueId=acd46945-a818-485d-a06b-eed3eaff8ad1&Translate=false&tempauth=v1e.eyJzaXRlaWQiOiI3NzM0Y2NkNy1mMWE2LTQ0ZmItOWZmYy03MjIyYzI4NGE0ODEiLCJhcHBpZCI6IjAwMDAwMDAwLTAwMDAtMDAwMC0wMDAwLTAwMDA0ODE3MTBhNCIsImF1ZCI6IjAwMDAwMDAzLTAwMDAtMGZmMS1jZTAwLTAwMDAwMDAwMDAwMC9teS5taWNyb3NvZnRwZXJzb25hbGNvbnRlbnQuY29tQDkxODgwNDBkLTZjNjctNGM1Yi1iMTEyLTM2YTMwNGI2NmRhZCIsImV4cCI6IjE3NDY1NzY0NDQifQ.5-mw7Q_m-rZOSw-VQU8Rh6C3zHe_LogaJQqkqCKgWWKiS6_ICamsAWSCmLIcVNghpC8pd8XgInB5I-7osAUfAiMoVOlivxbFceKHU0Qx1ADMV1KkEyH_t9AABNvSlGBMiS-hi15I3wTvGYG69_LsVm1O7yWDYhArp0FM7heb1-FdiOw_yrlezsUFMx5vMfoEkno6f2VRAHvNBqRXE-_0ssjwJ10vbRxsVC7U2frubwYrMEA1uQYrNCuVKpa9TXcT0w7_8mqI_ETGOU1aWwlngV_2BtgxhVUm1hQPX2NDDA_hBWh-YtuxVC7mT1yAjAIGiNzSESQsX5_B8B9OmfAQD43Xb3-_ngyGwdvKMLSMcIdAxe0OF9kjsxDNcnFrgmjyw5yLuTztq2lrSyLD_onBcaODso5zBKFUXhWrjILeasw.21DzhL9dc10xlNld6b5hbBsBsI84Hr5Os8upFdJi3zY&ApiVersion=2.0&AVOverride=1' \\\n",
        "  -H 'accept: text/html,application/xhtml+xml,application/xml;q=0.9,image/avif,image/webp,image/apng,*/*;q=0.8,application/signed-exchange;v=b3;q=0.7' \\\n",
        "  -H 'accept-language: pt-BR,pt;q=0.9,en-US;q=0.8,en;q=0.7' \\\n",
        "  -H 'priority: u=0, i' \\\n",
        "  -H 'referer: https://onedrive.live.com/' \\\n",
        "  -H 'sec-ch-ua: \"Google Chrome\";v=\"135\", \"Not-A.Brand\";v=\"8\", \"Chromium\";v=\"135\"' \\\n",
        "  -H 'sec-ch-ua-mobile: ?0' \\\n",
        "  -H 'sec-ch-ua-platform: \"Linux\"' \\\n",
        "  -H 'sec-fetch-dest: iframe' \\\n",
        "  -H 'sec-fetch-mode: navigate' \\\n",
        "  -H 'sec-fetch-site: cross-site' \\\n",
        "  -H 'sec-fetch-storage-access: none' \\\n",
        "  -H 'sec-fetch-user: ?1' \\\n",
        "  -H 'upgrade-insecure-requests: 1' \\\n",
        "  -H 'user-agent: Mozilla/5.0 (X11; Linux x86_64) AppleWebKit/537.36 (KHTML, like Gecko) Chrome/135.0.0.0 Safari/537.36' > 'NAGOYA-SEPT-20-2024-TO-END-SEPT-2024.zip'"
      ]
    },
    {
      "cell_type": "code",
      "execution_count": null,
      "metadata": {
        "id": "ho9tLyt0agPO"
      },
      "outputs": [],
      "source": [
        "%pwd"
      ]
    },
    {
      "cell_type": "code",
      "execution_count": null,
      "metadata": {
        "id": "0hKf5wgbahVv",
        "scrolled": true
      },
      "outputs": [],
      "source": [
        "!ls"
      ]
    },
    {
      "cell_type": "code",
      "execution_count": null,
      "metadata": {
        "id": "OtCHJHUkyxU9"
      },
      "outputs": [],
      "source": [
        "!unzip -q 'NAGOYA-SEPT-20-2024-TO-END-SEPT-2024.zip'"
      ]
    },
    {
      "cell_type": "markdown",
      "metadata": {
        "id": "AvitoJn5D0AY"
      },
      "source": [
        "# DATA FILES ADJUSTS"
      ]
    },
    {
      "cell_type": "code",
      "execution_count": null,
      "metadata": {
        "id": "OjHlKTEdD0Ab"
      },
      "outputs": [],
      "source": [
        "!ls"
      ]
    },
    {
      "cell_type": "code",
      "source": [
        "%cd NAGOYA-SEPT-20-2024-TO-END-SEPT-2024"
      ],
      "metadata": {
        "id": "X3AGeOV24QEe"
      },
      "execution_count": null,
      "outputs": []
    },
    {
      "cell_type": "code",
      "execution_count": null,
      "metadata": {
        "id": "kkaMuOcrD0Ab"
      },
      "outputs": [],
      "source": [
        "import os\n",
        "import glob\n",
        "from collections import defaultdict\n",
        "\n",
        "base_path = './'\n",
        "\n",
        "file_pattern = os.path.join(base_path, '**', '2024*.nc')\n",
        "file_list = sorted(glob.glob(file_pattern, recursive=True))\n",
        "\n",
        "file_count_by_day = defaultdict(int)\n",
        "\n",
        "for file_name in file_list:\n",
        "\n",
        "    day_dir = os.path.basename(os.path.dirname(file_name))\n",
        "    file_count_by_day[day_dir] += 1\n",
        "\n",
        "print(\"\\nDias com menos de 144 arquivos:\")\n",
        "\n",
        "for day, count in sorted(file_count_by_day.items()):\n",
        "    if count < 144:\n",
        "        print(f\"Dia {day}: {count} arquivos\")"
      ]
    },
    {
      "cell_type": "code",
      "execution_count": null,
      "metadata": {
        "id": "8Xl7khivD0Ac"
      },
      "outputs": [],
      "source": [
        "import numpy as np\n",
        "import xarray as xr\n",
        "import os\n",
        "import re\n",
        "import glob\n",
        "\n",
        "file_list = glob.glob(\"./2024*.nc\")\n",
        "\n",
        "pattern = re.compile(r'(\\d{8})(\\d{2})_atec')\n",
        "\n",
        "def extract_datetime(file_name):\n",
        "    match = pattern.search(file_name)\n",
        "    if match:\n",
        "        date = match.group(1)\n",
        "        hour = match.group(2)\n",
        "        return date, int(hour)\n",
        "    return None, None\n",
        "\n",
        "files_by_date = {}\n",
        "\n",
        "for file_name in file_list:\n",
        "    date, hour = extract_datetime(file_name)\n",
        "    if date:\n",
        "        if date not in files_by_date:\n",
        "            files_by_date[date] = []\n",
        "        files_by_date[date].append((file_name, hour))\n",
        "\n",
        "sorted_dates = sorted(files_by_date.keys())\n",
        "print(f\"\\nDatas a serem processadas em ordem cronológica: {sorted_dates}\")\n",
        "\n",
        "print(\"\\nProcessando dados por dia (em ordem cronológica)...\")\n",
        "for date in sorted_dates:\n",
        "    file_hour_pairs = files_by_date[date]\n",
        "\n",
        "    file_hour_pairs.sort(key=lambda x: x[1])\n",
        "\n",
        "    print(f\"Processando o dia: {date}, {len(file_hour_pairs)} arquivos encontrados\")\n",
        "\n",
        "    final_data = np.zeros((288, 242, 221))\n",
        "\n",
        "    for file_name, hour in file_hour_pairs:\n",
        "        try:\n",
        "            print(f\"  Processando: {file_name}, Hora: {hour}\")\n",
        "\n",
        "            ds_disk = xr.open_dataset(file_name)\n",
        "            tec = ds_disk['atec'][19:261, 140:361].values\n",
        "\n",
        "            for timestep in range(12):\n",
        "\n",
        "                global_idx = hour * 12 + timestep\n",
        "\n",
        "                timestep_slice = tec[:, :, timestep]\n",
        "\n",
        "                final_data[global_idx] = timestep_slice\n",
        "\n",
        "            ds_disk.close()\n",
        "\n",
        "        except Exception as e:\n",
        "            print(f\"  Erro ao processar o arquivo {file_name}: {e}\")\n",
        "\n",
        "    print(f\"  Shape final do array: {final_data.shape}\")\n",
        "\n",
        "    output_file = f\"atec{date}.npy\"\n",
        "    np.save(output_file, final_data)\n",
        "\n",
        "    print(f\"Arquivo {output_file} salvo com sucesso! Shape: {final_data.shape}\")\n",
        "\n",
        "print(\"\\nProcessamento concluído!\")"
      ]
    },
    {
      "cell_type": "code",
      "execution_count": null,
      "metadata": {
        "id": "Ywfu-0vgD0Ad"
      },
      "outputs": [],
      "source": [
        "!ls -lR ./*.npy | wc -l"
      ]
    },
    {
      "cell_type": "code",
      "execution_count": null,
      "metadata": {
        "id": "qBifMr8KD0Ad"
      },
      "outputs": [],
      "source": [
        "import numpy as np\n",
        "import glob\n",
        "import re\n",
        "from datetime import datetime\n",
        "\n",
        "npy_files = glob.glob(\"atec2024*.npy\")\n",
        "\n",
        "def extract_doy(filename):\n",
        "    match = re.search(r'atec(\\d{8})\\.npy', filename)\n",
        "    if match:\n",
        "        date_str = match.group(1)\n",
        "        try:\n",
        "            date_obj = datetime.strptime(date_str, '%Y%m%d')\n",
        "            return date_obj.timetuple().tm_yday\n",
        "        except ValueError:\n",
        "            return 0\n",
        "    return 0\n",
        "\n",
        "npy_files.sort(key=extract_doy)\n",
        "\n",
        "print(f\"Encontrados {len(npy_files)} arquivos NPY para processar.\")\n",
        "\n",
        "all_data = []\n",
        "\n",
        "for i, file in enumerate(npy_files):\n",
        "    doy = extract_doy(file)\n",
        "    print(f\"Processando {file} (DOY {doy}) - {i+1}/{len(npy_files)}\")\n",
        "\n",
        "    data = np.load(file)\n",
        "\n",
        "    all_data.append(data)\n",
        "\n",
        "    print(f\"  Shape: {data.shape}\")\n",
        "\n",
        "combined_data = np.concatenate(all_data, axis=0)\n",
        "\n",
        "print(f\"\\nDados combinados. Shape final: {combined_data.shape}\")\n",
        "\n",
        "output_file = \"NAGOYA-SEPT-20-2024-AND-BEYOND.npy\"\n",
        "np.save(output_file, combined_data)\n",
        "\n",
        "print(f\"\\nArquivo {output_file} salvo com sucesso!\")\n",
        "print(f\"Tamanho do arquivo: {combined_data.nbytes / (1024**2):.2f} MB\")"
      ]
    },
    {
      "cell_type": "code",
      "execution_count": null,
      "metadata": {
        "id": "NGbyMY7aD0Ae"
      },
      "outputs": [],
      "source": [
        "!ls -lh *.npy"
      ]
    },
    {
      "cell_type": "code",
      "execution_count": null,
      "metadata": {
        "id": "tegi5gSvUdak"
      },
      "outputs": [],
      "source": [
        "from google.colab import files"
      ]
    },
    {
      "cell_type": "code",
      "execution_count": null,
      "metadata": {
        "id": "22-Jf2ngUdak"
      },
      "outputs": [],
      "source": [
        "%pwd"
      ]
    },
    {
      "cell_type": "code",
      "execution_count": null,
      "metadata": {
        "id": "GXJk4DEiUdam"
      },
      "outputs": [],
      "source": [
        "from google.colab import files"
      ]
    },
    {
      "cell_type": "code",
      "execution_count": null,
      "metadata": {
        "id": "m9ctqJvMUdam"
      },
      "outputs": [],
      "source": [
        "!ls -lh NAGOYA*.npy"
      ]
    },
    {
      "cell_type": "markdown",
      "metadata": {
        "id": "Yi4SpFp_TAEN"
      },
      "source": [
        "# DATES ADJUSTS"
      ]
    },
    {
      "cell_type": "code",
      "execution_count": null,
      "metadata": {
        "id": "UqaIq-h_n_1V"
      },
      "outputs": [],
      "source": [
        "import numpy as np"
      ]
    },
    {
      "cell_type": "code",
      "execution_count": null,
      "metadata": {
        "id": "hbla_Kq8bk76"
      },
      "outputs": [],
      "source": [
        "nagoya_2024 = np.load('NAGOYA-SEPT-20-2024-AND-BEYOND.npy')"
      ]
    },
    {
      "cell_type": "code",
      "execution_count": null,
      "metadata": {
        "id": "Lacx7MQ1YTaN"
      },
      "outputs": [],
      "source": [
        "import numpy as np\n",
        "from datetime import datetime, timedelta\n",
        "\n",
        "def doy_to_date(year, doy):\n",
        "    \"\"\"Convert year and day of year to datetime.\"\"\"\n",
        "    return datetime(year, 1, 1) + timedelta(days=doy - 1)\n",
        "\n",
        "doys = {\n",
        "\n",
        "    2024: {\n",
        "        9: [264, 265, 266, 267, 268, 269, 270, 271, 272, 274],\n",
        "        }\n",
        "}\n",
        "\n",
        "datetime_list = []\n",
        "\n",
        "for year in doys.keys():\n",
        "    for month in doys[year].keys():\n",
        "        for doy in doys[year][month]:\n",
        "            base_date = doy_to_date(year, doy)\n",
        "            for hour in range(24):\n",
        "                for minute in range(0, 60, 5):\n",
        "                    dt = datetime(base_date.year, base_date.month, base_date.day, hour, minute, 0)\n",
        "                    datetime_list.append(dt)\n",
        "\n",
        "nagoya_datetime_2024 = np.array(datetime_list, dtype='datetime64[s]')\n",
        "\n",
        "print(f\"Total number of datetime points: {len(nagoya_datetime_2024)}\")\n",
        "print(f\"First datetime: {nagoya_datetime_2024[0]}\")\n",
        "print(f\"Last datetime: {nagoya_datetime_2024[-1]}\")\n",
        "\n",
        "np.save('nagoya_datetime_2024.npy', nagoya_datetime_2024)\n",
        "\n",
        "print(\"\\nSample of first 10 datetime entries:\")\n",
        "for dt in nagoya_datetime_2024[:10]:\n",
        "    print(dt)\n",
        "\n",
        "print(\"\\nSample of last 10 datetime entries:\")\n",
        "for dt in nagoya_datetime_2024[-10:]:\n",
        "    print(dt)"
      ]
    },
    {
      "cell_type": "code",
      "execution_count": null,
      "metadata": {
        "id": "TtaWVk_8QMBs"
      },
      "outputs": [],
      "source": [
        "nagoya_dates = np.load('nagoya_datetime_2024.npy')"
      ]
    },
    {
      "cell_type": "code",
      "execution_count": null,
      "metadata": {
        "id": "2xCYLZ9aQk8w"
      },
      "outputs": [],
      "source": [
        "nagoya_dates.shape"
      ]
    },
    {
      "cell_type": "code",
      "execution_count": null,
      "metadata": {
        "id": "trcddEnElgvt"
      },
      "outputs": [],
      "source": [
        "nagoya_dates"
      ]
    },
    {
      "cell_type": "code",
      "execution_count": null,
      "metadata": {
        "id": "aVApy8x7ajp2"
      },
      "outputs": [],
      "source": [
        "nagoya_2024.shape"
      ]
    },
    {
      "cell_type": "code",
      "execution_count": null,
      "metadata": {
        "id": "5peLp8F8k8b5"
      },
      "outputs": [],
      "source": [
        "print(len(nagoya_2024.tolist()))\n",
        "print(len(nagoya_2024[0].tolist()))\n",
        "print(len(nagoya_2024[0][0].tolist()))\n",
        "# print(len(nagoya_2022_2024[0][0][0].tolist()))"
      ]
    },
    {
      "cell_type": "code",
      "execution_count": null,
      "metadata": {
        "id": "lykciIvkmVgS"
      },
      "outputs": [],
      "source": [
        "len(nagoya_2024[0:12])"
      ]
    },
    {
      "cell_type": "code",
      "execution_count": null,
      "metadata": {
        "id": "Dl7mXCGg8kBy"
      },
      "outputs": [],
      "source": [
        "nagoya_2024_shaped = np.reshape(nagoya_2024, (-1, 242, 221))"
      ]
    },
    {
      "cell_type": "code",
      "execution_count": null,
      "metadata": {
        "id": "KBe8uYCx9pmZ"
      },
      "outputs": [],
      "source": [
        "np.shape(nagoya_2024_shaped)"
      ]
    },
    {
      "cell_type": "code",
      "execution_count": null,
      "metadata": {
        "id": "V9YvYRMr8wa9"
      },
      "outputs": [],
      "source": [
        "np.shape(nagoya_2024_shaped.tolist())"
      ]
    },
    {
      "cell_type": "markdown",
      "metadata": {
        "id": "j3SVOO_KlQBT"
      },
      "source": [
        "## CREATE DATAFRAME"
      ]
    },
    {
      "cell_type": "code",
      "execution_count": null,
      "metadata": {
        "id": "smfOY761yCmR"
      },
      "outputs": [],
      "source": [
        "nagoya_dates.shape"
      ]
    },
    {
      "cell_type": "code",
      "execution_count": null,
      "metadata": {
        "id": "7Y1nE6eeYNcS"
      },
      "outputs": [],
      "source": [
        "import pandas as pd\n",
        "\n",
        "data = {\n",
        "    'DATETIME': nagoya_dates,\n",
        "    'TECMAP': nagoya_2024_shaped.tolist()\n",
        "}\n",
        "\n",
        "df_mapas_nagoya_2024 = pd.DataFrame(data)\n",
        "\n",
        "df_mapas_nagoya_2024"
      ]
    },
    {
      "cell_type": "code",
      "execution_count": null,
      "metadata": {
        "id": "bh0q1Zl191Sf"
      },
      "outputs": [],
      "source": [
        "np.array(df_mapas_nagoya_2024.iloc[0]['TECMAP'])"
      ]
    },
    {
      "cell_type": "code",
      "execution_count": null,
      "metadata": {
        "id": "r6bZ82Cc_yL1"
      },
      "outputs": [],
      "source": [
        "np.array(df_mapas_nagoya_2024.iloc[0]['TECMAP']).shape"
      ]
    },
    {
      "cell_type": "code",
      "execution_count": null,
      "metadata": {
        "id": "T-0eCWxpANVg"
      },
      "outputs": [],
      "source": [
        "df_mapas_nagoya_2024.to_pickle(\"./df_mapas_nagoya_sept_20_2024_to_end_sept_2024.pkl\")"
      ]
    },
    {
      "cell_type": "code",
      "source": [
        "mapas_nagoya_2024 = np.array(df_mapas_nagoya_2024.iloc[:]['TECMAP'])"
      ],
      "metadata": {
        "id": "B5AVirlss4KE"
      },
      "execution_count": null,
      "outputs": []
    },
    {
      "cell_type": "code",
      "source": [
        "np.shape(df_mapas_nagoya_2024)"
      ],
      "metadata": {
        "id": "eITYuIPvs4KE"
      },
      "execution_count": null,
      "outputs": []
    },
    {
      "cell_type": "code",
      "source": [
        "np_mapas_nagoya_2024 = []\n",
        "for i in range(len(mapas_nagoya_2024)):\n",
        "    np_mapas_nagoya_2024.append(mapas_nagoya_2024[i])\n",
        "np_mapas_nagoya_2024 = np.array(np_mapas_nagoya_2024)"
      ],
      "metadata": {
        "id": "0hWhY3H3s4KF"
      },
      "execution_count": null,
      "outputs": []
    },
    {
      "cell_type": "code",
      "source": [
        "np.shape(np_mapas_nagoya_2024)"
      ],
      "metadata": {
        "id": "2PKHDX-ks4KG"
      },
      "execution_count": null,
      "outputs": []
    },
    {
      "cell_type": "code",
      "source": [
        "type(np_mapas_nagoya_2024)"
      ],
      "metadata": {
        "id": "kyWg7EYMs4KG"
      },
      "execution_count": null,
      "outputs": []
    },
    {
      "cell_type": "code",
      "source": [
        "np.save('mapas_nagoya_sept_20_2024_to_end_sept_2024.npy', np_mapas_nagoya_2024)"
      ],
      "metadata": {
        "id": "bgeCgCbFs4KH"
      },
      "execution_count": null,
      "outputs": []
    },
    {
      "cell_type": "code",
      "source": [
        "from google.colab import drive\n",
        "drive.mount('/content/drive')"
      ],
      "metadata": {
        "id": "L-3RQlh4MVjE"
      },
      "execution_count": null,
      "outputs": []
    },
    {
      "cell_type": "code",
      "source": [
        "!ls -lh mapas*"
      ],
      "metadata": {
        "id": "N8Vp77jaI8aq"
      },
      "execution_count": null,
      "outputs": []
    },
    {
      "cell_type": "code",
      "source": [
        "!ls -lh df_mapas*"
      ],
      "metadata": {
        "id": "gjXdfOH9KDd9"
      },
      "execution_count": null,
      "outputs": []
    },
    {
      "cell_type": "code",
      "source": [
        "%cp /content/NAGOYA-SEPT-20-2024-TO-END-SEPT-2024/df_mapas_nagoya_sept_20_2024_to_end_sept_2024.pkl /content/drive/MyDrive/df_mapas_nagoya_sept_20_2024_to_end_sept_2024.pkl"
      ],
      "metadata": {
        "id": "coJ_1-exMZWz"
      },
      "execution_count": null,
      "outputs": []
    },
    {
      "cell_type": "code",
      "source": [
        "%cp /content/NAGOYA-SEPT-20-2024-TO-END-SEPT-2024/mapas_nagoya_sept_20_2024_to_end_sept_2024.npy /content/drive/MyDrive/mapas_nagoya_sept_20_2024_to_end_sept_2024.npy"
      ],
      "metadata": {
        "id": "NsTHCrYcMpCx"
      },
      "execution_count": null,
      "outputs": []
    }
  ],
  "metadata": {
    "colab": {
      "provenance": [],
      "gpuType": "V28",
      "toc_visible": true,
      "include_colab_link": true
    },
    "kaggle": {
      "accelerator": "nvidiaTeslaT4",
      "dataSources": [],
      "dockerImageVersionId": 30918,
      "isGpuEnabled": true,
      "isInternetEnabled": true,
      "language": "python",
      "sourceType": "notebook"
    },
    "kernelspec": {
      "display_name": "Python 3",
      "name": "python3"
    },
    "language_info": {
      "codemirror_mode": {
        "name": "ipython",
        "version": 3
      },
      "file_extension": ".py",
      "mimetype": "text/x-python",
      "name": "python",
      "nbconvert_exporter": "python",
      "pygments_lexer": "ipython3",
      "version": "3.10.12"
    },
    "accelerator": "TPU"
  },
  "nbformat": 4,
  "nbformat_minor": 0
}